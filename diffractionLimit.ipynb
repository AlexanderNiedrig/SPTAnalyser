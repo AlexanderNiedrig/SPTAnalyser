{
 "cells": [
  {
   "attachments": {},
   "cell_type": "markdown",
   "metadata": {},
   "source": [
    "# Diffraction Limit\n",
    "### Johanna Rahm, Sebastian Malkusch\n",
    "#### Research group Heilemann\n",
    "#### Institute for Physical and Theoretical Chemistry, Goethe University Frankfurt a.M.\n",
    "\n",
    "Specifies the minimal distance at which particles can still be told apart during localization, in [nm]. This value depends on many different factors, such as the localization algorithm used or the velocity of the particles. This value is mostly relevant if a lot of merging and splitting is expected. Higher values will result in more merge and splitting, whereas lower values will suppress it.<br/>\n",
    "\n",
    "Nearest neighbor based analysis. Nearest neighbor analysis per frame of all localization files in a directory. The minimal nearest neighbor per file is extracted. Multiple files should be analyzed to find the minimal distance."
   ]
  },
  {
   "cell_type": "markdown",
   "metadata": {},
   "source": [
    "## Choose a localization software"
   ]
  },
  {
   "cell_type": "code",
   "execution_count": 1,
   "metadata": {},
   "outputs": [
    {
     "data": {
      "application/vnd.jupyter.widget-view+json": {
       "model_id": "63bfd9fdafe24167b5e3f5bd9225e966",
       "version_major": 2,
       "version_minor": 0
      },
      "text/plain": [
       "RadioButtons(options=('ThunderSTORM', 'rapidSTORM'), value='ThunderSTORM')"
      ]
     },
     "metadata": {},
     "output_type": "display_data"
    }
   ],
   "source": [
    "from pySPT.widgets import widgetDiffLimit\n",
    "from pySPT.widgets import widgetColumnSort\n",
    "from pySPT.preAnalysis import diffLimit\n",
    "widget_diff_limit = widgetDiffLimit.WidgetDiffLimit()\n",
    "display(widget_diff_limit.software_button)"
   ]
  },
  {
   "cell_type": "markdown",
   "metadata": {},
   "source": [
    "## Load\n",
    "Define directory of localization files. All localization files are loaded (csv for ThunderSTORM, txt for rapidSTORM). Tracked files (containing \"tracked\" in file name) are ignored."
   ]
  },
  {
   "cell_type": "code",
   "execution_count": 2,
   "metadata": {
    "scrolled": true
   },
   "outputs": [
    {
     "data": {
      "application/vnd.jupyter.widget-view+json": {
       "model_id": "62e94df09b8a487ba62c54d2da30d101",
       "version_major": 2,
       "version_minor": 0
      },
      "text/plain": [
       "Text(value='', description='Directory', placeholder='directory to be searched in', style=DescriptionStyle(desc…"
      ]
     },
     "metadata": {},
     "output_type": "display_data"
    },
    {
     "data": {
      "application/vnd.jupyter.widget-view+json": {
       "model_id": "83da6b5ce89e41edbf5f933d7fb8b403",
       "version_major": 2,
       "version_minor": 0
      },
      "text/plain": [
       "Button(description='browse', style=ButtonStyle(), tooltip='browse for directory')"
      ]
     },
     "metadata": {},
     "output_type": "display_data"
    }
   ],
   "source": [
    "display(widget_diff_limit.dir_box, widget_diff_limit.dir_button)\n",
    "widget_diff_limit.dir_button.on_click(widget_diff_limit.open_dir)\n",
    "widget_diff_limit.dir_box.observe(widget_diff_limit.change_dir_box)"
   ]
  },
  {
   "cell_type": "markdown",
   "metadata": {},
   "source": [
    "## Run"
   ]
  },
  {
   "cell_type": "code",
   "execution_count": 3,
   "metadata": {
    "scrolled": false
   },
   "outputs": [
    {
     "data": {
      "application/vnd.jupyter.widget-view+json": {
       "model_id": "14b33993174e4a55b8d6dd2f6bea0e4a",
       "version_major": 2,
       "version_minor": 0
      },
      "text/plain": [
       "Button(description='run', style=ButtonStyle(), tooltip='run the analysis')"
      ]
     },
     "metadata": {},
     "output_type": "display_data"
    }
   ],
   "source": [
    "diff_limit = diffLimit.DiffLimit()\n",
    "display(widget_diff_limit.run_button)\n",
    "def run_analysis(event):\n",
    "    widget_diff_limit.create_clear_output()\n",
    "    display(widget_diff_limit.run_button)\n",
    "    if not widget_diff_limit.dir_box.value:\n",
    "        print(\"Define a directory for the localization files.\")   \n",
    "    else:\n",
    "        diff_limit.run_diff_limit(widget_diff_limit.dir_name, widget_diff_limit.determine_suffix())\n",
    "widget_diff_limit.run_button.on_click(run_analysis)"
   ]
  },
  {
   "cell_type": "markdown",
   "metadata": {},
   "source": [
    "## Save\n",
    "Define a directory and foldername. The nearest neighbors and the minimal nearest neighbor per localization file are saved as csv. Optionally the plot can be saved as .pdf."
   ]
  },
  {
   "cell_type": "code",
   "execution_count": 4,
   "metadata": {},
   "outputs": [
    {
     "data": {
      "application/vnd.jupyter.widget-view+json": {
       "model_id": "e47916faba4d4f749e3d0fc848cc64c3",
       "version_major": 2,
       "version_minor": 0
      },
      "text/plain": [
       "Text(value='diff_limit_nn', description='Foldername', placeholder='name of folder', style=DescriptionStyle(des…"
      ]
     },
     "metadata": {},
     "output_type": "display_data"
    },
    {
     "data": {
      "application/vnd.jupyter.widget-view+json": {
       "model_id": "a8331c9f2f7d4755bf2da8c2efe3f188",
       "version_major": 2,
       "version_minor": 0
      },
      "text/plain": [
       "Text(value='', description='Directory', placeholder='Directory to save', style=DescriptionStyle(description_wi…"
      ]
     },
     "metadata": {},
     "output_type": "display_data"
    },
    {
     "data": {
      "application/vnd.jupyter.widget-view+json": {
       "model_id": "1a5298d9ddc4468cb09bf941238b73b2",
       "version_major": 2,
       "version_minor": 0
      },
      "text/plain": [
       "Button(description='browse', style=ButtonStyle(), tooltip='browse for directory')"
      ]
     },
     "metadata": {},
     "output_type": "display_data"
    }
   ],
   "source": [
    "display(widget_diff_limit.box_foldername, widget_diff_limit.dir_box_save, widget_diff_limit.dir_button_save)\n",
    "widget_diff_limit.dir_button_save.on_click(widget_diff_limit.open_dir_save)\n",
    "widget_diff_limit.dir_box_save.observe(widget_diff_limit.change_dir_box_save)"
   ]
  },
  {
   "cell_type": "code",
   "execution_count": 5,
   "metadata": {},
   "outputs": [
    {
     "data": {
      "application/vnd.jupyter.widget-view+json": {
       "model_id": "ba4bdc2d05a14108a8c10031c44697b4",
       "version_major": 2,
       "version_minor": 0
      },
      "text/plain": [
       "Checkbox(value=True, description='Save plot')"
      ]
     },
     "metadata": {},
     "output_type": "display_data"
    },
    {
     "data": {
      "application/vnd.jupyter.widget-view+json": {
       "model_id": "d94a88230bef4981aaa5878c527b6509",
       "version_major": 2,
       "version_minor": 0
      },
      "text/plain": [
       "Button(description='save', style=ButtonStyle(), tooltip='save the results')"
      ]
     },
     "metadata": {},
     "output_type": "display_data"
    }
   ],
   "source": [
    "display(widget_diff_limit.save_fig_checkbox, widget_diff_limit.save_button)\n",
    "def save_analysis(event):\n",
    "    widget_diff_limit.create_clear_output()\n",
    "    display(widget_diff_limit.save_fig_checkbox, widget_diff_limit.save_button)\n",
    "    diff_limit.save(widget_diff_limit.dir_box_save.value, widget_diff_limit.box_foldername.value, diff_limit.file_names, widget_diff_limit.save_fig_checkbox.value)\n",
    "    print(\"Results are saved.\")\n",
    "widget_diff_limit.save_button.on_click(save_analysis)"
   ]
  }
 ],
 "metadata": {
  "hide_input": true,
  "kernelspec": {
   "display_name": "Python 3",
   "language": "python",
   "name": "python3"
  },
  "language_info": {
   "codemirror_mode": {
    "name": "ipython",
    "version": 3
   },
   "file_extension": ".py",
   "mimetype": "text/x-python",
   "name": "python",
   "nbconvert_exporter": "python",
   "pygments_lexer": "ipython3",
   "version": "3.7.6"
  }
 },
 "nbformat": 4,
 "nbformat_minor": 2
}
