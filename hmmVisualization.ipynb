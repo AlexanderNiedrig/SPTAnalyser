{
 "cells": [
  {
   "cell_type": "markdown",
   "metadata": {
    "hideCode": false,
    "hidePrompt": false
   },
   "source": [
    "# Visualize Hmm Results\n",
    "### Johanna Rahm, Sebastian Malkusch\n",
    "#### Research group Heilemann\n",
    "#### Institute for Physical and Theoretical Chemistry, Goethe University Frankfurt a.M.\n",
    "Get an visualized overview of the hidden markov modeling results."
   ]
  },
  {
   "cell_type": "markdown",
   "metadata": {
    "hideCode": false,
    "hidePrompt": false
   },
   "source": [
    "## Load merged .h5 files"
   ]
  },
  {
   "cell_type": "markdown",
   "metadata": {
    "hideCode": false,
    "hidePrompt": false
   },
   "source": [
    "A merged .h5 file is the result of the MergeHdf5 Jupyter Notebook. It comprises the hmm results as well as the type analysis results. All .5 files of the chosen directory will be loaded."
   ]
  },
  {
   "cell_type": "code",
   "execution_count": null,
   "metadata": {
    "hideCode": false,
    "hidePrompt": false
   },
   "outputs": [],
   "source": [
    "from pySPT.widgets.widgetNotebooks import load_merged_h5\n",
    "from pySPT.widgets.widgetNotebooks import init_save_hmm_vis_stats\n",
    "from pySPT.widgets import widgetHmmVis\n",
    "from pySPT.hmm import hmmVisualization\n",
    "import warnings\n",
    "warnings.filterwarnings('ignore')\n",
    "widget_hmm_vis = widgetHmmVis.WidgetHmmVis()\n",
    "hmm_vis = hmmVisualization.HmmVisualization()\n",
    "display(widget_hmm_vis.load_dir_box, widget_hmm_vis.load_dir_button)\n",
    "widget_hmm_vis.load_dir_button.on_click(widget_hmm_vis.open_dir)\n",
    "widget_hmm_vis.load_dir_box.observe(widget_hmm_vis.change_load_dir_box)"
   ]
  },
  {
   "cell_type": "markdown",
   "metadata": {
    "hideCode": false,
    "hidePrompt": false
   },
   "source": [
    "## Plot results"
   ]
  },
  {
   "cell_type": "code",
   "execution_count": null,
   "metadata": {
    "hideCode": false,
    "hidePrompt": false
   },
   "outputs": [],
   "source": [
    "def event(blub):\n",
    "    widget_hmm_vis.search_sub_folders(widget_hmm_vis.load_dir_box.value)\n",
    "    hmm_vis.cells = load_merged_h5(widget_hmm_vis.file_names)\n",
    "    hmm_vis.run()\n",
    "display(widget_hmm_vis.plot_button)\n",
    "widget_hmm_vis.plot_button.on_click(event)"
   ]
  },
  {
   "cell_type": "markdown",
   "metadata": {
    "hideCode": false,
    "hidePrompt": false
   },
   "source": [
    "## Plot trajectories"
   ]
  },
  {
   "cell_type": "code",
   "execution_count": null,
   "metadata": {
    "hideCode": false,
    "hidePrompt": false
   },
   "outputs": [],
   "source": [
    "def dropdown(event):\n",
    "    widget_hmm_vis.cell_options = widget_hmm_vis.get_cell_names(hmm_vis.cells)\n",
    "widget_hmm_vis.plot_button.on_click(dropdown)\n",
    "display(widget_hmm_vis.drop_down_cells)"
   ]
  },
  {
   "cell_type": "code",
   "execution_count": null,
   "metadata": {},
   "outputs": [],
   "source": [
    "def dropdown(event):      \n",
    "    for cell in hmm_vis.cells:\n",
    "        if cell.hmm_cell_name == widget_hmm_vis.drop_down_cells.value:\n",
    "            trajectory_indexes = sorted(list(set(map(lambda x: x[0], cell.trc_hmm))))\n",
    "            widget_hmm_vis.trajectory_options = trajectory_indexes\n",
    "            widget_hmm_vis.drop_down_trajectories.options = widget_hmm_vis.trajectory_options\n",
    "widget_hmm_vis.drop_down_cells.observe(dropdown)\n",
    "display(widget_hmm_vis.drop_down_trajectories)"
   ]
  },
  {
   "cell_type": "code",
   "execution_count": null,
   "metadata": {},
   "outputs": [],
   "source": [
    "def plot_particle(event):\n",
    "    widget_hmm_vis.create_clear_output()\n",
    "    display(widget_hmm_vis.plot_trajectory_button)\n",
    "    hmm_vis.plot_trajectory(widget_hmm_vis.drop_down_cells.value, widget_hmm_vis.drop_down_trajectories.value)\n",
    "display(widget_hmm_vis.plot_trajectory_button)\n",
    "widget_hmm_vis.plot_trajectory_button.on_click(plot_particle)"
   ]
  },
  {
   "cell_type": "markdown",
   "metadata": {
    "hideCode": false,
    "hidePrompt": false
   },
   "source": [
    "## Save results"
   ]
  },
  {
   "cell_type": "markdown",
   "metadata": {
    "hideCode": false,
    "hidePrompt": false
   },
   "source": [
    "Choose a directory and a folder name. A .h5 file with the statistics and the informations of all plots will be saved. If the \"save plots\" box is checked, all plots will be saved as .png."
   ]
  },
  {
   "cell_type": "code",
   "execution_count": null,
   "metadata": {
    "hideCode": false,
    "hidePrompt": false
   },
   "outputs": [],
   "source": [
    "def saving(event):\n",
    "    if not widget_hmm_vis.save_dir_name:\n",
    "        print(\"Please insert a directory\")\n",
    "    else:\n",
    "        widget_hmm_vis.create_clear_output()\n",
    "        hmm_vis.save_dir, hmm_vis.save_folder_name, hmm_vis.save_plots = widget_hmm_vis.save_dir_name, widget_hmm_vis.save_folder_name_box.value, widget_hmm_vis.save_plots_checkbox.value\n",
    "        if hmm_vis.save_plots:\n",
    "            hmm_vis.run_save_plots()\n",
    "        init_save_hmm_vis_stats(hmm_vis, hmm_vis.save_dir, hmm_vis.save_folder_name)\n",
    "display(widget_hmm_vis.save_dir_box, widget_hmm_vis.save_dir_button, widget_hmm_vis.save_folder_name_box, widget_hmm_vis.save_plots_checkbox, widget_hmm_vis.save_button)\n",
    "widget_hmm_vis.save_dir_button.on_click(widget_hmm_vis.save_open_dir)\n",
    "widget_hmm_vis.save_button.on_click(saving)"
   ]
  }
 ],
 "metadata": {
  "hide_code_all_hidden": false,
  "kernelspec": {
   "display_name": "Python 3",
   "language": "python",
   "name": "python3"
  },
  "language_info": {
   "codemirror_mode": {
    "name": "ipython",
    "version": 3
   },
   "file_extension": ".py",
   "mimetype": "text/x-python",
   "name": "python",
   "nbconvert_exporter": "python",
   "pygments_lexer": "ipython3",
   "version": "3.7.3"
  }
 },
 "nbformat": 4,
 "nbformat_minor": 2
}
