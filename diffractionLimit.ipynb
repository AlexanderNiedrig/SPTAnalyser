{
 "cells": [
  {
   "cell_type": "markdown",
   "metadata": {},
   "source": [
    "# Determination of the diffraction limit\n",
    "Nearest neighbor based analysis. Nearest neighbor analysis per frame of all localization files in a directory. The minimal nearest neighbor per file is extracted in nm. Multiple files should be analyzed to find the minimal distance. <br/>\n",
    "\n",
    "In swift, the 'diffraction_limit' parameter specifies the minimal distance at which particles can still be told apart during localization, in nm. This value depends on many different factors, such as the localization algorithm used or the velocity of the particles. This value is mostly relevant if a lot of merging and splitting is expected. Higher values will result in more merge and splitting, whereas lower values will suppress it."
   ]
  },
  {
   "cell_type": "markdown",
   "metadata": {},
   "source": [
    "## Choose a localization software"
   ]
  },
  {
   "cell_type": "code",
   "execution_count": 1,
   "metadata": {},
   "outputs": [
    {
     "data": {
      "application/vnd.jupyter.widget-view+json": {
       "model_id": "a9bb8ef6134a4e94bcc53ac6b1e18ca5",
       "version_major": 2,
       "version_minor": 0
      },
      "text/plain": [
       "RadioButtons(options=('ThunderSTORM', 'rapidSTORM'), value='ThunderSTORM')"
      ]
     },
     "metadata": {},
     "output_type": "display_data"
    }
   ],
   "source": [
    "from pySPT.widgets import widgetDiffLimit\n",
    "from pySPT.widgets import widgetColumnSort\n",
    "from pySPT.preAnalysis import diffLimit\n",
    "widget_diff_limit = widgetDiffLimit.WidgetDiffLimit(158, 256)  # adjust the default parameters\n",
    "display(widget_diff_limit.software_button)"
   ]
  },
  {
   "cell_type": "markdown",
   "metadata": {},
   "source": [
    "## Load\n",
    "Define directory of localization files. All localization files are loaded (csv for ThunderSTORM, txt for rapidSTORM). Tracked files (containing \"tracked\" in file name) are ignored."
   ]
  },
  {
   "cell_type": "code",
   "execution_count": 2,
   "metadata": {
    "scrolled": true
   },
   "outputs": [
    {
     "data": {
      "application/vnd.jupyter.widget-view+json": {
       "model_id": "6d47aa42b31443c980cfbcf48cd46f67",
       "version_major": 2,
       "version_minor": 0
      },
      "text/plain": [
       "Text(value='', description='Directory', placeholder='directory to be searched in', style=DescriptionStyle(desc…"
      ]
     },
     "metadata": {},
     "output_type": "display_data"
    },
    {
     "data": {
      "application/vnd.jupyter.widget-view+json": {
       "model_id": "a9e1b4a2fbff481ab6adcafbc0201794",
       "version_major": 2,
       "version_minor": 0
      },
      "text/plain": [
       "Button(description='browse', style=ButtonStyle(), tooltip='browse for directory')"
      ]
     },
     "metadata": {},
     "output_type": "display_data"
    }
   ],
   "source": [
    "display(widget_diff_limit.dir_box, widget_diff_limit.dir_button)\n",
    "widget_diff_limit.dir_button.on_click(widget_diff_limit.open_dir)\n",
    "widget_diff_limit.dir_box.observe(widget_diff_limit.change_dir_box)"
   ]
  },
  {
   "cell_type": "markdown",
   "metadata": {},
   "source": [
    "## Parameter"
   ]
  },
  {
   "cell_type": "markdown",
   "metadata": {},
   "source": [
    "Define the pixel size in nm and number of pixels in a row on the camera chip."
   ]
  },
  {
   "cell_type": "code",
   "execution_count": 3,
   "metadata": {},
   "outputs": [
    {
     "data": {
      "application/vnd.jupyter.widget-view+json": {
       "model_id": "03a2360e2bab4a6ca13b28450eeb4325",
       "version_major": 2,
       "version_minor": 0
      },
      "text/plain": [
       "Text(value='158', description='Pixel size [nm]', placeholder='pixel size in nm', style=DescriptionStyle(descri…"
      ]
     },
     "metadata": {},
     "output_type": "display_data"
    },
    {
     "data": {
      "application/vnd.jupyter.widget-view+json": {
       "model_id": "5359759cb44f48c7b8f712452a628e25",
       "version_major": 2,
       "version_minor": 0
      },
      "text/plain": [
       "Text(value='256', description='Number of pixels per row', placeholder='nmber of pixels per row', style=Descrip…"
      ]
     },
     "metadata": {},
     "output_type": "display_data"
    }
   ],
   "source": [
    "display(widget_diff_limit.px_size_box, widget_diff_limit.n_px_box)"
   ]
  },
  {
   "cell_type": "markdown",
   "metadata": {},
   "source": [
    "## Run"
   ]
  },
  {
   "cell_type": "code",
   "execution_count": 4,
   "metadata": {
    "scrolled": false
   },
   "outputs": [
    {
     "data": {
      "application/vnd.jupyter.widget-view+json": {
       "model_id": "4559efdb8c0e4bc8887cc4695c38c0a9",
       "version_major": 2,
       "version_minor": 0
      },
      "text/plain": [
       "Button(description='run', style=ButtonStyle(), tooltip='run the analysis')"
      ]
     },
     "metadata": {},
     "output_type": "display_data"
    }
   ],
   "source": [
    "diff_limit = diffLimit.DiffLimit()\n",
    "display(widget_diff_limit.run_button)\n",
    "def run_analysis(event):\n",
    "    widget_diff_limit.create_clear_output()\n",
    "    display(widget_diff_limit.run_button)\n",
    "    diff_limit.clear_object()\n",
    "    diff_limit.px_size, diff_limit.n_px = int(widget_diff_limit.px_size_box.value), int(widget_diff_limit.n_px_box.value)\n",
    "    if not widget_diff_limit.dir_box.value:\n",
    "        print(\"Define a directory for the localization files.\")   \n",
    "    else:\n",
    "        diff_limit.run_diff_limit(widget_diff_limit.dir_name, widget_diff_limit.determine_suffix())\n",
    "widget_diff_limit.run_button.on_click(run_analysis)"
   ]
  },
  {
   "cell_type": "markdown",
   "metadata": {},
   "source": [
    "## Save\n",
    "Define a directory and foldername. The nearest neighbors and the minimal nearest neighbor per localization file are saved as csv. Optionally the plot is saved."
   ]
  },
  {
   "cell_type": "code",
   "execution_count": 5,
   "metadata": {},
   "outputs": [
    {
     "data": {
      "application/vnd.jupyter.widget-view+json": {
       "model_id": "9e1db0326bbf4b07b0c410368d7c8f4d",
       "version_major": 2,
       "version_minor": 0
      },
      "text/plain": [
       "Text(value='diff_limit_nn', description='Foldername', placeholder='name of folder', style=DescriptionStyle(des…"
      ]
     },
     "metadata": {},
     "output_type": "display_data"
    },
    {
     "data": {
      "application/vnd.jupyter.widget-view+json": {
       "model_id": "46d6915e47b94ac88418e962cbf7a266",
       "version_major": 2,
       "version_minor": 0
      },
      "text/plain": [
       "Text(value='', description='Directory', placeholder='Directory to save', style=DescriptionStyle(description_wi…"
      ]
     },
     "metadata": {},
     "output_type": "display_data"
    },
    {
     "data": {
      "application/vnd.jupyter.widget-view+json": {
       "model_id": "a7214f7b28984257989b974273dbb571",
       "version_major": 2,
       "version_minor": 0
      },
      "text/plain": [
       "Button(description='browse', style=ButtonStyle(), tooltip='browse for directory')"
      ]
     },
     "metadata": {},
     "output_type": "display_data"
    }
   ],
   "source": [
    "display(widget_diff_limit.box_foldername, widget_diff_limit.dir_box_save, widget_diff_limit.dir_button_save)\n",
    "widget_diff_limit.dir_button_save.on_click(widget_diff_limit.open_dir_save)\n",
    "widget_diff_limit.dir_box_save.observe(widget_diff_limit.change_dir_box_save)"
   ]
  },
  {
   "cell_type": "code",
   "execution_count": 6,
   "metadata": {},
   "outputs": [
    {
     "data": {
      "application/vnd.jupyter.widget-view+json": {
       "model_id": "f328eb381b174388b0d0ab3d7831f2d8",
       "version_major": 2,
       "version_minor": 0
      },
      "text/plain": [
       "Checkbox(value=True, description='Save plot')"
      ]
     },
     "metadata": {},
     "output_type": "display_data"
    },
    {
     "data": {
      "application/vnd.jupyter.widget-view+json": {
       "model_id": "c9a8143b3650475584a08106b8e4c674",
       "version_major": 2,
       "version_minor": 0
      },
      "text/plain": [
       "Button(description='save', style=ButtonStyle(), tooltip='save the results')"
      ]
     },
     "metadata": {},
     "output_type": "display_data"
    }
   ],
   "source": [
    "display(widget_diff_limit.save_fig_checkbox, widget_diff_limit.save_button)\n",
    "def save_analysis(event):\n",
    "    widget_diff_limit.create_clear_output()\n",
    "    display(widget_diff_limit.save_fig_checkbox, widget_diff_limit.save_button)\n",
    "    diff_limit.save(widget_diff_limit.dir_box_save.value, widget_diff_limit.box_foldername.value, diff_limit.file_names, widget_diff_limit.save_fig_checkbox.value)\n",
    "    print(\"Results are saved at\", widget_diff_limit.dir_box_save.value + \"\\\\\"  + widget_diff_limit.box_foldername.value)\n",
    "widget_diff_limit.save_button.on_click(save_analysis)"
   ]
  }
 ],
 "metadata": {
  "hide_input": true,
  "kernelspec": {
   "display_name": "Python 3 (ipykernel)",
   "language": "python",
   "name": "python3"
  },
  "language_info": {
   "codemirror_mode": {
    "name": "ipython",
    "version": 3
   },
   "file_extension": ".py",
   "mimetype": "text/x-python",
   "name": "python",
   "nbconvert_exporter": "python",
   "pygments_lexer": "ipython3",
   "version": "3.7.11"
  }
 },
 "nbformat": 4,
 "nbformat_minor": 2
}
