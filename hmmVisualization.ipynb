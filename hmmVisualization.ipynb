{
 "cells": [
  {
   "cell_type": "markdown",
   "metadata": {
    "hideCode": true,
    "hidePrompt": true
   },
   "source": [
    "# Visualize Hmm Results\n",
    "### Johanna Rahm, Sebastian Malkusch\n",
    "#### Research group Heilemann\n",
    "#### Institute for Physical and Theoretical Chemistry, Goethe University Frankfurt a.M.\n",
    "Get a visualized overview of the hidden markov modeling results. <br>\n",
    "This notebook has to be reloaded before analysing a new group of data!"
   ]
  },
  {
   "cell_type": "markdown",
   "metadata": {
    "hideCode": true,
    "hidePrompt": true
   },
   "source": [
    "## Load merged .h5 files"
   ]
  },
  {
   "cell_type": "markdown",
   "metadata": {
    "hideCode": true,
    "hidePrompt": true
   },
   "source": [
    "A merged .h5 file is the result of the MergeHdf5 Jupyter Notebook. It comprises the hmm results as well as the type analysis results. All .5 files of the chosen directory will be loaded. A graphviz installation is needed https://www.graphviz.org/download/. The path to the bin folder of the graphviz installation has to be copied in the graphviz bin path box (example: C:/Program Files (x86)/Graphviz2.38/bin) & a temporary folder (example: C:/Users/pcoffice37/Documents/graphviz_tmp) has to be created on the computer to allow state transition diagram plotting."
   ]
  },
  {
   "cell_type": "code",
   "execution_count": 1,
   "metadata": {
    "hideCode": true,
    "hidePrompt": true
   },
   "outputs": [
    {
     "data": {
      "application/vnd.jupyter.widget-view+json": {
       "model_id": "54f6dda891144f318a9da45583bec872",
       "version_major": 2,
       "version_minor": 0
      },
      "text/plain": [
       "Text(value='C:\\\\Program Files (x86)\\\\Graphviz2.38\\\\bin', description='Graphviz bin path', placeholder='Type so…"
      ]
     },
     "metadata": {},
     "output_type": "display_data"
    },
    {
     "data": {
      "application/vnd.jupyter.widget-view+json": {
       "model_id": "171ef4eac4c7482e89855bac0a880fba",
       "version_major": 2,
       "version_minor": 0
      },
      "text/plain": [
       "Text(value='C:\\\\Users\\\\pcoffice37\\\\Documents\\\\graphviz_tmp', description='Graphviz tmp path', placeholder='Typ…"
      ]
     },
     "metadata": {},
     "output_type": "display_data"
    },
    {
     "data": {
      "application/vnd.jupyter.widget-view+json": {
       "model_id": "26e211fe3ccc4d0abeec5dec50ac486b",
       "version_major": 2,
       "version_minor": 0
      },
      "text/plain": [
       "Text(value='directory', description='Directory', placeholder='Type something', style=DescriptionStyle(descript…"
      ]
     },
     "metadata": {},
     "output_type": "display_data"
    },
    {
     "data": {
      "application/vnd.jupyter.widget-view+json": {
       "model_id": "87084f0e4f2c4a1199ce1dacf5fa3227",
       "version_major": 2,
       "version_minor": 0
      },
      "text/plain": [
       "Button(description='browse', style=ButtonStyle(), tooltip='browse for directory')"
      ]
     },
     "metadata": {},
     "output_type": "display_data"
    }
   ],
   "source": [
    "from pySPT.widgets.widgetNotebooks import load_merged_h5\n",
    "from pySPT.widgets.widgetNotebooks import init_save_hmm_vis_stats\n",
    "from pySPT.widgets import widgetHmmVis\n",
    "from pySPT.hmm import hmmVisualization\n",
    "import warnings\n",
    "import time\n",
    "warnings.filterwarnings('ignore')\n",
    "widget_hmm_vis = widgetHmmVis.WidgetHmmVis()\n",
    "hmm_vis = hmmVisualization.HmmVisualization()\n",
    "display(widget_hmm_vis.add_graphviz_bin_box, widget_hmm_vis.add_graphviz_tmp_box, widget_hmm_vis.load_dir_box, widget_hmm_vis.load_dir_button)\n",
    "widget_hmm_vis.load_dir_button.on_click(widget_hmm_vis.open_dir)\n",
    "widget_hmm_vis.load_dir_box.observe(widget_hmm_vis.change_load_dir_box)"
   ]
  },
  {
   "cell_type": "markdown",
   "metadata": {
    "hideCode": true,
    "hidePrompt": true
   },
   "source": [
    "## Plot results"
   ]
  },
  {
   "cell_type": "code",
   "execution_count": 2,
   "metadata": {
    "hideCode": true,
    "hidePrompt": true
   },
   "outputs": [
    {
     "data": {
      "application/vnd.jupyter.widget-view+json": {
       "model_id": "610f77a4bfd74368b570ded8a3ca2238",
       "version_major": 2,
       "version_minor": 0
      },
      "text/plain": [
       "Button(description='plot', style=ButtonStyle(), tooltip='click to plot')"
      ]
     },
     "metadata": {},
     "output_type": "display_data"
    }
   ],
   "source": [
    "def event(blub):\n",
    "    widget_hmm_vis.search_sub_folders(widget_hmm_vis.load_dir_box.value)\n",
    "    hmm_vis.bin_path = widget_hmm_vis.add_graphviz_bin_box.value\n",
    "    hmm_vis.tmp_path = widget_hmm_vis.add_graphviz_tmp_box.value\n",
    "    hmm_vis.cells = load_merged_h5(widget_hmm_vis.file_names)\n",
    "    hmm_vis.run()\n",
    "display(widget_hmm_vis.plot_button)\n",
    "widget_hmm_vis.plot_button.on_click(event)"
   ]
  },
  {
   "cell_type": "markdown",
   "metadata": {
    "hideCode": true,
    "hidePrompt": true
   },
   "source": [
    "## Plot trajectories"
   ]
  },
  {
   "cell_type": "code",
   "execution_count": 3,
   "metadata": {
    "hideCode": true,
    "hidePrompt": true
   },
   "outputs": [
    {
     "data": {
      "application/vnd.jupyter.widget-view+json": {
       "model_id": "a29c7895d7a84c0eb0f54debb066ddb0",
       "version_major": 2,
       "version_minor": 0
      },
      "text/plain": [
       "Dropdown(description='Number:', options=(), value=None)"
      ]
     },
     "metadata": {},
     "output_type": "display_data"
    }
   ],
   "source": [
    "def dropdown(event):\n",
    "    widget_hmm_vis.cell_options = widget_hmm_vis.get_cell_names(hmm_vis.cells)\n",
    "widget_hmm_vis.plot_button.on_click(dropdown)\n",
    "display(widget_hmm_vis.drop_down_cells)"
   ]
  },
  {
   "cell_type": "code",
   "execution_count": 4,
   "metadata": {
    "hideCode": true,
    "hidePrompt": true
   },
   "outputs": [
    {
     "data": {
      "application/vnd.jupyter.widget-view+json": {
       "model_id": "7124d88061a948e5ba5dacd29d839844",
       "version_major": 2,
       "version_minor": 0
      },
      "text/plain": [
       "Dropdown(description='Number:', options=(), value=None)"
      ]
     },
     "metadata": {},
     "output_type": "display_data"
    }
   ],
   "source": [
    "def dropdown(event):      \n",
    "    for cell in hmm_vis.cells:\n",
    "        if cell.hmm_cell_name == widget_hmm_vis.drop_down_cells.value:\n",
    "            trajectory_indexes = sorted(list(set(map(lambda x: x[0], cell.trc_hmm))))\n",
    "            widget_hmm_vis.trajectory_options = trajectory_indexes\n",
    "            widget_hmm_vis.drop_down_trajectories.options = widget_hmm_vis.trajectory_options\n",
    "widget_hmm_vis.drop_down_cells.observe(dropdown)\n",
    "display(widget_hmm_vis.drop_down_trajectories)"
   ]
  },
  {
   "cell_type": "code",
   "execution_count": 5,
   "metadata": {
    "hideCode": true,
    "hidePrompt": true
   },
   "outputs": [
    {
     "data": {
      "application/vnd.jupyter.widget-view+json": {
       "model_id": "56329efe22f644ce9d3def50c5afd186",
       "version_major": 2,
       "version_minor": 0
      },
      "text/plain": [
       "Button(description='plot', style=ButtonStyle(), tooltip='plot chosen trajectory')"
      ]
     },
     "metadata": {},
     "output_type": "display_data"
    }
   ],
   "source": [
    "def plot_particle(event):\n",
    "    widget_hmm_vis.create_clear_output()\n",
    "    display(widget_hmm_vis.plot_trajectory_button)\n",
    "    hmm_vis.plot_trajectory(widget_hmm_vis.drop_down_cells.value, widget_hmm_vis.drop_down_trajectories.value)\n",
    "display(widget_hmm_vis.plot_trajectory_button)\n",
    "widget_hmm_vis.plot_trajectory_button.on_click(plot_particle)"
   ]
  },
  {
   "cell_type": "markdown",
   "metadata": {
    "hideCode": true,
    "hidePrompt": true
   },
   "source": [
    "## Save results"
   ]
  },
  {
   "cell_type": "markdown",
   "metadata": {
    "hideCode": true,
    "hidePrompt": true
   },
   "source": [
    "Choose a directory and a folder name. A .h5 file with the statistics and the informations of all plots will be saved. If the \"save plots\" box is checked, all plots will be saved as .pdf."
   ]
  },
  {
   "cell_type": "code",
   "execution_count": 6,
   "metadata": {
    "hideCode": true,
    "hidePrompt": true
   },
   "outputs": [
    {
     "data": {
      "application/vnd.jupyter.widget-view+json": {
       "model_id": "6b928a41aa4e43e39dfb6c7d57319c6c",
       "version_major": 2,
       "version_minor": 0
      },
      "text/plain": [
       "Text(value='', description='Insert directory', placeholder='Type something', style=DescriptionStyle(descriptio…"
      ]
     },
     "metadata": {},
     "output_type": "display_data"
    },
    {
     "data": {
      "application/vnd.jupyter.widget-view+json": {
       "model_id": "37f2592c4f9e46209ad6b960d4738b58",
       "version_major": 2,
       "version_minor": 0
      },
      "text/plain": [
       "Button(description='browse', style=ButtonStyle(), tooltip='browse for directory')"
      ]
     },
     "metadata": {},
     "output_type": "display_data"
    },
    {
     "data": {
      "application/vnd.jupyter.widget-view+json": {
       "model_id": "eb97822204934735ae1ad628b30778f8",
       "version_major": 2,
       "version_minor": 0
      },
      "text/plain": [
       "Text(value='190723_hmm_results', description='Folder name', placeholder='name of folder', style=DescriptionSty…"
      ]
     },
     "metadata": {},
     "output_type": "display_data"
    },
    {
     "data": {
      "application/vnd.jupyter.widget-view+json": {
       "model_id": "ddf7f9eb89644a459df9d27bee681e7e",
       "version_major": 2,
       "version_minor": 0
      },
      "text/plain": [
       "Checkbox(value=True, description='Save plots')"
      ]
     },
     "metadata": {},
     "output_type": "display_data"
    },
    {
     "data": {
      "application/vnd.jupyter.widget-view+json": {
       "model_id": "5ba10ec22ce144168cbe638413f818a6",
       "version_major": 2,
       "version_minor": 0
      },
      "text/plain": [
       "Button(description='save', style=ButtonStyle(), tooltip='click to save')"
      ]
     },
     "metadata": {},
     "output_type": "display_data"
    }
   ],
   "source": [
    "def saving(event):\n",
    "    if not widget_hmm_vis.save_dir_name:\n",
    "        print(\"Please insert a directory\")\n",
    "    else:\n",
    "        widget_hmm_vis.create_clear_output()\n",
    "        hmm_vis.save_dir, hmm_vis.save_folder_name, hmm_vis.save_plots = widget_hmm_vis.save_dir_name, widget_hmm_vis.save_folder_name_box.value, widget_hmm_vis.save_plots_checkbox.value\n",
    "        if hmm_vis.save_plots:\n",
    "            hmm_vis.run_save_plots()\n",
    "        init_save_hmm_vis_stats(hmm_vis, hmm_vis.save_dir, hmm_vis.save_folder_name)\n",
    "display(widget_hmm_vis.save_dir_box, widget_hmm_vis.save_dir_button, widget_hmm_vis.save_folder_name_box, widget_hmm_vis.save_plots_checkbox, widget_hmm_vis.save_button)\n",
    "widget_hmm_vis.save_dir_button.on_click(widget_hmm_vis.save_open_dir)\n",
    "widget_hmm_vis.save_button.on_click(saving)"
   ]
  }
 ],
 "metadata": {
  "hide_code_all_hidden": true,
  "kernelspec": {
   "display_name": "Python 3",
   "language": "python",
   "name": "python3"
  },
  "language_info": {
   "codemirror_mode": {
    "name": "ipython",
    "version": 3
   },
   "file_extension": ".py",
   "mimetype": "text/x-python",
   "name": "python",
   "nbconvert_exporter": "python",
   "pygments_lexer": "ipython3",
   "version": "3.7.3"
  }
 },
 "nbformat": 4,
 "nbformat_minor": 2
}
