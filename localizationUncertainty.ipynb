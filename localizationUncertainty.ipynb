{
 "cells": [
  {
   "cell_type": "markdown",
   "metadata": {
    "hideCode": true,
    "hidePrompt": true
   },
   "source": [
    "# Determination of the precision [nm]\n",
    "### Johanna Rahm, Sebastian Malkusch\n",
    "#### Research group Heilemann\n",
    "#### Institute for Physical and Theoretical Chemistry, Goethe University Frankfurt a.M.\n",
    "\n",
    "In thunderSTORM one can choose a way to calculate the localization uncertainty (LSQ (Mortensen et al. Nat Methods, 2010); MLE (Rieger et al. Chemphyschem, 2014)) and a mean value is build in the x/y-plane. <br/>\n",
    "rapidSTORM calculates the localization uncertainty based on Thompson et al. Biophys J, 2002. The mean value is build for the x/y-plane respectively."
   ]
  },
  {
   "cell_type": "markdown",
   "metadata": {
    "hideCode": true,
    "hidePrompt": true
   },
   "source": [
    "## Choose a localization software"
   ]
  },
  {
   "cell_type": "code",
   "execution_count": 1,
   "metadata": {
    "hideCode": true,
    "hidePrompt": true
   },
   "outputs": [
    {
     "data": {
      "application/vnd.jupyter.widget-view+json": {
       "model_id": "0f90fa91c32b46ea8f5b4d553e33e736",
       "version_major": 2,
       "version_minor": 0
      },
      "text/plain": [
       "RadioButtons(options=('ThunderSTORM', 'rapidSTORM'), value='ThunderSTORM')"
      ]
     },
     "metadata": {},
     "output_type": "display_data"
    }
   ],
   "source": [
    "from pySPT.widgets import widgetDirectoryStructure\n",
    "from pySPT.widgets import widgetColumnSort\n",
    "from pySPT.widgets import widgetPrecision\n",
    "from pySPT.preAnalysis import precision\n",
    "widget_precision = widgetPrecision.WidgetPrecision()\n",
    "display(widget_precision.software_button)"
   ]
  },
  {
   "cell_type": "markdown",
   "metadata": {
    "hideCode": true,
    "hidePrompt": true
   },
   "source": [
    "## Load file"
   ]
  },
  {
   "cell_type": "markdown",
   "metadata": {
    "hideCode": true,
    "hidePrompt": true
   },
   "source": [
    "thunderSTORM: Insert the full file path of the thunderSTORM exported results table with .csv ending or browse for it. Make sure that the uncertainty is represented in nm. (Example path: F:\\resting\\160404_CS5\\cell05.csv) <br/>\n",
    "rapidSTORM: Insert the full file path of the rapidSTORM localization file with .txt ending or browse for it. (Example path: F:\\resting\\160404_CS5\\cell05.txt) "
   ]
  },
  {
   "cell_type": "code",
   "execution_count": 2,
   "metadata": {
    "hideCode": true,
    "hidePrompt": true
   },
   "outputs": [
    {
     "data": {
      "application/vnd.jupyter.widget-view+json": {
       "model_id": "baa3b730e76e4f0cb758ce8397af507e",
       "version_major": 2,
       "version_minor": 0
      },
      "text/plain": [
       "Text(value='', description='Complete path', placeholder='insert path', style=DescriptionStyle(description_widt…"
      ]
     },
     "metadata": {},
     "output_type": "display_data"
    },
    {
     "data": {
      "application/vnd.jupyter.widget-view+json": {
       "model_id": "8d6c411348c84008aec599ddf9ec4269",
       "version_major": 2,
       "version_minor": 0
      },
      "text/plain": [
       "Button(description='browse', style=ButtonStyle(), tooltip='browse for file')"
      ]
     },
     "metadata": {},
     "output_type": "display_data"
    }
   ],
   "source": [
    "widget_dir_structure = widgetDirectoryStructure.WidgetDirStructure()\n",
    "precision = precision.Precision()\n",
    "display(widget_precision.file_text_box, widget_precision.file_button)\n",
    "widget_precision.file_button.on_click(widget_precision.open_file)\n",
    "widget_precision.file_text_box.observe(widget_precision.change_file_box)"
   ]
  },
  {
   "cell_type": "markdown",
   "metadata": {
    "hideCode": true,
    "hidePrompt": true
   },
   "source": [
    "## Run analysis"
   ]
  },
  {
   "cell_type": "markdown",
   "metadata": {
    "hideCode": true,
    "hidePrompt": true
   },
   "source": [
    "The uncertainties are ln-transformed and fitted with a Gauss-fit. The retransformed mean value of the fit represents the mean position uncertainty in the x/y-plane."
   ]
  },
  {
   "cell_type": "code",
   "execution_count": 3,
   "metadata": {
    "hideCode": true,
    "hidePrompt": true
   },
   "outputs": [
    {
     "data": {
      "application/vnd.jupyter.widget-view+json": {
       "model_id": "e16f71b4be4844618e24b831e85daf9c",
       "version_major": 2,
       "version_minor": 0
      },
      "text/plain": [
       "Button(description='run', style=ButtonStyle(), tooltip='run the analysis')"
      ]
     },
     "metadata": {},
     "output_type": "display_data"
    }
   ],
   "source": [
    "display(widget_precision.run_button)\n",
    "def run_analysis(event):\n",
    "    widget_precision.create_clear_output()\n",
    "    display(widget_precision.run_button)\n",
    "    if widget_precision.got_file_name:\n",
    "        if widget_precision.software_button.value == \"ThunderSTORM\":\n",
    "            widget_column_sort = widgetColumnSort.WidgetColumnSort(widget_precision.file_text_box.value, \"ThunderSTORM\", ['\"uncertainty_xy [nm]\"'])\n",
    "            precision.software = widget_precision.software_button.value\n",
    "        elif widget_precision.software_button.value == \"rapidSTORM\":\n",
    "            widget_column_sort = widgetColumnSort.WidgetColumnSort(widget_precision.file_text_box.value, \"rapidSTORM\", ['\"Position-0-0-uncertainty\"', '\"Position-1-0-uncertainty\"'])\n",
    "            precision.software = widget_precision.software_button.value\n",
    "        widget_column_sort.check_header()\n",
    "        if widget_column_sort.correct_header:\n",
    "            widget_column_sort.run_column_sort()\n",
    "            precision.file_name = widget_precision.file_text_box.value\n",
    "            precision.column_order = widget_column_sort.column_order\n",
    "            precision.run_precision()\n",
    "        else:\n",
    "            widget_precision.warning_wrong_file()\n",
    "    else:\n",
    "        widget_precision.warning_wrong_file_path()\n",
    "widget_precision.run_button.on_click(run_analysis)"
   ]
  },
  {
   "cell_type": "markdown",
   "metadata": {
    "hideCode": true,
    "hidePrompt": true
   },
   "source": [
    "## Save"
   ]
  },
  {
   "cell_type": "markdown",
   "metadata": {
    "hideCode": true,
    "hidePrompt": true
   },
   "source": [
    "The results will be saved in .txt files (one for each histogram and one for the localization precision). <br/>\n",
    "For the HMM-analysis, a microscope.txt file with the camera pixel size [nm], integration time [s] and localization uncertainty [nm] is needed. If you want to save this file with a static localization error, check the box. "
   ]
  },
  {
   "cell_type": "code",
   "execution_count": 4,
   "metadata": {
    "hideCode": true,
    "hidePrompt": true
   },
   "outputs": [
    {
     "data": {
      "application/vnd.jupyter.widget-view+json": {
       "model_id": "2a453bae1a284a959a5b1ec7e0d03ea3",
       "version_major": 2,
       "version_minor": 0
      },
      "text/plain": [
       "Checkbox(value=True, description='Save plots')"
      ]
     },
     "metadata": {},
     "output_type": "display_data"
    },
    {
     "data": {
      "application/vnd.jupyter.widget-view+json": {
       "model_id": "f62dff40fb564454a92e27fc94017c91",
       "version_major": 2,
       "version_minor": 0
      },
      "text/plain": [
       "Checkbox(value=False, description='Save microscope file for HMM analysis?')"
      ]
     },
     "metadata": {},
     "output_type": "display_data"
    },
    {
     "data": {
      "application/vnd.jupyter.widget-view+json": {
       "model_id": "c31bbcdbebd746e0962b337abb54fe95",
       "version_major": 2,
       "version_minor": 0
      },
      "text/plain": [
       "Text(value='158', description='Pixel size [nm]', placeholder='Type something', style=DescriptionStyle(descript…"
      ]
     },
     "metadata": {},
     "output_type": "display_data"
    },
    {
     "data": {
      "application/vnd.jupyter.widget-view+json": {
       "model_id": "eca2f88772a548818fdb8cb740d0d922",
       "version_major": 2,
       "version_minor": 0
      },
      "text/plain": [
       "Text(value='0.02', description='Camera integration time [s]', placeholder='Type something', style=DescriptionS…"
      ]
     },
     "metadata": {},
     "output_type": "display_data"
    },
    {
     "data": {
      "application/vnd.jupyter.widget-view+json": {
       "model_id": "f49bb887a29649e4837a55319bea6476",
       "version_major": 2,
       "version_minor": 0
      },
      "text/plain": [
       "Button(description='save', style=ButtonStyle(), tooltip='save the results')"
      ]
     },
     "metadata": {},
     "output_type": "display_data"
    }
   ],
   "source": [
    "display(widget_precision.save_figures_checkbox, widget_precision.check_microscope, widget_precision.camera_pixel_size_box, widget_precision.camera_integration_time_box, widget_precision.save_button)\n",
    "def save_analysis(event):\n",
    "    widget_precision.create_clear_output()\n",
    "    display(widget_precision.save_figures_checkbox, widget_precision.check_microscope, widget_precision.camera_pixel_size_box, widget_precision.camera_integration_time_box, widget_precision.save_button)\n",
    "    widget_dir_structure.name_handling(widget_precision.file_text_box.value)\n",
    "    widget_dir_structure.create_raw_base_name()\n",
    "    widget_dir_structure.sub_folder = \"\\\\preAnalysis\"\n",
    "    widget_dir_structure.create_folder()\n",
    "    precision.save_precision(widget_dir_structure.sub_folder_dir, widget_dir_structure.raw_base_name)\n",
    "    if widget_precision.save_figures_checkbox.value:\n",
    "        precision.run_save_plots(widget_dir_structure.sub_folder_dir, widget_dir_structure.raw_base_name)\n",
    "    if widget_precision.check_microscope.value:\n",
    "        precision.save_hmm_microscope(widget_dir_structure.sub_folder_dir, widget_precision.camera_pixel_size_box.value, widget_precision.camera_integration_time_box.value)\n",
    "widget_precision.save_button.on_click(save_analysis)"
   ]
  }
 ],
 "metadata": {
  "hide_code_all_hidden": true,
  "kernelspec": {
   "display_name": "Python 3",
   "language": "python",
   "name": "python3"
  },
  "language_info": {
   "codemirror_mode": {
    "name": "ipython",
    "version": 3
   },
   "file_extension": ".py",
   "mimetype": "text/x-python",
   "name": "python",
   "nbconvert_exporter": "python",
   "pygments_lexer": "ipython3",
   "version": "3.7.3"
  }
 },
 "nbformat": 4,
 "nbformat_minor": 2
}
