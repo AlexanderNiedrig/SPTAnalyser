{
 "cells": [
  {
   "cell_type": "markdown",
   "metadata": {},
   "source": [
    "## Load *.trc files"
   ]
  },
  {
   "cell_type": "markdown",
   "metadata": {},
   "source": [
    "Choose/insert a directory for the cell files to be searched in (e.g. F:\\Marburg\\single_colour_tracking\\resting). All *.trc files in the directory will be loaded for the analysis."
   ]
  },
  {
   "cell_type": "code",
   "execution_count": 1,
   "metadata": {},
   "outputs": [
    {
     "data": {
      "application/vnd.jupyter.widget-view+json": {
       "model_id": "a3c7bd6aa36f43d9aa35ff72c697717c",
       "version_major": 2,
       "version_minor": 0
      },
      "text/plain": [
       "Text(value='directory to be searched in', description='directory', placeholder='Type something', style=Descrip…"
      ]
     },
     "metadata": {},
     "output_type": "display_data"
    },
    {
     "data": {
      "application/vnd.jupyter.widget-view+json": {
       "model_id": "9885212d4cf54cba8c99bbf8376b6596",
       "version_major": 2,
       "version_minor": 0
      },
      "text/plain": [
       "Button(description='browse', style=ButtonStyle(), tooltip='browse for directory')"
      ]
     },
     "metadata": {},
     "output_type": "display_data"
    }
   ],
   "source": [
    "from pySPT.widgets import widgetLoadHdf5\n",
    "from pySPT.widgets import loadHdf5\n",
    "from pySPT.analysis import cell\n",
    "from pySPT.analysis import trajectory\n",
    "from pySPT.analysis import coverSlip\n",
    "from pySPT.analysis import trajectoryStatistics\n",
    "widget_load_hdf5 = widgetLoadHdf5.WidgetLoadHdf5()\n",
    "load_hdf5 = loadHdf5.LoadHdf5()\n",
    "cover_slip = coverSlip.CoverSlip()\n",
    "display(widget_load_hdf5.dir_box, widget_load_hdf5.dir_button)\n",
    "widget_load_hdf5.dir_button.on_click(widget_load_hdf5.open_dir)\n",
    "widget_load_hdf5.dir_box.observe(widget_load_hdf5.change_dir_box)"
   ]
  },
  {
   "cell_type": "code",
   "execution_count": 2,
   "metadata": {},
   "outputs": [
    {
     "data": {
      "application/vnd.jupyter.widget-view+json": {
       "model_id": "4e9c983852be43f4b6ab681465986d48",
       "version_major": 2,
       "version_minor": 0
      },
      "text/plain": [
       "Button(description='initialize', style=ButtonStyle(), tooltip='initialize objects')"
      ]
     },
     "metadata": {},
     "output_type": "display_data"
    },
    {
     "name": "stdout",
     "output_type": "stream",
     "text": [
      "Initialization took 2.5442514419555664 s\n"
     ]
    }
   ],
   "source": [
    "from pySPT.widgets.widgetNotebooks import init_filter_notebook\n",
    "def initialize(event):\n",
    "    init_filter_notebook(cover_slip, widget_load_hdf5, load_hdf5)\n",
    "display(widget_load_hdf5.init_button)\n",
    "widget_load_hdf5.init_button.on_click(initialize)"
   ]
  },
  {
   "cell_type": "markdown",
   "metadata": {},
   "source": [
    "## Filter for parameters"
   ]
  },
  {
   "cell_type": "markdown",
   "metadata": {},
   "source": [
    "Floating point numbers have to be separated with a dot (e.g. 2.123). If no filter parameters or invalid parameters are given, the min and max values will be set automatically. All boxes that are checked will be included in the filtered data. If one wants to filter multiple times, the JNB has to be restarted."
   ]
  },
  {
   "cell_type": "code",
   "execution_count": 3,
   "metadata": {},
   "outputs": [
    {
     "name": "stdout",
     "output_type": "stream",
     "text": [
      "max trajectory length: 538\n",
      "min trajectory length: 8\n",
      "max diffusion coefficient: 2.4615554891102156 [μm²/s]\n",
      "min diffusion coefficient: 1e-05 [μm²/s]\n",
      "15.8 % are immobile\n",
      "38.1 % are confined\n",
      "46.1 % are free\n"
     ]
    }
   ],
   "source": [
    "track_stats = trajectoryStatistics.TrajectoryStatistics()\n",
    "def filter(event):\n",
    "    widget_load_hdf5.create_clear_output()\n",
    "    track_stats.cell_trajectories = cover_slip.cell_trajectories\n",
    "    track_stats.run_statistics(widget_load_hdf5.min_length_box.value, widget_load_hdf5.max_length_box.value, widget_load_hdf5.min_D_box.value, widget_load_hdf5.max_D_box.value, widget_load_hdf5.immob_type_check_box.value,  widget_load_hdf5.confined_type_check_box.value, widget_load_hdf5.free_type_check_box.value, widget_load_hdf5.analyse_successful_check_box.value, widget_load_hdf5.analyse_not_successful_check_box.value)\n",
    "display(widget_load_hdf5.min_length_box, widget_load_hdf5.max_length_box, widget_load_hdf5.min_D_box, widget_load_hdf5.max_D_box, widget_load_hdf5.immob_type_check_box, widget_load_hdf5.confined_type_check_box, widget_load_hdf5.free_type_check_box, widget_load_hdf5.analyse_successful_check_box, widget_load_hdf5.analyse_not_successful_check_box, widget_load_hdf5.filter_button)\n",
    "widget_load_hdf5.filter_button.on_click(filter)"
   ]
  },
  {
   "cell_type": "code",
   "execution_count": 4,
   "metadata": {},
   "outputs": [],
   "source": [
    "# trajectory_stats.cell_trajectories = cover_slip.cell_trajectories\n",
    "# trajectory_stats.get_index()\n",
    "# trajectory_stats.create_init_filter_lst()"
   ]
  },
  {
   "cell_type": "markdown",
   "metadata": {},
   "source": [
    "## Choose trajectory to plot"
   ]
  },
  {
   "cell_type": "markdown",
   "metadata": {},
   "source": [
    "Choose a cell. If one wants to plot multiple times, choose a new cell and/or trajectory reload the plotting cell by clicking in the cell and pressing strg+enter."
   ]
  },
  {
   "cell_type": "code",
   "execution_count": 5,
   "metadata": {},
   "outputs": [
    {
     "data": {
      "application/vnd.jupyter.widget-view+json": {
       "model_id": "f2c857c1f2ad4ac8998b27f519b655b3",
       "version_major": 2,
       "version_minor": 0
      },
      "text/plain": [
       "Dropdown(description='Number:', options=(), value=None)"
      ]
     },
     "metadata": {},
     "output_type": "display_data"
    }
   ],
   "source": [
    "def dropdown(event):\n",
    "    widget_load_hdf5.cell_options = widget_load_hdf5.get_cell_names(cover_slip.cells)\n",
    "widget_load_hdf5.filter_button.on_click(dropdown)\n",
    "#widget_load_hdf5.filter_button.observe(dropdown)\n",
    "display(widget_load_hdf5.drop_down_cells)"
   ]
  },
  {
   "cell_type": "markdown",
   "metadata": {},
   "source": [
    "Choose a trajectory."
   ]
  },
  {
   "cell_type": "code",
   "execution_count": 6,
   "metadata": {},
   "outputs": [
    {
     "data": {
      "application/vnd.jupyter.widget-view+json": {
       "model_id": "a025a6f529f1424a9680b2fad56c250b",
       "version_major": 2,
       "version_minor": 0
      },
      "text/plain": [
       "Dropdown(description='Number:', options=(), value=None)"
      ]
     },
     "metadata": {},
     "output_type": "display_data"
    }
   ],
   "source": [
    "def dropdown(event):      \n",
    "    for cell in cover_slip.cells:\n",
    "        if cell.name == widget_load_hdf5.drop_down_cells.value:\n",
    "            target_cell = cover_slip.cells.index(cell)\n",
    "            widget_load_hdf5.trajectory_options = track_stats.cell_trajectories_filtered_index[target_cell]\n",
    "            widget_load_hdf5.drop_down_trajectories.options = widget_load_hdf5.trajectory_options\n",
    "widget_load_hdf5.drop_down_cells.observe(dropdown)\n",
    "widget_load_hdf5.filter_button.on_click(dropdown)\n",
    "display(widget_load_hdf5.drop_down_trajectories)"
   ]
  },
  {
   "cell_type": "code",
   "execution_count": 7,
   "metadata": {},
   "outputs": [
    {
     "data": {
      "application/vnd.jupyter.widget-view+json": {
       "model_id": "471d58ca030747dcb26097b31b6203c1",
       "version_major": 2,
       "version_minor": 0
      },
      "text/plain": [
       "Button(description='plot', style=ButtonStyle(), tooltip='plot chosen trajectory')"
      ]
     },
     "metadata": {},
     "output_type": "display_data"
    }
   ],
   "source": [
    "def plot_trajectory(event):\n",
    "    widget_load_hdf5.create_clear_output()\n",
    "    cover_slip.plot_trajectory(widget_load_hdf5.drop_down_cells.value, widget_load_hdf5.drop_down_trajectories.value)\n",
    "display(widget_load_hdf5.plot_button)\n",
    "widget_load_hdf5.plot_button.on_click(plot_trajectory)"
   ]
  },
  {
   "cell_type": "markdown",
   "metadata": {},
   "source": [
    "## Plot diffusion histogram"
   ]
  },
  {
   "cell_type": "code",
   "execution_count": 8,
   "metadata": {},
   "outputs": [
    {
     "data": {
      "application/vnd.jupyter.widget-view+json": {
       "model_id": "aad2a55fb73441d7b7d9bb128a51af6d",
       "version_major": 2,
       "version_minor": 0
      },
      "text/plain": [
       "Button(description='plot', style=ButtonStyle(), tooltip='plot diffusion coefficients')"
      ]
     },
     "metadata": {},
     "output_type": "display_data"
    },
    {
     "name": "stdout",
     "output_type": "stream",
     "text": [
      "xxx\n"
     ]
    },
    {
     "name": "stdout",
     "output_type": "stream",
     "text": [
      "[[-1.5210343096611039, -1.8086842584234044, -2.4919877364603855, -0.7859672044840251, -0.8908288785407653, -0.8404260399443296, -2.9793583583991983, -0.9524734667680425, -0.8084773712595112, -1.1890715617181604, -1.3343490947481247, -0.7939547845648843, -1.5532712965841948, -0.9424217712592882, -0.5985161020018073, -1.366805053788057, -1.0665844293663413, -0.6220965317071416, -1.6230106150560992, -0.7353044424268409, -2.5527441436850387, -1.5513854981750534, -0.18314944651786874, -0.5208906203262594, -2.189992107532771, -1.4244145091687184, -1.6026927785331546, -0.6933969383733392, -0.7581856968993304, -1.0779462118020602, -0.6257135450792147, -1.7527570208244465, -1.1774408066267292, -5.0, -1.7444216017345113, -0.4910308101765368, -2.683015122067916, -0.9336933790501186, -1.2097387072177928, -1.6406619480194191, -0.976442387086941, -0.759645881378605, -1.0146569200931042, -2.091677061278338, -1.0300413307116625, -1.0523801223021585, -0.7858545892849915, -1.3503217157642173, -1.4019225472982093, -0.6154712680179677, -0.8129380456851659, -0.9184089143575536, -0.8216053008396619, -0.961413024178511, -0.9058148242509129, -1.3972735666541143, -1.2997422272928651, -1.2680001920830415, -0.2445074108374529, -0.6388370749064832, -0.7163974555388081, -0.840086055586389, -1.5293432402185545, -1.2818606934724406, -0.7348949728095897, -2.2223980365901044, -1.1057201157959882, -0.8987086689210095, -1.4354371780543125, -0.8078814472133408, -0.7985001407419048, -2.30897192571262, -1.0292080705312125, -2.6997145354804353, -1.0829799311939874, -0.7932290755940571, -1.1684271532756727, -0.790361622232277, -0.4892186499607845, -1.8098854547442267, -0.8226279328017285, -1.9214505691967263, -0.73716736261038, -1.2530131659081736, -0.7054536866500282, -1.1415844345720993, -0.3072603026149472, -1.206182745833389, -1.0042385131359584, -1.3176842137945084, -0.7291029040524305, -1.696448011572441, -0.8817055431787868, -1.044281682736333, -2.550026369005311, -2.4424949652119508, -1.8487675200266642, -0.30047446793607785, -1.2455630897799854, -1.29493626759141, -1.175062576152138, -2.258328971721911, -5.0, -1.9042306578509578, -2.680353893169007, -1.824016052513271, -1.4026207960419879, -0.9672764341489987, -0.9193023259389339, -1.307340975426206, -1.813399224850549, -1.224716229694057, -0.9401372299517402, -1.0938958415706346, -1.3096278457987087, -1.7843054711944175, -1.421572771969101, -0.9062202917338745, -0.4714660494041341, -1.3580299385020405, -1.278133574117717, -1.344529230821605, -0.8989993450919492, -1.1425451577353127, -1.9363159369344187, -1.324792747514931, -5.0, -0.9246243530943138, -1.0320695642042559, -1.691326545311487, -5.0, -0.7194607889153848, -1.397256439586506, -0.6336136063907961, -2.9763266482133304, -2.4417208343569485, -0.7562750153856934, -0.6352473094909183, -1.2108661293528826, -0.5601413908078003, -2.4998300948694756, -2.4298646686298366, -1.9057966652121132, -5.0, -1.3527826356261017, -0.3826381986216936, -1.1476590464980372, -0.8088321234973932, -2.0165898552522545, -1.4841585919831566, -0.8614865773328312, -0.781681223108835, -1.1605509373016432, -3.44726145558441, -0.7742341351922127, -1.610322060389821, -1.414993190661248, -1.1660986506006088, -0.48692443812218456, -0.8027097559818323, -1.064064584478974, -1.3743683738518373, -5.0, -1.5244928913507758, -1.3345004203389954, -2.210873665283594, -1.1310756091807441, -1.253393106436602, -1.2361407418708577, -0.5806157219257202, -0.7591111662682706, -0.6715340954461574, -3.527641109635039, -1.2577900602466747, -0.7515477975744509, -1.7805840925121112, -2.6593295840428146, -2.26400631926727, -3.5506778335470557, -0.5930920972266295, -0.9017947891815402, -0.7823154992196449, -1.2602004869196306, -0.9782608415719359, -2.999236343635805, -0.9738211207165993, -1.2292328711768366, -0.7687659434399166, -1.3661890680276187, -0.6627530891975258, -1.8462736066014525, -2.592269762524073, -1.0448651558040063, -0.7575903683909355, -0.9487397437032217, -1.1826031269384092, -1.322608190663796, -1.903943696661959, -0.8818540536674819, -1.8050054269922875, -0.4083684906396018, -5.0, -1.9409097183789428, -1.3357079040331499, -0.7923276115219522, -2.177277879436673, -1.0281325243717543, -0.7947127338153638, -1.9322884856919231, -1.545836335300979, -1.761260152204295, -2.3917775089580493, -1.011756722390184, -0.15128071916713987, -1.0466370704165684, -2.5353186473853664, -0.7666318075028329, -5.0, -2.8210827129365117, -2.149842196547814, -0.6834120090074733, -3.4614960761993374, -1.4748427708601468, -0.6025869196616661, -2.0630629082592393, -1.808003187732623, -1.3415959069981804, -5.0, -2.5035036870996676, -0.8719490460580476, -0.8535735631832329, -0.5751423979642809, -1.1641661571794009, -0.8075029905693412, -0.3322196757792974, -2.0592704288676837, -0.6066559190801879, -2.0334748135145886, -0.9411947957988217, -0.26949002733956323, -2.659812749389138, -2.1389135753114394, -1.2580742768176827, -1.2530771933368847, -0.5925819955990187, -0.874581790554703, -0.6395353396752588, -1.4520613534262699, -0.4649120378620451, -1.0531642148925957, -1.5874535245821675, -1.154208406359407, -0.5007855132442434, -0.4677253656844828, -1.2203919596919999, -2.82799043757773, -1.7363161309389898, -0.7567473217173004, -0.9765097267247036, -0.9395574804891108, -3.6008075190032627, -0.19839758728497342, -1.2918395002212124, -0.7422355195975558, -0.8755529747901806, -0.8774720796779524, -1.8603294834444355, -0.2693495538281883, -1.2792147193432386, -1.355087331111914, -0.6977123525998674, -5.0, -0.8403064951232316, -0.5189627947731559, -1.2664175800102815, -1.6833481836813058, -1.5528587117162993, -1.3848140611018758, -0.7469796672665089, -1.7336870252131573, -0.31506740208147754, -0.7916406412239883, -1.1389607081673794, -1.932734506273297, -0.8736748809899257], [-3.629750439721609, -0.7208042594790739, -0.5180233274880252, -3.1655477608161946, -0.2322631728391816, -0.9272962641969081, -2.783393491475996, -1.3604336159521095, -1.5612698320224319, -0.9518851857528935, -0.5503762509388068, -0.7707126276209049, -2.2090735708084384, -5.0, -1.2452327895222222, -0.9893767250518094, -1.1104294298766781, -1.343174169029761, -1.0330369686243706, -1.3303102795303574, -1.0753911092140687, -1.116326290150572, -0.9586766819659476, -1.19281280890612, -1.7817152728343069, -2.0010715004056254, -0.9772769579394754, -1.010494630822086, -1.4855680775217652, -5.0, -1.258283916133111, -0.8474387057228722, -2.181127081960273, -0.8056101992155041, -5.0, -1.570395626601023, -1.1915984898697394, -2.7953915613339335, -1.3295066301771823, -5.0, -0.9326528174117291, -0.6849172590327037, -0.2207331075270228, -1.5566194532202677, -1.3061328291482968, -1.6666246064378767, -0.4418374706187521, -3.181964793632764, -1.1399225844793348, -1.5475788593439497, -1.2780542291714112, -1.281717500110325, -1.6678891037912216, -1.2109768343123501, -5.0, -5.0, -0.849802393270864, -1.401540923844127, -2.0517628689077623, -5.0, -0.6318647863330871, -0.9831740559851432, -1.0723522093131739, -1.2052281740540483, -5.0, -1.4302083475583103, -1.0860619641901672, -1.2452229818260874, -1.3938269295397478, -1.3690848225207577, -1.167771075250931, -1.437901817804119, -0.9699528252601718, -1.416497955642161, -0.6865790468355717, -4.590394226711792, -0.8920262625487112, -1.0566392906494146, -0.5675671842087758, -0.8630613760407355, -1.258247586173262, -0.4810836611430762, -0.5950396623096826, -1.805427714770321, -1.1997835211016032, -3.4359929903238093, -1.164231429084072, -1.3882394503565243, -1.4073060058725302, -1.0636376907656298, -1.1499030814731868, -5.0, -0.7826581572564698, -1.186299419766112, -1.7040888292343697, -0.8326273575374918, -0.6116902896695718, -0.9795899916566048, -0.938947963891424, -1.0387367395001406, -1.6325137913717434, 0.39120963021348754, -0.5799856830710051, -1.4543185497781221, -2.9164500712996717, -0.672285786060457, -0.5701449420290763, -1.7136179216217655, -1.1783198469031722, -5.0, -0.6268080220101483, -1.150483150247526, -2.6403026725458414, -0.24049483891319226, -1.3222208342665016, -0.37868451472199577, -0.6900811400544155, -0.8488350953709097, -0.6894350764176866, -0.686316506030852, -2.7018119969447834, -0.8281555082104521, -2.0700443528671055, -5.0, -5.0, -0.9699194677345421, -0.7396153516829951, -1.6711092696676668, -0.9227795158099286, -1.2812623147529585, -1.5266543194349138, -5.0, -0.633738408462663, -1.4026561146747272, -1.467529801408023, -0.9953586987576929, -1.7513814678799295, -1.020346809206761, -0.6144602122833076, -1.25329370808443, -0.5490341811136125, -0.9652142925572775, -0.9581295935783737, -0.7190780507027749, -2.0163231252056018, -0.8647036754287792, -1.5535513846148958, -2.6714360272485322, -1.0677955987326484, -0.8633315293891127, -0.7816212261720524, -0.7191869674286269, -0.7880976679743563, -1.232307856488058, -1.867968618812837, -1.9131022893031882, -0.7124891864891201, -0.7777454633102582, -0.6529718144099317, -1.1503517872769553, -2.2278270178450814, -0.788626203875167, -0.7933309351056452, -5.0, -0.9653766267777939, -0.6229676942239718, -1.1298156403848019, -0.9116993840735329, -1.5579630496258934, -0.8150535071280343, -0.5910243882548525, 0.36087592281757924, -3.3026947953056927, -2.7295543412677907, -1.4473302854663985, -1.167659981792019, -1.7215728461292776, -0.5825626811874269, -0.6590663801706509, -1.2966940704373322, -2.53894657333586, -2.886327388334473, -2.909456752461928, -0.7286022631877911, -5.0, -1.4409850846437346, -5.0, -0.625915495025045, -5.0, -2.3147413560797476, -0.7812538356100917, -1.183931660940109, -0.6964524215710752, -0.7412232250443583, -0.934346245169282, -0.6978183473811387, -0.582829824840005, -1.1588990197569347, -0.58808767169877, -0.674654593020371, -0.6542465629485752, -0.5171281894591281, -0.9394447488449373, -0.8876315506519192, -1.10040225484857, -1.3198038574380286, -2.802847585908241, -0.5387427020551407, -0.3540369626195609, -0.6197933298695151, -1.2808562762415567, -1.089935224349283, -0.8121014637707127, -1.0594303016558084]]\n"
     ]
    }
   ],
   "source": [
    "def plot_diffusions(event):\n",
    "    print(\"xxx\")\n",
    "    track_stats.background_frequencies_lst()\n",
    "display(widget_load_hdf5.plot_diffusions_button)\n",
    "widget_load_hdf5.plot_diffusions_button.on_click(plot_diffusions)"
   ]
  }
 ],
 "metadata": {
  "kernelspec": {
   "display_name": "Python 3",
   "language": "python",
   "name": "python3"
  },
  "language_info": {
   "codemirror_mode": {
    "name": "ipython",
    "version": 3
   },
   "file_extension": ".py",
   "mimetype": "text/x-python",
   "name": "python",
   "nbconvert_exporter": "python",
   "pygments_lexer": "ipython3",
   "version": "3.7.1"
  }
 },
 "nbformat": 4,
 "nbformat_minor": 2
}
