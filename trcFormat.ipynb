{
 "cells": [
  {
   "cell_type": "markdown",
   "metadata": {
    "hideCode": true,
    "hidePrompt": true
   },
   "source": [
    "# trcFormat Converter\n",
    "### Johanna Rahm, Sebastian Malkusch\n",
    "#### Research group Heilemann\n",
    "#### Institute for Physical and Theoretical Chemistry, Goethe University Frankfurt a.M.\n",
    "Convert thunderSTORM .csv results table or rapidSTORM localization .txt file to .trc file (seg_id, image_number, x-position [pixel], placeholder, y-position [pixel], intensity). <br/>\n",
    "The thunderSTORM x/y-positions have to be in nm, intensity in ADU. <br/>\n",
    "The .trc file is needed for the trackAnalysis JNB and Hidden Markov Modeling. "
   ]
  },
  {
   "cell_type": "markdown",
   "metadata": {
    "hideCode": true,
    "hidePrompt": true
   },
   "source": [
    "## Choose a localization software"
   ]
  },
  {
   "cell_type": "code",
   "execution_count": 1,
   "metadata": {
    "hideCode": true,
    "hidePrompt": true
   },
   "outputs": [
    {
     "data": {
      "application/vnd.jupyter.widget-view+json": {
       "model_id": "ee8b824dae3943898cf328af18fb5f45",
       "version_major": 2,
       "version_minor": 0
      },
      "text/plain": [
       "RadioButtons(options=('thunderSTORM', 'rapidSTORM'), value='thunderSTORM')"
      ]
     },
     "metadata": {},
     "output_type": "display_data"
    }
   ],
   "source": [
    "from pySPT.widgets import widgetDirectoryStructure\n",
    "from pySPT.widgets import widgetTrcFormat\n",
    "from pySPT.analysis import trcFormat\n",
    "from pySPT.widgets import widgetColumnSort\n",
    "widget_trc_format = widgetTrcFormat.WidgetTrcFormat()\n",
    "display(widget_trc_format.software_button)"
   ]
  },
  {
   "cell_type": "markdown",
   "metadata": {
    "hideCode": true,
    "hidePrompt": true
   },
   "source": [
    "## Load file"
   ]
  },
  {
   "cell_type": "markdown",
   "metadata": {
    "hideCode": true,
    "hidePrompt": true
   },
   "source": [
    "thunderSTORM: Insert the full file path of the tracked thunderSTORM .csv file or browse for it (Example path: F:\\Marburg\\single_colour_tracking\\resting\\160404_CS5_Cells\\160404_CS5_Cell4\\cell04.tracked.loc.csv) <br/>\n",
    "rapidSTORM: Insert the full file path of the tracked rapidSTORM .txt file or browse for it. (Example path: F:\\Marburg\\single_colour_tracking\\resting\\160404_CS5_Cell1\\cell_1_MMStack_Pos0.ome.tif.tracked.loc.txt)"
   ]
  },
  {
   "cell_type": "code",
   "execution_count": 2,
   "metadata": {
    "hideCode": true,
    "hidePrompt": true
   },
   "outputs": [
    {
     "data": {
      "application/vnd.jupyter.widget-view+json": {
       "model_id": "cf84ab7efdc149dd8cfbeaaa05aec749",
       "version_major": 2,
       "version_minor": 0
      },
      "text/plain": [
       "Text(value='path', description='Complete path', placeholder='Type something', style=DescriptionStyle(descripti…"
      ]
     },
     "metadata": {},
     "output_type": "display_data"
    },
    {
     "data": {
      "application/vnd.jupyter.widget-view+json": {
       "model_id": "64639f40206a4078a441dccc3863b8af",
       "version_major": 2,
       "version_minor": 0
      },
      "text/plain": [
       "Button(description='browse', style=ButtonStyle(), tooltip='browse for file')"
      ]
     },
     "metadata": {},
     "output_type": "display_data"
    }
   ],
   "source": [
    "widget_dir_structure = widgetDirectoryStructure.WidgetDirStructure()\n",
    "trc_format = trcFormat.TrcFormat()\n",
    "display(widget_trc_format.file_text_box, widget_trc_format.file_button)\n",
    "widget_trc_format.file_button.on_click(widget_trc_format.open_file)\n",
    "widget_trc_format.file_text_box.observe(widget_trc_format.change_file_box)"
   ]
  },
  {
   "cell_type": "markdown",
   "metadata": {
    "hideCode": true,
    "hidePrompt": true
   },
   "source": [
    "## Run analysis"
   ]
  },
  {
   "cell_type": "markdown",
   "metadata": {
    "hideCode": true,
    "hidePrompt": true
   },
   "source": [
    "A new file with columns: seg_id, frame, x, y, placeholder, intensity will be created."
   ]
  },
  {
   "cell_type": "code",
   "execution_count": 3,
   "metadata": {
    "hideCode": true,
    "hidePrompt": true
   },
   "outputs": [
    {
     "data": {
      "application/vnd.jupyter.widget-view+json": {
       "model_id": "03ebd5eb5ffd457a8f61772d30328a43",
       "version_major": 2,
       "version_minor": 0
      },
      "text/plain": [
       "Text(value='158', description='pixel size in nm', placeholder='Type something', style=DescriptionStyle(descrip…"
      ]
     },
     "metadata": {},
     "output_type": "display_data"
    },
    {
     "data": {
      "application/vnd.jupyter.widget-view+json": {
       "model_id": "37e16ea9bdc649bcb797d98bb93084cf",
       "version_major": 2,
       "version_minor": 0
      },
      "text/plain": [
       "Text(value='2', description='Min track length', placeholder='Type something', style=DescriptionStyle(descripti…"
      ]
     },
     "metadata": {},
     "output_type": "display_data"
    }
   ],
   "source": [
    "display(widget_trc_format.pixel_size_box, widget_trc_format.min_track_length_box)"
   ]
  },
  {
   "cell_type": "code",
   "execution_count": 4,
   "metadata": {
    "hideCode": true,
    "hidePrompt": true,
    "scrolled": true
   },
   "outputs": [
    {
     "data": {
      "application/vnd.jupyter.widget-view+json": {
       "model_id": "4949e1cd61614582b1e9c9560ae804d5",
       "version_major": 2,
       "version_minor": 0
      },
      "text/plain": [
       "Button(description='run', style=ButtonStyle(), tooltip='run the analysis')"
      ]
     },
     "metadata": {},
     "output_type": "display_data"
    },
    {
     "name": "stdout",
     "output_type": "stream",
     "text": [
      "Conversion successful.\n"
     ]
    }
   ],
   "source": [
    "display(widget_trc_format.run_button)\n",
    "def run_analysis(event):\n",
    "    widget_trc_format.create_clear_output()\n",
    "    display(widget_trc_format.run_button)\n",
    "    if widget_trc_format.got_file_name:\n",
    "        if widget_trc_format.software_button.value == \"thunderSTORM\":\n",
    "            widget_column_sort = widgetColumnSort.WidgetColumnSort(widget_trc_format.file_text_box.value, widget_trc_format.software_button.value, ['\"track_id\"' , '\"x [nm]\"', '\"y [nm]\"', '\"frame\"', '\"intensity [photon]\"', '\"seg_id\"'])\n",
    "        elif widget_trc_format.software_button.value == \"rapidSTORM\":\n",
    "            widget_column_sort = widgetColumnSort.WidgetColumnSort(widget_trc_format.file_text_box.value, widget_trc_format.software_button.value, ['\"Position-0-0\"', '\"Position-1-0\"', '\"Amplitude-0-0\"', '\"ImageNumber-0-0\"', '\"seg_id\"', '\"track_id\"'])\n",
    "        widget_column_sort.check_header()\n",
    "        if widget_column_sort.correct_header:\n",
    "            widget_column_sort.run_column_sort()\n",
    "            trc_format.software = widget_trc_format.software_button.value\n",
    "            trc_format.column_order = widget_column_sort.column_order\n",
    "            trc_format.pixel_size = widget_trc_format.pixel_size_box.value\n",
    "            trc_format.min_track_length = widget_trc_format.min_track_length_box.value\n",
    "            trc_format.file_name = widget_trc_format.file_text_box.value\n",
    "            trc_format.load_localization_file()\n",
    "        else:\n",
    "            widget_trc_format.warning_wrong_file()\n",
    "    else:\n",
    "        widget_trc_format.warning_wrong_file_path()\n",
    "widget_trc_format.run_button.on_click(run_analysis)"
   ]
  },
  {
   "cell_type": "markdown",
   "metadata": {
    "hideCode": true,
    "hidePrompt": true
   },
   "source": [
    "## Save analysis"
   ]
  },
  {
   "cell_type": "markdown",
   "metadata": {
    "hideCode": true,
    "hidePrompt": true
   },
   "source": [
    "The .trc file will be saved in the pySPT/analysis folder."
   ]
  },
  {
   "cell_type": "code",
   "execution_count": 5,
   "metadata": {
    "hideCode": true,
    "hidePrompt": true
   },
   "outputs": [
    {
     "data": {
      "application/vnd.jupyter.widget-view+json": {
       "model_id": "35885ec571aa4947ab0138c6c769ab37",
       "version_major": 2,
       "version_minor": 0
      },
      "text/plain": [
       "Button(description='save', style=ButtonStyle(), tooltip='save the results')"
      ]
     },
     "metadata": {},
     "output_type": "display_data"
    }
   ],
   "source": [
    "display(widget_trc_format.save_button)\n",
    "def save_analysis(event):\n",
    "    widget_trc_format.create_clear_output()\n",
    "    display(widget_trc_format.save_button)\n",
    "    #widget_dir_structure.name_handling(widget_trc_format.file_name)\n",
    "    widget_dir_structure.name_handling(widget_trc_format.file_text_box.value)\n",
    "    widget_dir_structure.create_raw_base_name()\n",
    "    widget_dir_structure.sub_folder = \"\\\\analysis\"\n",
    "    widget_dir_structure.create_folder()\n",
    "    trc_format.save_trc_file_analysis(widget_dir_structure.sub_folder_dir, widget_dir_structure.raw_base_name)\n",
    "    widget_dir_structure.sub_folder = \"\\\\hmm\"\n",
    "    widget_dir_structure.create_folder()\n",
    "    trc_format.save_trc_file_hmm(widget_dir_structure.sub_folder_dir, widget_dir_structure.raw_base_name)\n",
    "widget_trc_format.save_button.on_click(save_analysis)"
   ]
  }
 ],
 "metadata": {
  "hide_code_all_hidden": true,
  "kernelspec": {
   "display_name": "Python 3",
   "language": "python",
   "name": "python3"
  },
  "language_info": {
   "codemirror_mode": {
    "name": "ipython",
    "version": 3
   },
   "file_extension": ".py",
   "mimetype": "text/x-python",
   "name": "python",
   "nbconvert_exporter": "python",
   "pygments_lexer": "ipython3",
   "version": "3.7.3"
  }
 },
 "nbformat": 4,
 "nbformat_minor": 2
}
