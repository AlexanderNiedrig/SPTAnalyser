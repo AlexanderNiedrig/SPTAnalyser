{
 "cells": [
  {
   "cell_type": "markdown",
   "metadata": {},
   "source": [
    "# Determination of Expected Displacement\n",
    "### Johanna Rahm, Sebastian Malkusch\n",
    "#### Research group Heilemann\n",
    "#### Institute for Physical and Theoretical Chemistry, Goethe University Frankfurt a.M."
   ]
  },
  {
   "cell_type": "code",
   "execution_count": 1,
   "metadata": {},
   "outputs": [
    {
     "data": {
      "application/vnd.jupyter.widget-view+json": {
       "model_id": "272dfd8eb7e04c18988b5bdb9db5336b",
       "version_major": 2,
       "version_minor": 0
      },
      "text/plain": [
       "Text(value='path', description='Complete path', placeholder='Type something', style=DescriptionStyle(descripti…"
      ]
     },
     "metadata": {},
     "output_type": "display_data"
    },
    {
     "data": {
      "application/vnd.jupyter.widget-view+json": {
       "model_id": "bec1b9cf17c54eda9adf874f6aaea509",
       "version_major": 2,
       "version_minor": 0
      },
      "text/plain": [
       "Button(description='browse', style=ButtonStyle(), tooltip='browse for file')"
      ]
     },
     "metadata": {},
     "output_type": "display_data"
    }
   ],
   "source": [
    "from pySPT.widgets import widgetDirectoryStructure\n",
    "from pySPT.widgets import widgetPBleach\n",
    "from pySPT.preAnalysis import pBleach\n",
    "widget_p_bleach = widgetPBleach.WidgetPBleach()\n",
    "p_bleach = pBleach.PBleach()\n",
    "widget_dir_structure = widgetDirectoryStructure.WidgetDirStructure()\n",
    "display(widget_p_bleach.file_name_text, widget_p_bleach.file_dialog_button)\n",
    "widget_p_bleach.file_dialog_button.on_click(widget_p_bleach.open_file)\n"
   ]
  },
  {
   "cell_type": "markdown",
   "metadata": {},
   "source": [
    "## Run Analysis"
   ]
  },
  {
   "cell_type": "code",
   "execution_count": 3,
   "metadata": {},
   "outputs": [],
   "source": [
    "display(widget_p_bleach.run_button)\n",
    "def run_analysis(event):\n",
    "    widget_p_bleach.create_clear_output()\n",
    "    if widget_p_bleach.file_name:\n",
    "        p_bleach.load_seg_file(widget_p_bleach.file_name)\n",
    "        p_bleach.count_mjd_n_frequencies()\n",
    "        p_bleach.calc_k_bleach()\n",
    "        p_bleach.calc_decay()\n",
    "        p_bleach.plot_mjd_frequencies()\n",
    "widget_p_bleach.run_button.on_click(run_analysis)\n"
   ]
  }
 ],
 "metadata": {
  "kernelspec": {
   "display_name": "Python 3",
   "language": "python",
   "name": "python3"
  },
  "language_info": {
   "codemirror_mode": {
    "name": "ipython",
    "version": 3
   },
   "file_extension": ".py",
   "mimetype": "text/x-python",
   "name": "python",
   "nbconvert_exporter": "python",
   "pygments_lexer": "ipython3",
   "version": "3.7.1"
  }
 },
 "nbformat": 4,
 "nbformat_minor": 2
}
