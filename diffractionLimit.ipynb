{
 "cells": [
  {
   "cell_type": "markdown",
   "metadata": {},
   "source": [
    "# Diffraction Limit\n",
    "### Johanna Rahm, Sebastian Malkusch\n",
    "#### Research group Heilemann\n",
    "#### Institute for Physical and Theoretical Chemistry, Goethe University Frankfurt a.M.\n",
    "\n",
    "Specifies the minimal distance at which particles can still be told apart during localization, in [nm]. This value depends on many different factors, such as the localization algorithm used or the velocity of the particles. This value is mostly relevant if a lot of merging and splitting is expected. Higher values will result in more merge and splitting, whereas lower values will suppress it.<br/>\n",
    "\n",
    "Nearest neighbor based analysis. Nearest neighbor analysis per frame of all localization files in a directory. The minimal nearest neighbor per file is extracted. Multiple files should be analyzed to find the minimal distance."
   ]
  },
  {
   "cell_type": "markdown",
   "metadata": {},
   "source": [
    "## Choose a localization software"
   ]
  },
  {
   "cell_type": "code",
   "execution_count": 1,
   "metadata": {},
   "outputs": [
    {
     "data": {
      "application/vnd.jupyter.widget-view+json": {
       "model_id": "cce9ceb4676e4d1088a8ad29225a7a7f",
       "version_major": 2,
       "version_minor": 0
      },
      "text/plain": [
       "RadioButtons(options=('ThunderSTORM', 'rapidSTORM'), value='ThunderSTORM')"
      ]
     },
     "metadata": {},
     "output_type": "display_data"
    }
   ],
   "source": [
    "from pySPT.widgets import widgetDiffLimit\n",
    "from pySPT.widgets import widgetColumnSort\n",
    "from pySPT.preAnalysis import diffLimit\n",
    "widget_diff_limit = widgetDiffLimit.WidgetDiffLimit(158, 256)\n",
    "display(widget_diff_limit.software_button)"
   ]
  },
  {
   "cell_type": "markdown",
   "metadata": {},
   "source": [
    "## Load\n",
    "Define directory of localization files. All localization files are loaded (csv for ThunderSTORM, txt for rapidSTORM). Tracked files (containing \"tracked\" in file name) are ignored."
   ]
  },
  {
   "cell_type": "code",
   "execution_count": 2,
   "metadata": {
    "scrolled": true
   },
   "outputs": [
    {
     "data": {
      "application/vnd.jupyter.widget-view+json": {
       "model_id": "d89eb681f61c4fc4ac7eeef38ae0ffbc",
       "version_major": 2,
       "version_minor": 0
      },
      "text/plain": [
       "Text(value='', description='Directory', placeholder='directory to be searched in', style=DescriptionStyle(desc…"
      ]
     },
     "metadata": {},
     "output_type": "display_data"
    },
    {
     "data": {
      "application/vnd.jupyter.widget-view+json": {
       "model_id": "2b8019022f35444cb24c4a0e5b3d926f",
       "version_major": 2,
       "version_minor": 0
      },
      "text/plain": [
       "Button(description='browse', style=ButtonStyle(), tooltip='browse for directory')"
      ]
     },
     "metadata": {},
     "output_type": "display_data"
    }
   ],
   "source": [
    "display(widget_diff_limit.dir_box, widget_diff_limit.dir_button)\n",
    "widget_diff_limit.dir_button.on_click(widget_diff_limit.open_dir)\n",
    "widget_diff_limit.dir_box.observe(widget_diff_limit.change_dir_box)"
   ]
  },
  {
   "cell_type": "markdown",
   "metadata": {},
   "source": [
    "## Parameter"
   ]
  },
  {
   "cell_type": "markdown",
   "metadata": {},
   "source": [
    "Define the pixel size in nm and number of pixels in a row on the camera chip."
   ]
  },
  {
   "cell_type": "code",
   "execution_count": 3,
   "metadata": {},
   "outputs": [
    {
     "data": {
      "application/vnd.jupyter.widget-view+json": {
       "model_id": "ba837d6bdd0042378b4873ac86138e31",
       "version_major": 2,
       "version_minor": 0
      },
      "text/plain": [
       "Text(value='158', description='Pixel size [nm]', placeholder='pixel size in nm', style=DescriptionStyle(descri…"
      ]
     },
     "metadata": {},
     "output_type": "display_data"
    },
    {
     "data": {
      "application/vnd.jupyter.widget-view+json": {
       "model_id": "4e1b5a0b286c4bb6a46d4711b0d6ea42",
       "version_major": 2,
       "version_minor": 0
      },
      "text/plain": [
       "Text(value='256', description='Number of pixels per row', placeholder='nmber of pixels per row', style=Descrip…"
      ]
     },
     "metadata": {},
     "output_type": "display_data"
    }
   ],
   "source": [
    "display(widget_diff_limit.px_size_box, widget_diff_limit.n_px_box)"
   ]
  },
  {
   "cell_type": "markdown",
   "metadata": {},
   "source": [
    "## Run"
   ]
  },
  {
   "cell_type": "code",
   "execution_count": 4,
   "metadata": {
    "scrolled": false
   },
   "outputs": [
    {
     "data": {
      "application/vnd.jupyter.widget-view+json": {
       "model_id": "ce6140bc38e04b0c99c829c27ceda84d",
       "version_major": 2,
       "version_minor": 0
      },
      "text/plain": [
       "Button(description='run', style=ButtonStyle(), tooltip='run the analysis')"
      ]
     },
     "metadata": {},
     "output_type": "display_data"
    }
   ],
   "source": [
    "diff_limit = diffLimit.DiffLimit()\n",
    "display(widget_diff_limit.run_button)\n",
    "def run_analysis(event):\n",
    "    widget_diff_limit.create_clear_output()\n",
    "    display(widget_diff_limit.run_button)\n",
    "    diff_limit.clear_object()\n",
    "    diff_limit.px_size, diff_limit.n_px = int(widget_diff_limit.px_size_box.value), int(widget_diff_limit.n_px_box.value)\n",
    "    if not widget_diff_limit.dir_box.value:\n",
    "        print(\"Define a directory for the localization files.\")   \n",
    "    else:\n",
    "        diff_limit.run_diff_limit(widget_diff_limit.dir_name, widget_diff_limit.determine_suffix())\n",
    "widget_diff_limit.run_button.on_click(run_analysis)"
   ]
  },
  {
   "cell_type": "markdown",
   "metadata": {},
   "source": [
    "## Save\n",
    "Define a directory and foldername. The nearest neighbors and the minimal nearest neighbor per localization file are saved as csv. Optionally the plot can be saved as .pdf."
   ]
  },
  {
   "cell_type": "code",
   "execution_count": 5,
   "metadata": {},
   "outputs": [
    {
     "data": {
      "application/vnd.jupyter.widget-view+json": {
       "model_id": "5597f18835c848b2af944c2051ee9d19",
       "version_major": 2,
       "version_minor": 0
      },
      "text/plain": [
       "Text(value='diff_limit_nn', description='Foldername', placeholder='name of folder', style=DescriptionStyle(des…"
      ]
     },
     "metadata": {},
     "output_type": "display_data"
    },
    {
     "data": {
      "application/vnd.jupyter.widget-view+json": {
       "model_id": "8bc3634874fa4e559448a5c40524deb1",
       "version_major": 2,
       "version_minor": 0
      },
      "text/plain": [
       "Text(value='', description='Directory', placeholder='Directory to save', style=DescriptionStyle(description_wi…"
      ]
     },
     "metadata": {},
     "output_type": "display_data"
    },
    {
     "data": {
      "application/vnd.jupyter.widget-view+json": {
       "model_id": "86c7a35fe43149c5aac556bbef6b5082",
       "version_major": 2,
       "version_minor": 0
      },
      "text/plain": [
       "Button(description='browse', style=ButtonStyle(), tooltip='browse for directory')"
      ]
     },
     "metadata": {},
     "output_type": "display_data"
    }
   ],
   "source": [
    "display(widget_diff_limit.box_foldername, widget_diff_limit.dir_box_save, widget_diff_limit.dir_button_save)\n",
    "widget_diff_limit.dir_button_save.on_click(widget_diff_limit.open_dir_save)\n",
    "widget_diff_limit.dir_box_save.observe(widget_diff_limit.change_dir_box_save)"
   ]
  },
  {
   "cell_type": "code",
   "execution_count": 6,
   "metadata": {},
   "outputs": [
    {
     "data": {
      "application/vnd.jupyter.widget-view+json": {
       "model_id": "bc463ec253054c8e8e57679d7a60cc34",
       "version_major": 2,
       "version_minor": 0
      },
      "text/plain": [
       "Checkbox(value=True, description='Save plot')"
      ]
     },
     "metadata": {},
     "output_type": "display_data"
    },
    {
     "data": {
      "application/vnd.jupyter.widget-view+json": {
       "model_id": "5b5b04962a20454a9227d44bed06bacc",
       "version_major": 2,
       "version_minor": 0
      },
      "text/plain": [
       "Button(description='save', style=ButtonStyle(), tooltip='save the results')"
      ]
     },
     "metadata": {},
     "output_type": "display_data"
    }
   ],
   "source": [
    "display(widget_diff_limit.save_fig_checkbox, widget_diff_limit.save_button)\n",
    "def save_analysis(event):\n",
    "    widget_diff_limit.create_clear_output()\n",
    "    display(widget_diff_limit.save_fig_checkbox, widget_diff_limit.save_button)\n",
    "    diff_limit.save(widget_diff_limit.dir_box_save.value, widget_diff_limit.box_foldername.value, diff_limit.file_names, widget_diff_limit.save_fig_checkbox.value)\n",
    "    print(\"Results are saved.\")\n",
    "widget_diff_limit.save_button.on_click(save_analysis)"
   ]
  }
 ],
 "metadata": {
  "hide_input": true,
  "kernelspec": {
   "display_name": "Python 3",
   "language": "python",
   "name": "python3"
  },
  "language_info": {
   "codemirror_mode": {
    "name": "ipython",
    "version": 3
   },
   "file_extension": ".py",
   "mimetype": "text/x-python",
   "name": "python",
   "nbconvert_exporter": "python",
   "pygments_lexer": "ipython3",
   "version": "3.7.6"
  }
 },
 "nbformat": 4,
 "nbformat_minor": 2
}
