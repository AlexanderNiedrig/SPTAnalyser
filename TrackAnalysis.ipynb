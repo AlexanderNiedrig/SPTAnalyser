{
 "cells": [
  {
   "cell_type": "markdown",
   "metadata": {},
   "source": [
    "# Analysis & saving of individual cells and their trajectories\n",
    "### Johanna Rahm, Sebastian Malkusch\n",
    "#### Research group Heilemann\n",
    "#### Institute for Physical and Theoretical Chemistry, Goethe University Frankfurt a.M."
   ]
  },
  {
   "cell_type": "markdown",
   "metadata": {},
   "source": [
    "## Load *.trc files"
   ]
  },
  {
   "cell_type": "markdown",
   "metadata": {},
   "source": [
    "Choose/insert a directory for the cell files to be searched in (e.g. F:\\Marburg\\single_colour_tracking\\resting). All *.trc  files in the directory will be loaded for the analysis."
   ]
  },
  {
   "cell_type": "code",
   "execution_count": 1,
   "metadata": {},
   "outputs": [
    {
     "data": {
      "application/vnd.jupyter.widget-view+json": {
       "model_id": "1cfe4087c2bb416bace9b49a9f1ae859",
       "version_major": 2,
       "version_minor": 0
      },
      "text/plain": [
       "Text(value='directory to be searched in', description='directory', placeholder='Type something', style=Descrip…"
      ]
     },
     "metadata": {},
     "output_type": "display_data"
    },
    {
     "data": {
      "application/vnd.jupyter.widget-view+json": {
       "model_id": "d71b1cae6e184c6b806a17613dc43bc5",
       "version_major": 2,
       "version_minor": 0
      },
      "text/plain": [
       "Button(description='browse', style=ButtonStyle(), tooltip='browse for directory')"
      ]
     },
     "metadata": {},
     "output_type": "display_data"
    }
   ],
   "source": [
    "from pySPT.widgets import widgetTrackAnalysis\n",
    "from pySPT.analysis import coverSlip\n",
    "from pySPT.analysis import trajectoryStatistics\n",
    "widget_track_analysis = widgetTrackAnalysis.WidgetTrackAnalysis()\n",
    "cover_slip = coverSlip.CoverSlip()\n",
    "trajectory_stats = trajectoryStatistics.TrajectoryStatistics()\n",
    "display(widget_track_analysis.dir_box, widget_track_analysis.dir_button)\n",
    "widget_track_analysis.dir_button.on_click(widget_track_analysis.open_dir)\n",
    "widget_track_analysis.dir_box.observe(widget_track_analysis.change_dir_box)"
   ]
  },
  {
   "cell_type": "markdown",
   "metadata": {},
   "source": [
    "Choose/insert the complete directory for the roi.log file which contains the cell sizes (e.g. F:\\Marburg\\single_colour_tracking\\resting\\roi.log)"
   ]
  },
  {
   "cell_type": "code",
   "execution_count": 2,
   "metadata": {},
   "outputs": [
    {
     "data": {
      "application/vnd.jupyter.widget-view+json": {
       "model_id": "0d3d1114feb44f80a70cf41fd031cfc3",
       "version_major": 2,
       "version_minor": 0
      },
      "text/plain": [
       "Text(value='path of roi', description='roi', placeholder='Type something', style=DescriptionStyle(description_…"
      ]
     },
     "metadata": {},
     "output_type": "display_data"
    },
    {
     "data": {
      "application/vnd.jupyter.widget-view+json": {
       "model_id": "d26590c2bdcb4112854d387f20b10d63",
       "version_major": 2,
       "version_minor": 0
      },
      "text/plain": [
       "Button(description='browse', style=ButtonStyle(), tooltip='browse for roi')"
      ]
     },
     "metadata": {},
     "output_type": "display_data"
    }
   ],
   "source": [
    "display(widget_track_analysis.roi_box, widget_track_analysis.roi_button)\n",
    "widget_track_analysis.roi_button.on_click(widget_track_analysis.open_roi)\n",
    "widget_track_analysis.roi_box.observe(widget_track_analysis.change_roi_box)"
   ]
  },
  {
   "cell_type": "markdown",
   "metadata": {},
   "source": [
    "## Run Analysis"
   ]
  },
  {
   "cell_type": "code",
   "execution_count": 3,
   "metadata": {},
   "outputs": [
    {
     "data": {
      "application/vnd.jupyter.widget-view+json": {
       "model_id": "84d9f1883ecb4060a6a65266721ccd18",
       "version_major": 2,
       "version_minor": 0
      },
      "text/plain": [
       "HBox(children=(IntProgress(value=0, max=3), HTML(value='')))"
      ]
     },
     "metadata": {},
     "output_type": "display_data"
    },
    {
     "data": {
      "application/vnd.jupyter.widget-view+json": {
       "model_id": "c2511dd6c4ec46d0b7b504042daec9fe",
       "version_major": 2,
       "version_minor": 0
      },
      "text/plain": [
       "HBox(children=(IntProgress(value=0, max=107), HTML(value='')))"
      ]
     },
     "metadata": {},
     "output_type": "display_data"
    },
    {
     "data": {
      "application/vnd.jupyter.widget-view+json": {
       "model_id": "cc16bf2836ad40248c81bec209fcd904",
       "version_major": 2,
       "version_minor": 0
      },
      "text/plain": [
       "HBox(children=(IntProgress(value=0, max=285), HTML(value='')))"
      ]
     },
     "metadata": {},
     "output_type": "display_data"
    },
    {
     "data": {
      "application/vnd.jupyter.widget-view+json": {
       "model_id": "578bc92a206e42f1b64347fceae7930e",
       "version_major": 2,
       "version_minor": 0
      },
      "text/plain": [
       "HBox(children=(IntProgress(value=0, max=214), HTML(value='')))"
      ]
     },
     "metadata": {},
     "output_type": "display_data"
    },
    {
     "name": "stdout",
     "output_type": "stream",
     "text": [
      "\n",
      "Analysis took 9.090017080307007 s\n"
     ]
    }
   ],
   "source": [
    "import warnings\n",
    "warnings.filterwarnings('ignore')\n",
    "display(widget_track_analysis.run_button)\n",
    "def run_analysis(event):\n",
    "    widget_track_analysis.create_clear_output()\n",
    "    widget_track_analysis.searchSubFolders(widget_track_analysis.dir_name)\n",
    "    if widget_track_analysis.got_dir and widget_track_analysis.got_roi:\n",
    "        cover_slip.roi_file = widget_track_analysis.roi_name\n",
    "        cover_slip.cell_files = widget_track_analysis.file_names        \n",
    "        cover_slip.create_cells()  \n",
    "    else:\n",
    "        widget_track_analysis.warning_file()\n",
    "    widget_track_analysis.cells = cover_slip.cells\n",
    "widget_track_analysis.run_button.on_click(run_analysis)"
   ]
  },
  {
   "cell_type": "markdown",
   "metadata": {},
   "source": [
    "## Filter for parameters"
   ]
  },
  {
   "cell_type": "code",
   "execution_count": 4,
   "metadata": {},
   "outputs": [],
   "source": [
    "for cell_index in range(0, len(cover_slip.cells)):\n",
    "    print(cover_slip.cells[cell_index].name)\n",
    "    "
   ]
  },
  {
   "cell_type": "markdown",
   "metadata": {},
   "source": [
    "## Plot diffusion histogram"
   ]
  },
  {
   "cell_type": "code",
   "execution_count": 5,
   "metadata": {},
   "outputs": [],
   "source": [
    "trajectory_stats.cell_trajectories = cover_slip.cell_trajectories\n",
    "trajectory_stats.get_index()\n",
    "trajectory_stats.create_init_filter_lst()"
   ]
  },
  {
   "cell_type": "markdown",
   "metadata": {},
   "source": [
    "## Choose trajectory to plot"
   ]
  },
  {
   "cell_type": "markdown",
   "metadata": {},
   "source": [
    "Choose a cell. If one wants to plot multiple times, choose a new cell and/or trajectory reload the plotting cell by clicking in the cell and pressing strg+enter."
   ]
  },
  {
   "cell_type": "code",
   "execution_count": 6,
   "metadata": {},
   "outputs": [
    {
     "data": {
      "application/vnd.jupyter.widget-view+json": {
       "model_id": "3e2935e760544f63881b8376afa2eb86",
       "version_major": 2,
       "version_minor": 0
      },
      "text/plain": [
       "Dropdown(description='Number:', options=(), value=None)"
      ]
     },
     "metadata": {},
     "output_type": "display_data"
    }
   ],
   "source": [
    "def dropdown(event):\n",
    "    widget_track_analysis.cell_options = widget_track_analysis.get_cell_names(cover_slip.cells)\n",
    "widget_track_analysis.run_button.on_click(dropdown)\n",
    "display(widget_track_analysis.drop_down_cells)"
   ]
  },
  {
   "cell_type": "markdown",
   "metadata": {},
   "source": [
    "Choose a trajectory."
   ]
  },
  {
   "cell_type": "code",
   "execution_count": 7,
   "metadata": {},
   "outputs": [
    {
     "data": {
      "application/vnd.jupyter.widget-view+json": {
       "model_id": "2b63df8811344489a0073b9b18934abd",
       "version_major": 2,
       "version_minor": 0
      },
      "text/plain": [
       "Dropdown(description='Number:', options=(), value=None)"
      ]
     },
     "metadata": {},
     "output_type": "display_data"
    }
   ],
   "source": [
    "def dropdown(event):      \n",
    "    for cell in cover_slip.cells:\n",
    "        if cell.name == widget_track_analysis.drop_down_cells.value:\n",
    "            target_cell = cover_slip.cells.index(cell)\n",
    "            trajectory_indexes = [i+1 for i, _ in enumerate(cover_slip.cell_trajectories[target_cell])]\n",
    "            widget_track_analysis.trajectory_options = trajectory_indexes\n",
    "            widget_track_analysis.drop_down_trajectories.options = widget_track_analysis.trajectory_options\n",
    "widget_track_analysis.drop_down_cells.observe(dropdown)\n",
    "display(widget_track_analysis.drop_down_trajectories)"
   ]
  },
  {
   "cell_type": "code",
   "execution_count": 8,
   "metadata": {},
   "outputs": [
    {
     "data": {
      "application/vnd.jupyter.widget-view+json": {
       "model_id": "46c44134d75d4f0ba296505c94adc369",
       "version_major": 2,
       "version_minor": 0
      },
      "text/plain": [
       "Button(description='plot', style=ButtonStyle(), tooltip='plot chosen trajectory')"
      ]
     },
     "metadata": {},
     "output_type": "display_data"
    }
   ],
   "source": [
    "def plot_particle(event):\n",
    "    widget_track_analysis.create_clear_output()\n",
    "    cover_slip.plot_trajectory(widget_track_analysis.drop_down_cells.value, widget_track_analysis.drop_down_trajectories.value)\n",
    "display(widget_track_analysis.plot_button)\n",
    "widget_track_analysis.plot_button.on_click(plot_particle)"
   ]
  },
  {
   "cell_type": "markdown",
   "metadata": {},
   "source": [
    "## Save"
   ]
  },
  {
   "cell_type": "markdown",
   "metadata": {},
   "source": [
    "For each cell a .h5 file will be created, containing all information of the trajectories (unfiltered)."
   ]
  },
  {
   "cell_type": "code",
   "execution_count": 9,
   "metadata": {
    "scrolled": true
   },
   "outputs": [
    {
     "data": {
      "application/vnd.jupyter.widget-view+json": {
       "model_id": "e90c9bb130294320be3d5aa7ad2584ae",
       "version_major": 2,
       "version_minor": 0
      },
      "text/plain": [
       "Button(description='save', style=ButtonStyle(), tooltip='save entire analysis')"
      ]
     },
     "metadata": {},
     "output_type": "display_data"
    },
    {
     "name": "stdout",
     "output_type": "stream",
     "text": [
      "\n",
      "\n",
      "\n"
     ]
    }
   ],
   "source": [
    "def save_analysis(event):\n",
    "    from pySPT.widgets import hdf5\n",
    "    import numpy as np\n",
    "    from pySPT.analysis import trackAnalysis\n",
    "    \n",
    "    for cell_index in range(0, len(cover_slip.cells)):\n",
    "        h5 = hdf5.Hdf5()\n",
    "        print(h5.trc_file_hdf5)\n",
    "        h5.create_h5(cover_slip.cell_files[cell_index])\n",
    "\n",
    "        track_analysis = trackAnalysis.TrackAnalysis()\n",
    "        h5 = hdf5.Hdf5()\n",
    "        h5.create_h5(cover_slip.cell_files[cell_index])\n",
    "        cell = cover_slip.cells[cell_index]\n",
    "        one_trajectory = cover_slip.cell_trajectories[cell_index][0]\n",
    "        h5.data_settings(one_trajectory.dt, cell.pixel_size, cell.pixel_amount, one_trajectory.tau_threshold, one_trajectory.fit_area, one_trajectory.dof, one_trajectory.D_min)\n",
    "\n",
    "        h5.trc(np.shape(cell.trc_file), cell.trc_file[:,0], cell.trc_file[:,1], cell.trc_file[:,2], cell.trc_file[:,3], cell.trc_file[:,4], cell.trc_file[:,5])\n",
    "        \n",
    "        for trajectory in cover_slip.cell_trajectories[cell_index]:\n",
    "            plot = track_analysis.save_plots(trajectory)\n",
    "            h5.data_diffusion_plots(plot[0], plot[1], plot[2], plot[3], plot[4])\n",
    "        for trajectory in cover_slip.cell_trajectories[cell_index]:\n",
    "            plot = track_analysis.save_plots(trajectory)\n",
    "            h5.data_rossier_plots(plot[0], plot[5], plot[6], plot[7], plot[8])\n",
    "        for trajectory in cover_slip.cell_trajectories[cell_index]:\n",
    "            h5.msd(trajectory.trajectory_number, trajectory.times, trajectory.MSDs)\n",
    "        \n",
    "        track_analysis.save_diff(cover_slip.cell_trajectories[cell_index])\n",
    "        diff_info = track_analysis.diffusion_info\n",
    "        h5.data_diffusion_info(track_analysis.number_of_trajectories, diff_info[:,0], diff_info[:,1], diff_info[:,2], diff_info[:,3], diff_info[:,4], diff_info[:,5])\n",
    "\n",
    "        track_analysis.save_rossier(cover_slip.cell_trajectories[cell_index])\n",
    "        rossier_info = track_analysis.rossier_info\n",
    "        h5.data_rossier_info(track_analysis.number_of_trajectories, rossier_info[:,0],  rossier_info[:,1],  rossier_info[:,2],  rossier_info[:,3],  rossier_info[:,4],  rossier_info[:,5],  rossier_info[:,6],  rossier_info[:,7],  rossier_info[:,8],  rossier_info[:,9], rossier_info[:,10])\n",
    "        \n",
    "        h5.size(cell.size)\n",
    "display(widget_track_analysis.save_button)\n",
    "widget_track_analysis.save_button.on_click(save_analysis)"
   ]
  }
 ],
 "metadata": {
  "kernelspec": {
   "display_name": "Python 3",
   "language": "python",
   "name": "python3"
  },
  "language_info": {
   "codemirror_mode": {
    "name": "ipython",
    "version": 3
   },
   "file_extension": ".py",
   "mimetype": "text/x-python",
   "name": "python",
   "nbconvert_exporter": "python",
   "pygments_lexer": "ipython3",
   "version": "3.7.1"
  }
 },
 "nbformat": 4,
 "nbformat_minor": 2
}
