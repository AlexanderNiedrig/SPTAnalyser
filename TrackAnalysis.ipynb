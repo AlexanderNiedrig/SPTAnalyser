{
 "cells": [
  {
   "cell_type": "markdown",
   "metadata": {},
   "source": [
    "## Load *.trc files"
   ]
  },
  {
   "cell_type": "markdown",
   "metadata": {},
   "source": [
    "Choose/insert a directory for the cell files to be searched in (e.g. F:\\Marburg\\single_colour_tracking\\resting)"
   ]
  },
  {
   "cell_type": "code",
   "execution_count": 1,
   "metadata": {},
   "outputs": [
    {
     "data": {
      "application/vnd.jupyter.widget-view+json": {
       "model_id": "bee08dfaaa714b2483eb16db59bdf087",
       "version_major": 2,
       "version_minor": 0
      },
      "text/plain": [
       "Text(value='C:\\\\Users\\\\pcoffice37\\\\Documents\\\\testing_file_search', description='directory', placeholder='Type…"
      ]
     },
     "metadata": {},
     "output_type": "display_data"
    },
    {
     "data": {
      "application/vnd.jupyter.widget-view+json": {
       "model_id": "5120101756464e7286ee57fdef2183b4",
       "version_major": 2,
       "version_minor": 0
      },
      "text/plain": [
       "Button(description='browse', style=ButtonStyle(), tooltip='browse for directory')"
      ]
     },
     "metadata": {},
     "output_type": "display_data"
    }
   ],
   "source": [
    "from pySPT.widgets import widgetTrackAnalysis\n",
    "from pySPT.analysis import coverSlip\n",
    "from pySPT.analysis import trajectoryStatistics\n",
    "widget_track_analysis = widgetTrackAnalysis.WidgetTrackAnalysis()\n",
    "cover_slip = coverSlip.CoverSlip()\n",
    "trajectory_stats = trajectoryStatistics.TrajectoryStatistics()\n",
    "display(widget_track_analysis.dir_box, widget_track_analysis.dir_button)\n",
    "widget_track_analysis.dir_button.on_click(widget_track_analysis.open_dir)\n",
    "widget_track_analysis.dir_box.observe(widget_track_analysis.change_dir_box)"
   ]
  },
  {
   "cell_type": "markdown",
   "metadata": {},
   "source": [
    "Choose/insert the complete directory for the roi.log file which contains the cell sizes (e.g. F:\\Marburg\\single_colour_tracking\\resting\\roi.log)"
   ]
  },
  {
   "cell_type": "code",
   "execution_count": 2,
   "metadata": {},
   "outputs": [
    {
     "data": {
      "application/vnd.jupyter.widget-view+json": {
       "model_id": "cf0430c606344e65ab53ca7734842f7b",
       "version_major": 2,
       "version_minor": 0
      },
      "text/plain": [
       "Text(value='F:\\\\Marburg\\\\single_colour_tracking\\\\resting\\\\roi.log', description='roi', placeholder='Type somet…"
      ]
     },
     "metadata": {},
     "output_type": "display_data"
    },
    {
     "data": {
      "application/vnd.jupyter.widget-view+json": {
       "model_id": "b579e6d8c8bb4a30a4f7a18fc7d9a98d",
       "version_major": 2,
       "version_minor": 0
      },
      "text/plain": [
       "Button(description='browse', style=ButtonStyle(), tooltip='browse for roi')"
      ]
     },
     "metadata": {},
     "output_type": "display_data"
    }
   ],
   "source": [
    "display(widget_track_analysis.roi_box, widget_track_analysis.roi_button)\n",
    "widget_track_analysis.roi_button.on_click(widget_track_analysis.open_roi)\n",
    "widget_track_analysis.roi_box.observe(widget_track_analysis.change_roi_box)"
   ]
  },
  {
   "cell_type": "markdown",
   "metadata": {},
   "source": [
    "## Run Analysis"
   ]
  },
  {
   "cell_type": "code",
   "execution_count": 3,
   "metadata": {},
   "outputs": [],
   "source": [
    "display(widget_track_analysis.run_button)\n",
    "def run_analysis(event):\n",
    "    widget_track_analysis.create_clear_output()\n",
    "    widget_track_analysis.searchSubFolders(widget_track_analysis.dir_name)\n",
    "    if widget_track_analysis.got_dir and widget_track_analysis.got_roi:\n",
    "        cover_slip.roi_file = widget_track_analysis.roi_name\n",
    "        cover_slip.cell_files = widget_track_analysis.file_names\n",
    "        cover_slip.create_cells()   \n",
    "    else:\n",
    "        widget_track_analysis.warning_file()\n",
    "    widget_track_analysis.cells = cover_slip.cells\n",
    "widget_track_analysis.run_button.on_click(run_analysis)"
   ]
  },
  {
   "cell_type": "markdown",
   "metadata": {},
   "source": [
    "## Filter for parameters"
   ]
  },
  {
   "cell_type": "markdown",
   "metadata": {},
   "source": [
    "## Plot diffusion histogram"
   ]
  },
  {
   "cell_type": "code",
   "execution_count": 4,
   "metadata": {},
   "outputs": [],
   "source": [
    "trajectory_stats.cell_trajectories = cover_slip.cell_trajectories\n",
    "trajectory_stats.get_index()\n",
    "trajectory_stats.create_init_filter_lst()"
   ]
  },
  {
   "cell_type": "markdown",
   "metadata": {},
   "source": [
    "## Choose trajectory to plot"
   ]
  },
  {
   "cell_type": "markdown",
   "metadata": {},
   "source": [
    "Choose a cell."
   ]
  },
  {
   "cell_type": "code",
   "execution_count": 5,
   "metadata": {},
   "outputs": [
    {
     "data": {
      "application/vnd.jupyter.widget-view+json": {
       "model_id": "a6f0cbfd90c84067ad981f0c5176f584",
       "version_major": 2,
       "version_minor": 0
      },
      "text/plain": [
       "Dropdown(description='Number:', options=(), value=None)"
      ]
     },
     "metadata": {},
     "output_type": "display_data"
    }
   ],
   "source": [
    "def dropdown(event):\n",
    "    widget_track_analysis.cell_options = widget_track_analysis.get_cell_names(cover_slip.cells)\n",
    "widget_track_analysis.run_button.on_click(dropdown)\n",
    "display(widget_track_analysis.drop_down_cells)"
   ]
  },
  {
   "cell_type": "markdown",
   "metadata": {},
   "source": [
    "Choose a trajectory."
   ]
  },
  {
   "cell_type": "code",
   "execution_count": 6,
   "metadata": {},
   "outputs": [
    {
     "data": {
      "application/vnd.jupyter.widget-view+json": {
       "model_id": "e2e77bd61bd045d7be14eb2fa6767242",
       "version_major": 2,
       "version_minor": 0
      },
      "text/plain": [
       "Dropdown(description='Number:', options=(), value=None)"
      ]
     },
     "metadata": {},
     "output_type": "display_data"
    }
   ],
   "source": [
    "def dropdown(event):      \n",
    "    for cell in cover_slip.cells:\n",
    "        if cell.name == widget_track_analysis.drop_down_cells.value:\n",
    "            target_cell = cover_slip.cells.index(cell)\n",
    "            trajectory_indexes = [i+1 for i, _ in enumerate(cover_slip.cell_trajectories[target_cell])]\n",
    "            widget_track_analysis.trajectory_options = trajectory_indexes\n",
    "            widget_track_analysis.drop_down_trajectories.options = widget_track_analysis.trajectory_options\n",
    "widget_track_analysis.drop_down_cells.observe(dropdown)\n",
    "display(widget_track_analysis.drop_down_trajectories)"
   ]
  },
  {
   "cell_type": "code",
   "execution_count": 7,
   "metadata": {},
   "outputs": [
    {
     "data": {
      "application/vnd.jupyter.widget-view+json": {
       "model_id": "1950a5c42a79433192f0e4516dea593c",
       "version_major": 2,
       "version_minor": 0
      },
      "text/plain": [
       "Button(description='plot', style=ButtonStyle(), tooltip='plot chosen trajectory')"
      ]
     },
     "metadata": {},
     "output_type": "display_data"
    }
   ],
   "source": [
    "def plot_particle(event):\n",
    "    widget_track_analysis.create_clear_output()\n",
    "    cover_slip.plot_trajectory(widget_track_analysis.drop_down_cells.value, widget_track_analysis.drop_down_trajectories.value)\n",
    "display(widget_track_analysis.plot_button)\n",
    "widget_track_analysis.plot_button.on_click(plot_particle)"
   ]
  },
  {
   "cell_type": "markdown",
   "metadata": {},
   "source": [
    "## Save"
   ]
  },
  {
   "cell_type": "code",
   "execution_count": 8,
   "metadata": {
    "scrolled": true
   },
   "outputs": [
    {
     "data": {
      "application/vnd.jupyter.widget-view+json": {
       "model_id": "1db41f061646498a89babf8cfb1bf381",
       "version_major": 2,
       "version_minor": 0
      },
      "text/plain": [
       "Button(description='save', style=ButtonStyle(), tooltip='save entire analysis')"
      ]
     },
     "metadata": {},
     "output_type": "display_data"
    }
   ],
   "source": [
    "def save_analysis(event):\n",
    "    from pySPT.widgets import hdf5\n",
    "    h5 = hdf5.Hdf5()\n",
    "    h5.create_h5_file()\n",
    "    h5.groups()\n",
    "    x = cover_slip.cell_trajectories[0][0]\n",
    "    c = cover_slip.cells[0]\n",
    "    h5.data_settings(x.dt, c.pixel_size, x.tau_threshold, x.fit_area, x.dof, x.D_min)\n",
    "    from pySPT.analysis import trackAnalysis\n",
    "    track_analysis = trackAnalysis.TrackAnalysis()\n",
    "    track_analysis.save_diff(cover_slip.cell_trajectories[0])\n",
    "    track_analysis.save_rossier(cover_slip.cell_trajectories[0])\n",
    "    diff_info = track_analysis.diffusion_info\n",
    "    rossier_info = track_analysis.rossier_info\n",
    "    h5.data_diffusion_info(track_analysis.number_of_trajectories, diff_info[:,0], diff_info[:,1], diff_info[:,2], diff_info[:,3], diff_info[:,4], diff_info[:,5])\n",
    "    h5.data_rossier_info(track_analysis.number_of_trajectories, rossier_info[:,0],  rossier_info[:,1],  rossier_info[:,2],  rossier_info[:,3],  rossier_info[:,4],  rossier_info[:,5],  rossier_info[:,6],  rossier_info[:,7],  rossier_info[:,8],  rossier_info[:,9], rossier_info[:,10])\n",
    "display(widget_track_analysis.save_button)\n",
    "widget_track_analysis.save_button.on_click(save_analysis)"
   ]
  }
 ],
 "metadata": {
  "kernelspec": {
   "display_name": "Python 3",
   "language": "python",
   "name": "python3"
  },
  "language_info": {
   "codemirror_mode": {
    "name": "ipython",
    "version": 3
   },
   "file_extension": ".py",
   "mimetype": "text/x-python",
   "name": "python",
   "nbconvert_exporter": "python",
   "pygments_lexer": "ipython3",
   "version": "3.7.1"
  }
 },
 "nbformat": 4,
 "nbformat_minor": 2
}
