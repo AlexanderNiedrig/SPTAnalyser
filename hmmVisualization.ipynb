{
 "cells": [
  {
   "cell_type": "markdown",
   "metadata": {
    "hideCode": true,
    "hidePrompt": true
   },
   "source": [
    "# Visualize Hmm Results\n",
    "### Johanna Rahm, Sebastian Malkusch\n",
    "#### Research group Heilemann\n",
    "#### Institute for Physical and Theoretical Chemistry, Goethe University Frankfurt a.M.\n",
    "Get an visualized overview of the hidden markov modeling results."
   ]
  },
  {
   "cell_type": "markdown",
   "metadata": {
    "hideCode": true,
    "hidePrompt": true
   },
   "source": [
    "## Load merged .h5 files"
   ]
  },
  {
   "cell_type": "markdown",
   "metadata": {},
   "source": [
    "A merged .h5 file is the result of the MergeHdf5 Jupyter Notebook. It comprises the hmm results as well as the type analysis results. All .5 files of the chosen directory will be loaded."
   ]
  },
  {
   "cell_type": "code",
   "execution_count": 1,
   "metadata": {
    "hideCode": true,
    "hidePrompt": true
   },
   "outputs": [
    {
     "data": {
      "application/vnd.jupyter.widget-view+json": {
       "model_id": "ddea08f2109d4e62bedc373af6e2a89c",
       "version_major": 2,
       "version_minor": 0
      },
      "text/plain": [
       "Text(value='directory', description='Directory', placeholder='Type something', style=DescriptionStyle(descript…"
      ]
     },
     "metadata": {},
     "output_type": "display_data"
    },
    {
     "data": {
      "application/vnd.jupyter.widget-view+json": {
       "model_id": "5035235eb74b498ea339caa6a9ceaf20",
       "version_major": 2,
       "version_minor": 0
      },
      "text/plain": [
       "Button(description='browse', style=ButtonStyle(), tooltip='browse for directory')"
      ]
     },
     "metadata": {},
     "output_type": "display_data"
    }
   ],
   "source": [
    "from pySPT.widgets.widgetNotebooks import load_merged_h5\n",
    "from pySPT.widgets import widgetHmmVis\n",
    "from pySPT.hmm import hmmVisualization\n",
    "import warnings\n",
    "warnings.filterwarnings('ignore')\n",
    "widget_hmm_vis = widgetHmmVis.WidgetHmmVis()\n",
    "hmm_vis = hmmVisualization.HmmVisualization()\n",
    "display(widget_hmm_vis.load_dir_box, widget_hmm_vis.load_dir_button)\n",
    "widget_hmm_vis.load_dir_button.on_click(widget_hmm_vis.open_dir)\n",
    "widget_hmm_vis.load_dir_box.observe(widget_hmm_vis.change_load_dir_box)"
   ]
  },
  {
   "cell_type": "code",
   "execution_count": 2,
   "metadata": {
    "hideCode": true,
    "hidePrompt": true
   },
   "outputs": [
    {
     "data": {
      "application/vnd.jupyter.widget-view+json": {
       "model_id": "6f46a78b92dd486db5834326157b4339",
       "version_major": 2,
       "version_minor": 0
      },
      "text/plain": [
       "Button(description='plot', style=ButtonStyle(), tooltip='click to plot')"
      ]
     },
     "metadata": {},
     "output_type": "display_data"
    }
   ],
   "source": [
    "def event(blub):\n",
    "    widget_hmm_vis.search_sub_folders(widget_hmm_vis.load_dir_box.value)\n",
    "    hmm_vis.cells = load_merged_h5(widget_hmm_vis.file_names)\n",
    "    hmm_vis.run()\n",
    "display(widget_hmm_vis.plot_button)\n",
    "widget_hmm_vis.plot_button.on_click(event)"
   ]
  },
  {
   "cell_type": "markdown",
   "metadata": {},
   "source": [
    "## Save results"
   ]
  },
  {
   "cell_type": "markdown",
   "metadata": {},
   "source": [
    "Choose a directory and a folder name. A .h5 file with the statistics and the informations of all plots will be saved. If the \"save plots\" box is checked, all plots will be saved as .png."
   ]
  },
  {
   "cell_type": "code",
   "execution_count": 3,
   "metadata": {
    "hideCode": true,
    "hidePrompt": true
   },
   "outputs": [
    {
     "data": {
      "application/vnd.jupyter.widget-view+json": {
       "model_id": "b4eb6a800eba44b69749230305ec3c74",
       "version_major": 2,
       "version_minor": 0
      },
      "text/plain": [
       "Text(value='', description='Insert directory', placeholder='Type something', style=DescriptionStyle(descriptio…"
      ]
     },
     "metadata": {},
     "output_type": "display_data"
    },
    {
     "data": {
      "application/vnd.jupyter.widget-view+json": {
       "model_id": "cc02349a17a141d696a277e05c2a8856",
       "version_major": 2,
       "version_minor": 0
      },
      "text/plain": [
       "Button(description='browse', style=ButtonStyle(), tooltip='browse for directory')"
      ]
     },
     "metadata": {},
     "output_type": "display_data"
    },
    {
     "data": {
      "application/vnd.jupyter.widget-view+json": {
       "model_id": "db2ed193d9664015a20ff8f69c13e811",
       "version_major": 2,
       "version_minor": 0
      },
      "text/plain": [
       "Text(value='190624_hmm_results', description='Folder name', placeholder='name of folder', style=DescriptionSty…"
      ]
     },
     "metadata": {},
     "output_type": "display_data"
    },
    {
     "data": {
      "application/vnd.jupyter.widget-view+json": {
       "model_id": "470dfded65bc41349a09c832b072b3c2",
       "version_major": 2,
       "version_minor": 0
      },
      "text/plain": [
       "Checkbox(value=True, description='Save plots')"
      ]
     },
     "metadata": {},
     "output_type": "display_data"
    },
    {
     "data": {
      "application/vnd.jupyter.widget-view+json": {
       "model_id": "2845ddade0c84d30bd0107aba3f875b5",
       "version_major": 2,
       "version_minor": 0
      },
      "text/plain": [
       "Button(description='save', style=ButtonStyle(), tooltip='click to save')"
      ]
     },
     "metadata": {},
     "output_type": "display_data"
    }
   ],
   "source": [
    "def saving(event):\n",
    "    if not widget_hmm_vis.save_dir_name:\n",
    "        print(\"Please insert a directory\")\n",
    "    else:\n",
    "        widget_hmm_vis.create_clear_output()\n",
    "        hmm_vis.save_dir, hmm_vis.save_folder_name, hmm_vis.save_plots = widget_hmm_vis.save_dir_name, widget_hmm_vis.save_folder_name_box.value, widget_hmm_vis.save_plots_checkbox.value\n",
    "        if hmm_vis.save_plots:\n",
    "            hmm_vis.run_save_plots()\n",
    "display(widget_hmm_vis.save_dir_box, widget_hmm_vis.save_dir_button, widget_hmm_vis.save_folder_name_box, widget_hmm_vis.save_plots_checkbox, widget_hmm_vis.save_button)\n",
    "widget_hmm_vis.save_dir_button.on_click(widget_hmm_vis.save_open_dir)\n",
    "widget_hmm_vis.save_button.on_click(saving)"
   ]
  }
 ],
 "metadata": {
  "hide_code_all_hidden": true,
  "kernelspec": {
   "display_name": "Python 3",
   "language": "python",
   "name": "python3"
  },
  "language_info": {
   "codemirror_mode": {
    "name": "ipython",
    "version": 3
   },
   "file_extension": ".py",
   "mimetype": "text/x-python",
   "name": "python",
   "nbconvert_exporter": "python",
   "pygments_lexer": "ipython3",
   "version": "3.7.3"
  }
 },
 "nbformat": 4,
 "nbformat_minor": 2
}
