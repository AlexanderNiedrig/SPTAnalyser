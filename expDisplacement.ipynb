{
 "cells": [
  {
   "cell_type": "markdown",
   "metadata": {},
   "source": [
    "# Determination of Expected Displacement\n",
    "### Johanna Rahm, Sebastian Malkusch\n",
    "#### Research group Heilemann\n",
    "#### Institute for Physical and Theoretical Chemistry, Goethe University Frankfurt a.M."
   ]
  },
  {
   "cell_type": "markdown",
   "metadata": {},
   "source": [
    "## Load file\n",
    "\n",
    "Insert the full file name & direcory path of the tracked seg file with .txt ending or browse for it. (Example path: F:\\Marburg\\single_colour_tracking\\resting\\160404_CS5_Cell1\\cell_1_MMStack_Pos0.ome.tif.tracked.seg.txt)\n"
   ]
  },
  {
   "cell_type": "code",
   "execution_count": 1,
   "metadata": {},
   "outputs": [
    {
     "data": {
      "application/vnd.jupyter.widget-view+json": {
       "model_id": "179d9640a1024cfc9d63d5edd846ead8",
       "version_major": 2,
       "version_minor": 0
      },
      "text/plain": [
       "Text(value='path', description='Complete path', placeholder='Type something', style=DescriptionStyle(descripti…"
      ]
     },
     "metadata": {},
     "output_type": "display_data"
    },
    {
     "data": {
      "application/vnd.jupyter.widget-view+json": {
       "model_id": "1efee94e336441edbd1475c8fc0ad3b8",
       "version_major": 2,
       "version_minor": 0
      },
      "text/plain": [
       "Button(description='browse', style=ButtonStyle(), tooltip='browse for file')"
      ]
     },
     "metadata": {},
     "output_type": "display_data"
    }
   ],
   "source": [
    "from pySPT.widgets import widgetDirectoryStructure\n",
    "from pySPT.widgets import widgetColumnSort\n",
    "from pySPT.widgets import widgetExpDisp\n",
    "from pySPT.preAnalysis import expDisplacement\n",
    "widget_exp_disp = widgetExpDisp.WidgetExpDisp()\n",
    "exp_displacement = expDisplacement.ExpDisplacement()\n",
    "widget_dir_structure = widgetDirectoryStructure.WidgetDirStructure()\n",
    "display(widget_exp_disp.file_text_box, widget_exp_disp.file_button)\n",
    "widget_exp_disp.file_button.on_click(widget_exp_disp.open_file)\n",
    "widget_exp_disp.file_text_box.observe(widget_exp_disp.change_file_box)"
   ]
  },
  {
   "cell_type": "markdown",
   "metadata": {},
   "source": [
    "## Run analysis"
   ]
  },
  {
   "cell_type": "code",
   "execution_count": 2,
   "metadata": {
    "scrolled": true
   },
   "outputs": [
    {
     "data": {
      "application/vnd.jupyter.widget-view+json": {
       "model_id": "5f6d067918b841e3bf1e2218c94b4859",
       "version_major": 2,
       "version_minor": 0
      },
      "text/plain": [
       "Button(description='run', style=ButtonStyle(), tooltip='run the analysis')"
      ]
     },
     "metadata": {},
     "output_type": "display_data"
    }
   ],
   "source": [
    "display(widget_exp_disp.run_button)\n",
    "def run_analysis(event):\n",
    "    widget_exp_disp.create_clear_output()\n",
    "    display(widget_exp_disp.run_button)\n",
    "    if widget_exp_disp.got_file_name:\n",
    "        widget_column_sort = widgetColumnSort.WidgetColumnSort(widget_exp_disp.file_text_box.value, \"swift\", ['\"track_id\"', '\"mjd\"', '\"mjd_n\"'])\n",
    "        widget_column_sort.check_header()\n",
    "        if widget_column_sort.correct_header:\n",
    "            widget_column_sort.run_column_sort()\n",
    "            exp_displacement.file_name = widget_exp_disp.file_text_box.value\n",
    "            exp_displacement.column_order = widget_column_sort.column_order\n",
    "            exp_displacement.run_exp_displacement()\n",
    "        else:\n",
    "            print(\"A file with false columns was loaded.\")\n",
    "    else:\n",
    "        print(\"No file was loaded.\")\n",
    "widget_exp_disp.run_button.on_click(run_analysis)"
   ]
  },
  {
   "cell_type": "markdown",
   "metadata": {},
   "source": [
    "## Save analysis"
   ]
  },
  {
   "cell_type": "markdown",
   "metadata": {},
   "source": [
    "The results will be saved in a .txt file with the expected displacement & columns: mjd [nm], fraction."
   ]
  },
  {
   "cell_type": "code",
   "execution_count": 3,
   "metadata": {},
   "outputs": [
    {
     "data": {
      "application/vnd.jupyter.widget-view+json": {
       "model_id": "87703beee28744b7bb02c021fb2ef1f2",
       "version_major": 2,
       "version_minor": 0
      },
      "text/plain": [
       "Button(description='save', style=ButtonStyle(), tooltip='save the results')"
      ]
     },
     "metadata": {},
     "output_type": "display_data"
    }
   ],
   "source": [
    "display(widget_exp_disp.save_button)\n",
    "def save_analysis(event):\n",
    "    widget_exp_disp.create_clear_output()\n",
    "    display(widget_exp_disp.save_button)\n",
    "    widget_dir_structure.name_handling(widget_exp_disp.file_name)\n",
    "    widget_dir_structure.create_raw_base_name()\n",
    "    widget_dir_structure.sub_folder = \"\\\\preAnalysis\"\n",
    "    widget_dir_structure.create_folder()\n",
    "    exp_displacement.save_exp_displacement(widget_dir_structure.sub_folder_dir, widget_dir_structure.raw_base_name)\n",
    "widget_exp_disp.save_button.on_click(save_analysis)"
   ]
  }
 ],
 "metadata": {
  "kernelspec": {
   "display_name": "Python 3",
   "language": "python",
   "name": "python3"
  },
  "language_info": {
   "codemirror_mode": {
    "name": "ipython",
    "version": 3
   },
   "file_extension": ".py",
   "mimetype": "text/x-python",
   "name": "python",
   "nbconvert_exporter": "python",
   "pygments_lexer": "ipython3",
   "version": "3.7.1"
  }
 },
 "nbformat": 4,
 "nbformat_minor": 2
}
