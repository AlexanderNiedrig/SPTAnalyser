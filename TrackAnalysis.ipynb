{
 "cells": [
  {
   "cell_type": "markdown",
   "metadata": {
    "hideCode": true,
    "hidePrompt": true
   },
   "source": [
    "# Analysis & *.h5 saving of cells and backgrounds\n",
    "### Johanna Rahm, Sebastian Malkusch\n",
    "#### Research group Heilemann\n",
    "#### Institute for Physical and Theoretical Chemistry, Goethe University Frankfurt a.M."
   ]
  },
  {
   "cell_type": "markdown",
   "metadata": {
    "hideCode": true,
    "hidePrompt": true
   },
   "source": [
    "## Load *.trc files"
   ]
  },
  {
   "cell_type": "markdown",
   "metadata": {
    "hideCode": true,
    "hidePrompt": true
   },
   "source": [
    "Choose/insert a directory for the cell files to be searched in (e.g. F:\\Marburg\\single_colour_tracking\\resting). All *.trc  files in the directory will be loaded for the analysis."
   ]
  },
  {
   "cell_type": "code",
   "execution_count": 1,
   "metadata": {
    "hideCode": true,
    "hidePrompt": true
   },
   "outputs": [
    {
     "data": {
      "application/vnd.jupyter.widget-view+json": {
       "model_id": "20765da87ac24d06b778083888582e9e",
       "version_major": 2,
       "version_minor": 0
      },
      "text/plain": [
       "Text(value='directory to be searched in', description='directory', placeholder='Type something', style=Descrip…"
      ]
     },
     "metadata": {},
     "output_type": "display_data"
    },
    {
     "data": {
      "application/vnd.jupyter.widget-view+json": {
       "model_id": "8a4a94695df54d83aadeda83bf0b1a5b",
       "version_major": 2,
       "version_minor": 0
      },
      "text/plain": [
       "Button(description='browse', style=ButtonStyle(), tooltip='browse for directory')"
      ]
     },
     "metadata": {},
     "output_type": "display_data"
    }
   ],
   "source": [
    "from pySPT.widgets.widgetNotebooks import init_save_track_analysis\n",
    "from pySPT.widgets import hdf5\n",
    "from pySPT.widgets import widgetTrackAnalysis\n",
    "from pySPT.analysis import coverSlip\n",
    "from pySPT.analysis import trackAnalysis\n",
    "from tqdm import tqdm_notebook as tqdm\n",
    "import warnings\n",
    "widget_track_analysis = widgetTrackAnalysis.WidgetTrackAnalysis()\n",
    "track_analysis = trackAnalysis.TrackAnalysis()\n",
    "cover_slip = coverSlip.CoverSlip()\n",
    "display(widget_track_analysis.dir_box, widget_track_analysis.dir_button)\n",
    "widget_track_analysis.dir_button.on_click(widget_track_analysis.open_dir)\n",
    "widget_track_analysis.dir_box.observe(widget_track_analysis.change_dir_box)"
   ]
  },
  {
   "cell_type": "markdown",
   "metadata": {
    "hideCode": true,
    "hidePrompt": true
   },
   "source": [
    "Choose/insert the complete directory for the roi.log file which contains the cell sizes (e.g. F:\\Marburg\\single_colour_tracking\\resting\\roi.log). If no cell size was determined, the camera chip size will be set as the size."
   ]
  },
  {
   "cell_type": "code",
   "execution_count": 2,
   "metadata": {
    "hideCode": true,
    "hidePrompt": true
   },
   "outputs": [
    {
     "data": {
      "application/vnd.jupyter.widget-view+json": {
       "model_id": "0d86c9fed56e4ed68cece119c24b3fc8",
       "version_major": 2,
       "version_minor": 0
      },
      "text/plain": [
       "Text(value='path of roi', description='roi', placeholder='Type something', style=DescriptionStyle(description_…"
      ]
     },
     "metadata": {},
     "output_type": "display_data"
    },
    {
     "data": {
      "application/vnd.jupyter.widget-view+json": {
       "model_id": "bba98376eee84d7da806a723b7db83f2",
       "version_major": 2,
       "version_minor": 0
      },
      "text/plain": [
       "Button(description='browse', style=ButtonStyle(), tooltip='browse for roi')"
      ]
     },
     "metadata": {},
     "output_type": "display_data"
    }
   ],
   "source": [
    "display(widget_track_analysis.roi_box, widget_track_analysis.roi_button)\n",
    "widget_track_analysis.roi_button.on_click(widget_track_analysis.open_roi)\n",
    "widget_track_analysis.roi_box.observe(widget_track_analysis.change_roi_box)"
   ]
  },
  {
   "cell_type": "markdown",
   "metadata": {
    "hideCode": true,
    "hidePrompt": true
   },
   "source": [
    "## Camera details"
   ]
  },
  {
   "cell_type": "markdown",
   "metadata": {
    "hideCode": true,
    "hidePrompt": true
   },
   "source": [
    "Based on the pixel size, the localization will be transfered from pixel to micrometer.\n",
    "Based on the amount of pixel, the camera area will be calculated (e.g. 256 * 256=65536 pixel). Camera integration time is needed for MSD calculations."
   ]
  },
  {
   "cell_type": "code",
   "execution_count": 3,
   "metadata": {
    "hideCode": true,
    "hidePrompt": true
   },
   "outputs": [
    {
     "data": {
      "application/vnd.jupyter.widget-view+json": {
       "model_id": "2906719fecfa458d84edac91320d386a",
       "version_major": 2,
       "version_minor": 0
      },
      "text/plain": [
       "Text(value='158', description='Pixel size [nm]', placeholder='Type something', style=DescriptionStyle(descript…"
      ]
     },
     "metadata": {},
     "output_type": "display_data"
    },
    {
     "data": {
      "application/vnd.jupyter.widget-view+json": {
       "model_id": "bea822804cd042cf8140455a68007495",
       "version_major": 2,
       "version_minor": 0
      },
      "text/plain": [
       "Text(value='65536', description='Amount of pixel on the camera', placeholder='Type something', style=Descripti…"
      ]
     },
     "metadata": {},
     "output_type": "display_data"
    },
    {
     "data": {
      "application/vnd.jupyter.widget-view+json": {
       "model_id": "d3d522445b0b4e1190fd5960dc4b1de6",
       "version_major": 2,
       "version_minor": 0
      },
      "text/plain": [
       "Text(value='0.02', description='Camera integration time [s]', placeholder='Type something', style=DescriptionS…"
      ]
     },
     "metadata": {},
     "output_type": "display_data"
    }
   ],
   "source": [
    "display(widget_track_analysis.camera_pixel_size_box, widget_track_analysis.camera_pixel_amount_box, widget_track_analysis.camera_integration_time_box)"
   ]
  },
  {
   "cell_type": "markdown",
   "metadata": {
    "hideCode": true,
    "hidePrompt": true
   },
   "source": [
    "## Parameters for Analysis"
   ]
  },
  {
   "cell_type": "markdown",
   "metadata": {
    "hideCode": true,
    "hidePrompt": true
   },
   "source": [
    "The degree of freedom of the diffusion coefficient D are inserted in the calculation of D (1D = 2, 2D = 4, 3D = 6 dof). The minimal detectable diffusion coefficient is the threshold for the immobile type analysis.\n",
    "Based on the formular min_track_length * camera_integration_time = n -> tau_threshold = 0.3*n, the tau threshold for diffusion type determination free & confined is set."
   ]
  },
  {
   "cell_type": "code",
   "execution_count": 4,
   "metadata": {
    "hideCode": true,
    "hidePrompt": true
   },
   "outputs": [
    {
     "data": {
      "application/vnd.jupyter.widget-view+json": {
       "model_id": "21c208c4effe4c24be680f8e0828d506",
       "version_major": 2,
       "version_minor": 0
      },
      "text/plain": [
       "Text(value='4', description='degree of freedom of D', placeholder='Type something', style=DescriptionStyle(des…"
      ]
     },
     "metadata": {},
     "output_type": "display_data"
    },
    {
     "data": {
      "application/vnd.jupyter.widget-view+json": {
       "model_id": "8af919458c554986bc2961f5604d02ea",
       "version_major": 2,
       "version_minor": 0
      },
      "text/plain": [
       "Text(value='0.0065', description='Minimal detectable D  [μm²/s]', placeholder='Type something', style=Descript…"
      ]
     },
     "metadata": {},
     "output_type": "display_data"
    },
    {
     "data": {
      "application/vnd.jupyter.widget-view+json": {
       "model_id": "64257848fc5545868cd10ea1c61cb0cb",
       "version_major": 2,
       "version_minor": 0
      },
      "text/plain": [
       "Text(value='20', description='Min track length', placeholder='Type something', style=DescriptionStyle(descript…"
      ]
     },
     "metadata": {},
     "output_type": "display_data"
    }
   ],
   "source": [
    "display(widget_track_analysis.dof_box, widget_track_analysis.D_min_box, widget_track_analysis.min_track_length_box)"
   ]
  },
  {
   "cell_type": "markdown",
   "metadata": {
    "hideCode": true,
    "hidePrompt": true
   },
   "source": [
    "## Run Analysis"
   ]
  },
  {
   "cell_type": "code",
   "execution_count": 5,
   "metadata": {
    "hideCode": true,
    "hidePrompt": true
   },
   "outputs": [
    {
     "data": {
      "application/vnd.jupyter.widget-view+json": {
       "model_id": "6487f92e6bbf45579fdc0dcb8afa7872",
       "version_major": 2,
       "version_minor": 0
      },
      "text/plain": [
       "HBox(children=(IntProgress(value=0, max=3), HTML(value='')))"
      ]
     },
     "metadata": {},
     "output_type": "display_data"
    },
    {
     "data": {
      "application/vnd.jupyter.widget-view+json": {
       "model_id": "1a638a82573d43f6bb462f812d3ca174",
       "version_major": 2,
       "version_minor": 0
      },
      "text/plain": [
       "HBox(children=(IntProgress(value=0, max=1138), HTML(value='')))"
      ]
     },
     "metadata": {},
     "output_type": "display_data"
    },
    {
     "data": {
      "application/vnd.jupyter.widget-view+json": {
       "model_id": "b5fc6878c0cb4a7f8abf8026f02e28cd",
       "version_major": 2,
       "version_minor": 0
      },
      "text/plain": [
       "HBox(children=(IntProgress(value=0, max=1542), HTML(value='')))"
      ]
     },
     "metadata": {},
     "output_type": "display_data"
    }
   ],
   "source": [
    "warnings.filterwarnings('ignore')\n",
    "display(widget_track_analysis.run_button)\n",
    "def run_analysis(event):\n",
    "    widget_track_analysis.create_clear_output()\n",
    "    widget_track_analysis.searchSubFolders(widget_track_analysis.dir_name)\n",
    "    if widget_track_analysis.got_dir:\n",
    "        cover_slip.tau_threshold_min_length, cover_slip.dt, cover_slip.pixel_size, cover_slip.pixel_amount, cover_slip.dof, cover_slip.D_min, cover_slip.roi_file, cover_slip.cell_files = widget_track_analysis.min_track_length_box.value, widget_track_analysis.camera_integration_time_box.value, widget_track_analysis.camera_pixel_size_box.value, widget_track_analysis.camera_pixel_amount_box.value, widget_track_analysis.dof_box.value, widget_track_analysis.D_min_box.value, widget_track_analysis.roi_name, widget_track_analysis.file_names       \n",
    "        cover_slip.create_cells()  \n",
    "        track_analysis.cell_sizes = [cell.size for cell in cover_slip.cells]\n",
    "        track_analysis.cell_trajectories = cover_slip.cell_trajectories\n",
    "        track_analysis.run_statistics_no_filter()\n",
    "    else:\n",
    "        widget_track_analysis.warning_trc_file()\n",
    "    widget_track_analysis.cells = cover_slip.cells\n",
    "widget_track_analysis.run_button.on_click(run_analysis)"
   ]
  },
  {
   "cell_type": "markdown",
   "metadata": {
    "hideCode": true,
    "hidePrompt": true
   },
   "source": [
    "## Plot diffusion histogram"
   ]
  },
  {
   "cell_type": "markdown",
   "metadata": {
    "hideCode": true,
    "hidePrompt": true
   },
   "source": [
    "Plot the normalized frequency in % against the diffusion coefficients (semi log scale)."
   ]
  },
  {
   "cell_type": "code",
   "execution_count": 6,
   "metadata": {
    "hideCode": true,
    "hidePrompt": true
   },
   "outputs": [
    {
     "data": {
      "application/vnd.jupyter.widget-view+json": {
       "model_id": "495f5fbb0851483ca6c5bbdc34792f5d",
       "version_major": 2,
       "version_minor": 0
      },
      "text/plain": [
       "Text(value='0.1', description='bin size', placeholder='size for log10(D) histogram', style=DescriptionStyle(de…"
      ]
     },
     "metadata": {},
     "output_type": "display_data"
    }
   ],
   "source": [
    "display(widget_track_analysis.bin_size_box)"
   ]
  },
  {
   "cell_type": "code",
   "execution_count": 7,
   "metadata": {
    "hideCode": true,
    "hidePrompt": true
   },
   "outputs": [
    {
     "data": {
      "application/vnd.jupyter.widget-view+json": {
       "model_id": "d446a9eeefdf49078bf7596c815787d1",
       "version_major": 2,
       "version_minor": 0
      },
      "text/plain": [
       "Button(description='plot', style=ButtonStyle(), tooltip='plot diffusion histogram')"
      ]
     },
     "metadata": {},
     "output_type": "display_data"
    }
   ],
   "source": [
    "def plot_diffusions(event):\n",
    "    widget_track_analysis.create_clear_output()\n",
    "    display(widget_track_analysis.plot_diff_button)\n",
    "    track_analysis.run_plot_diffusion_histogram(widget_track_analysis.bin_size_box.value)\n",
    "display(widget_track_analysis.plot_diff_button)\n",
    "widget_track_analysis.plot_diff_button.on_click(plot_diffusions)"
   ]
  },
  {
   "cell_type": "markdown",
   "metadata": {
    "hideCode": true,
    "hidePrompt": true
   },
   "source": [
    "## Choose trajectory to plot"
   ]
  },
  {
   "cell_type": "markdown",
   "metadata": {
    "hideCode": true,
    "hidePrompt": true
   },
   "source": [
    "Choose a cell. If one wants to plot multiple times, choose a new cell and/or trajectory reload the plotting cell by clicking in the cell and pressing strg+enter."
   ]
  },
  {
   "cell_type": "code",
   "execution_count": 8,
   "metadata": {
    "hideCode": true,
    "hidePrompt": true
   },
   "outputs": [
    {
     "data": {
      "application/vnd.jupyter.widget-view+json": {
       "model_id": "87ac6186e43a4b10a3dac5d6c620a4bf",
       "version_major": 2,
       "version_minor": 0
      },
      "text/plain": [
       "Dropdown(description='Number:', options=(), value=None)"
      ]
     },
     "metadata": {},
     "output_type": "display_data"
    }
   ],
   "source": [
    "def dropdown(event):\n",
    "    widget_track_analysis.cell_options = widget_track_analysis.get_cell_names(cover_slip.cells)\n",
    "widget_track_analysis.run_button.on_click(dropdown)\n",
    "display(widget_track_analysis.drop_down_cells)"
   ]
  },
  {
   "cell_type": "markdown",
   "metadata": {
    "hideCode": true,
    "hidePrompt": true
   },
   "source": [
    "Choose a trajectory."
   ]
  },
  {
   "cell_type": "code",
   "execution_count": 9,
   "metadata": {
    "hideCode": true,
    "hidePrompt": true
   },
   "outputs": [
    {
     "data": {
      "application/vnd.jupyter.widget-view+json": {
       "model_id": "e92e2642a16b431683809170281ea8ea",
       "version_major": 2,
       "version_minor": 0
      },
      "text/plain": [
       "Dropdown(description='Number:', options=(), value=None)"
      ]
     },
     "metadata": {},
     "output_type": "display_data"
    }
   ],
   "source": [
    "def dropdown(event):      \n",
    "    for cell in cover_slip.cells:\n",
    "        if cell.name == widget_track_analysis.drop_down_cells.value:\n",
    "            target_cell = cover_slip.cells.index(cell)\n",
    "            trajectory_indexes = [i+1 for i, _ in enumerate(cover_slip.cell_trajectories[target_cell])]\n",
    "            widget_track_analysis.trajectory_options = trajectory_indexes\n",
    "            widget_track_analysis.drop_down_trajectories.options = widget_track_analysis.trajectory_options\n",
    "widget_track_analysis.drop_down_cells.observe(dropdown)\n",
    "display(widget_track_analysis.drop_down_trajectories)"
   ]
  },
  {
   "cell_type": "code",
   "execution_count": 10,
   "metadata": {
    "hideCode": true,
    "hidePrompt": true
   },
   "outputs": [
    {
     "data": {
      "application/vnd.jupyter.widget-view+json": {
       "model_id": "0fe08427eba248fcb0ac4d8fb1fc0146",
       "version_major": 2,
       "version_minor": 0
      },
      "text/plain": [
       "Button(description='plot', style=ButtonStyle(), tooltip='plot chosen trajectory')"
      ]
     },
     "metadata": {},
     "output_type": "display_data"
    },
    {
     "data": {
      "image/png": "[encoded data removed]",
      "text/plain": [
       "<Figure size 432x288 with 1 Axes>"
      ]
     },
     "metadata": {
      "needs_background": "light"
     },
     "output_type": "display_data"
    },
    {
     "data": {
      "image/png": "[encoded data removed]",
      "text/plain": [
       "<Figure size 432x288 with 2 Axes>"
      ]
     },
     "metadata": {
      "needs_background": "light"
     },
     "output_type": "display_data"
    },
    {
     "data": {
      "image/png": "[encoded data removed]",
      "text/plain": [
       "<Figure size 432x288 with 2 Axes>"
      ]
     },
     "metadata": {
      "needs_background": "light"
     },
     "output_type": "display_data"
    },
    {
     "name": "stdout",
     "output_type": "stream",
     "text": [
      "Number: 1\n",
      "Trajectory length: 30\n",
      "Diffusion coefficient: 0.08402585527429184 μm²/s\n",
      "MSD0: 5.6650051266406154e-05 μm²\n",
      "chi² linear fit: 4.2257632873976314e-05 μm⁴\n",
      "Type immobile: False\n",
      "Analyse successful? True\n",
      "chi² rossier fit: 0.006185161782064328 μm⁴\n",
      "Type confined: True\n",
      "Type free: False\n",
      "D_conf: 0.14039861852591518 μm²/s\n",
      "r_conf: 0.15097537298691305 μm\n",
      "tau: 0.05411630467558153 s\n",
      "tau threshold: 0.12 s\n"
     ]
    }
   ],
   "source": [
    "def plot_particle(event):\n",
    "    widget_track_analysis.create_clear_output()\n",
    "    display(widget_track_analysis.plot_button)\n",
    "    cover_slip.plot_trajectory(widget_track_analysis.drop_down_cells.value, widget_track_analysis.drop_down_trajectories.value)\n",
    "display(widget_track_analysis.plot_button)\n",
    "widget_track_analysis.plot_button.on_click(plot_particle)"
   ]
  },
  {
   "cell_type": "markdown",
   "metadata": {
    "hideCode": true,
    "hidePrompt": true
   },
   "source": [
    "## Save"
   ]
  },
  {
   "cell_type": "markdown",
   "metadata": {
    "hideCode": true,
    "hidePrompt": true
   },
   "source": [
    "For each cell a .h5 file will be created, containing all information of the trajectories (unfiltered)."
   ]
  },
  {
   "cell_type": "code",
   "execution_count": 11,
   "metadata": {
    "hideCode": true,
    "hidePrompt": true
   },
   "outputs": [
    {
     "data": {
      "application/vnd.jupyter.widget-view+json": {
       "model_id": "df560e5a127c4bf7ba1328ab5d691e85",
       "version_major": 2,
       "version_minor": 0
      },
      "text/plain": [
       "Button(description='save', style=ButtonStyle(), tooltip='save entire analysis')"
      ]
     },
     "metadata": {},
     "output_type": "display_data"
    }
   ],
   "source": [
    "def save_analysis(event):    \n",
    "    for cell_index in tqdm(range(0, len(cover_slip.cells))):\n",
    "        init_save_track_analysis(cover_slip, cell_index, track_analysis)\n",
    "display(widget_track_analysis.save_button)\n",
    "widget_track_analysis.save_button.on_click(save_analysis)"
   ]
  }
 ],
 "metadata": {
  "hide_code_all_hidden": true,
  "kernelspec": {
   "display_name": "Python 3",
   "language": "python",
   "name": "python3"
  },
  "language_info": {
   "codemirror_mode": {
    "name": "ipython",
    "version": 3
   },
   "file_extension": ".py",
   "mimetype": "text/x-python",
   "name": "python",
   "nbconvert_exporter": "python",
   "pygments_lexer": "ipython3",
   "version": "3.7.3"
  }
 },
 "nbformat": 4,
 "nbformat_minor": 2
}
