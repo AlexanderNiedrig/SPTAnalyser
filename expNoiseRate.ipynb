{
 "cells": [
  {
   "cell_type": "markdown",
   "metadata": {
    "hideCode": true,
    "hidePrompt": true
   },
   "source": [
    "# Determination of the expected displacement [%]\n",
    "### Johanna Rahm, Sebastian Malkusch\n",
    "#### Research group Heilemann\n",
    "#### Institute for Physical and Theoretical Chemistry, Goethe University Frankfurt a.M.\n",
    "The estimated percentage of false positives among all localizations [%]. Swift uses this value in\n",
    "combination with the intensity of a localization (if it is available) to determine its individual\n",
    "likelihood to be noise."
   ]
  },
  {
   "cell_type": "markdown",
   "metadata": {
    "hideCode": true,
    "hidePrompt": true
   },
   "source": [
    "## Choose a localization software\n"
   ]
  },
  {
   "cell_type": "code",
   "execution_count": 1,
   "metadata": {
    "hideCode": true,
    "hidePrompt": true
   },
   "outputs": [
    {
     "data": {
      "application/vnd.jupyter.widget-view+json": {
       "model_id": "79d789a0e948475796a37e903915a84e",
       "version_major": 2,
       "version_minor": 0
      },
      "text/plain": [
       "RadioButtons(options=('ThunderSTORM', 'rapidSTORM'), value='ThunderSTORM')"
      ]
     },
     "metadata": {},
     "output_type": "display_data"
    }
   ],
   "source": [
    "from pySPT.widgets import widgetExpNoiseRate\n",
    "from pySPT.widgets import widgetDirectoryStructure\n",
    "from pySPT.widgets import widgetColumnSort\n",
    "from pySPT.preAnalysis import expNoiseRate\n",
    "widget_exp_noise_rate = widgetExpNoiseRate.WidgetExpNoiseRate()\n",
    "display(widget_exp_noise_rate.software_button)"
   ]
  },
  {
   "cell_type": "markdown",
   "metadata": {
    "hideCode": true,
    "hidePrompt": true
   },
   "source": [
    "## Load files\n",
    "### Define a cell directory\n",
    "Define a directory of localized cell measurements (Example path: F:\\data_folder). All files with fitting ending (.txt or .csv and no \"tracked\" in file name) will be loaded."
   ]
  },
  {
   "cell_type": "code",
   "execution_count": 2,
   "metadata": {
    "hideCode": true,
    "hidePrompt": true
   },
   "outputs": [
    {
     "data": {
      "application/vnd.jupyter.widget-view+json": {
       "model_id": "b2155f247f2a43ea84918669e7441749",
       "version_major": 2,
       "version_minor": 0
      },
      "text/plain": [
       "Text(value='', description='Directory', placeholder='directory to be searched in', style=DescriptionStyle(desc…"
      ]
     },
     "metadata": {},
     "output_type": "display_data"
    },
    {
     "data": {
      "application/vnd.jupyter.widget-view+json": {
       "model_id": "b5258d12eea14224944e6f7be93fdcea",
       "version_major": 2,
       "version_minor": 0
      },
      "text/plain": [
       "Button(description='browse', style=ButtonStyle(), tooltip='browse for directory')"
      ]
     },
     "metadata": {},
     "output_type": "display_data"
    }
   ],
   "source": [
    "widget_dir_structure = widgetDirectoryStructure.WidgetDirStructure()\n",
    "display(widget_exp_noise_rate.dir_box, widget_exp_noise_rate.dir_button)\n",
    "widget_exp_noise_rate.dir_button.on_click(widget_exp_noise_rate.open_dir)\n",
    "widget_exp_noise_rate.dir_box.observe(widget_exp_noise_rate.change_dir_box)"
   ]
  },
  {
   "cell_type": "markdown",
   "metadata": {
    "hideCode": true,
    "hidePrompt": true
   },
   "source": [
    "### Define a background directory\n",
    "Define a directory of localized background measurements. All files with fitting ending (.txt or .csv and no \"tracked\" in file name) will be loaded."
   ]
  },
  {
   "cell_type": "code",
   "execution_count": 3,
   "metadata": {
    "hideCode": true,
    "hidePrompt": true,
    "scrolled": true
   },
   "outputs": [
    {
     "data": {
      "application/vnd.jupyter.widget-view+json": {
       "model_id": "35f8f0dd732d45d4b900d126d0b19aa5",
       "version_major": 2,
       "version_minor": 0
      },
      "text/plain": [
       "Text(value='', description='Directory', placeholder='directory to be searched in', style=DescriptionStyle(desc…"
      ]
     },
     "metadata": {},
     "output_type": "display_data"
    },
    {
     "data": {
      "application/vnd.jupyter.widget-view+json": {
       "model_id": "8f4b31ba516b4d2c9a8ca3ea7d7130c5",
       "version_major": 2,
       "version_minor": 0
      },
      "text/plain": [
       "Button(description='browse', style=ButtonStyle(), tooltip='browse for directory')"
      ]
     },
     "metadata": {},
     "output_type": "display_data"
    }
   ],
   "source": [
    "display(widget_exp_noise_rate.dir_box_bg, widget_exp_noise_rate.dir_button_bg)\n",
    "widget_exp_noise_rate.dir_button_bg.on_click(widget_exp_noise_rate.open_dir_bg)\n",
    "widget_exp_noise_rate.dir_box_bg.observe(widget_exp_noise_rate.change_dir_box_bg)"
   ]
  },
  {
   "cell_type": "markdown",
   "metadata": {
    "hideCode": true,
    "hidePrompt": true
   },
   "source": [
    "## Areas\n",
    "### Cell sizes\n",
    "Choose/insert the complete directory for the roi.log file which contains the cell sizes (e.g. F:\\data_folder\\roi.log). The file name of the cell with no .* ending is compared with the roi entries with no .* ending. The last fitting entry is taken as the cell size. "
   ]
  },
  {
   "cell_type": "code",
   "execution_count": 4,
   "metadata": {
    "hideCode": true,
    "hidePrompt": true
   },
   "outputs": [
    {
     "data": {
      "application/vnd.jupyter.widget-view+json": {
       "model_id": "910c0e18431347c2be9c8ab83e001450",
       "version_major": 2,
       "version_minor": 0
      },
      "text/plain": [
       "Text(value='', description='Complete path', placeholder='insert path of roi.log', style=DescriptionStyle(descr…"
      ]
     },
     "metadata": {},
     "output_type": "display_data"
    },
    {
     "data": {
      "application/vnd.jupyter.widget-view+json": {
       "model_id": "b2811ed181044794af2dbc37200aac3d",
       "version_major": 2,
       "version_minor": 0
      },
      "text/plain": [
       "Button(description='browse', style=ButtonStyle(), tooltip='browse for file')"
      ]
     },
     "metadata": {},
     "output_type": "display_data"
    }
   ],
   "source": [
    "display(widget_exp_noise_rate.roi_text_box, widget_exp_noise_rate.roi_button)\n",
    "widget_exp_noise_rate.roi_button.on_click(widget_exp_noise_rate.open_file)\n",
    "widget_exp_noise_rate.roi_text_box.observe(widget_exp_noise_rate.change_roi_box)"
   ]
  },
  {
   "cell_type": "markdown",
   "metadata": {
    "hideCode": true,
    "hidePrompt": true
   },
   "source": [
    "### Background sizes\n",
    "Area of detection on the camera chip in px^2 (e.g. 256 * 256 = 65536 pixel)."
   ]
  },
  {
   "cell_type": "code",
   "execution_count": 5,
   "metadata": {
    "hideCode": true,
    "hidePrompt": true,
    "scrolled": true
   },
   "outputs": [
    {
     "data": {
      "application/vnd.jupyter.widget-view+json": {
       "model_id": "ed312bec25974718a498289502ea2c84",
       "version_major": 2,
       "version_minor": 0
      },
      "text/plain": [
       "Text(value='65536', description='Area of camera in px²', placeholder='insert area', style=DescriptionStyle(des…"
      ]
     },
     "metadata": {},
     "output_type": "display_data"
    }
   ],
   "source": [
    "display(widget_exp_noise_rate.background_size_box)"
   ]
  },
  {
   "cell_type": "markdown",
   "metadata": {
    "hideCode": true,
    "hidePrompt": true
   },
   "source": [
    "## Run analysis"
   ]
  },
  {
   "cell_type": "code",
   "execution_count": 6,
   "metadata": {
    "hideCode": true,
    "hidePrompt": true,
    "scrolled": false
   },
   "outputs": [
    {
     "data": {
      "application/vnd.jupyter.widget-view+json": {
       "model_id": "655835d2fa7e4d7db27427e934b3b9a0",
       "version_major": 2,
       "version_minor": 0
      },
      "text/plain": [
       "Button(description='run', style=ButtonStyle(), tooltip='run the analysis')"
      ]
     },
     "metadata": {},
     "output_type": "display_data"
    },
    {
     "data": {
      "image/png": "[encoded data removed]",
      "text/plain": [
       "<Figure size 216x360 with 1 Axes>"
      ]
     },
     "metadata": {
      "needs_background": "light"
     },
     "output_type": "display_data"
    },
    {
     "data": {
      "image/png": "[encoded data removed]",
      "text/plain": [
       "<Figure size 216x360 with 1 Axes>"
      ]
     },
     "metadata": {
      "needs_background": "light"
     },
     "output_type": "display_data"
    },
    {
     "data": {
      "image/png": "[encoded data removed]",
      "text/plain": [
       "<Figure size 216x360 with 1 Axes>"
      ]
     },
     "metadata": {
      "needs_background": "light"
     },
     "output_type": "display_data"
    },
    {
     "name": "stdout",
     "output_type": "stream",
     "text": [
      "name: locs/px², exp noise rate:\n",
      "Fab_CS2_cell01: 0.8503051842694893, 27.088088507459695\n",
      "Fab_CS2_cell02: 0.851645101663586, 27.045470049497478\n",
      "Fab_CS2_cell03: 0.8594019101299515, 26.801362457247592\n",
      "Fab_CS2_cell04: 1.2703776767590131, 18.130940515741656\n",
      "Fab_CS2_cell05: 1.7448296057688788, 13.200797380838763\n",
      "Fab_CS2_cell06: 1.9507916264891598, 11.807074511231372\n",
      "Fab_CS2_cell07: 1.8141458348787183, 12.696411527127086\n",
      "Fab_CS2_cell08: 2.6219861660079054, 8.784616177023073\n",
      "Fab_CS2_cell09: 2.483056018876368, 9.276126641825304\n",
      "Fab_CS2_cell10: 2.1813908676865585, 10.558924780991315\n",
      "Fab_CS2_cell11: 3.079597020462913, 7.479271455582036\n",
      "Fab_CS2_cell12: 3.0826097541183155, 7.471961723040632\n",
      "Fab_CS2_cell13: 3.6109656777196046, 6.378665472220614\n",
      "Fab_CS2_cell14: 3.983977582986061, 5.781443697928642\n",
      "Fab_CS2_cell15: 3.9563438411727034, 5.821825153350796\n",
      "Fab_CS2_cell16: 5.185830874746159, 4.4415528863484575\n",
      "Fab_CS2_cell17: 4.539142347671031, 5.074337909156281\n",
      "Fab_CS2_cell18: 5.05196261682243, 4.559246343816193\n",
      "Fab_CS2_cell19: 4.444902682798527, 5.1819226951763095\n",
      "Fab_CS2_cell20: 5.466331377479743, 4.213638087280248\n",
      "[27.088088507459695, 27.045470049497478, 26.801362457247592, 18.130940515741656, 13.200797380838763, 11.807074511231372, 12.696411527127086, 8.784616177023073, 9.276126641825304, 10.558924780991315, 7.479271455582036, 7.471961723040632, 6.378665472220614, 5.781443697928642, 5.821825153350796, 4.4415528863484575, 5.074337909156281, 4.559246343816193, 5.1819226951763095, 4.213638087280248]\n"
     ]
    }
   ],
   "source": [
    "exp_noise_rate = expNoiseRate.ExpNoiseRate()\n",
    "display(widget_exp_noise_rate.run_button)\n",
    "def run_analysis(event):\n",
    "    exp_noise_rate.run_exp_noise_rate(widget_exp_noise_rate.dir_name, widget_exp_noise_rate.dir_name_bg, widget_exp_noise_rate.roi_path, widget_exp_noise_rate.determine_suffix(), int(widget_exp_noise_rate.background_size_box.value))\n",
    "widget_exp_noise_rate.run_button.on_click(run_analysis)"
   ]
  },
  {
   "cell_type": "markdown",
   "metadata": {
    "hideCode": true,
    "hidePrompt": true
   },
   "source": [
    "## Save analysis\n",
    "The results will be saved in two .txt files, the first with the cell names localization densities and exp noise rates, the second with the background names and localization densities. Optionally the plots can be saved as .pdf. Choose a directory and folder name."
   ]
  },
  {
   "cell_type": "code",
   "execution_count": 7,
   "metadata": {
    "hideCode": true,
    "hidePrompt": true
   },
   "outputs": [
    {
     "data": {
      "application/vnd.jupyter.widget-view+json": {
       "model_id": "ef1a25213f42480590900be318d1e0d2",
       "version_major": 2,
       "version_minor": 0
      },
      "text/plain": [
       "Text(value='exp_noise_rate', description='Foldername', placeholder='name of folder', style=DescriptionStyle(de…"
      ]
     },
     "metadata": {},
     "output_type": "display_data"
    },
    {
     "data": {
      "application/vnd.jupyter.widget-view+json": {
       "model_id": "49c074d7eb7b47fe85d28bfcc61a59cf",
       "version_major": 2,
       "version_minor": 0
      },
      "text/plain": [
       "Text(value='', description='Directory', placeholder='Directory to save', style=DescriptionStyle(description_wi…"
      ]
     },
     "metadata": {},
     "output_type": "display_data"
    },
    {
     "data": {
      "application/vnd.jupyter.widget-view+json": {
       "model_id": "142aa08d72594655924b7bbb1dce754d",
       "version_major": 2,
       "version_minor": 0
      },
      "text/plain": [
       "Button(description='browse', style=ButtonStyle(), tooltip='browse for directory')"
      ]
     },
     "metadata": {},
     "output_type": "display_data"
    }
   ],
   "source": [
    "display(widget_exp_noise_rate.box_foldername, widget_exp_noise_rate.dir_box_save, widget_exp_noise_rate.dir_button_save)\n",
    "widget_exp_noise_rate.dir_button_save.on_click(widget_exp_noise_rate.open_dir_save)\n",
    "widget_exp_noise_rate.dir_box_save.observe(widget_exp_noise_rate.change_dir_box_save)"
   ]
  },
  {
   "cell_type": "code",
   "execution_count": 8,
   "metadata": {
    "hideCode": true,
    "hidePrompt": true
   },
   "outputs": [
    {
     "data": {
      "application/vnd.jupyter.widget-view+json": {
       "model_id": "9896dc23da7f45c8872d4b7dc3f7b74b",
       "version_major": 2,
       "version_minor": 0
      },
      "text/plain": [
       "Checkbox(value=True, description='Save plot')"
      ]
     },
     "metadata": {},
     "output_type": "display_data"
    },
    {
     "data": {
      "application/vnd.jupyter.widget-view+json": {
       "model_id": "af93c13c57dd457cad8dc18d10678572",
       "version_major": 2,
       "version_minor": 0
      },
      "text/plain": [
       "Button(description='save', style=ButtonStyle(), tooltip='save the results')"
      ]
     },
     "metadata": {},
     "output_type": "display_data"
    }
   ],
   "source": [
    "display(widget_exp_noise_rate.save_fig_checkbox, widget_exp_noise_rate.save_button)\n",
    "def save_analysis(event):\n",
    "    widget_exp_noise_rate.create_clear_output()\n",
    "    display(widget_exp_noise_rate.save_fig_checkbox, widget_exp_noise_rate.save_button)\n",
    "    exp_noise_rate.save_results(widget_exp_noise_rate.dir_box_save.value, widget_exp_noise_rate.box_foldername.value, widget_exp_noise_rate.save_fig_checkbox.value)\n",
    "widget_exp_noise_rate.save_button.on_click(save_analysis)"
   ]
  }
 ],
 "metadata": {
  "hide_code_all_hidden": true,
  "kernelspec": {
   "display_name": "Python 3",
   "language": "python",
   "name": "python3"
  },
  "language_info": {
   "codemirror_mode": {
    "name": "ipython",
    "version": 3
   },
   "file_extension": ".py",
   "mimetype": "text/x-python",
   "name": "python",
   "nbconvert_exporter": "python",
   "pygments_lexer": "ipython3",
   "version": "3.7.6"
  }
 },
 "nbformat": 4,
 "nbformat_minor": 2
}
