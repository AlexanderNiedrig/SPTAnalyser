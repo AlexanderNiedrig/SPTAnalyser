{
 "cells": [
  {
   "cell_type": "markdown",
   "metadata": {
    "hideCode": true,
    "hidePrompt": true
   },
   "source": [
    "# Merge Hdf5 files\n",
    "### Johanna Rahm, Sebastian Malkusch\n",
    "#### Research group Heilemann\n",
    "#### Institute for Physical and Theoretical Chemistry, Goethe University Frankfurt a.M.\n",
    "The HMM analysis is based on a trc file, for which a matching hdf5 file exists. The hdf5 file can be merged with the resulting archive file of the HMM analysis."
   ]
  },
  {
   "cell_type": "markdown",
   "metadata": {
    "hideCode": true,
    "hidePrompt": true
   },
   "source": [
    "## Load hdf5 paths"
   ]
  },
  {
   "cell_type": "code",
   "execution_count": 1,
   "metadata": {
    "hideCode": true,
    "hidePrompt": true
   },
   "outputs": [
    {
     "data": {
      "application/vnd.jupyter.widget-view+json": {
       "model_id": "44f8dc3d417142568b89023004719e42",
       "version_major": 2,
       "version_minor": 0
      },
      "text/plain": [
       "Text(value='', description='Insert path', placeholder='Type something', style=DescriptionStyle(description_wid…"
      ]
     },
     "metadata": {},
     "output_type": "display_data"
    },
    {
     "data": {
      "application/vnd.jupyter.widget-view+json": {
       "model_id": "6b19d5ad1b9f49dea06010f58bb552e0",
       "version_major": 2,
       "version_minor": 0
      },
      "text/plain": [
       "Button(description='browse', style=ButtonStyle(), tooltip='browse for file')"
      ]
     },
     "metadata": {},
     "output_type": "display_data"
    }
   ],
   "source": [
    "from pySPT.widgets.widgetNotebooks import init_merge_hdf5_path_handler\n",
    "from pySPT.widgets import widgetMergeHdf5\n",
    "from pySPT.hmm import mergeHdf5\n",
    "import warnings\n",
    "widget_merge_hdf5 = widgetMergeHdf5.WidgetMergeHdf5()\n",
    "display(widget_merge_hdf5.load_hdf5_box, widget_merge_hdf5.load_hdf5_button)\n",
    "widget_merge_hdf5.load_hdf5_button.on_click(widget_merge_hdf5.open_hdf5_file)\n",
    "widget_merge_hdf5.load_hdf5_box.observe(widget_merge_hdf5.change_hdf5_box)"
   ]
  },
  {
   "cell_type": "markdown",
   "metadata": {
    "hideCode": true,
    "hidePrompt": true
   },
   "source": [
    "## Load archive paths"
   ]
  },
  {
   "cell_type": "code",
   "execution_count": 2,
   "metadata": {
    "hideCode": true,
    "hidePrompt": true
   },
   "outputs": [
    {
     "data": {
      "application/vnd.jupyter.widget-view+json": {
       "model_id": "9a240f380e904ba18d6f935057b2ac48",
       "version_major": 2,
       "version_minor": 0
      },
      "text/plain": [
       "Text(value='', description='Insert path', placeholder='Type something', style=DescriptionStyle(description_wid…"
      ]
     },
     "metadata": {},
     "output_type": "display_data"
    },
    {
     "data": {
      "application/vnd.jupyter.widget-view+json": {
       "model_id": "c960d3c491fa4ea1bb232f37f63ef830",
       "version_major": 2,
       "version_minor": 0
      },
      "text/plain": [
       "Button(description='browse', style=ButtonStyle(), tooltip='browse for file')"
      ]
     },
     "metadata": {},
     "output_type": "display_data"
    }
   ],
   "source": [
    "display(widget_merge_hdf5.load_archive_box, widget_merge_hdf5.load_archive_button)\n",
    "widget_merge_hdf5.load_archive_button.on_click(widget_merge_hdf5.open_archive_file)\n",
    "widget_merge_hdf5.load_archive_box.observe(widget_merge_hdf5.change_archive_box)"
   ]
  },
  {
   "cell_type": "markdown",
   "metadata": {
    "hideCode": true,
    "hidePrompt": true
   },
   "source": [
    "## Load save paths"
   ]
  },
  {
   "cell_type": "code",
   "execution_count": 3,
   "metadata": {
    "hideCode": true,
    "hidePrompt": true
   },
   "outputs": [
    {
     "data": {
      "application/vnd.jupyter.widget-view+json": {
       "model_id": "16066339dfb9447dbf2c21e772cd82c3",
       "version_major": 2,
       "version_minor": 0
      },
      "text/plain": [
       "Text(value='', description='Insert path', placeholder='Type something', style=DescriptionStyle(description_wid…"
      ]
     },
     "metadata": {},
     "output_type": "display_data"
    },
    {
     "data": {
      "application/vnd.jupyter.widget-view+json": {
       "model_id": "fb0ef457cd5a4cdc839937d1c9e686bb",
       "version_major": 2,
       "version_minor": 0
      },
      "text/plain": [
       "Button(description='browse', style=ButtonStyle(), tooltip='browse for file')"
      ]
     },
     "metadata": {},
     "output_type": "display_data"
    }
   ],
   "source": [
    "display(widget_merge_hdf5.save_path_box, widget_merge_hdf5.save_path_button)\n",
    "widget_merge_hdf5.save_path_button.on_click(widget_merge_hdf5.open_save_paths)\n",
    "widget_merge_hdf5.save_path_box.observe(widget_merge_hdf5.change_save_box)"
   ]
  },
  {
   "cell_type": "markdown",
   "metadata": {
    "hideCode": true,
    "hidePrompt": true
   },
   "source": [
    "## Merge & save the merged files"
   ]
  },
  {
   "cell_type": "code",
   "execution_count": 4,
   "metadata": {
    "hideCode": true,
    "hidePrompt": true
   },
   "outputs": [
    {
     "data": {
      "application/vnd.jupyter.widget-view+json": {
       "model_id": "d0aae2731891432280afc6abdda26c44",
       "version_major": 2,
       "version_minor": 0
      },
      "text/plain": [
       "Button(description='merge & save', style=ButtonStyle(), tooltip='merge & save files')"
      ]
     },
     "metadata": {},
     "output_type": "display_data"
    }
   ],
   "source": [
    "warnings.filterwarnings('ignore')\n",
    "display(widget_merge_hdf5.merge_button)\n",
    "def run_merge(event):\n",
    "    widget_merge_hdf5.create_clear_output()\n",
    "    display(widget_merge_hdf5.merge_button)\n",
    "    init_merge_hdf5_path_handler(widget_merge_hdf5.load_hdf5_box.value, widget_merge_hdf5.load_archive_box.value, widget_merge_hdf5.save_path_box.value)\n",
    "widget_merge_hdf5.merge_button.on_click(run_merge)"
   ]
  }
 ],
 "metadata": {
  "hide_code_all_hidden": true,
  "kernelspec": {
   "display_name": "Python 3",
   "language": "python",
   "name": "python3"
  },
  "language_info": {
   "codemirror_mode": {
    "name": "ipython",
    "version": 3
   },
   "file_extension": ".py",
   "mimetype": "text/x-python",
   "name": "python",
   "nbconvert_exporter": "python",
   "pygments_lexer": "ipython3",
   "version": "3.7.3"
  }
 },
 "nbformat": 4,
 "nbformat_minor": 2
}
