{
 "cells": [
  {
   "cell_type": "markdown",
   "metadata": {
    "hideCode": false,
    "hidePrompt": false
   },
   "source": [
    "# Determination of the expected displacement [%]\n",
    "### Johanna Rahm, Sebastian Malkusch\n",
    "#### Research group Heilemann\n",
    "#### Institute for Physical and Theoretical Chemistry, Goethe University Frankfurt a.M.\n",
    "The estimated percentage of false positives among all localizations [%]. Swift uses this value in\n",
    "combination with the intensity of a localization (if it is available) to determine its individual\n",
    "likelihood to be noise."
   ]
  },
  {
   "cell_type": "markdown",
   "metadata": {
    "hideCode": false,
    "hidePrompt": false
   },
   "source": [
    "## Choose a localization software\n"
   ]
  },
  {
   "cell_type": "code",
   "execution_count": 1,
   "metadata": {
    "hideCode": false,
    "hidePrompt": false
   },
   "outputs": [
    {
     "data": {
      "application/vnd.jupyter.widget-view+json": {
       "model_id": "42954a6b37ed40319ab4f38dbdabbbd8",
       "version_major": 2,
       "version_minor": 0
      },
      "text/plain": [
       "RadioButtons(options=('ThunderSTORM', 'rapidSTORM'), value='ThunderSTORM')"
      ]
     },
     "metadata": {},
     "output_type": "display_data"
    }
   ],
   "source": [
    "from pySPT.widgets import widgetExpNoiseRate\n",
    "from pySPT.widgets import widgetDirectoryStructure\n",
    "from pySPT.widgets import widgetColumnSort\n",
    "from pySPT.preAnalysis import expNoiseRate\n",
    "widget_exp_noise_rate = widgetExpNoiseRate.WidgetExpNoiseRate()\n",
    "display(widget_exp_noise_rate.software_button)"
   ]
  },
  {
   "cell_type": "markdown",
   "metadata": {
    "hideCode": false,
    "hidePrompt": false
   },
   "source": [
    "## Load files\n",
    "### Define a cell directory\n",
    "Define a directory of localized cell measurements (Example path: F:\\data_folder). All files with fitting ending (.txt or .csv and no \"tracked\" in file name) will be loaded."
   ]
  },
  {
   "cell_type": "code",
   "execution_count": 2,
   "metadata": {
    "hideCode": false,
    "hidePrompt": false
   },
   "outputs": [
    {
     "data": {
      "application/vnd.jupyter.widget-view+json": {
       "model_id": "b5c9c0ff9414448da76e1d011dd218ba",
       "version_major": 2,
       "version_minor": 0
      },
      "text/plain": [
       "Text(value='', description='Directory', placeholder='directory to be searched in', style=DescriptionStyle(desc…"
      ]
     },
     "metadata": {},
     "output_type": "display_data"
    },
    {
     "data": {
      "application/vnd.jupyter.widget-view+json": {
       "model_id": "4c0e0fd43881414e9d5ea72302070ff9",
       "version_major": 2,
       "version_minor": 0
      },
      "text/plain": [
       "Button(description='browse', style=ButtonStyle(), tooltip='browse for directory')"
      ]
     },
     "metadata": {},
     "output_type": "display_data"
    }
   ],
   "source": [
    "widget_dir_structure = widgetDirectoryStructure.WidgetDirStructure()\n",
    "display(widget_exp_noise_rate.dir_box, widget_exp_noise_rate.dir_button)\n",
    "widget_exp_noise_rate.dir_button.on_click(widget_exp_noise_rate.open_dir)\n",
    "widget_exp_noise_rate.dir_box.observe(widget_exp_noise_rate.change_dir_box)"
   ]
  },
  {
   "cell_type": "markdown",
   "metadata": {
    "hideCode": false,
    "hidePrompt": false
   },
   "source": [
    "### Define a background directory\n",
    "Define a directory of localized background measurements. All files with fitting ending (.txt or .csv and no \"tracked\" in file name) will be loaded."
   ]
  },
  {
   "cell_type": "code",
   "execution_count": 3,
   "metadata": {
    "hideCode": false,
    "hidePrompt": false,
    "scrolled": true
   },
   "outputs": [
    {
     "data": {
      "application/vnd.jupyter.widget-view+json": {
       "model_id": "8107975179f74ec38ae924f34d76f414",
       "version_major": 2,
       "version_minor": 0
      },
      "text/plain": [
       "Text(value='', description='Directory', placeholder='directory to be searched in', style=DescriptionStyle(desc…"
      ]
     },
     "metadata": {},
     "output_type": "display_data"
    },
    {
     "data": {
      "application/vnd.jupyter.widget-view+json": {
       "model_id": "fbeb7f4562174e0e9b582123c45b25c4",
       "version_major": 2,
       "version_minor": 0
      },
      "text/plain": [
       "Button(description='browse', style=ButtonStyle(), tooltip='browse for directory')"
      ]
     },
     "metadata": {},
     "output_type": "display_data"
    }
   ],
   "source": [
    "display(widget_exp_noise_rate.dir_box_bg, widget_exp_noise_rate.dir_button_bg)\n",
    "widget_exp_noise_rate.dir_button_bg.on_click(widget_exp_noise_rate.open_dir_bg)\n",
    "widget_exp_noise_rate.dir_box_bg.observe(widget_exp_noise_rate.change_dir_box_bg)"
   ]
  },
  {
   "cell_type": "markdown",
   "metadata": {
    "hideCode": false,
    "hidePrompt": false
   },
   "source": [
    "## Areas\n",
    "### Cell sizes\n",
    "Choose/insert the complete directory for the roi.log file which contains the cell sizes (e.g. F:\\data_folder\\roi.log). The file name of the cell with no .* ending is compared with the roi entries with no .* ending. The last fitting entry is taken as the cell size. "
   ]
  },
  {
   "cell_type": "code",
   "execution_count": 4,
   "metadata": {
    "hideCode": false,
    "hidePrompt": false
   },
   "outputs": [
    {
     "data": {
      "application/vnd.jupyter.widget-view+json": {
       "model_id": "a89ba45d800542c989dddf4b4975dc39",
       "version_major": 2,
       "version_minor": 0
      },
      "text/plain": [
       "Text(value='', description='Complete path', placeholder='insert path of roi.log', style=DescriptionStyle(descr…"
      ]
     },
     "metadata": {},
     "output_type": "display_data"
    },
    {
     "data": {
      "application/vnd.jupyter.widget-view+json": {
       "model_id": "76d24a45fadb4178a5a5cd1b53e3a8a2",
       "version_major": 2,
       "version_minor": 0
      },
      "text/plain": [
       "Button(description='browse', style=ButtonStyle(), tooltip='browse for file')"
      ]
     },
     "metadata": {},
     "output_type": "display_data"
    }
   ],
   "source": [
    "display(widget_exp_noise_rate.roi_text_box, widget_exp_noise_rate.roi_button)\n",
    "widget_exp_noise_rate.roi_button.on_click(widget_exp_noise_rate.open_file)\n",
    "widget_exp_noise_rate.roi_text_box.observe(widget_exp_noise_rate.change_roi_box)"
   ]
  },
  {
   "cell_type": "markdown",
   "metadata": {
    "hideCode": false,
    "hidePrompt": false
   },
   "source": [
    "### Background sizes\n",
    "Area of detection on the camera chip in px^2 (e.g. 256 * 256 = 65536 pixel)."
   ]
  },
  {
   "cell_type": "code",
   "execution_count": 5,
   "metadata": {
    "hideCode": false,
    "hidePrompt": false,
    "scrolled": true
   },
   "outputs": [
    {
     "data": {
      "application/vnd.jupyter.widget-view+json": {
       "model_id": "55c88277f8af426d855baf11b73ac6bb",
       "version_major": 2,
       "version_minor": 0
      },
      "text/plain": [
       "Text(value='65536', description='Area of camera in px²', placeholder='insert area', style=DescriptionStyle(des…"
      ]
     },
     "metadata": {},
     "output_type": "display_data"
    }
   ],
   "source": [
    "display(widget_exp_noise_rate.background_size_box)"
   ]
  },
  {
   "cell_type": "markdown",
   "metadata": {
    "hideCode": false,
    "hidePrompt": false
   },
   "source": [
    "## Run analysis"
   ]
  },
  {
   "cell_type": "code",
   "execution_count": 6,
   "metadata": {
    "hideCode": false,
    "hidePrompt": false,
    "scrolled": false
   },
   "outputs": [
    {
     "data": {
      "application/vnd.jupyter.widget-view+json": {
       "model_id": "e5288c7a7b204c7c8c097863c2409c9e",
       "version_major": 2,
       "version_minor": 0
      },
      "text/plain": [
       "Button(description='run', style=ButtonStyle(), tooltip='run the analysis')"
      ]
     },
     "metadata": {},
     "output_type": "display_data"
    }
   ],
   "source": [
    "exp_noise_rate = expNoiseRate.ExpNoiseRate()\n",
    "display(widget_exp_noise_rate.run_button)\n",
    "def run_analysis(event):\n",
    "    exp_noise_rate.run_exp_noise_rate(widget_exp_noise_rate.dir_name, widget_exp_noise_rate.dir_name_bg, widget_exp_noise_rate.roi_path, widget_exp_noise_rate.determine_suffix(), int(widget_exp_noise_rate.background_size_box.value))\n",
    "widget_exp_noise_rate.run_button.on_click(run_analysis)"
   ]
  },
  {
   "cell_type": "markdown",
   "metadata": {
    "hideCode": false,
    "hidePrompt": false
   },
   "source": [
    "## Save analysis\n",
    "The results will be saved in two .txt files, the first with the cell names localization densities and exp noise rates, the second with the background names and localization densities. Optionally the plots can be saved as .pdf. Choose a directory and folder name."
   ]
  },
  {
   "cell_type": "code",
   "execution_count": 7,
   "metadata": {
    "hideCode": false,
    "hidePrompt": false
   },
   "outputs": [
    {
     "data": {
      "application/vnd.jupyter.widget-view+json": {
       "model_id": "3841383ff15d49efaa020e37f16ff41b",
       "version_major": 2,
       "version_minor": 0
      },
      "text/plain": [
       "Text(value='exp_noise_rate', description='Foldername', placeholder='name of folder', style=DescriptionStyle(de…"
      ]
     },
     "metadata": {},
     "output_type": "display_data"
    },
    {
     "data": {
      "application/vnd.jupyter.widget-view+json": {
       "model_id": "e642e0fdb95a48e38841f018c7cd86cd",
       "version_major": 2,
       "version_minor": 0
      },
      "text/plain": [
       "Text(value='', description='Directory', placeholder='Directory to save', style=DescriptionStyle(description_wi…"
      ]
     },
     "metadata": {},
     "output_type": "display_data"
    },
    {
     "data": {
      "application/vnd.jupyter.widget-view+json": {
       "model_id": "c9626baffbde4e1d833dcd6e3d45939e",
       "version_major": 2,
       "version_minor": 0
      },
      "text/plain": [
       "Button(description='browse', style=ButtonStyle(), tooltip='browse for directory')"
      ]
     },
     "metadata": {},
     "output_type": "display_data"
    }
   ],
   "source": [
    "display(widget_exp_noise_rate.box_foldername, widget_exp_noise_rate.dir_box_save, widget_exp_noise_rate.dir_button_save)\n",
    "widget_exp_noise_rate.dir_button_save.on_click(widget_exp_noise_rate.open_dir_save)\n",
    "widget_exp_noise_rate.dir_box_save.observe(widget_exp_noise_rate.change_dir_box_save)"
   ]
  },
  {
   "cell_type": "code",
   "execution_count": 8,
   "metadata": {
    "hideCode": false,
    "hidePrompt": false
   },
   "outputs": [
    {
     "data": {
      "application/vnd.jupyter.widget-view+json": {
       "model_id": "eff3770bbb02496296bbde299b48c488",
       "version_major": 2,
       "version_minor": 0
      },
      "text/plain": [
       "Checkbox(value=True, description='Save plot')"
      ]
     },
     "metadata": {},
     "output_type": "display_data"
    },
    {
     "data": {
      "application/vnd.jupyter.widget-view+json": {
       "model_id": "b3ac0c2b6a6445c9815b6028749ba723",
       "version_major": 2,
       "version_minor": 0
      },
      "text/plain": [
       "Button(description='save', style=ButtonStyle(), tooltip='save the results')"
      ]
     },
     "metadata": {},
     "output_type": "display_data"
    }
   ],
   "source": [
    "display(widget_exp_noise_rate.save_fig_checkbox, widget_exp_noise_rate.save_button)\n",
    "def save_analysis(event):\n",
    "    widget_exp_noise_rate.create_clear_output()\n",
    "    display(widget_exp_noise_rate.save_fig_checkbox, widget_exp_noise_rate.save_button)\n",
    "    exp_noise_rate.save_results(widget_exp_noise_rate.dir_box_save.value, widget_exp_noise_rate.box_foldername.value, widget_exp_noise_rate.save_fig_checkbox.value)\n",
    "widget_exp_noise_rate.save_button.on_click(save_analysis)"
   ]
  }
 ],
 "metadata": {
  "hide_code_all_hidden": false,
  "kernelspec": {
   "display_name": "Python 3",
   "language": "python",
   "name": "python3"
  },
  "language_info": {
   "codemirror_mode": {
    "name": "ipython",
    "version": 3
   },
   "file_extension": ".py",
   "mimetype": "text/x-python",
   "name": "python",
   "nbconvert_exporter": "python",
   "pygments_lexer": "ipython3",
   "version": "3.7.6"
  }
 },
 "nbformat": 4,
 "nbformat_minor": 2
}
