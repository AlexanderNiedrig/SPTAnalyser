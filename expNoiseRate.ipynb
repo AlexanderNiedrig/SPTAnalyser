{
 "cells": [
  {
   "cell_type": "markdown",
   "metadata": {
    "hideCode": true,
    "hidePrompt": true
   },
   "source": [
    "# Determination of the expected displacement [%]\n",
    "### Johanna Rahm, Sebastian Malkusch\n",
    "#### Research group Heilemann\n",
    "#### Institute for Physical and Theoretical Chemistry, Goethe University Frankfurt a.M.\n",
    "The estimated percentage of false positives among all localizations [%]. Swift uses this value in\n",
    "combination with the intensity of a localization (if it is available) to determine its individual\n",
    "likelihood to be noise. The number of localizations per px² and frame is determined and averaged for the background measurements. The number of localizations per px² and frame is determined for the cell measurements. The expected noise rate is calculated by dividing the background average density with the individual cell density multiplyied by 100."
   ]
  },
  {
   "cell_type": "markdown",
   "metadata": {
    "hideCode": true,
    "hidePrompt": true
   },
   "source": [
    "## Choose a localization software\n"
   ]
  },
  {
   "cell_type": "code",
   "execution_count": 1,
   "metadata": {
    "hideCode": true,
    "hidePrompt": true
   },
   "outputs": [
    {
     "data": {
      "application/vnd.jupyter.widget-view+json": {
       "model_id": "4b6f5e64f7724b35b4bd4d8c6e13ef8e",
       "version_major": 2,
       "version_minor": 0
      },
      "text/plain": [
       "RadioButtons(options=('ThunderSTORM', 'rapidSTORM'), value='ThunderSTORM')"
      ]
     },
     "metadata": {},
     "output_type": "display_data"
    }
   ],
   "source": [
    "from pySPT.widgets import widgetExpNoiseRate\n",
    "from pySPT.widgets import widgetDirectoryStructure\n",
    "from pySPT.widgets import widgetColumnSort\n",
    "from pySPT.preAnalysis import expNoiseRate\n",
    "widget_exp_noise_rate = widgetExpNoiseRate.WidgetExpNoiseRate()\n",
    "display(widget_exp_noise_rate.software_button)"
   ]
  },
  {
   "cell_type": "markdown",
   "metadata": {
    "hideCode": true,
    "hidePrompt": true
   },
   "source": [
    "## Load files\n",
    "### Define a cell directory\n",
    "Define a directory of localized cell measurements (Example path: F:\\data_folder). All files with fitting ending (.txt or .csv and no \"tracked\" in file name) will be loaded."
   ]
  },
  {
   "cell_type": "code",
   "execution_count": 2,
   "metadata": {
    "hideCode": true,
    "hidePrompt": true
   },
   "outputs": [
    {
     "data": {
      "application/vnd.jupyter.widget-view+json": {
       "model_id": "955b84bee9f843b59781a198b56336d5",
       "version_major": 2,
       "version_minor": 0
      },
      "text/plain": [
       "Text(value='', description='Directory', placeholder='directory to be searched in', style=DescriptionStyle(desc…"
      ]
     },
     "metadata": {},
     "output_type": "display_data"
    },
    {
     "data": {
      "application/vnd.jupyter.widget-view+json": {
       "model_id": "c7681a4619d847afb293e2e69a83aa1b",
       "version_major": 2,
       "version_minor": 0
      },
      "text/plain": [
       "Button(description='browse', style=ButtonStyle(), tooltip='browse for directory')"
      ]
     },
     "metadata": {},
     "output_type": "display_data"
    }
   ],
   "source": [
    "widget_dir_structure = widgetDirectoryStructure.WidgetDirStructure()\n",
    "display(widget_exp_noise_rate.dir_box, widget_exp_noise_rate.dir_button)\n",
    "widget_exp_noise_rate.dir_button.on_click(widget_exp_noise_rate.open_dir)\n",
    "widget_exp_noise_rate.dir_box.observe(widget_exp_noise_rate.change_dir_box)"
   ]
  },
  {
   "cell_type": "markdown",
   "metadata": {
    "hideCode": true,
    "hidePrompt": true
   },
   "source": [
    "### Define a background directory\n",
    "Define a directory of localized background measurements. All files with fitting ending (.txt or .csv and no \"tracked\" in file name) will be loaded."
   ]
  },
  {
   "cell_type": "code",
   "execution_count": 3,
   "metadata": {
    "hideCode": true,
    "hidePrompt": true,
    "scrolled": true
   },
   "outputs": [
    {
     "data": {
      "application/vnd.jupyter.widget-view+json": {
       "model_id": "6604654eacf8466886d7faf197429115",
       "version_major": 2,
       "version_minor": 0
      },
      "text/plain": [
       "Text(value='', description='Directory', placeholder='directory to be searched in', style=DescriptionStyle(desc…"
      ]
     },
     "metadata": {},
     "output_type": "display_data"
    },
    {
     "data": {
      "application/vnd.jupyter.widget-view+json": {
       "model_id": "9e56b409d3ec4193bb8430ad946561bb",
       "version_major": 2,
       "version_minor": 0
      },
      "text/plain": [
       "Button(description='browse', style=ButtonStyle(), tooltip='browse for directory')"
      ]
     },
     "metadata": {},
     "output_type": "display_data"
    }
   ],
   "source": [
    "display(widget_exp_noise_rate.dir_box_bg, widget_exp_noise_rate.dir_button_bg)\n",
    "widget_exp_noise_rate.dir_button_bg.on_click(widget_exp_noise_rate.open_dir_bg)\n",
    "widget_exp_noise_rate.dir_box_bg.observe(widget_exp_noise_rate.change_dir_box_bg)"
   ]
  },
  {
   "cell_type": "markdown",
   "metadata": {
    "hideCode": true,
    "hidePrompt": true
   },
   "source": [
    "## Areas\n",
    "### Cell sizes\n",
    "Choose/insert the complete directory for the roi.log file which contains the cell sizes (e.g. F:\\data_folder\\roi.log). The file name of the cell with no .* ending is compared with the roi entries with no .* ending. The last fitting entry is taken as the cell size. "
   ]
  },
  {
   "cell_type": "code",
   "execution_count": 4,
   "metadata": {
    "hideCode": true,
    "hidePrompt": true
   },
   "outputs": [
    {
     "data": {
      "application/vnd.jupyter.widget-view+json": {
       "model_id": "e746ddbf5cae4bc2858d98f80fef4cbb",
       "version_major": 2,
       "version_minor": 0
      },
      "text/plain": [
       "Text(value='', description='Complete path', placeholder='insert path of roi.log', style=DescriptionStyle(descr…"
      ]
     },
     "metadata": {},
     "output_type": "display_data"
    },
    {
     "data": {
      "application/vnd.jupyter.widget-view+json": {
       "model_id": "3951430db2ae42398a091ef3d7941190",
       "version_major": 2,
       "version_minor": 0
      },
      "text/plain": [
       "Button(description='browse', style=ButtonStyle(), tooltip='browse for file')"
      ]
     },
     "metadata": {},
     "output_type": "display_data"
    }
   ],
   "source": [
    "display(widget_exp_noise_rate.roi_text_box, widget_exp_noise_rate.roi_button)\n",
    "widget_exp_noise_rate.roi_button.on_click(widget_exp_noise_rate.open_file)\n",
    "widget_exp_noise_rate.roi_text_box.observe(widget_exp_noise_rate.change_roi_box)"
   ]
  },
  {
   "cell_type": "markdown",
   "metadata": {
    "hideCode": true,
    "hidePrompt": true
   },
   "source": [
    "### Background sizes\n",
    "Area of detection on the camera chip in px^2 (e.g. 256 * 256 = 65536 pixel)."
   ]
  },
  {
   "cell_type": "code",
   "execution_count": 5,
   "metadata": {
    "hideCode": true,
    "hidePrompt": true,
    "scrolled": true
   },
   "outputs": [
    {
     "data": {
      "application/vnd.jupyter.widget-view+json": {
       "model_id": "96195ce849d54788aaed588674348bc3",
       "version_major": 2,
       "version_minor": 0
      },
      "text/plain": [
       "Text(value='65536', description='Area of camera in px²', placeholder='insert area', style=DescriptionStyle(des…"
      ]
     },
     "metadata": {},
     "output_type": "display_data"
    }
   ],
   "source": [
    "display(widget_exp_noise_rate.background_size_box)"
   ]
  },
  {
   "cell_type": "markdown",
   "metadata": {
    "hideCode": true,
    "hidePrompt": true
   },
   "source": [
    "## Run analysis"
   ]
  },
  {
   "cell_type": "code",
   "execution_count": 6,
   "metadata": {
    "hideCode": true,
    "hidePrompt": true,
    "scrolled": false
   },
   "outputs": [
    {
     "data": {
      "application/vnd.jupyter.widget-view+json": {
       "model_id": "2dbb09a103b54cebbafee5084fb60f42",
       "version_major": 2,
       "version_minor": 0
      },
      "text/plain": [
       "Button(description='run', style=ButtonStyle(), tooltip='run the analysis')"
      ]
     },
     "metadata": {},
     "output_type": "display_data"
    },
    {
     "data": {
      "image/png": "[encoded data removed]",
      "text/plain": [
       "<Figure size 216x360 with 1 Axes>"
      ]
     },
     "metadata": {
      "needs_background": "light"
     },
     "output_type": "display_data"
    },
    {
     "data": {
      "image/png": "[encoded data removed]",
      "text/plain": [
       "<Figure size 216x360 with 1 Axes>"
      ]
     },
     "metadata": {
      "needs_background": "light"
     },
     "output_type": "display_data"
    },
    {
     "data": {
      "image/png": "[encoded data removed]",
      "text/plain": [
       "<Figure size 216x360 with 1 Axes>"
      ]
     },
     "metadata": {
      "needs_background": "light"
     },
     "output_type": "display_data"
    },
    {
     "name": "stdout",
     "output_type": "stream",
     "text": [
      "name: locs per px² frame, exp noise rate %:\n",
      "Fab_CS2_cell01: 0.0008490689948234567, 15.408507226091528\n",
      "Fab_CS2_cell02: 0.0008506469500924214, 15.379924351419902\n",
      "Fab_CS2_cell03: 0.0008578362298418663, 15.25102961039452\n",
      "Fab_CS2_cell04: 0.0012684049518254853, 10.31443918865079\n",
      "Fab_CS2_cell05: 0.001744719792086094, 7.498559826930605\n",
      "Fab_CS2_cell06: 0.001946903480668139, 6.719843008189452\n",
      "Fab_CS2_cell07: 0.0018110303389956234, 7.224001420894539\n",
      "Fab_CS2_cell08: 0.0026182806324110673, 4.996746941575934\n",
      "Fab_CS2_cell09: 0.0024795573817175866, 5.276298842144561\n",
      "Fab_CS2_cell10: 0.002179376386780334, 6.003040971511712\n",
      "Fab_CS2_cell11: 0.0030761722651902164, 4.252975651016904\n",
      "Fab_CS2_cell12: 0.0030761989775217073, 4.2529387200848525\n",
      "Fab_CS2_cell13: 0.00360478475858057, 3.6293112122841573\n",
      "Fab_CS2_cell14: 0.003976397470900991, 3.290135314169969\n",
      "Fab_CS2_cell15: 0.003948160535117057, 3.313666104967441\n",
      "Fab_CS2_cell16: 0.00517529407256983, 2.527950210893253\n",
      "Fab_CS2_cell17: 0.004529943895968338, 2.8880900167066756\n",
      "Fab_CS2_cell18: 0.0050426583592938735, 2.5944422187704\n",
      "Fab_CS2_cell19: 0.004434865860073646, 2.950007092654263\n",
      "Fab_CS2_cell20: 0.005456671855665988, 2.397594374051055\n",
      "[15.408507226091528, 15.379924351419902, 15.25102961039452, 10.31443918865079, 7.498559826930605, 6.719843008189452, 7.224001420894539, 4.996746941575934, 5.276298842144561, 6.003040971511712, 4.252975651016904, 4.2529387200848525, 3.6293112122841573, 3.290135314169969, 3.313666104967441, 2.527950210893253, 2.8880900167066756, 2.5944422187704, 2.950007092654263, 2.397594374051055]\n"
     ]
    }
   ],
   "source": [
    "exp_noise_rate = expNoiseRate.ExpNoiseRate()\n",
    "display(widget_exp_noise_rate.run_button)\n",
    "def run_analysis(event):\n",
    "    widget_exp_noise_rate.create_clear_output()\n",
    "    display(widget_exp_noise_rate.run_button)\n",
    "    if not widget_exp_noise_rate.dir_box.value:\n",
    "        print(\"Load cell localizations.\")   \n",
    "    if not widget_exp_noise_rate.dir_box_bg.value:\n",
    "        print(\"Load background localizations.\")\n",
    "    if not widget_exp_noise_rate.roi_text_box.value:\n",
    "        print(\"Load areas.\")\n",
    "    if widget_exp_noise_rate.roi_text_box.value and widget_exp_noise_rate.dir_box_bg.value and widget_exp_noise_rate.dir_box.value:\n",
    "        exp_noise_rate.run_exp_noise_rate(widget_exp_noise_rate.dir_name, widget_exp_noise_rate.dir_name_bg, widget_exp_noise_rate.roi_path, widget_exp_noise_rate.determine_suffix(), int(widget_exp_noise_rate.background_size_box.value))\n",
    "widget_exp_noise_rate.run_button.on_click(run_analysis)"
   ]
  },
  {
   "cell_type": "markdown",
   "metadata": {
    "hideCode": true,
    "hidePrompt": true
   },
   "source": [
    "## Save analysis\n",
    "The results will be saved in two .txt files, the first with the cell names localization densities and exp noise rates, the second with the background names and localization densities. Optionally the plots can be saved as .pdf. Choose a directory and folder name."
   ]
  },
  {
   "cell_type": "code",
   "execution_count": 7,
   "metadata": {
    "hideCode": true,
    "hidePrompt": true
   },
   "outputs": [
    {
     "data": {
      "application/vnd.jupyter.widget-view+json": {
       "model_id": "cdce500796eb4c0e92f74e8ea56c3ed9",
       "version_major": 2,
       "version_minor": 0
      },
      "text/plain": [
       "Text(value='exp_noise_rate', description='Foldername', placeholder='name of folder', style=DescriptionStyle(de…"
      ]
     },
     "metadata": {},
     "output_type": "display_data"
    },
    {
     "data": {
      "application/vnd.jupyter.widget-view+json": {
       "model_id": "81dcabd5f2be434eb5625e30bc78a6b7",
       "version_major": 2,
       "version_minor": 0
      },
      "text/plain": [
       "Text(value='', description='Directory', placeholder='Directory to save', style=DescriptionStyle(description_wi…"
      ]
     },
     "metadata": {},
     "output_type": "display_data"
    },
    {
     "data": {
      "application/vnd.jupyter.widget-view+json": {
       "model_id": "d875ed7476594978a1d7689b4e1ebd5c",
       "version_major": 2,
       "version_minor": 0
      },
      "text/plain": [
       "Button(description='browse', style=ButtonStyle(), tooltip='browse for directory')"
      ]
     },
     "metadata": {},
     "output_type": "display_data"
    }
   ],
   "source": [
    "display(widget_exp_noise_rate.box_foldername, widget_exp_noise_rate.dir_box_save, widget_exp_noise_rate.dir_button_save)\n",
    "widget_exp_noise_rate.dir_button_save.on_click(widget_exp_noise_rate.open_dir_save)\n",
    "widget_exp_noise_rate.dir_box_save.observe(widget_exp_noise_rate.change_dir_box_save)"
   ]
  },
  {
   "cell_type": "code",
   "execution_count": 8,
   "metadata": {
    "hideCode": true,
    "hidePrompt": true
   },
   "outputs": [
    {
     "data": {
      "application/vnd.jupyter.widget-view+json": {
       "model_id": "c4a4f8ceefa043169e99d0ba3d40baf0",
       "version_major": 2,
       "version_minor": 0
      },
      "text/plain": [
       "Checkbox(value=True, description='Save plot')"
      ]
     },
     "metadata": {},
     "output_type": "display_data"
    },
    {
     "data": {
      "application/vnd.jupyter.widget-view+json": {
       "model_id": "4b5722ddd4d44f66bf3c74fdf08d43df",
       "version_major": 2,
       "version_minor": 0
      },
      "text/plain": [
       "Button(description='save', style=ButtonStyle(), tooltip='save the results')"
      ]
     },
     "metadata": {},
     "output_type": "display_data"
    }
   ],
   "source": [
    "display(widget_exp_noise_rate.save_fig_checkbox, widget_exp_noise_rate.save_button)\n",
    "def save_analysis(event):\n",
    "    widget_exp_noise_rate.create_clear_output()\n",
    "    display(widget_exp_noise_rate.save_fig_checkbox, widget_exp_noise_rate.save_button)\n",
    "    exp_noise_rate.save_results(widget_exp_noise_rate.dir_box_save.value, widget_exp_noise_rate.box_foldername.value, widget_exp_noise_rate.save_fig_checkbox.value)\n",
    "    print(\"Results are saved.\")\n",
    "widget_exp_noise_rate.save_button.on_click(save_analysis)"
   ]
  }
 ],
 "metadata": {
  "hide_code_all_hidden": true,
  "kernelspec": {
   "display_name": "Python 3",
   "language": "python",
   "name": "python3"
  },
  "language_info": {
   "codemirror_mode": {
    "name": "ipython",
    "version": 3
   },
   "file_extension": ".py",
   "mimetype": "text/x-python",
   "name": "python",
   "nbconvert_exporter": "python",
   "pygments_lexer": "ipython3",
   "version": "3.7.6"
  }
 },
 "nbformat": 4,
 "nbformat_minor": 2
}
