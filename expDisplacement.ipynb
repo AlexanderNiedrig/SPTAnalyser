{
 "cells": [
  {
   "cell_type": "markdown",
   "metadata": {},
   "source": [
    "# Determination of expected displacement\n",
    "### Johanna Rahm, Sebastian Malkusch\n",
    "### Research group Heilemann\n",
    "### Institute for Physical and Theoretical Chemistry, Goethe University Frankfurt a.M."
   ]
  },
  {
   "cell_type": "code",
   "execution_count": 1,
   "metadata": {},
   "outputs": [],
   "source": [
    "from pySPT.widgets import widgetExpDisp\n",
    "from pySPT.preAnalysis import expDisplacement\n",
    "widget_exp_disp = widgetExpDisp.WidgetExpDisp()\n",
    "exp_displacement = expDisplacement.ExpDisplacement()"
   ]
  },
  {
   "cell_type": "markdown",
   "metadata": {},
   "source": [
    "## Define file name\n",
    "full file name of the tracked seg file with .txt ending \n",
    "(for example cell_1_MMStack_Pos0.ome.tif.tracked.seg.txt)\n"
   ]
  },
  {
   "cell_type": "code",
   "execution_count": 2,
   "metadata": {},
   "outputs": [
    {
     "data": {
      "application/vnd.jupyter.widget-view+json": {
       "model_id": "532bd926d5544edca82bee07bb4c11b1",
       "version_major": 2,
       "version_minor": 0
      },
      "text/plain": [
       "Text(value='path', description='complete path', placeholder='Type something', style=DescriptionStyle(descripti…"
      ]
     },
     "metadata": {},
     "output_type": "display_data"
    },
    {
     "data": {
      "application/vnd.jupyter.widget-view+json": {
       "model_id": "8fb43c577ea8428f94f0ff9cbd94c5dd",
       "version_major": 2,
       "version_minor": 0
      },
      "text/plain": [
       "Button(description='browse', icon='check', style=ButtonStyle(), tooltip='browse for file')"
      ]
     },
     "metadata": {},
     "output_type": "display_data"
    }
   ],
   "source": [
    "display(widget_exp_disp.file_name_text, widget_exp_disp.file_dialog_button)\n",
    "widget_exp_disp.file_dialog_button.on_click(widget_exp_disp.open_file)\n",
    "#exp_displacement.file_name = \"F:\\\\Marburg\\\\single_colour_tracking\\\\resting\\\\160404_CS5_Cell1\\\\cell_1_MMStack_Pos0.ome.tif.tracked.seg.txt\""
   ]
  },
  {
   "cell_type": "code",
   "execution_count": null,
   "metadata": {},
   "outputs": [],
   "source": [
    "widget_exp_disp.print_file_name()"
   ]
  },
  {
   "cell_type": "markdown",
   "metadata": {},
   "source": [
    "## Load file"
   ]
  },
  {
   "cell_type": "code",
   "execution_count": null,
   "metadata": {},
   "outputs": [],
   "source": [
    "exp_displacement.load_seg_file()"
   ]
  },
  {
   "cell_type": "markdown",
   "metadata": {},
   "source": [
    "## Run analysis"
   ]
  },
  {
   "cell_type": "code",
   "execution_count": null,
   "metadata": {
    "scrolled": true
   },
   "outputs": [],
   "source": [
    "exp_displacement.count_mjd_frequencies()\n",
    "exp_displacement.calc_exp_displacement()\n",
    "exp_displacement.save_mjd_frequencies()\n",
    "exp_displacement.plot_mjd_frequencies()"
   ]
  }
 ],
 "metadata": {
  "kernelspec": {
   "display_name": "Python 3",
   "language": "python",
   "name": "python3"
  },
  "language_info": {
   "codemirror_mode": {
    "name": "ipython",
    "version": 3
   },
   "file_extension": ".py",
   "mimetype": "text/x-python",
   "name": "python",
   "nbconvert_exporter": "python",
   "pygments_lexer": "ipython3",
   "version": "3.7.1"
  }
 },
 "nbformat": 4,
 "nbformat_minor": 2
}
