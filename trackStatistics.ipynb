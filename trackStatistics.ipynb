{
 "cells": [
  {
   "cell_type": "markdown",
   "metadata": {},
   "source": [
    "## Load *.trc files"
   ]
  },
  {
   "cell_type": "markdown",
   "metadata": {},
   "source": [
    "Choose/insert a directory for the cell files to be searched in (e.g. F:\\Marburg\\single_colour_tracking\\resting). All *.trc files in the directory will be loaded for the analysis."
   ]
  },
  {
   "cell_type": "code",
   "execution_count": 1,
   "metadata": {},
   "outputs": [
    {
     "data": {
      "application/vnd.jupyter.widget-view+json": {
       "model_id": "f80851f2e64040daa1a60b4273bee05f",
       "version_major": 2,
       "version_minor": 0
      },
      "text/plain": [
       "Text(value='directory to be searched in', description='directory', placeholder='Type something', style=Descrip…"
      ]
     },
     "metadata": {},
     "output_type": "display_data"
    },
    {
     "data": {
      "application/vnd.jupyter.widget-view+json": {
       "model_id": "cc39be95603b4fc7ae6b5dfe2b6be94b",
       "version_major": 2,
       "version_minor": 0
      },
      "text/plain": [
       "Button(description='browse', style=ButtonStyle(), tooltip='browse for directory')"
      ]
     },
     "metadata": {},
     "output_type": "display_data"
    }
   ],
   "source": [
    "from pySPT.widgets import widgetLoadHdf5\n",
    "from pySPT.widgets import loadHdf5\n",
    "from pySPT.analysis import cell\n",
    "from pySPT.analysis import trajectory\n",
    "from pySPT.analysis import coverSlip\n",
    "from pySPT.analysis import trajectoryStatistics\n",
    "widget_load_hdf5 = widgetLoadHdf5.WidgetLoadHdf5()\n",
    "load_hdf5 = loadHdf5.LoadHdf5()\n",
    "cover_slip = coverSlip.CoverSlip()\n",
    "display(widget_load_hdf5.dir_box, widget_load_hdf5.dir_button)\n",
    "widget_load_hdf5.dir_button.on_click(widget_load_hdf5.open_dir)\n",
    "widget_load_hdf5.dir_box.observe(widget_load_hdf5.change_dir_box)"
   ]
  },
  {
   "cell_type": "code",
   "execution_count": 2,
   "metadata": {},
   "outputs": [
    {
     "data": {
      "application/vnd.jupyter.widget-view+json": {
       "model_id": "022ef08f78734399a5b3989b81b9b750",
       "version_major": 2,
       "version_minor": 0
      },
      "text/plain": [
       "Button(description='initialize', style=ButtonStyle(), tooltip='initialize objects')"
      ]
     },
     "metadata": {},
     "output_type": "display_data"
    },
    {
     "data": {
      "application/vnd.jupyter.widget-view+json": {
       "model_id": "fd5660ddf87148499f31689f5f438d22",
       "version_major": 2,
       "version_minor": 0
      },
      "text/plain": [
       "HBox(children=(IntProgress(value=0, max=2), HTML(value='')))"
      ]
     },
     "metadata": {},
     "output_type": "display_data"
    },
    {
     "name": "stdout",
     "output_type": "stream",
     "text": [
      "\n",
      "Initialization took 2.599923610687256 s\n"
     ]
    }
   ],
   "source": [
    "import time\n",
    "from tqdm import tqdm_notebook as tqdm\n",
    "def initialize(event):\n",
    "    start = time.time()\n",
    "    widget_load_hdf5.search_sub_folders(widget_load_hdf5.dir_name)\n",
    "    load_hdf5.file_names = widget_load_hdf5.file_names\n",
    "    load_hdf5.run_load_hdf5()\n",
    "    #print(load_hdf5.locs[0][0])\n",
    "    for cell_index in tqdm(range(0, load_hdf5.cell_numbers)):\n",
    "        one_cell = cell.Cell()\n",
    "        one_cell.trc_file = load_hdf5.trc_files[cell_index]\n",
    "        one_cell.pixel_size = load_hdf5.pixel_sizes[cell_index]\n",
    "        one_cell.pixel_amount = load_hdf5.pixel_amounts[cell_index]\n",
    "        one_cell.size = load_hdf5.sizes[cell_index]\n",
    "        one_cell.name = load_hdf5.names[cell_index]\n",
    "        for trajectory_index in range(0, load_hdf5.trajectory_numbers[cell_index]):\n",
    "            one_trajectory = trajectory.Trajectory(load_hdf5.locs[cell_index][trajectory_index])\n",
    "            one_trajectory.trajectory_number = trajectory_index+1\n",
    "            one_trajectory.MSDs = load_hdf5.cells_trajectories_MSDs[cell_index][trajectory_index]\n",
    "            one_trajectory.times = load_hdf5.cells_trajectories_times[cell_index][trajectory_index]\n",
    "            one_trajectory.MSD_fit = load_hdf5.cells_trajectories_MSD_fit[cell_index][trajectory_index]\n",
    "            one_trajectory.MSD_D = load_hdf5.cells_trajectories_MSD_D[cell_index][trajectory_index]\n",
    "            one_trajectory.dt = load_hdf5.dts[cell_index]\n",
    "            one_trajectory.dof = load_hdf5.dofs[cell_index]\n",
    "            one_trajectory.D_min = load_hdf5.D_mins[cell_index]\n",
    "            one_trajectory.length_MSD = load_hdf5.cells_lengths_trajectories[cell_index][trajectory_index][0]\n",
    "            one_trajectory.length_trajectory = load_hdf5.cells_lengths_MSDs[cell_index][trajectory_index][0]\n",
    "            one_trajectory.D = load_hdf5.cells_trajectories_D[cell_index][trajectory_index][0]\n",
    "            one_trajectory.dD = load_hdf5.cells_trajectories_dD[cell_index][trajectory_index][0]\n",
    "            one_trajectory.chi_D = load_hdf5.cells_trajectories_chi2_D[cell_index][trajectory_index][0]\n",
    "            one_trajectory.chi_MSD_fit = load_hdf5.cells_trajectories_chi2_rossier[cell_index][trajectory_index][0]\n",
    "            one_trajectory.MSD_0 = load_hdf5.cells_trajectories_MSD0[cell_index][trajectory_index][0]\n",
    "            one_trajectory.fit_area = load_hdf5.fit_areas[cell_index]\n",
    "            one_trajectory.tau = load_hdf5.cells_trajectories_tau[cell_index][trajectory_index][0]\n",
    "            one_trajectory.dtau = load_hdf5.cells_trajectories_dtau[cell_index][trajectory_index][0]\n",
    "            one_trajectory.D_conf = load_hdf5.cells_trajectories_Dconf[cell_index][trajectory_index][0]\n",
    "            one_trajectory.r = load_hdf5.cells_trajectories_r[cell_index][trajectory_index][0]\n",
    "            one_trajectory.dr = load_hdf5.cells_trajectories_dr[cell_index][trajectory_index][0]\n",
    "            one_trajectory.tau_threshold = load_hdf5.tau_thresholds[cell_index]\n",
    "            one_trajectory.immobility = bool(load_hdf5.cells_trajectories_type[cell_index][trajectory_index][0])\n",
    "            one_trajectory.confined = bool(load_hdf5.cells_trajectories_type[cell_index][trajectory_index][1])\n",
    "            one_trajectory.analyse_successful = bool(load_hdf5.cells_trajectories_analyse_successful[cell_index][trajectory_index][0])\n",
    "            one_cell.analysed_trajectories.append(one_trajectory)\n",
    "        cover_slip.cells.append(one_cell)\n",
    "        cover_slip.cell_trajectories.append(one_cell.analysed_trajectories)\n",
    "        cover_slip.cell_files = load_hdf5.file_names\n",
    "    print(\"Initialization took {} s\".format(time.time()-start))\n",
    "#         print(cover_slip.cell_trajectories[0][0].analyse_successful)\n",
    "#         print(cover_slip.cell_trajectories[0][0].immobility)\n",
    "#         print(cover_slip.cell_trajectories[0][0].confined)\n",
    "#         print(type(cover_slip.cell_trajectories[0][0].analyse_successful))\n",
    "#     print(cover_slip.cell_trajectories[0][0].dt)\n",
    "#     print(type(cover_slip.cell_trajectories[1][0].dt))\n",
    "#     print(cover_slip.cell_trajectories[0][0].MSDs)\n",
    "#     print(cover_slip.cell_trajectories[1][0].MSDs)\n",
    "#     print(cover_slip.cells[0].size)\n",
    "#     print(cover_slip.cells[1].size)\n",
    "display(widget_load_hdf5.init_button)\n",
    "widget_load_hdf5.init_button.on_click(initialize)"
   ]
  },
  {
   "cell_type": "markdown",
   "metadata": {},
   "source": [
    "## Filter for parameters"
   ]
  },
  {
   "cell_type": "code",
   "execution_count": 3,
   "metadata": {},
   "outputs": [
    {
     "name": "stdout",
     "output_type": "stream",
     "text": [
      "max length: 537\n",
      "max diffusion coefficient: 2.4615554891102156\n",
      "min diffusion coefficient: 1e-05\n"
     ]
    }
   ],
   "source": [
    "track_stats = trajectoryStatistics.TrajectoryStatistics()\n",
    "def filter(event):\n",
    "    widget_load_hdf5.create_clear_output()\n",
    "    track_stats.cell_trajectories = cover_slip.cell_trajectories\n",
    "    track_stats.run_statistics(widget_load_hdf5.min_length_box.value, widget_load_hdf5.max_length_box.value, widget_load_hdf5.min_D_box.value, widget_load_hdf5.max_D_box.value)\n",
    "display(widget_load_hdf5.min_length_box, widget_load_hdf5.max_length_box, widget_load_hdf5.min_D_box, widget_load_hdf5.max_D_box, widget_load_hdf5.filter_button)\n",
    "widget_load_hdf5.filter_button.on_click(filter)"
   ]
  },
  {
   "cell_type": "code",
   "execution_count": 4,
   "metadata": {},
   "outputs": [],
   "source": [
    "## Plot diffusion histogram"
   ]
  },
  {
   "cell_type": "code",
   "execution_count": 5,
   "metadata": {},
   "outputs": [],
   "source": [
    "# trajectory_stats.cell_trajectories = cover_slip.cell_trajectories\n",
    "# trajectory_stats.get_index()\n",
    "# trajectory_stats.create_init_filter_lst()"
   ]
  },
  {
   "cell_type": "markdown",
   "metadata": {},
   "source": [
    "## Choose trajectory to plot"
   ]
  },
  {
   "cell_type": "markdown",
   "metadata": {},
   "source": [
    "Choose a cell. If one wants to plot multiple times, choose a new cell and/or trajectory reload the plotting cell by clicking in the cell and pressing strg+enter."
   ]
  },
  {
   "cell_type": "code",
   "execution_count": 6,
   "metadata": {},
   "outputs": [
    {
     "data": {
      "application/vnd.jupyter.widget-view+json": {
       "model_id": "2b5401a557b3466187c86fbbf02d3ef4",
       "version_major": 2,
       "version_minor": 0
      },
      "text/plain": [
       "Dropdown(description='Number:', options=(), value=None)"
      ]
     },
     "metadata": {},
     "output_type": "display_data"
    }
   ],
   "source": [
    "def dropdown(event):\n",
    "    widget_load_hdf5.cell_options = widget_load_hdf5.get_cell_names(cover_slip.cells)\n",
    "widget_load_hdf5.filter_button.on_click(dropdown)\n",
    "display(widget_load_hdf5.drop_down_cells)"
   ]
  },
  {
   "cell_type": "markdown",
   "metadata": {},
   "source": [
    "Choose a trajectory."
   ]
  },
  {
   "cell_type": "code",
   "execution_count": 7,
   "metadata": {},
   "outputs": [
    {
     "data": {
      "application/vnd.jupyter.widget-view+json": {
       "model_id": "d325fe75454447b68d4fe18b66b402eb",
       "version_major": 2,
       "version_minor": 0
      },
      "text/plain": [
       "Dropdown(description='Number:', options=(), value=None)"
      ]
     },
     "metadata": {},
     "output_type": "display_data"
    }
   ],
   "source": [
    "def dropdown(event):      \n",
    "    for cell in cover_slip.cells:\n",
    "        if cell.name == widget_load_hdf5.drop_down_cells.value:\n",
    "            target_cell = cover_slip.cells.index(cell)\n",
    "            trajectory_indexes = [i+1 for i, _ in enumerate(track_stats.cell_trajectories_filtered_index[target_cell])]\n",
    "            widget_load_hdf5.trajectory_options = trajectory_indexes\n",
    "            widget_load_hdf5.drop_down_trajectories.options = widget_load_hdf5.trajectory_options\n",
    "#widget_load_hdf5.filter_button.on_click(dropdown)\n",
    "widget_load_hdf5.drop_down_cells.observe(dropdown)\n",
    "display(widget_load_hdf5.drop_down_trajectories)"
   ]
  },
  {
   "cell_type": "code",
   "execution_count": null,
   "metadata": {},
   "outputs": [],
   "source": []
  },
  {
   "cell_type": "code",
   "execution_count": 9,
   "metadata": {},
   "outputs": [
    {
     "data": {
      "image/png": "[encoded data removed]",
      "text/plain": [
       "<Figure size 432x288 with 1 Axes>"
      ]
     },
     "metadata": {
      "needs_background": "light"
     },
     "output_type": "display_data"
    },
    {
     "data": {
      "image/png": "[encoded data removed]",
      "text/plain": [
       "<Figure size 432x288 with 2 Axes>"
      ]
     },
     "metadata": {
      "needs_background": "light"
     },
     "output_type": "display_data"
    },
    {
     "data": {
      "image/png": "[encoded data removed]",
      "text/plain": [
       "<Figure size 432x288 with 2 Axes>"
      ]
     },
     "metadata": {
      "needs_background": "light"
     },
     "output_type": "display_data"
    },
    {
     "name": "stdout",
     "output_type": "stream",
     "text": [
      "Number: 1\n",
      "Diffusion coefficient: 0.030127680033577648 μm²/s\n",
      "MSD0: 0.0007694425234775785 μm²\n",
      "chi² linear fit: 0.00011140910086198248 μm⁴\n",
      "Type immobile: False\n",
      "Trajectory length: 12.0\n",
      "Analyse successful? True\n",
      "chi² rossier fit: 0.0002675535732396599 μm⁴\n",
      "Type confined: False\n",
      "Type free: True\n",
      "D_conf: 0.03287488828624983 μm²/s\n",
      "r_conf: 5.024525535518655 μm\n",
      "tau: 255.97913963242576 s\n",
      "tau threshold: 0.12 s\n"
     ]
    }
   ],
   "source": [
    "def plot_particle(event):\n",
    "#     import numpy as np\n",
    "#     particle = cover_slip.cell_trajectories[0][2]\n",
    "#     print(particle.MSDs)\n",
    "#     print(type(particle.MSDs))\n",
    "#     print(np.shape(particle.MSDs))\n",
    "#     print(particle.localizations)\n",
    "#     print(type(particle.localizations))\n",
    "#     print(np.shape(particle.localizations))\n",
    "#     print(particle.trajectory_number)\n",
    "#     print(particle.D)\n",
    "    widget_load_hdf5.create_clear_output()\n",
    "    cover_slip.plot_trajectory(widget_load_hdf5.drop_down_cells.value, widget_load_hdf5.drop_down_trajectories.value)\n",
    "display(widget_load_hdf5.plot_button)\n",
    "widget_load_hdf5.plot_button.on_click(plot_particle)"
   ]
  }
 ],
 "metadata": {
  "kernelspec": {
   "display_name": "Python 3",
   "language": "python",
   "name": "python3"
  },
  "language_info": {
   "codemirror_mode": {
    "name": "ipython",
    "version": 3
   },
   "file_extension": ".py",
   "mimetype": "text/x-python",
   "name": "python",
   "nbconvert_exporter": "python",
   "pygments_lexer": "ipython3",
   "version": "3.7.1"
  }
 },
 "nbformat": 4,
 "nbformat_minor": 2
}
