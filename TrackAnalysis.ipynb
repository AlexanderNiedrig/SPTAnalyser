{
 "cells": [
  {
   "cell_type": "markdown",
   "metadata": {
    "hideCode": true,
    "hidePrompt": true
   },
   "source": [
    "# Analysis & *.h5 saving of cells and backgrounds\n",
    "### Johanna Rahm, Sebastian Malkusch\n",
    "#### Research group Heilemann\n",
    "#### Institute for Physical and Theoretical Chemistry, Goethe University Frankfurt a.M."
   ]
  },
  {
   "cell_type": "markdown",
   "metadata": {
    "hideCode": true,
    "hidePrompt": true
   },
   "source": [
    "## Load *.trc files"
   ]
  },
  {
   "cell_type": "markdown",
   "metadata": {
    "hideCode": true,
    "hidePrompt": true
   },
   "source": [
    "Choose/insert a directory for the cell files to be searched in (e.g. F:\\Marburg\\single_colour_tracking\\resting). All *.trc  files in the directory will be loaded for the analysis."
   ]
  },
  {
   "cell_type": "code",
   "execution_count": 1,
   "metadata": {
    "hideCode": true,
    "hidePrompt": true
   },
   "outputs": [
    {
     "data": {
      "application/vnd.jupyter.widget-view+json": {
       "model_id": "5690b12d4951430e955fac581ac25f24",
       "version_major": 2,
       "version_minor": 0
      },
      "text/plain": [
       "Text(value='directory to be searched in', description='directory', placeholder='Type something', style=Descrip…"
      ]
     },
     "metadata": {},
     "output_type": "display_data"
    },
    {
     "data": {
      "application/vnd.jupyter.widget-view+json": {
       "model_id": "280ee1fad67144b79091190df58243b4",
       "version_major": 2,
       "version_minor": 0
      },
      "text/plain": [
       "Button(description='browse', style=ButtonStyle(), tooltip='browse for directory')"
      ]
     },
     "metadata": {},
     "output_type": "display_data"
    }
   ],
   "source": [
    "from pySPT.widgets.widgetNotebooks import init_save_track_analysis\n",
    "from pySPT.widgets import hdf5\n",
    "from pySPT.widgets import widgetTrackAnalysis\n",
    "from pySPT.analysis import coverSlip\n",
    "from pySPT.analysis import trackAnalysis\n",
    "from tqdm import tqdm_notebook as tqdm\n",
    "import warnings\n",
    "widget_track_analysis = widgetTrackAnalysis.WidgetTrackAnalysis()\n",
    "track_analysis = trackAnalysis.TrackAnalysis()\n",
    "cover_slip = coverSlip.CoverSlip()\n",
    "display(widget_track_analysis.dir_box, widget_track_analysis.dir_button)\n",
    "widget_track_analysis.dir_button.on_click(widget_track_analysis.open_dir)\n",
    "widget_track_analysis.dir_box.observe(widget_track_analysis.change_dir_box)"
   ]
  },
  {
   "cell_type": "markdown",
   "metadata": {
    "hideCode": true,
    "hidePrompt": true
   },
   "source": [
    "Choose/insert the complete directory for the roi.log file which contains the cell sizes (e.g. F:\\Marburg\\single_colour_tracking\\resting\\roi.log). If no cell size was determined, the camera chip size will be set as the size."
   ]
  },
  {
   "cell_type": "code",
   "execution_count": 2,
   "metadata": {
    "hideCode": true,
    "hidePrompt": true
   },
   "outputs": [
    {
     "data": {
      "application/vnd.jupyter.widget-view+json": {
       "model_id": "edeb71fac99748d68f3d85342b2ecf02",
       "version_major": 2,
       "version_minor": 0
      },
      "text/plain": [
       "Text(value='path of roi', description='roi', placeholder='Type something', style=DescriptionStyle(description_…"
      ]
     },
     "metadata": {},
     "output_type": "display_data"
    },
    {
     "data": {
      "application/vnd.jupyter.widget-view+json": {
       "model_id": "96bff55d90df4a88864e8ac02638d709",
       "version_major": 2,
       "version_minor": 0
      },
      "text/plain": [
       "Button(description='browse', style=ButtonStyle(), tooltip='browse for roi')"
      ]
     },
     "metadata": {},
     "output_type": "display_data"
    }
   ],
   "source": [
    "display(widget_track_analysis.roi_box, widget_track_analysis.roi_button)\n",
    "widget_track_analysis.roi_button.on_click(widget_track_analysis.open_roi)\n",
    "widget_track_analysis.roi_box.observe(widget_track_analysis.change_roi_box)"
   ]
  },
  {
   "cell_type": "markdown",
   "metadata": {
    "hideCode": true,
    "hidePrompt": true
   },
   "source": [
    "## Camera details"
   ]
  },
  {
   "cell_type": "markdown",
   "metadata": {
    "hideCode": true,
    "hidePrompt": true
   },
   "source": [
    "Based on the pixel size, the localization will be transfered from pixel to micrometer.\n",
    "Based on the amount of pixel, the camera area will be calculated (e.g. 256 * 256=65536 pixel). Camera integration time is needed for MSD calculations."
   ]
  },
  {
   "cell_type": "code",
   "execution_count": 3,
   "metadata": {
    "hideCode": true,
    "hidePrompt": true
   },
   "outputs": [
    {
     "data": {
      "application/vnd.jupyter.widget-view+json": {
       "model_id": "fde18411f71a45e391482af1a4c4ee13",
       "version_major": 2,
       "version_minor": 0
      },
      "text/plain": [
       "Text(value='158', description='Pixel size [nm]', placeholder='Type something', style=DescriptionStyle(descript…"
      ]
     },
     "metadata": {},
     "output_type": "display_data"
    },
    {
     "data": {
      "application/vnd.jupyter.widget-view+json": {
       "model_id": "cd149520bf654313bfa9ccaf0971e7d8",
       "version_major": 2,
       "version_minor": 0
      },
      "text/plain": [
       "Text(value='65536', description='Amount of pixel on the camera', placeholder='Type something', style=Descripti…"
      ]
     },
     "metadata": {},
     "output_type": "display_data"
    },
    {
     "data": {
      "application/vnd.jupyter.widget-view+json": {
       "model_id": "1859437e3de84bf9abcbdbcbe0521e92",
       "version_major": 2,
       "version_minor": 0
      },
      "text/plain": [
       "Text(value='0.02', description='Camera integration time [s]', placeholder='Type something', style=DescriptionS…"
      ]
     },
     "metadata": {},
     "output_type": "display_data"
    }
   ],
   "source": [
    "display(widget_track_analysis.camera_pixel_size_box, widget_track_analysis.camera_pixel_amount_box, widget_track_analysis.camera_integration_time_box)"
   ]
  },
  {
   "cell_type": "markdown",
   "metadata": {
    "hideCode": true,
    "hidePrompt": true
   },
   "source": [
    "## Parameters for Analysis"
   ]
  },
  {
   "cell_type": "markdown",
   "metadata": {
    "hideCode": true,
    "hidePrompt": true
   },
   "source": [
    "The degree of freedom of the diffusion coefficient D are inserted in the calculation of D (1D = 2, 2D = 4, 3D = 6 dof). The minimal detectable diffusion coefficient is the threshold for the immobile type analysis.\n",
    "Based on the formular min_track_length * camera_integration_time = n -> tau_threshold = 0.3*n, the tau threshold for diffusion type determination free & confined is set."
   ]
  },
  {
   "cell_type": "code",
   "execution_count": 4,
   "metadata": {
    "hideCode": true,
    "hidePrompt": true
   },
   "outputs": [
    {
     "data": {
      "application/vnd.jupyter.widget-view+json": {
       "model_id": "15d7257d32374cc1a099c164c2b7ff03",
       "version_major": 2,
       "version_minor": 0
      },
      "text/plain": [
       "Text(value='4', description='degree of freedom of D', placeholder='Type something', style=DescriptionStyle(des…"
      ]
     },
     "metadata": {},
     "output_type": "display_data"
    },
    {
     "data": {
      "application/vnd.jupyter.widget-view+json": {
       "model_id": "f6d6ff2af2264c62b86156b17dc89666",
       "version_major": 2,
       "version_minor": 0
      },
      "text/plain": [
       "Text(value='0.0065', description='Minimal detectable D  [μm²/s]', placeholder='Type something', style=Descript…"
      ]
     },
     "metadata": {},
     "output_type": "display_data"
    },
    {
     "data": {
      "application/vnd.jupyter.widget-view+json": {
       "model_id": "4bb2de79e25343cebe47ce0c89fcc8be",
       "version_major": 2,
       "version_minor": 0
      },
      "text/plain": [
       "Text(value='20', description='Min track length', placeholder='Type something', style=DescriptionStyle(descript…"
      ]
     },
     "metadata": {},
     "output_type": "display_data"
    }
   ],
   "source": [
    "display(widget_track_analysis.dof_box, widget_track_analysis.D_min_box, widget_track_analysis.min_track_length_box)"
   ]
  },
  {
   "cell_type": "markdown",
   "metadata": {
    "hideCode": true,
    "hidePrompt": true
   },
   "source": [
    "## Run Analysis"
   ]
  },
  {
   "cell_type": "code",
   "execution_count": 5,
   "metadata": {
    "hideCode": true,
    "hidePrompt": true
   },
   "outputs": [
    {
     "data": {
      "application/vnd.jupyter.widget-view+json": {
       "model_id": "795cec9a5a814ee19eeb7c195fcc0469",
       "version_major": 2,
       "version_minor": 0
      },
      "text/plain": [
       "Button(description='run', style=ButtonStyle(), tooltip='run the analysis')"
      ]
     },
     "metadata": {},
     "output_type": "display_data"
    }
   ],
   "source": [
    "warnings.filterwarnings('ignore')\n",
    "display(widget_track_analysis.run_button)\n",
    "def run_analysis(event):\n",
    "    widget_track_analysis.create_clear_output()\n",
    "    widget_track_analysis.searchSubFolders(widget_track_analysis.dir_name)\n",
    "    if widget_track_analysis.got_dir:\n",
    "        cover_slip.tau_threshold_min_length, cover_slip.dt, cover_slip.pixel_size, cover_slip.pixel_amount, cover_slip.dof, cover_slip.D_min, cover_slip.roi_file, cover_slip.cell_files = widget_track_analysis.min_track_length_box.value, widget_track_analysis.camera_integration_time_box.value, widget_track_analysis.camera_pixel_size_box.value, widget_track_analysis.camera_pixel_amount_box.value, widget_track_analysis.dof_box.value, widget_track_analysis.D_min_box.value, widget_track_analysis.roi_name, widget_track_analysis.file_names       \n",
    "        cover_slip.create_cells()  \n",
    "        track_analysis.cell_sizes = [cell.size for cell in cover_slip.cells]\n",
    "        track_analysis.cell_trajectories = cover_slip.cell_trajectories\n",
    "        track_analysis.run_statistics_no_filter()\n",
    "    else:\n",
    "        widget_track_analysis.warning_trc_file()\n",
    "    widget_track_analysis.cells = cover_slip.cells\n",
    "widget_track_analysis.run_button.on_click(run_analysis)"
   ]
  },
  {
   "cell_type": "markdown",
   "metadata": {
    "hideCode": true,
    "hidePrompt": true
   },
   "source": [
    "## Plot diffusion histogram"
   ]
  },
  {
   "cell_type": "markdown",
   "metadata": {
    "hideCode": true,
    "hidePrompt": true
   },
   "source": [
    "Plot the normalized frequency in % against the diffusion coefficients (semi log scale)."
   ]
  },
  {
   "cell_type": "code",
   "execution_count": 6,
   "metadata": {
    "hideCode": true,
    "hidePrompt": true
   },
   "outputs": [
    {
     "data": {
      "application/vnd.jupyter.widget-view+json": {
       "model_id": "4403a2e62d7d42ba8c1a942d66c9922d",
       "version_major": 2,
       "version_minor": 0
      },
      "text/plain": [
       "Text(value='0.1', description='bin size', placeholder='size for log10(D) histogram', style=DescriptionStyle(de…"
      ]
     },
     "metadata": {},
     "output_type": "display_data"
    }
   ],
   "source": [
    "display(widget_track_analysis.bin_size_box)"
   ]
  },
  {
   "cell_type": "code",
   "execution_count": 7,
   "metadata": {
    "hideCode": true,
    "hidePrompt": true
   },
   "outputs": [
    {
     "data": {
      "application/vnd.jupyter.widget-view+json": {
       "model_id": "ac4e72ae33184caa99e87af185201758",
       "version_major": 2,
       "version_minor": 0
      },
      "text/plain": [
       "Button(description='plot', style=ButtonStyle(), tooltip='plot diffusion histogram')"
      ]
     },
     "metadata": {},
     "output_type": "display_data"
    }
   ],
   "source": [
    "def plot_diffusions(event):\n",
    "    widget_track_analysis.create_clear_output()\n",
    "    display(widget_track_analysis.plot_diff_button)\n",
    "    track_analysis.run_plot_diffusion_histogram(widget_track_analysis.bin_size_box.value)\n",
    "display(widget_track_analysis.plot_diff_button)\n",
    "widget_track_analysis.plot_diff_button.on_click(plot_diffusions)"
   ]
  },
  {
   "cell_type": "markdown",
   "metadata": {
    "hideCode": true,
    "hidePrompt": true
   },
   "source": [
    "## Choose trajectory to plot"
   ]
  },
  {
   "cell_type": "markdown",
   "metadata": {
    "hideCode": true,
    "hidePrompt": true
   },
   "source": [
    "Choose a cell. If one wants to plot multiple times, choose a new cell and/or trajectory reload the plotting cell by clicking in the cell and pressing strg+enter."
   ]
  },
  {
   "cell_type": "code",
   "execution_count": 8,
   "metadata": {
    "hideCode": true,
    "hidePrompt": true
   },
   "outputs": [
    {
     "data": {
      "application/vnd.jupyter.widget-view+json": {
       "model_id": "f370690879b942999683bc97682cf019",
       "version_major": 2,
       "version_minor": 0
      },
      "text/plain": [
       "Dropdown(description='Number:', options=(), value=None)"
      ]
     },
     "metadata": {},
     "output_type": "display_data"
    }
   ],
   "source": [
    "def dropdown(event):\n",
    "    widget_track_analysis.cell_options = widget_track_analysis.get_cell_names(cover_slip.cells)\n",
    "widget_track_analysis.run_button.on_click(dropdown)\n",
    "display(widget_track_analysis.drop_down_cells)"
   ]
  },
  {
   "cell_type": "markdown",
   "metadata": {
    "hideCode": true,
    "hidePrompt": true
   },
   "source": [
    "Choose a trajectory."
   ]
  },
  {
   "cell_type": "code",
   "execution_count": 9,
   "metadata": {
    "hideCode": true,
    "hidePrompt": true
   },
   "outputs": [
    {
     "data": {
      "application/vnd.jupyter.widget-view+json": {
       "model_id": "8e662fee8c0b41dfa59d772e64267226",
       "version_major": 2,
       "version_minor": 0
      },
      "text/plain": [
       "Dropdown(description='Number:', options=(), value=None)"
      ]
     },
     "metadata": {},
     "output_type": "display_data"
    }
   ],
   "source": [
    "def dropdown(event):      \n",
    "    for cell in cover_slip.cells:\n",
    "        if cell.name == widget_track_analysis.drop_down_cells.value:\n",
    "            target_cell = cover_slip.cells.index(cell)\n",
    "            trajectory_indexes = [i+1 for i, _ in enumerate(cover_slip.cell_trajectories[target_cell])]\n",
    "            widget_track_analysis.trajectory_options = trajectory_indexes\n",
    "            widget_track_analysis.drop_down_trajectories.options = widget_track_analysis.trajectory_options\n",
    "widget_track_analysis.drop_down_cells.observe(dropdown)\n",
    "display(widget_track_analysis.drop_down_trajectories)"
   ]
  },
  {
   "cell_type": "code",
   "execution_count": 10,
   "metadata": {
    "hideCode": true,
    "hidePrompt": true
   },
   "outputs": [
    {
     "data": {
      "application/vnd.jupyter.widget-view+json": {
       "model_id": "5b0041a4284c413c9b53634d836edc09",
       "version_major": 2,
       "version_minor": 0
      },
      "text/plain": [
       "Button(description='plot', style=ButtonStyle(), tooltip='plot chosen trajectory')"
      ]
     },
     "metadata": {},
     "output_type": "display_data"
    }
   ],
   "source": [
    "def plot_particle(event):\n",
    "    widget_track_analysis.create_clear_output()\n",
    "    display(widget_track_analysis.plot_button)\n",
    "    cover_slip.plot_trajectory(widget_track_analysis.drop_down_cells.value, widget_track_analysis.drop_down_trajectories.value)\n",
    "display(widget_track_analysis.plot_button)\n",
    "widget_track_analysis.plot_button.on_click(plot_particle)"
   ]
  },
  {
   "cell_type": "markdown",
   "metadata": {
    "hideCode": true,
    "hidePrompt": true
   },
   "source": [
    "## Save"
   ]
  },
  {
   "cell_type": "markdown",
   "metadata": {
    "hideCode": true,
    "hidePrompt": true
   },
   "source": [
    "For each cell a .h5 file will be created, containing all information of the trajectories (unfiltered)."
   ]
  },
  {
   "cell_type": "code",
   "execution_count": 11,
   "metadata": {
    "hideCode": true,
    "hidePrompt": true
   },
   "outputs": [
    {
     "data": {
      "application/vnd.jupyter.widget-view+json": {
       "model_id": "4e0809b7a27b41cfafb95ab6c3b3f2bc",
       "version_major": 2,
       "version_minor": 0
      },
      "text/plain": [
       "Button(description='save', style=ButtonStyle(), tooltip='save entire analysis')"
      ]
     },
     "metadata": {},
     "output_type": "display_data"
    }
   ],
   "source": [
    "def save_analysis(event):    \n",
    "    for cell_index in tqdm(range(0, len(cover_slip.cells))):\n",
    "        init_save_track_analysis(cover_slip, cell_index, track_analysis)\n",
    "display(widget_track_analysis.save_button)\n",
    "widget_track_analysis.save_button.on_click(save_analysis)"
   ]
  }
 ],
 "metadata": {
  "hide_code_all_hidden": true,
  "kernelspec": {
   "display_name": "Python 3",
   "language": "python",
   "name": "python3"
  },
  "language_info": {
   "codemirror_mode": {
    "name": "ipython",
    "version": 3
   },
   "file_extension": ".py",
   "mimetype": "text/x-python",
   "name": "python",
   "nbconvert_exporter": "python",
   "pygments_lexer": "ipython3",
   "version": "3.7.3"
  }
 },
 "nbformat": 4,
 "nbformat_minor": 2
}
