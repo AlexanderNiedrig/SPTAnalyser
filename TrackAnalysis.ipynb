{
 "cells": [
  {
   "cell_type": "markdown",
   "metadata": {},
   "source": [
    "# Analysis & saving of individual cells and their trajectories\n",
    "### Johanna Rahm, Sebastian Malkusch\n",
    "#### Research group Heilemann\n",
    "#### Institute for Physical and Theoretical Chemistry, Goethe University Frankfurt a.M."
   ]
  },
  {
   "cell_type": "markdown",
   "metadata": {},
   "source": [
    "## Load *.trc files"
   ]
  },
  {
   "cell_type": "markdown",
   "metadata": {},
   "source": [
    "Choose/insert a directory for the cell files to be searched in (e.g. F:\\Marburg\\single_colour_tracking\\resting). All *.trc  files in the directory will be loaded for the analysis."
   ]
  },
  {
   "cell_type": "code",
   "execution_count": 1,
   "metadata": {},
   "outputs": [
    {
     "data": {
      "application/vnd.jupyter.widget-view+json": {
       "model_id": "30147c38fb1a49438a95fbe7bd4b304e",
       "version_major": 2,
       "version_minor": 0
      },
      "text/plain": [
       "Text(value='directory to be searched in', description='directory', placeholder='Type something', style=Descrip…"
      ]
     },
     "metadata": {},
     "output_type": "display_data"
    },
    {
     "data": {
      "application/vnd.jupyter.widget-view+json": {
       "model_id": "0b75dfbff4ab4fceab3ab611a4d3ba14",
       "version_major": 2,
       "version_minor": 0
      },
      "text/plain": [
       "Button(description='browse', style=ButtonStyle(), tooltip='browse for directory')"
      ]
     },
     "metadata": {},
     "output_type": "display_data"
    }
   ],
   "source": [
    "from pySPT.widgets import widgetTrackAnalysis\n",
    "from pySPT.analysis import coverSlip\n",
    "from pySPT.analysis import trajectoryStatistics\n",
    "widget_track_analysis = widgetTrackAnalysis.WidgetTrackAnalysis()\n",
    "cover_slip = coverSlip.CoverSlip()\n",
    "trajectory_stats = trajectoryStatistics.TrajectoryStatistics()\n",
    "display(widget_track_analysis.dir_box, widget_track_analysis.dir_button)\n",
    "widget_track_analysis.dir_button.on_click(widget_track_analysis.open_dir)\n",
    "widget_track_analysis.dir_box.observe(widget_track_analysis.change_dir_box)"
   ]
  },
  {
   "cell_type": "markdown",
   "metadata": {},
   "source": [
    "Choose/insert the complete directory for the roi.log file which contains the cell sizes (e.g. F:\\Marburg\\single_colour_tracking\\resting\\roi.log)"
   ]
  },
  {
   "cell_type": "code",
   "execution_count": 2,
   "metadata": {},
   "outputs": [
    {
     "data": {
      "application/vnd.jupyter.widget-view+json": {
       "model_id": "3816b4baf0b94264aa98968183135f9b",
       "version_major": 2,
       "version_minor": 0
      },
      "text/plain": [
       "Text(value='path of roi', description='roi', placeholder='Type something', style=DescriptionStyle(description_…"
      ]
     },
     "metadata": {},
     "output_type": "display_data"
    },
    {
     "data": {
      "application/vnd.jupyter.widget-view+json": {
       "model_id": "4c72f65dc5324af58df49ff7eef3b781",
       "version_major": 2,
       "version_minor": 0
      },
      "text/plain": [
       "Button(description='browse', style=ButtonStyle(), tooltip='browse for roi')"
      ]
     },
     "metadata": {},
     "output_type": "display_data"
    }
   ],
   "source": [
    "display(widget_track_analysis.roi_box, widget_track_analysis.roi_button)\n",
    "widget_track_analysis.roi_button.on_click(widget_track_analysis.open_roi)\n",
    "widget_track_analysis.roi_box.observe(widget_track_analysis.change_roi_box)"
   ]
  },
  {
   "cell_type": "markdown",
   "metadata": {},
   "source": [
    "## Run Analysis"
   ]
  },
  {
   "cell_type": "code",
   "execution_count": 3,
   "metadata": {},
   "outputs": [
    {
     "data": {
      "application/vnd.jupyter.widget-view+json": {
       "model_id": "8470028c00eb44328b56cd7fb375bc65",
       "version_major": 2,
       "version_minor": 0
      },
      "text/plain": [
       "HBox(children=(IntProgress(value=0, max=2), HTML(value='')))"
      ]
     },
     "metadata": {},
     "output_type": "display_data"
    },
    {
     "data": {
      "application/vnd.jupyter.widget-view+json": {
       "model_id": "77202fd9fa6c4dd58d31371f0de8e4a8",
       "version_major": 2,
       "version_minor": 0
      },
      "text/plain": [
       "HBox(children=(IntProgress(value=0, max=285), HTML(value='')))"
      ]
     },
     "metadata": {},
     "output_type": "display_data"
    },
    {
     "data": {
      "application/vnd.jupyter.widget-view+json": {
       "model_id": "4671e4fa63d849a8862d7bcaad4fea7c",
       "version_major": 2,
       "version_minor": 0
      },
      "text/plain": [
       "HBox(children=(IntProgress(value=0, max=214), HTML(value='')))"
      ]
     },
     "metadata": {},
     "output_type": "display_data"
    },
    {
     "name": "stdout",
     "output_type": "stream",
     "text": [
      "\n",
      "Analysis took 6.295787334442139 s\n"
     ]
    }
   ],
   "source": [
    "import warnings\n",
    "warnings.filterwarnings('ignore')\n",
    "display(widget_track_analysis.run_button)\n",
    "def run_analysis(event):\n",
    "    widget_track_analysis.create_clear_output()\n",
    "    widget_track_analysis.searchSubFolders(widget_track_analysis.dir_name)\n",
    "    if widget_track_analysis.got_dir and widget_track_analysis.got_roi:\n",
    "        cover_slip.roi_file = widget_track_analysis.roi_name\n",
    "        cover_slip.cell_files = widget_track_analysis.file_names        \n",
    "        cover_slip.create_cells()  \n",
    "    else:\n",
    "        widget_track_analysis.warning_file()\n",
    "    widget_track_analysis.cells = cover_slip.cells\n",
    "widget_track_analysis.run_button.on_click(run_analysis)"
   ]
  },
  {
   "cell_type": "code",
   "execution_count": 9,
   "metadata": {},
   "outputs": [
    {
     "name": "stdout",
     "output_type": "stream",
     "text": [
      "[0.00131136 0.00128772 0.00136416 0.00214485 0.00149486 0.00147873\n",
      " 0.00198825 0.00053261 0.00187118 0.00024708 0.00083071]\n",
      "<class 'numpy.ndarray'>\n",
      "(11,)\n",
      "[[ 3.00000000e+00  1.00000000e+00  2.26473072e+01  1.95099972e+01\n",
      "  -1.00000000e+00  1.28372893e+04]\n",
      " [ 3.00000000e+00  2.00000000e+00  2.26679564e+01  1.95139595e+01\n",
      "  -1.00000000e+00  1.17277737e+04]\n",
      " [ 3.00000000e+00  3.00000000e+00  2.26724045e+01  1.94711723e+01\n",
      "  -1.00000000e+00  1.27542828e+04]\n",
      " [ 3.00000000e+00  4.00000000e+00  2.26911323e+01  1.95077009e+01\n",
      "  -1.00000000e+00  1.26291875e+04]\n",
      " [ 3.00000000e+00  5.00000000e+00  2.26668812e+01  1.94708420e+01\n",
      "  -1.00000000e+00  1.33862380e+04]\n",
      " [ 3.00000000e+00  6.00000000e+00  2.26436426e+01  1.94792608e+01\n",
      "  -1.00000000e+00  1.33167842e+04]\n",
      " [ 3.00000000e+00  7.00000000e+00  2.26574908e+01  1.94828940e+01\n",
      "  -1.00000000e+00  1.24964795e+04]\n",
      " [ 3.00000000e+00  8.00000000e+00  2.26454460e+01  1.94740593e+01\n",
      "  -1.00000000e+00  1.20903544e+04]\n",
      " [ 3.00000000e+00  9.00000000e+00  2.26538696e+01  1.95114402e+01\n",
      "  -1.00000000e+00  1.18793497e+04]\n",
      " [ 3.00000000e+00  1.00000000e+01  2.26886973e+01  1.95320701e+01\n",
      "  -1.00000000e+00  1.24944668e+04]\n",
      " [ 3.00000000e+00  1.10000000e+01  2.26530451e+01  1.94911332e+01\n",
      "  -1.00000000e+00  1.21354722e+04]\n",
      " [ 3.00000000e+00  1.20000000e+01  2.26731109e+01  1.95228376e+01\n",
      "  -1.00000000e+00  1.26991538e+04]]\n",
      "<class 'numpy.ndarray'>\n",
      "(12, 6)\n",
      "3.0\n",
      "0.0032211597486040905\n"
     ]
    }
   ],
   "source": [
    "import numpy as np\n",
    "particle = cover_slip.cell_trajectories[0][2]\n",
    "print(particle.MSDs)\n",
    "print(type(particle.MSDs))\n",
    "print(np.shape(particle.MSDs))\n",
    "print(particle.localizations)\n",
    "print(type(particle.localizations))\n",
    "print(np.shape(particle.localizations))\n",
    "print(particle.trajectory_number)\n",
    "print(particle.D)"
   ]
  },
  {
   "cell_type": "markdown",
   "metadata": {},
   "source": [
    "## Plot diffusion histogram"
   ]
  },
  {
   "cell_type": "code",
   "execution_count": null,
   "metadata": {},
   "outputs": [],
   "source": [
    "trajectory_stats.cell_trajectories = cover_slip.cell_trajectories\n",
    "trajectory_stats.get_index()\n",
    "trajectory_stats.create_init_filter_lst()"
   ]
  },
  {
   "cell_type": "markdown",
   "metadata": {},
   "source": [
    "## Choose trajectory to plot"
   ]
  },
  {
   "cell_type": "markdown",
   "metadata": {},
   "source": [
    "Choose a cell. If one wants to plot multiple times, choose a new cell and/or trajectory reload the plotting cell by clicking in the cell and pressing strg+enter."
   ]
  },
  {
   "cell_type": "code",
   "execution_count": null,
   "metadata": {},
   "outputs": [],
   "source": [
    "def dropdown(event):\n",
    "    widget_track_analysis.cell_options = widget_track_analysis.get_cell_names(cover_slip.cells)\n",
    "widget_track_analysis.run_button.on_click(dropdown)\n",
    "display(widget_track_analysis.drop_down_cells)"
   ]
  },
  {
   "cell_type": "markdown",
   "metadata": {},
   "source": [
    "Choose a trajectory."
   ]
  },
  {
   "cell_type": "code",
   "execution_count": null,
   "metadata": {},
   "outputs": [],
   "source": [
    "def dropdown(event):      \n",
    "    for cell in cover_slip.cells:\n",
    "        if cell.name == widget_track_analysis.drop_down_cells.value:\n",
    "            target_cell = cover_slip.cells.index(cell)\n",
    "            trajectory_indexes = [i+1 for i, _ in enumerate(cover_slip.cell_trajectories[target_cell])]\n",
    "            widget_track_analysis.trajectory_options = trajectory_indexes\n",
    "            widget_track_analysis.drop_down_trajectories.options = widget_track_analysis.trajectory_options\n",
    "widget_track_analysis.drop_down_cells.observe(dropdown)\n",
    "display(widget_track_analysis.drop_down_trajectories)"
   ]
  },
  {
   "cell_type": "code",
   "execution_count": null,
   "metadata": {},
   "outputs": [],
   "source": [
    "def plot_particle(event):\n",
    "    widget_track_analysis.create_clear_output()\n",
    "    cover_slip.plot_trajectory(widget_track_analysis.drop_down_cells.value, widget_track_analysis.drop_down_trajectories.value)\n",
    "display(widget_track_analysis.plot_button)\n",
    "widget_track_analysis.plot_button.on_click(plot_particle)"
   ]
  },
  {
   "cell_type": "markdown",
   "metadata": {},
   "source": [
    "## Save"
   ]
  },
  {
   "cell_type": "markdown",
   "metadata": {},
   "source": [
    "For each cell a .h5 file will be created, containing all information of the trajectories (unfiltered)."
   ]
  },
  {
   "cell_type": "code",
   "execution_count": null,
   "metadata": {
    "scrolled": true
   },
   "outputs": [],
   "source": [
    "def save_analysis(event):\n",
    "    from pySPT.widgets import hdf5\n",
    "    import numpy as np\n",
    "    from pySPT.analysis import trackAnalysis\n",
    "    \n",
    "    for cell_index in range(0, len(cover_slip.cells)):\n",
    "        h5 = hdf5.Hdf5()\n",
    "        print(h5.trc_file_hdf5)\n",
    "        h5.create_h5(cover_slip.cell_files[cell_index])\n",
    "\n",
    "        track_analysis = trackAnalysis.TrackAnalysis()\n",
    "        h5 = hdf5.Hdf5()\n",
    "        h5.create_h5(cover_slip.cell_files[cell_index])\n",
    "        cell = cover_slip.cells[cell_index]\n",
    "        one_trajectory = cover_slip.cell_trajectories[cell_index][0]\n",
    "        h5.data_settings(one_trajectory.dt, cell.pixel_size, cell.pixel_amount, one_trajectory.tau_threshold, one_trajectory.fit_area, one_trajectory.dof, one_trajectory.D_min)\n",
    "\n",
    "        h5.trc(np.shape(cell.trc_file), cell.trc_file[:,0], cell.trc_file[:,1], cell.trc_file[:,2], cell.trc_file[:,3], cell.trc_file[:,4], cell.trc_file[:,5])\n",
    "        \n",
    "        for trajectory in cover_slip.cell_trajectories[cell_index]:\n",
    "            plot = track_analysis.save_plots(trajectory)\n",
    "            h5.data_diffusion_plots(plot[0], plot[1], plot[2], plot[3], plot[4])\n",
    "        for trajectory in cover_slip.cell_trajectories[cell_index]:\n",
    "            plot = track_analysis.save_plots(trajectory)\n",
    "            h5.data_rossier_plots(plot[0], plot[5], plot[6], plot[7], plot[8])\n",
    "        for trajectory in cover_slip.cell_trajectories[cell_index]:\n",
    "            h5.msd(trajectory.trajectory_number, trajectory.times, trajectory.MSDs)\n",
    "        \n",
    "        track_analysis.save_diff(cover_slip.cell_trajectories[cell_index])\n",
    "        diff_info = track_analysis.diffusion_info\n",
    "        h5.data_diffusion_info(track_analysis.number_of_trajectories, diff_info[:,0], diff_info[:,1], diff_info[:,2], diff_info[:,3], diff_info[:,4], diff_info[:,5])\n",
    "\n",
    "        track_analysis.save_rossier(cover_slip.cell_trajectories[cell_index])\n",
    "        rossier_info = track_analysis.rossier_info\n",
    "        h5.data_rossier_info(track_analysis.number_of_trajectories, rossier_info[:,0],  rossier_info[:,1],  rossier_info[:,2],  rossier_info[:,3],  rossier_info[:,4],  rossier_info[:,5],  rossier_info[:,6],  rossier_info[:,7],  rossier_info[:,8],  rossier_info[:,9], rossier_info[:,10])\n",
    "        \n",
    "        h5.size(cell.size)\n",
    "display(widget_track_analysis.save_button)\n",
    "widget_track_analysis.save_button.on_click(save_analysis)"
   ]
  }
 ],
 "metadata": {
  "kernelspec": {
   "display_name": "Python 3",
   "language": "python",
   "name": "python3"
  },
  "language_info": {
   "codemirror_mode": {
    "name": "ipython",
    "version": 3
   },
   "file_extension": ".py",
   "mimetype": "text/x-python",
   "name": "python",
   "nbconvert_exporter": "python",
   "pygments_lexer": "ipython3",
   "version": "3.7.1"
  }
 },
 "nbformat": 4,
 "nbformat_minor": 2
}
