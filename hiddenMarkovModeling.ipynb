{
 "cells": [
  {
   "cell_type": "markdown",
   "id": "4f833313",
   "metadata": {},
   "source": [
    "# Hidden Markov Modeling\n",
    "xxx<br/>"
   ]
  },
  {
   "cell_type": "code",
   "execution_count": 1,
   "id": "5f28be16",
   "metadata": {},
   "outputs": [],
   "source": [
    "import numpy as np\n",
    "import pandas as pd\n",
    "import seaborn as sns\n",
    "import ermine as em\n",
    "import math\n",
    "from matplotlib import pyplot as plt\n",
    "from pySPT.Analysis import hiddenMarkovModeling\n",
    "from pySPT.widgets import widgetHMM, saveHMM\n",
    "import warnings\n",
    "warnings.filterwarnings(\"ignore\")\n",
    "widget_init_hmm = widgetHMM.WidgetInitHMM(dt=0.02, init_n_start=1, init_n_end=4, x_axis=300)\n",
    "seed=42\n",
    "np.random.seed(seed)"
   ]
  },
  {
   "cell_type": "markdown",
   "id": "3efe2ce2",
   "metadata": {},
   "source": [
    "## Initial parameter estimation (JDD)"
   ]
  },
  {
   "cell_type": "markdown",
   "id": "737d1f10",
   "metadata": {},
   "source": [
    "Initial parameters (weights and diffusion coefficients) for the hidden markov model are estimated by fitting the jump distance distribution of cells. The distribution can be fitted with different numbers of states, defined by the min and max number of states. For example, if min = 1 and max = 4, the distribution is fitted with 1, 2, 3, or 4 subpopulations and information criteria are calculated giving first hints about the number of states. "
   ]
  },
  {
   "cell_type": "code",
   "execution_count": 2,
   "id": "5b5eb464",
   "metadata": {
    "scrolled": false
   },
   "outputs": [
    {
     "data": {
      "application/vnd.jupyter.widget-view+json": {
       "model_id": "7352debe148e49b8a862f24fac617662",
       "version_major": 2,
       "version_minor": 0
      },
      "text/plain": [
       "Text(value='', description='Directory', placeholder='directory to be searched in', style=DescriptionStyle(desc…"
      ]
     },
     "metadata": {},
     "output_type": "display_data"
    },
    {
     "data": {
      "application/vnd.jupyter.widget-view+json": {
       "model_id": "bb6840dd532c4fce98c206678b9871ab",
       "version_major": 2,
       "version_minor": 0
      },
      "text/plain": [
       "Button(description='browse', style=ButtonStyle(), tooltip='browse for directory')"
      ]
     },
     "metadata": {},
     "output_type": "display_data"
    },
    {
     "data": {
      "application/vnd.jupyter.widget-view+json": {
       "model_id": "98f17a96b5e74576afefa17a2e797849",
       "version_major": 2,
       "version_minor": 0
      },
      "text/plain": [
       "Text(value='0.02', description='Camera integration time [s]', placeholder='Define time between two acquired fr…"
      ]
     },
     "metadata": {},
     "output_type": "display_data"
    },
    {
     "data": {
      "application/vnd.jupyter.widget-view+json": {
       "model_id": "a660eec7b9314981b2c77df99750d6f7",
       "version_major": 2,
       "version_minor": 0
      },
      "text/plain": [
       "Text(value='1', description='Min number of states', placeholder='Define an integer', style=DescriptionStyle(de…"
      ]
     },
     "metadata": {},
     "output_type": "display_data"
    },
    {
     "data": {
      "application/vnd.jupyter.widget-view+json": {
       "model_id": "39a54e3aff7e44a281871a2d775a4583",
       "version_major": 2,
       "version_minor": 0
      },
      "text/plain": [
       "Text(value='4', description='Max number of states', placeholder='Define an integer', style=DescriptionStyle(de…"
      ]
     },
     "metadata": {},
     "output_type": "display_data"
    }
   ],
   "source": [
    "display(widget_init_hmm.dir_box, widget_init_hmm.dir_button)\n",
    "widget_init_hmm.dir_button.on_click(widget_init_hmm.open_dir)\n",
    "widget_init_hmm.dir_box.observe(widget_init_hmm.change_dir_box)\n",
    "display(widget_init_hmm.dt_box, widget_init_hmm.init_n_start, widget_init_hmm.init_n_end)"
   ]
  },
  {
   "cell_type": "code",
   "execution_count": 3,
   "id": "af9b9ac0",
   "metadata": {
    "scrolled": false
   },
   "outputs": [
    {
     "data": {
      "application/vnd.jupyter.widget-view+json": {
       "model_id": "bb5bf904e7454e8aad07ceb144442ac3",
       "version_major": 2,
       "version_minor": 0
      },
      "text/plain": [
       "Button(description='run', style=ButtonStyle(), tooltip='run the analysis')"
      ]
     },
     "metadata": {},
     "output_type": "display_data"
    }
   ],
   "source": [
    "display(widget_init_hmm.run_button)\n",
    "init_hmm = hiddenMarkovModeling.InitHMM()\n",
    "def run_init_analysis(event):\n",
    "    widget_init_hmm.create_clear_output()\n",
    "    display(widget_init_hmm.run_button)\n",
    "    init_hmm.dir_path = widget_init_hmm.dir_box.value\n",
    "    init_hmm.dt = float(widget_init_hmm.dt_box.value)\n",
    "    init_hmm.n_start = int(widget_init_hmm.init_n_start.value)\n",
    "    init_hmm.n_end = int(widget_init_hmm.init_n_end.value)\n",
    "    init_hmm.run_scores()\n",
    "    init_hmm.get_average_params()\n",
    "widget_init_hmm.run_button.on_click(run_init_analysis)"
   ]
  },
  {
   "cell_type": "markdown",
   "id": "ab94ad80",
   "metadata": {},
   "source": [
    "Choose a number of states, define the maximum x axis range, and display the fit per cell. The average weights and diffusion coefficent of all cells are additionally calculated."
   ]
  },
  {
   "cell_type": "code",
   "execution_count": 4,
   "id": "7fddd090",
   "metadata": {
    "scrolled": false
   },
   "outputs": [
    {
     "data": {
      "application/vnd.jupyter.widget-view+json": {
       "model_id": "6be6e595955b40fb9084cbdf8045e2bd",
       "version_major": 2,
       "version_minor": 0
      },
      "text/plain": [
       "Text(value='1', description='Number of states', placeholder='e.g. with best scores', style=DescriptionStyle(de…"
      ]
     },
     "metadata": {},
     "output_type": "display_data"
    },
    {
     "data": {
      "application/vnd.jupyter.widget-view+json": {
       "model_id": "17b40594037243f7bc9c28eb79f33603",
       "version_major": 2,
       "version_minor": 0
      },
      "text/plain": [
       "Text(value='300', description='x axis range [nm]', placeholder='max range of x axis in nm', style=DescriptionS…"
      ]
     },
     "metadata": {},
     "output_type": "display_data"
    },
    {
     "data": {
      "application/vnd.jupyter.widget-view+json": {
       "model_id": "444a723585574ff19ca705480cfde89f",
       "version_major": 2,
       "version_minor": 0
      },
      "text/plain": [
       "Dropdown(description='Cell:', options=(), value=None)"
      ]
     },
     "metadata": {},
     "output_type": "display_data"
    }
   ],
   "source": [
    "display(widget_init_hmm.n_states_box, widget_init_hmm.x_axis_box)\n",
    "def dropdown(event):\n",
    "    widget_init_hmm.drop_down_cells.options = init_hmm.names\n",
    "widget_init_hmm.run_button.on_click(dropdown)\n",
    "display(widget_init_hmm.drop_down_cells)"
   ]
  },
  {
   "cell_type": "code",
   "execution_count": 5,
   "id": "ec0b9495",
   "metadata": {},
   "outputs": [
    {
     "data": {
      "application/vnd.jupyter.widget-view+json": {
       "model_id": "3842eb70a65f44db8f4e332d36762dee",
       "version_major": 2,
       "version_minor": 0
      },
      "text/plain": [
       "Button(description='plot', style=ButtonStyle(), tooltip='plot results for chosen number of states')"
      ]
     },
     "metadata": {},
     "output_type": "display_data"
    }
   ],
   "source": [
    "def plot_cell(event):\n",
    "    widget_init_hmm.create_clear_output()\n",
    "    display(widget_init_hmm.plot_button)\n",
    "    try:\n",
    "        init_hmm.plot_cell_results(int(widget_init_hmm.n_states_box.value), widget_init_hmm.drop_down_cells.value, int(widget_init_hmm.x_axis_box.value))\n",
    "    except ValueError:\n",
    "        print(\"Choose a number of state within the min/max range.\")\n",
    "display(widget_init_hmm.plot_button)\n",
    "widget_init_hmm.plot_button.on_click(plot_cell)"
   ]
  },
  {
   "cell_type": "markdown",
   "id": "5bd607d1",
   "metadata": {},
   "source": [
    "Define a folder name and directory to save the results and a figure format (png, svg, pdf ...). The information critera, weights and diffusion coefficients per number of states are saved. The plots per cell are saved in the SPTAnalyser_cellname/hmm subfolder."
   ]
  },
  {
   "cell_type": "code",
   "execution_count": 6,
   "id": "5f707e1e",
   "metadata": {},
   "outputs": [
    {
     "data": {
      "application/vnd.jupyter.widget-view+json": {
       "model_id": "ef7dd83913ee415384f5f2dc4b2692a7",
       "version_major": 2,
       "version_minor": 0
      },
      "text/plain": [
       "Text(value='hidden_markov_modeling', description='Foldername', placeholder='name of folder', style=Description…"
      ]
     },
     "metadata": {},
     "output_type": "display_data"
    },
    {
     "data": {
      "application/vnd.jupyter.widget-view+json": {
       "model_id": "a5a5fbb492e04a25a6c1cc1c06d8ff91",
       "version_major": 2,
       "version_minor": 0
      },
      "text/plain": [
       "Text(value='pdf', description='Figure format', placeholder='png, pdf, svg ...', style=DescriptionStyle(descrip…"
      ]
     },
     "metadata": {},
     "output_type": "display_data"
    },
    {
     "data": {
      "application/vnd.jupyter.widget-view+json": {
       "model_id": "2bb6068184ae4756aae74da407eb384a",
       "version_major": 2,
       "version_minor": 0
      },
      "text/plain": [
       "Text(value='', description='Directory', placeholder='Directory to save', style=DescriptionStyle(description_wi…"
      ]
     },
     "metadata": {},
     "output_type": "display_data"
    },
    {
     "data": {
      "application/vnd.jupyter.widget-view+json": {
       "model_id": "afc2c680b32a46e9972d17af7d059400",
       "version_major": 2,
       "version_minor": 0
      },
      "text/plain": [
       "Button(description='browse', style=ButtonStyle(), tooltip='browse for directory')"
      ]
     },
     "metadata": {},
     "output_type": "display_data"
    }
   ],
   "source": [
    "# Save results\n",
    "display(widget_init_hmm.box_foldername, widget_init_hmm.figure_type_box, widget_init_hmm.dir_box_save, widget_init_hmm.dir_button_save)\n",
    "widget_init_hmm.dir_button_save.on_click(widget_init_hmm.open_dir_save)\n",
    "widget_init_hmm.dir_box_save.observe(widget_init_hmm.change_dir_box_save)"
   ]
  },
  {
   "cell_type": "code",
   "execution_count": 7,
   "id": "0f5cfb71",
   "metadata": {
    "scrolled": false
   },
   "outputs": [
    {
     "data": {
      "application/vnd.jupyter.widget-view+json": {
       "model_id": "868f4b327edd4857a43d4e4448b1f3bc",
       "version_major": 2,
       "version_minor": 0
      },
      "text/plain": [
       "Button(description='save', style=ButtonStyle(), tooltip='save the results')"
      ]
     },
     "metadata": {},
     "output_type": "display_data"
    }
   ],
   "source": [
    "# Save results\n",
    "display(widget_init_hmm.save_button)\n",
    "def save_init_analysis(event):\n",
    "    widget_init_hmm.create_clear_output()\n",
    "    display(widget_init_hmm.save_button)\n",
    "    save_init_HMM = saveHMM.SaveInitHMM(widget_init_hmm.dir_box_save.value + \"\\\\\" + widget_init_hmm.box_foldername.value, widget_init_hmm.dir_box.value, init_hmm, widget_init_hmm.figure_type_box.value, int(widget_init_hmm.x_axis_box.value))\n",
    "    save_init_HMM.save()\n",
    "    print(\"Results are saved at\", widget_init_hmm.dir_box_save.value + \"\\\\\" + widget_init_hmm.box_foldername.value)\n",
    "widget_init_hmm.save_button.on_click(save_init_analysis)"
   ]
  }
 ],
 "metadata": {
  "hide_input": false,
  "kernelspec": {
   "display_name": "Python 3 (ipykernel)",
   "language": "python",
   "name": "python3"
  },
  "language_info": {
   "codemirror_mode": {
    "name": "ipython",
    "version": 3
   },
   "file_extension": ".py",
   "mimetype": "text/x-python",
   "name": "python",
   "nbconvert_exporter": "python",
   "pygments_lexer": "ipython3",
   "version": "3.7.11"
  }
 },
 "nbformat": 4,
 "nbformat_minor": 5
}
