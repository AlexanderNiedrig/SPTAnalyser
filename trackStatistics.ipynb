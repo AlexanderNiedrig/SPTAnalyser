{
 "cells": [
  {
   "cell_type": "markdown",
   "metadata": {},
   "source": [
    "## Load *.trc files"
   ]
  },
  {
   "cell_type": "markdown",
   "metadata": {},
   "source": [
    "Choose/insert a directory for the cell files to be searched in (e.g. F:\\Marburg\\single_colour_tracking\\resting). All *.trc files in the directory will be loaded for the analysis."
   ]
  },
  {
   "cell_type": "code",
   "execution_count": null,
   "metadata": {},
   "outputs": [],
   "source": [
    "from pySPT.widgets import widgetLoadHdf5\n",
    "from pySPT.widgets import loadHdf5\n",
    "from pySPT.analysis import cell\n",
    "from pySPT.analysis import trajectory\n",
    "from pySPT.analysis import coverSlip\n",
    "widget_load_hdf5 = widgetLoadHdf5.WidgetLoadHdf5()\n",
    "load_hdf5 = loadHdf5.LoadHdf5()\n",
    "cover_slip = coverSlip.CoverSlip()\n",
    "display(widget_load_hdf5.dir_box, widget_load_hdf5.dir_button)\n",
    "widget_load_hdf5.dir_button.on_click(widget_load_hdf5.open_dir)\n",
    "widget_load_hdf5.dir_box.observe(widget_load_hdf5.change_dir_box)"
   ]
  },
  {
   "cell_type": "code",
   "execution_count": null,
   "metadata": {},
   "outputs": [],
   "source": [
    "def initialize(event):\n",
    "    widget_load_hdf5.search_sub_folders(widget_load_hdf5.dir_name)\n",
    "    load_hdf5.file_names = widget_load_hdf5.file_names\n",
    "    load_hdf5.run_load_hdf5()\n",
    "    #print(load_hdf5.locs[0][0])\n",
    "    for cell_index in range(0, load_hdf5.cell_numbers):\n",
    "        one_cell = cell.Cell()\n",
    "        one_cell.trc_file = load_hdf5.trc_files[cell_index]\n",
    "        one_cell.pixel_size = load_hdf5.pixel_sizes[cell_index]\n",
    "        one_cell.pixel_amount = load_hdf5.pixel_amounts[cell_index]\n",
    "        one_cell.size = load_hdf5.sizes[cell_index]\n",
    "        one_cell.name = load_hdf5.names[cell_index]\n",
    "        for trajectory_index in range(0, load_hdf5.trajectory_numbers[cell_index]):\n",
    "            one_trajectory = trajectory.Trajectory(load_hdf5.locs[cell_index][trajectory_index])\n",
    "            one_trajectory.trajectory_number = trajectory_index+1\n",
    "            one_trajectory.MSDs = load_hdf5.cells_trajectories_MSDs[cell_index][trajectory_index]\n",
    "            one_trajectory.times = load_hdf5.cells_trajectories_times[cell_index][trajectory_index]\n",
    "            one_trajectory.MSD_fit = load_hdf5.cells_trajectories_MSD_fit[cell_index][trajectory_index]\n",
    "            one_trajectory.MSD_D = load_hdf5.cells_trajectories_MSD_D[cell_index][trajectory_index]\n",
    "            one_trajectory.dt = load_hdf5.dts[cell_index]\n",
    "            one_trajectory.dof = load_hdf5.dofs[cell_index]\n",
    "            one_trajectory.D_min = load_hdf5.D_mins[cell_index]\n",
    "            one_trajectory.length_MSD = load_hdf5.cells_lengths_trajectories[cell_index][trajectory_index]\n",
    "            one_trajectory.length_trajectory = load_hdf5.cells_lengths_MSDs[cell_index][trajectory_index]\n",
    "            one_trajectory.D = load_hdf5.cells_trajectories_D[cell_index][trajectory_index]\n",
    "            one_trajectory.dD = load_hdf5.cells_trajectories_dD[cell_index][trajectory_index]\n",
    "            one_trajectory.chi_D = load_hdf5.cells_trajectories_chi2_D[cell_index][trajectory_index]\n",
    "            one_trajectory.chi_MSD_fit = load_hdf5.cells_trajectories_chi2_rossier[cell_index][trajectory_index]\n",
    "            one_trajectory.MSD_0 = load_hdf5.cells_trajectories_MSD0[cell_index][trajectory_index]\n",
    "            one_trajectory.fit_area = load_hdf5.fit_areas[cell_index]\n",
    "            one_trajectory.tau = load_hdf5.cells_trajectories_tau[cell_index][trajectory_index]\n",
    "            one_trajectory.dtau = load_hdf5.cells_trajectories_dtau[cell_index][trajectory_index]\n",
    "            one_trajectory.D_conf = load_hdf5.cells_trajectories_Dconf[cell_index][trajectory_index]\n",
    "            one_trajectory.r = load_hdf5.cells_trajectories_r[cell_index][trajectory_index]\n",
    "            one_trajectory.dr = load_hdf5.cells_trajectories_dr[cell_index][trajectory_index]\n",
    "            one_trajectory.tau_threshold = load_hdf5.tau_thresholds[cell_index]\n",
    "            one_trajectory.immobility = bool(load_hdf5.cells_trajectories_type[cell_index][trajectory_index][0])\n",
    "            one_trajectory.confined = bool(load_hdf5.cells_trajectories_type[cell_index][trajectory_index][1])\n",
    "            one_trajectory.analyse_successful = bool(load_hdf5.cells_trajectories_analyse_successful[cell_index][trajectory_index][0])\n",
    "            one_cell.analysed_trajectories.append(one_trajectory)\n",
    "        cover_slip.cells.append(one_cell)\n",
    "        cover_slip.cell_trajectories.append(one_cell.analysed_trajectories)\n",
    "        cover_slip.cell_files = load_hdf5.file_names\n",
    "#         print(cover_slip.cell_trajectories[0][0].analyse_successful)\n",
    "#         print(cover_slip.cell_trajectories[0][0].immobility)\n",
    "#         print(cover_slip.cell_trajectories[0][0].confined)\n",
    "#         print(type(cover_slip.cell_trajectories[0][0].analyse_successful))\n",
    "#     print(cover_slip.cell_trajectories[0][0].dt)\n",
    "#     print(type(cover_slip.cell_trajectories[1][0].dt))\n",
    "#     print(cover_slip.cell_trajectories[0][0].MSDs)\n",
    "#     print(cover_slip.cell_trajectories[1][0].MSDs)\n",
    "#     print(cover_slip.cells[0].size)\n",
    "#     print(cover_slip.cells[1].size)\n",
    "display(widget_load_hdf5.init_button)\n",
    "widget_load_hdf5.init_button.on_click(initialize)"
   ]
  }
 ],
 "metadata": {
  "kernelspec": {
   "display_name": "Python 3",
   "language": "python",
   "name": "python3"
  },
  "language_info": {
   "codemirror_mode": {
    "name": "ipython",
    "version": 3
   },
   "file_extension": ".py",
   "mimetype": "text/x-python",
   "name": "python",
   "nbconvert_exporter": "python",
   "pygments_lexer": "ipython3",
   "version": "3.7.1"
  }
 },
 "nbformat": 4,
 "nbformat_minor": 2
}
