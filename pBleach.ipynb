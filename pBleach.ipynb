{
 "cells": [
  {
   "cell_type": "markdown",
   "metadata": {},
   "source": [
    "# Determination of pBleach\n",
    "### Johanna Rahm, Sebastian Malkusch\n",
    "#### Research group Heilemann\n",
    "#### Institute for Physical and Theoretical Chemistry, Goethe University Frankfurt a.M."
   ]
  },
  {
   "cell_type": "markdown",
   "metadata": {},
   "source": [
    "## Load file"
   ]
  },
  {
   "cell_type": "markdown",
   "metadata": {},
   "source": [
    "Insert the full file name & direcory path of the tracked seg file with .txt ending or browse for it. (Example path: F:\\Marburg\\single_colour_tracking\\resting\\160404_CS5_Cell1\\cell_1_MMStack_Pos0.ome.tif.tracked.seg.txt)"
   ]
  },
  {
   "cell_type": "code",
   "execution_count": 1,
   "metadata": {},
   "outputs": [
    {
     "data": {
      "application/vnd.jupyter.widget-view+json": {
       "model_id": "cb501207091b41108c2775320bf57478",
       "version_major": 2,
       "version_minor": 0
      },
      "text/plain": [
       "Text(value='path', description='Complete path', placeholder='Type something', style=DescriptionStyle(descripti…"
      ]
     },
     "metadata": {},
     "output_type": "display_data"
    },
    {
     "data": {
      "application/vnd.jupyter.widget-view+json": {
       "model_id": "f6719891c09b4962b4045b79acee8987",
       "version_major": 2,
       "version_minor": 0
      },
      "text/plain": [
       "Button(description='browse', style=ButtonStyle(), tooltip='browse for file')"
      ]
     },
     "metadata": {},
     "output_type": "display_data"
    }
   ],
   "source": [
    "from pySPT.widgets import widgetDirectoryStructure\n",
    "from pySPT.widgets import widgetColumnSort\n",
    "from pySPT.widgets import widgetPBleach\n",
    "from pySPT.preAnalysis import pBleach\n",
    "widget_p_bleach = widgetPBleach.WidgetPBleach()\n",
    "p_bleach = pBleach.PBleach()\n",
    "widget_dir_structure = widgetDirectoryStructure.WidgetDirStructure()\n",
    "display(widget_p_bleach.file_text_box, widget_p_bleach.file_button)\n",
    "widget_p_bleach.file_button.on_click(widget_p_bleach.open_file)\n",
    "widget_p_bleach.file_text_box.observe(widget_p_bleach.change_file_box)"
   ]
  },
  {
   "cell_type": "markdown",
   "metadata": {},
   "source": [
    "## Run Analysis"
   ]
  },
  {
   "cell_type": "markdown",
   "metadata": {},
   "source": [
    "Insert an inital k value for the exponential fit (a·exp(-k·t)) and the camera integration time in s."
   ]
  },
  {
   "cell_type": "code",
   "execution_count": 2,
   "metadata": {},
   "outputs": [
    {
     "data": {
      "application/vnd.jupyter.widget-view+json": {
       "model_id": "96fc79ddb0104f8d954fe3337ce0f0af",
       "version_major": 2,
       "version_minor": 0
      },
      "text/plain": [
       "Text(value='0.01', description='Initial k', placeholder='Type something', style=DescriptionStyle(description_w…"
      ]
     },
     "metadata": {},
     "output_type": "display_data"
    },
    {
     "data": {
      "application/vnd.jupyter.widget-view+json": {
       "model_id": "76a514709e6342c9ad88604847acf9b8",
       "version_major": 2,
       "version_minor": 0
      },
      "text/plain": [
       "Text(value='0.02', description='Camera integration time [s]', placeholder='Type something', style=DescriptionS…"
      ]
     },
     "metadata": {},
     "output_type": "display_data"
    }
   ],
   "source": [
    "widget_dir_structure.name_handling(widget_p_bleach.file_name)\n",
    "widget_dir_structure.create_raw_base_name()\n",
    "display(widget_p_bleach.init_k)\n",
    "display(widget_p_bleach.integration_time)"
   ]
  },
  {
   "cell_type": "markdown",
   "metadata": {},
   "source": [
    "The analysis will yield k, its variance kv and a p_bleach value."
   ]
  },
  {
   "cell_type": "code",
   "execution_count": 3,
   "metadata": {},
   "outputs": [
    {
     "data": {
      "application/vnd.jupyter.widget-view+json": {
       "model_id": "5bf3e8e872404b5bb6f299b8d4cc9c25",
       "version_major": 2,
       "version_minor": 0
      },
      "text/plain": [
       "Button(description='run', style=ButtonStyle(), tooltip='run the analysis')"
      ]
     },
     "metadata": {},
     "output_type": "display_data"
    },
    {
     "name": "stdout",
     "output_type": "stream",
     "text": [
      "Results: p_bleach = 0.575, k = 4.2821e+01, kv = 2.5201e-01\n"
     ]
    },
    {
     "data": {
      "image/png": "[encoded data removed]",
      "text/plain": [
       "<Figure size 432x288 with 2 Axes>"
      ]
     },
     "metadata": {
      "needs_background": "light"
     },
     "output_type": "display_data"
    }
   ],
   "source": [
    "display(widget_p_bleach.run_button)\n",
    "def run_analysis(event):\n",
    "    widget_p_bleach.create_clear_output()\n",
    "    display(widget_p_bleach.run_button)\n",
    "    if widget_p_bleach.got_file_name:\n",
    "        widget_column_sort = widgetColumnSort.WidgetColumnSort(widget_p_bleach.file_text_box.value, \"swift\", ['\"track_id\"', '\"mjd\"', '\"mjd_n\"'])\n",
    "        widget_column_sort.check_header()\n",
    "        if widget_column_sort.correct_header:\n",
    "            widget_column_sort.run_column_sort()\n",
    "            p_bleach.file_name = widget_p_bleach.file_text_box.value\n",
    "            p_bleach.column_order = widget_column_sort.column_order\n",
    "            p_bleach.dt = float(widget_p_bleach.integration_time.value) \n",
    "            p_bleach.init_k = float(widget_p_bleach.init_k.value)\n",
    "            p_bleach.file_name = widget_p_bleach.file_text_box.value\n",
    "            p_bleach.run_p_bleach()\n",
    "        else:\n",
    "            print(\"A file with false columns was loaded.\")\n",
    "    else:\n",
    "        print(\"x\")\n",
    "widget_p_bleach.run_button.on_click(run_analysis)"
   ]
  },
  {
   "cell_type": "markdown",
   "metadata": {},
   "source": [
    "## Save results"
   ]
  },
  {
   "cell_type": "markdown",
   "metadata": {},
   "source": [
    "The results will be saved in a .txt file with columns: amout of frames, duration of a trajectory [s], fraction, exponential fit, residues."
   ]
  },
  {
   "cell_type": "code",
   "execution_count": 4,
   "metadata": {},
   "outputs": [
    {
     "data": {
      "application/vnd.jupyter.widget-view+json": {
       "model_id": "46fb8da293bd4027b99621be09bb1abd",
       "version_major": 2,
       "version_minor": 0
      },
      "text/plain": [
       "Button(description='save', style=ButtonStyle(), tooltip='save the results')"
      ]
     },
     "metadata": {},
     "output_type": "display_data"
    }
   ],
   "source": [
    "display(widget_p_bleach.save_button)\n",
    "def save_analysis(event):\n",
    "    widget_p_bleach.create_clear_output()\n",
    "    display(widget_p_bleach.save_button)\n",
    "    widget_dir_structure.name_handling(widget_p_bleach.file_name)\n",
    "    widget_dir_structure.sub_folder = \"\\\\preAnalysis\"\n",
    "    widget_dir_structure.create_folder()\n",
    "    p_bleach.save_fit_results(widget_dir_structure.sub_folder_dir, widget_dir_structure.raw_base_name)\n",
    "    p_bleach.save_mjd_n_frequencies(widget_dir_structure.sub_folder_dir, widget_dir_structure.raw_base_name)\n",
    "widget_p_bleach.save_button.on_click(save_analysis)"
   ]
  }
 ],
 "metadata": {
  "kernelspec": {
   "display_name": "Python 3",
   "language": "python",
   "name": "python3"
  },
  "language_info": {
   "codemirror_mode": {
    "name": "ipython",
    "version": 3
   },
   "file_extension": ".py",
   "mimetype": "text/x-python",
   "name": "python",
   "nbconvert_exporter": "python",
   "pygments_lexer": "ipython3",
   "version": "3.7.1"
  }
 },
 "nbformat": 4,
 "nbformat_minor": 2
}
