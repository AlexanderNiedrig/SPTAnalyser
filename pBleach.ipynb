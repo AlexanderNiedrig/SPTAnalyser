{
 "cells": [
  {
   "cell_type": "markdown",
   "metadata": {
    "hideCode": false,
    "hidePrompt": false
   },
   "source": [
    "# Determination of p_bleach\n",
    "### Johanna Rahm, Sebastian Malkusch\n",
    "#### Research group Heilemann\n",
    "#### Institute for Physical and Theoretical Chemistry, Goethe University Frankfurt a.M.\n",
    "Bleaching probability per particle and frame. The higher p_bleach, the more reluctant swift makes connections. <br/>\n",
    "swift --out_values: mjd_n"
   ]
  },
  {
   "cell_type": "markdown",
   "metadata": {
    "hideCode": false,
    "hidePrompt": false
   },
   "source": [
    "## Choose a localization software"
   ]
  },
  {
   "cell_type": "code",
   "execution_count": 1,
   "metadata": {
    "hideCode": false,
    "hidePrompt": false
   },
   "outputs": [
    {
     "data": {
      "application/vnd.jupyter.widget-view+json": {
       "model_id": "66d9706157614d818a46742d3f68b118",
       "version_major": 2,
       "version_minor": 0
      },
      "text/plain": [
       "RadioButtons(options=('thunderSTORM', 'rapidSTORM'), value='thunderSTORM')"
      ]
     },
     "metadata": {},
     "output_type": "display_data"
    }
   ],
   "source": [
    "from pySPT.widgets import widgetDirectoryStructure\n",
    "from pySPT.widgets import widgetColumnSort\n",
    "from pySPT.widgets import widgetPBleach\n",
    "from pySPT.preAnalysis import pBleach\n",
    "widget_p_bleach = widgetPBleach.WidgetPBleach()\n",
    "display(widget_p_bleach.software_button)"
   ]
  },
  {
   "cell_type": "markdown",
   "metadata": {
    "hideCode": false,
    "hidePrompt": false
   },
   "source": [
    "## Load file"
   ]
  },
  {
   "cell_type": "markdown",
   "metadata": {
    "hideCode": false,
    "hidePrompt": false
   },
   "source": [
    "thunderSTORM: Insert the full file path of the tracked seg file with .csv ending or browse for it. (Example path: F:\\Marburg\\single_colour_tracking\\resting\\160404_CS5_Cells\\160404_CS5_Cell5\\cell05.tracked.seg.csv) <br/>\n",
    "rapidSTORM: Insert the full file path of the tracked seg file with .txt ending or browse for it. (Example path: F:\\Marburg\\single_colour_tracking\\resting\\160404_CS5_Cell1\\cell_1_MMStack_Pos0.ome.tif.tracked.seg.txt)"
   ]
  },
  {
   "cell_type": "code",
   "execution_count": 2,
   "metadata": {
    "hideCode": false,
    "hidePrompt": false
   },
   "outputs": [
    {
     "data": {
      "application/vnd.jupyter.widget-view+json": {
       "model_id": "987748438bc34487bcf95bf8aba65fe6",
       "version_major": 2,
       "version_minor": 0
      },
      "text/plain": [
       "Text(value='path', description='Complete path', placeholder='Type something', style=DescriptionStyle(descripti…"
      ]
     },
     "metadata": {},
     "output_type": "display_data"
    },
    {
     "data": {
      "application/vnd.jupyter.widget-view+json": {
       "model_id": "fd4360d5417040469bd22733845eb536",
       "version_major": 2,
       "version_minor": 0
      },
      "text/plain": [
       "Button(description='browse', style=ButtonStyle(), tooltip='browse for file')"
      ]
     },
     "metadata": {},
     "output_type": "display_data"
    }
   ],
   "source": [
    "p_bleach = pBleach.PBleach()\n",
    "widget_dir_structure = widgetDirectoryStructure.WidgetDirStructure()\n",
    "display(widget_p_bleach.file_text_box, widget_p_bleach.file_button)\n",
    "widget_p_bleach.file_button.on_click(widget_p_bleach.open_file)\n",
    "widget_p_bleach.file_text_box.observe(widget_p_bleach.change_file_box)"
   ]
  },
  {
   "cell_type": "markdown",
   "metadata": {
    "hideCode": false,
    "hidePrompt": false
   },
   "source": [
    "## Run Analysis"
   ]
  },
  {
   "cell_type": "markdown",
   "metadata": {
    "hideCode": false,
    "hidePrompt": false
   },
   "source": [
    "Insert an inital k value for the exponential fit (a·exp(-k·t)) and the camera integration time in s."
   ]
  },
  {
   "cell_type": "code",
   "execution_count": 3,
   "metadata": {
    "hideCode": false,
    "hidePrompt": false
   },
   "outputs": [
    {
     "data": {
      "application/vnd.jupyter.widget-view+json": {
       "model_id": "32cc74c8fb474991b8f8dbbdafbcb553",
       "version_major": 2,
       "version_minor": 0
      },
      "text/plain": [
       "Text(value='0.01', description='Initial k', placeholder='Type something', style=DescriptionStyle(description_w…"
      ]
     },
     "metadata": {},
     "output_type": "display_data"
    },
    {
     "data": {
      "application/vnd.jupyter.widget-view+json": {
       "model_id": "f6d6c4d39e97457699e1df09c923f1b2",
       "version_major": 2,
       "version_minor": 0
      },
      "text/plain": [
       "Text(value='0.02', description='Camera integration time [s]', placeholder='Type something', style=DescriptionS…"
      ]
     },
     "metadata": {},
     "output_type": "display_data"
    }
   ],
   "source": [
    "widget_dir_structure.name_handling(widget_p_bleach.file_name)\n",
    "widget_dir_structure.create_raw_base_name()\n",
    "display(widget_p_bleach.init_k)\n",
    "display(widget_p_bleach.integration_time)"
   ]
  },
  {
   "cell_type": "markdown",
   "metadata": {
    "hideCode": false,
    "hidePrompt": false
   },
   "source": [
    "The exponential fit will yield k and its variance kv, p_bleach is calculated via a cumulative distribution function (f(dt, k)) in the range from 0 to 1 frame."
   ]
  },
  {
   "cell_type": "code",
   "execution_count": 4,
   "metadata": {
    "hideCode": false,
    "hidePrompt": false
   },
   "outputs": [
    {
     "data": {
      "application/vnd.jupyter.widget-view+json": {
       "model_id": "dbe76a63b86f41f880d3523c035002f0",
       "version_major": 2,
       "version_minor": 0
      },
      "text/plain": [
       "Button(description='run', style=ButtonStyle(), tooltip='run the analysis')"
      ]
     },
     "metadata": {},
     "output_type": "display_data"
    },
    {
     "name": "stdout",
     "output_type": "stream",
     "text": [
      "Results: p_bleach = 0.701, k = 6.0327e+01, kv = 2.0890e-01\n"
     ]
    },
    {
     "data": {
      "image/png": "[encoded data removed]",
      "text/plain": [
       "<Figure size 432x288 with 2 Axes>"
      ]
     },
     "metadata": {
      "needs_background": "light"
     },
     "output_type": "display_data"
    }
   ],
   "source": [
    "display(widget_p_bleach.run_button)\n",
    "def run_analysis(event):\n",
    "    widget_p_bleach.create_clear_output()\n",
    "    display(widget_p_bleach.run_button)\n",
    "    if widget_p_bleach.got_file_name:\n",
    "        widget_column_sort = widgetColumnSort.WidgetColumnSort(widget_p_bleach.file_text_box.value, widget_p_bleach.software_button.value, ['\"track_id\"', '\"mjd_n\"'])\n",
    "        widget_column_sort.check_header()\n",
    "        if widget_column_sort.correct_header:\n",
    "            widget_column_sort.run_column_sort()\n",
    "            p_bleach.file_name = widget_p_bleach.file_text_box.value\n",
    "            p_bleach.software = widget_p_bleach.software_button.value\n",
    "            p_bleach.column_order = widget_column_sort.column_order\n",
    "            p_bleach.dt = float(widget_p_bleach.integration_time.value) \n",
    "            p_bleach.init_k = float(widget_p_bleach.init_k.value)\n",
    "            p_bleach.file_name = widget_p_bleach.file_text_box.value\n",
    "            p_bleach.run_p_bleach()\n",
    "        else:\n",
    "            widget_p_bleach.warning_wrong_file()\n",
    "    else:\n",
    "        widget_p_bleach.warning_wrong_file_path()\n",
    "widget_p_bleach.run_button.on_click(run_analysis)"
   ]
  },
  {
   "cell_type": "markdown",
   "metadata": {
    "hideCode": false,
    "hidePrompt": false
   },
   "source": [
    "## Save results"
   ]
  },
  {
   "cell_type": "markdown",
   "metadata": {
    "hideCode": false,
    "hidePrompt": false
   },
   "source": [
    "The results will be saved in a .txt file with columns: amout of frames, duration of a trajectory [s], fraction, exponential fit, residues."
   ]
  },
  {
   "cell_type": "code",
   "execution_count": 5,
   "metadata": {
    "hideCode": false,
    "hidePrompt": false
   },
   "outputs": [
    {
     "data": {
      "application/vnd.jupyter.widget-view+json": {
       "model_id": "26394344e79b46feafaa5c5690145ceb",
       "version_major": 2,
       "version_minor": 0
      },
      "text/plain": [
       "Button(description='save', style=ButtonStyle(), tooltip='save the results')"
      ]
     },
     "metadata": {},
     "output_type": "display_data"
    },
    {
     "name": "stdout",
     "output_type": "stream",
     "text": [
      "Results are saved.\n"
     ]
    }
   ],
   "source": [
    "display(widget_p_bleach.save_button)\n",
    "def save_analysis(event):\n",
    "    widget_p_bleach.create_clear_output()\n",
    "    display(widget_p_bleach.save_button)\n",
    "    widget_dir_structure.name_handling(widget_p_bleach.file_text_box.value)\n",
    "    widget_dir_structure.create_raw_base_name()\n",
    "    widget_dir_structure.sub_folder = \"\\\\preAnalysis\"\n",
    "    widget_dir_structure.create_folder()\n",
    "    p_bleach.save_fit_results(widget_dir_structure.sub_folder_dir, widget_dir_structure.raw_base_name)\n",
    "    p_bleach.save_mjd_n_frequencies(widget_dir_structure.sub_folder_dir, widget_dir_structure.raw_base_name)\n",
    "widget_p_bleach.save_button.on_click(save_analysis)"
   ]
  }
 ],
 "metadata": {
  "hide_code_all_hidden": false,
  "kernelspec": {
   "display_name": "Python 3",
   "language": "python",
   "name": "python3"
  },
  "language_info": {
   "codemirror_mode": {
    "name": "ipython",
    "version": 3
   },
   "file_extension": ".py",
   "mimetype": "text/x-python",
   "name": "python",
   "nbconvert_exporter": "python",
   "pygments_lexer": "ipython3",
   "version": "3.7.2"
  }
 },
 "nbformat": 4,
 "nbformat_minor": 2
}
