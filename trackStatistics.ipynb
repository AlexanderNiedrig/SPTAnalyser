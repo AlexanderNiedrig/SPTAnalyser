{
 "cells": [
  {
   "cell_type": "markdown",
   "metadata": {
    "hideCode": false,
    "hidePrompt": false
   },
   "source": [
    "# Filter *.h5 files & background correction\n",
    "### Johanna Rahm, Sebastian Malkusch\n",
    "#### Research group Heilemann\n",
    "#### Institute for Physical and Theoretical Chemistry, Goethe University Frankfurt a.M.\n",
    "This notebook as to be reloaded before analysing a new group of data!"
   ]
  },
  {
   "cell_type": "markdown",
   "metadata": {
    "hideCode": false,
    "hidePrompt": false
   },
   "source": [
    "## Load cell.h5 files"
   ]
  },
  {
   "cell_type": "markdown",
   "metadata": {
    "hideCode": false,
    "hidePrompt": false
   },
   "source": [
    "Choose/insert a directory for the cell files to be searched in (e.g. F:\\Marburg\\single_colour_tracking\\resting). All *.h5 files in the directory will be loaded for the analysis."
   ]
  },
  {
   "cell_type": "code",
   "execution_count": 1,
   "metadata": {
    "hideCode": false,
    "hidePrompt": false
   },
   "outputs": [
    {
     "data": {
      "application/vnd.jupyter.widget-view+json": {
       "model_id": "bb07cd128c5645e18fee1fffbb4d81bc",
       "version_major": 2,
       "version_minor": 0
      },
      "text/plain": [
       "Text(value='directory to be searched in', description='directory', placeholder='Type something', style=Descrip…"
      ]
     },
     "metadata": {},
     "output_type": "display_data"
    },
    {
     "data": {
      "application/vnd.jupyter.widget-view+json": {
       "model_id": "bbbbdd18b2174e8ababe07bfbb5ac0be",
       "version_major": 2,
       "version_minor": 0
      },
      "text/plain": [
       "Button(description='browse', style=ButtonStyle(), tooltip='browse for directory')"
      ]
     },
     "metadata": {},
     "output_type": "display_data"
    }
   ],
   "source": [
    "from pySPT.widgets.widgetNotebooks import init_filter_notebook\n",
    "from pySPT.widgets.widgetNotebooks import init_track_stats_widget_arrangement\n",
    "from pySPT.widgets.widgetNotebooks import init_save_track_stats\n",
    "from pySPT.widgets.widgetNotebooks import init_save_filtered_analysis\n",
    "from pySPT.widgets.widgetNotebooks import init_save_filtered_trc\n",
    "from pySPT.widgets import widgetLoadHdf5\n",
    "from pySPT.widgets import loadHdf5\n",
    "from pySPT.widgets import saveStatistics\n",
    "from pySPT.widgets import saveFiltered\n",
    "from pySPT.analysis import cell\n",
    "from pySPT.analysis import trajectory\n",
    "from pySPT.analysis import coverSlip\n",
    "from pySPT.analysis import trajectoryStatistics\n",
    "from tqdm import tqdm_notebook as tqdm\n",
    "import os\n",
    "import warnings\n",
    "warnings.filterwarnings('ignore')\n",
    "widget_load_hdf5 = widgetLoadHdf5.WidgetLoadHdf5()\n",
    "load_hdf5 = loadHdf5.LoadHdf5()\n",
    "cover_slip = coverSlip.CoverSlip()\n",
    "track_stats = trajectoryStatistics.TrajectoryStatistics()\n",
    "display(widget_load_hdf5.dir_box, widget_load_hdf5.dir_button)\n",
    "widget_load_hdf5.dir_button.on_click(widget_load_hdf5.open_dir)\n",
    "widget_load_hdf5.dir_box.observe(widget_load_hdf5.change_dir_box)"
   ]
  },
  {
   "cell_type": "code",
   "execution_count": 2,
   "metadata": {
    "hideCode": false,
    "hidePrompt": false
   },
   "outputs": [
    {
     "data": {
      "application/vnd.jupyter.widget-view+json": {
       "model_id": "3fe7a3d8a9d54ad0867a16157268317c",
       "version_major": 2,
       "version_minor": 0
      },
      "text/plain": [
       "Button(description='initialize', style=ButtonStyle(), tooltip='initialize objects')"
      ]
     },
     "metadata": {},
     "output_type": "display_data"
    },
    {
     "name": "stdout",
     "output_type": "stream",
     "text": [
      "203 203\n",
      "Initialization took 1.6195142269134521 s\n"
     ]
    }
   ],
   "source": [
    "def initialize(event):\n",
    "    init_filter_notebook(cover_slip, widget_load_hdf5, load_hdf5, is_cell=True)\n",
    "    track_stats.cells = cover_slip.cells\n",
    "    track_stats.cell_trajectories = cover_slip.cell_trajectories\n",
    "    track_stats.cell_sizes = [cell.size for cell in cover_slip.cells]\n",
    "    track_stats.create_filtered_framework()\n",
    "display(widget_load_hdf5.init_cells_button)\n",
    "widget_load_hdf5.init_cells_button.on_click(initialize)"
   ]
  },
  {
   "cell_type": "markdown",
   "metadata": {
    "hideCode": false,
    "hidePrompt": false
   },
   "source": [
    "## Load background.h5 files"
   ]
  },
  {
   "cell_type": "markdown",
   "metadata": {
    "hideCode": false,
    "hidePrompt": false
   },
   "source": [
    "Choose/insert a directory for the background files to be searched in (e.g. F:\\Marburg\\single_colour_tracking\\resting). All *.h5 files in the directory will be loaded for the analysis. Background correction is recommended but optional."
   ]
  },
  {
   "cell_type": "code",
   "execution_count": 3,
   "metadata": {
    "hideCode": false,
    "hidePrompt": false
   },
   "outputs": [
    {
     "data": {
      "application/vnd.jupyter.widget-view+json": {
       "model_id": "9cdf64a6ffc049fb9aaed7fc85245dc2",
       "version_major": 2,
       "version_minor": 0
      },
      "text/plain": [
       "Text(value='directory to be searched in', description='directory', placeholder='Type something', style=Descrip…"
      ]
     },
     "metadata": {},
     "output_type": "display_data"
    },
    {
     "data": {
      "application/vnd.jupyter.widget-view+json": {
       "model_id": "df765a54df374d0387772242b0b45816",
       "version_major": 2,
       "version_minor": 0
      },
      "text/plain": [
       "Button(description='browse', style=ButtonStyle(), tooltip='browse for directory')"
      ]
     },
     "metadata": {},
     "output_type": "display_data"
    }
   ],
   "source": [
    "display(widget_load_hdf5.dir_box_bg, widget_load_hdf5.dir_button_bg)\n",
    "widget_load_hdf5.dir_box_bg.observe(widget_load_hdf5.change_dir_box_bg)\n",
    "widget_load_hdf5.dir_button_bg.on_click(widget_load_hdf5.open_dir_bg)"
   ]
  },
  {
   "cell_type": "code",
   "execution_count": 4,
   "metadata": {
    "hideCode": false,
    "hidePrompt": false
   },
   "outputs": [
    {
     "data": {
      "application/vnd.jupyter.widget-view+json": {
       "model_id": "e4b3f8429a454ca39fd1832e6d8d8452",
       "version_major": 2,
       "version_minor": 0
      },
      "text/plain": [
       "Button(description='initialize', style=ButtonStyle(), tooltip='initialize objects')"
      ]
     },
     "metadata": {},
     "output_type": "display_data"
    }
   ],
   "source": [
    "def initialize(event):\n",
    "    init_filter_notebook(cover_slip, widget_load_hdf5, load_hdf5, is_cell=False)\n",
    "    track_stats.backgrounds = cover_slip.backgrounds\n",
    "    track_stats.background_trajectories = cover_slip.background_trajectories\n",
    "    track_stats.bg_sizes = [background.size for background in cover_slip.backgrounds]\n",
    "display(widget_load_hdf5.init_background_button)\n",
    "widget_load_hdf5.init_background_button.on_click(initialize)"
   ]
  },
  {
   "cell_type": "markdown",
   "metadata": {
    "hideCode": false,
    "hidePrompt": false
   },
   "source": [
    "## Filter for parameters"
   ]
  },
  {
   "cell_type": "markdown",
   "metadata": {
    "hideCode": false,
    "hidePrompt": false
   },
   "source": [
    "Floating point numbers have to be separated with a dot (e.g. 2.123). If no filter parameters or invalid parameters are given, the min and max values will be set automatically. All boxes that are checked will be included in the filtered data. If one wants to filter multiple times, the JNB has to be restarted."
   ]
  },
  {
   "cell_type": "code",
   "execution_count": 5,
   "metadata": {
    "hideCode": false,
    "hidePrompt": false
   },
   "outputs": [
    {
     "data": {
      "application/vnd.jupyter.widget-view+json": {
       "model_id": "79fd15c2ead143a8aab558d4fcf9449a",
       "version_major": 2,
       "version_minor": 0
      },
      "text/plain": [
       "Text(value='min length', description='Trajectory', placeholder='Type something', style=DescriptionStyle(descri…"
      ]
     },
     "metadata": {},
     "output_type": "display_data"
    },
    {
     "data": {
      "application/vnd.jupyter.widget-view+json": {
       "model_id": "9eb1f77741844a31a82808f6fe5ee784",
       "version_major": 2,
       "version_minor": 0
      },
      "text/plain": [
       "Text(value='max length', description='Trajectory', placeholder='Type something', style=DescriptionStyle(descri…"
      ]
     },
     "metadata": {},
     "output_type": "display_data"
    },
    {
     "data": {
      "application/vnd.jupyter.widget-view+json": {
       "model_id": "ebac2f08127a41c29829e2f6e77ff05e",
       "version_major": 2,
       "version_minor": 0
      },
      "text/plain": [
       "Text(value='min value', description='Diffusion coefficient', placeholder='Type something', style=DescriptionSt…"
      ]
     },
     "metadata": {},
     "output_type": "display_data"
    },
    {
     "data": {
      "application/vnd.jupyter.widget-view+json": {
       "model_id": "1a319e0efa5345d2bd87d5a9f4ef908f",
       "version_major": 2,
       "version_minor": 0
      },
      "text/plain": [
       "Text(value='max value', description='Diffusion coefficient', placeholder='Type something', style=DescriptionSt…"
      ]
     },
     "metadata": {},
     "output_type": "display_data"
    },
    {
     "data": {
      "application/vnd.jupyter.widget-view+json": {
       "model_id": "b78c66c740504baaa4987b168845d037",
       "version_major": 2,
       "version_minor": 0
      },
      "text/plain": [
       "Checkbox(value=True, description='Immobile')"
      ]
     },
     "metadata": {},
     "output_type": "display_data"
    },
    {
     "data": {
      "application/vnd.jupyter.widget-view+json": {
       "model_id": "d2b5584373e844c8b1b1c02ba6174e03",
       "version_major": 2,
       "version_minor": 0
      },
      "text/plain": [
       "Checkbox(value=True, description='Confined')"
      ]
     },
     "metadata": {},
     "output_type": "display_data"
    },
    {
     "data": {
      "application/vnd.jupyter.widget-view+json": {
       "model_id": "753ef9ca7fa247c8b8cdca36a4fc9cb0",
       "version_major": 2,
       "version_minor": 0
      },
      "text/plain": [
       "Checkbox(value=True, description='Free')"
      ]
     },
     "metadata": {},
     "output_type": "display_data"
    },
    {
     "data": {
      "application/vnd.jupyter.widget-view+json": {
       "model_id": "f4d47ae14a274d7dbc746c567d1775d0",
       "version_major": 2,
       "version_minor": 0
      },
      "text/plain": [
       "Checkbox(value=False, description='Type determination not successful')"
      ]
     },
     "metadata": {},
     "output_type": "display_data"
    },
    {
     "data": {
      "application/vnd.jupyter.widget-view+json": {
       "model_id": "8ada0d9e13af4eea9593819f2030e7de",
       "version_major": 2,
       "version_minor": 0
      },
      "text/plain": [
       "Button(description='apply filter', style=ButtonStyle(), tooltip='apply filter')"
      ]
     },
     "metadata": {},
     "output_type": "display_data"
    }
   ],
   "source": [
    "def filter(event):\n",
    "    widget_load_hdf5.create_clear_output()\n",
    "    display(widget_load_hdf5.min_length_box, widget_load_hdf5.max_length_box, widget_load_hdf5.min_D_box, widget_load_hdf5.max_D_box, widget_load_hdf5.immob_type_check_box, widget_load_hdf5.confined_type_check_box, widget_load_hdf5.free_type_check_box, widget_load_hdf5.analyse_not_successful_check_box, widget_load_hdf5.filter_button)\n",
    "    #init_track_stats_widget_arrangement(widget_load_hdf5.min_length_box, widget_load_hdf5.max_length_box, widget_load_hdf5.min_D_box, widget_load_hdf5.max_D_box, widget_load_hdf5.filter_button, widget_load_hdf5.immob_type_check_box, widget_load_hdf5.confined_type_check_box, widget_load_hdf5.free_type_check_box, widget_load_hdf5.analyse_not_successful_check_box)\n",
    "    #init_track_stats_widget_arrangement(widget_load_hdf5.min_length_box, widget_load_hdf5.max_length_box, widget_load_hdf5.min_D_box, widget_load_hdf5.max_D_box, widget_load_hdf5.filter_button, widget_load_hdf5.immob_type_check_box, widget_load_hdf5.confined_type_check_box, widget_load_hdf5.free_type_check_box, widget_load_hdf5.analyse_not_successful_check_box)\n",
    "    track_stats.run_statistics(widget_load_hdf5.min_length_box.value, widget_load_hdf5.max_length_box.value, widget_load_hdf5.min_D_box.value, widget_load_hdf5.max_D_box.value, widget_load_hdf5.immob_type_check_box.value,  widget_load_hdf5.confined_type_check_box.value, widget_load_hdf5.free_type_check_box.value, widget_load_hdf5.analyse_not_successful_check_box.value)\n",
    "    track_stats.run_diffusion_histogram(widget_load_hdf5.bin_size_box.value, plot=False)\n",
    "display(widget_load_hdf5.min_length_box, widget_load_hdf5.max_length_box, widget_load_hdf5.min_D_box, widget_load_hdf5.max_D_box, widget_load_hdf5.immob_type_check_box, widget_load_hdf5.confined_type_check_box, widget_load_hdf5.free_type_check_box, widget_load_hdf5.analyse_not_successful_check_box, widget_load_hdf5.filter_button)\n",
    "#widget_load_hdf5.min_length_box.observe(widget_load_hdf5.init_cells_button)\n",
    "widget_load_hdf5.filter_button.on_click(filter)\n",
    "#init_track_stats_widget_arrangement(widget_load_hdf5.min_length_box, widget_load_hdf5.max_length_box, widget_load_hdf5.min_D_box, widget_load_hdf5.max_D_box, widget_load_hdf5.filter_button, widget_load_hdf5.immob_type_check_box, widget_load_hdf5.confined_type_check_box, widget_load_hdf5.free_type_check_box, widget_load_hdf5.analyse_not_successful_check_box)"
   ]
  },
  {
   "cell_type": "markdown",
   "metadata": {
    "hideCode": false,
    "hidePrompt": false
   },
   "source": [
    "## Calculate dynamic localization error "
   ]
  },
  {
   "cell_type": "markdown",
   "metadata": {
    "hideCode": false,
    "hidePrompt": false
   },
   "source": [
    "For each cell, a dynamic localization error based on the filtered trajectories is calculated (formula: X. Michalet, Phys. Rev. 2010, 82, 041914)."
   ]
  },
  {
   "cell_type": "code",
   "execution_count": 6,
   "metadata": {
    "hideCode": false,
    "hidePrompt": false
   },
   "outputs": [
    {
     "data": {
      "application/vnd.jupyter.widget-view+json": {
       "model_id": "d44a35bc606041a9a62be95fbda137ac",
       "version_major": 2,
       "version_minor": 0
      },
      "text/plain": [
       "Button(description='calc', style=ButtonStyle(), tooltip='dynamic localization error')"
      ]
     },
     "metadata": {},
     "output_type": "display_data"
    }
   ],
   "source": [
    "def calc(event):\n",
    "    widget_load_hdf5.create_clear_output()\n",
    "    display(widget_load_hdf5.calc_sigma_dyn_button)\n",
    "    for cell_idx in range(len(track_stats.cell_trajectories_filtered)):\n",
    "        print(\"{}: {} \\u03BCm\".format(track_stats.cells[cell_idx].name, track_stats.sigma_dyns[cell_idx]))\n",
    "display(widget_load_hdf5.calc_sigma_dyn_button)\n",
    "widget_load_hdf5.calc_sigma_dyn_button.on_click(calc)"
   ]
  },
  {
   "cell_type": "markdown",
   "metadata": {
    "hideCode": false,
    "hidePrompt": false
   },
   "source": [
    "## Choose trajectory to plot"
   ]
  },
  {
   "cell_type": "markdown",
   "metadata": {
    "hideCode": false,
    "hidePrompt": false
   },
   "source": [
    "Choose a cell. If one wants to plot multiple times, choose a new cell and/or trajectory reload the plotting cell by clicking in the cell and pressing strg+enter."
   ]
  },
  {
   "cell_type": "code",
   "execution_count": 7,
   "metadata": {
    "hideCode": false,
    "hidePrompt": false
   },
   "outputs": [
    {
     "data": {
      "application/vnd.jupyter.widget-view+json": {
       "model_id": "40c1be34846c40deb0c0befc92bca896",
       "version_major": 2,
       "version_minor": 0
      },
      "text/plain": [
       "Dropdown(description='Number:', options=(), value=None)"
      ]
     },
     "metadata": {},
     "output_type": "display_data"
    }
   ],
   "source": [
    "def dropdown(event):\n",
    "    widget_load_hdf5.cell_options = widget_load_hdf5.get_cell_names(cover_slip.cells, track_stats.cell_trajectories_filtered)\n",
    "widget_load_hdf5.filter_button.on_click(dropdown)\n",
    "display(widget_load_hdf5.drop_down_cells)"
   ]
  },
  {
   "cell_type": "markdown",
   "metadata": {
    "hideCode": false,
    "hidePrompt": false
   },
   "source": [
    "Choose a trajectory."
   ]
  },
  {
   "cell_type": "code",
   "execution_count": 8,
   "metadata": {
    "hideCode": false,
    "hidePrompt": false
   },
   "outputs": [
    {
     "data": {
      "application/vnd.jupyter.widget-view+json": {
       "model_id": "cc6bbcde33b14a0bbbdff656fa842b66",
       "version_major": 2,
       "version_minor": 0
      },
      "text/plain": [
       "Dropdown(description='Number:', options=(), value=None)"
      ]
     },
     "metadata": {},
     "output_type": "display_data"
    }
   ],
   "source": [
    "def dropdown(event):      \n",
    "    for cell in cover_slip.cells:\n",
    "        if cell.name == widget_load_hdf5.drop_down_cells.value:\n",
    "            target_cell = cover_slip.cells.index(cell)\n",
    "            widget_load_hdf5.trajectory_options = track_stats.cell_trajectories_filtered_index[target_cell]\n",
    "            widget_load_hdf5.drop_down_trajectories.options = widget_load_hdf5.trajectory_options\n",
    "widget_load_hdf5.drop_down_cells.observe(dropdown)\n",
    "widget_load_hdf5.filter_button.on_click(dropdown)\n",
    "display(widget_load_hdf5.drop_down_trajectories)"
   ]
  },
  {
   "cell_type": "code",
   "execution_count": 9,
   "metadata": {
    "hideCode": false,
    "hidePrompt": false
   },
   "outputs": [
    {
     "data": {
      "application/vnd.jupyter.widget-view+json": {
       "model_id": "fb64a8d7b8634433a38188e5815c5b27",
       "version_major": 2,
       "version_minor": 0
      },
      "text/plain": [
       "Button(description='plot', style=ButtonStyle(), tooltip='plot chosen trajectory')"
      ]
     },
     "metadata": {},
     "output_type": "display_data"
    }
   ],
   "source": [
    "def plot_trajectory(event):\n",
    "    widget_load_hdf5.create_clear_output()\n",
    "    display(widget_load_hdf5.plot_button)\n",
    "    cover_slip.plot_trajectory(widget_load_hdf5.drop_down_cells.value, widget_load_hdf5.drop_down_trajectories.value)\n",
    "display(widget_load_hdf5.plot_button)\n",
    "widget_load_hdf5.plot_button.on_click(plot_trajectory)"
   ]
  },
  {
   "cell_type": "markdown",
   "metadata": {
    "hideCode": false,
    "hidePrompt": false
   },
   "source": [
    "## Plot diffusion histogram"
   ]
  },
  {
   "cell_type": "markdown",
   "metadata": {
    "hideCode": false,
    "hidePrompt": false
   },
   "source": [
    "Plot the normalized frequency in % against the diffusion coefficients (semi log scale). Diffusion coefficients <= 0 are neglected, because the logarithm is not defined in this interval."
   ]
  },
  {
   "cell_type": "code",
   "execution_count": 10,
   "metadata": {
    "hideCode": false,
    "hidePrompt": false
   },
   "outputs": [
    {
     "data": {
      "application/vnd.jupyter.widget-view+json": {
       "model_id": "191a7334bd514fac8df530d102b3f9a6",
       "version_major": 2,
       "version_minor": 0
      },
      "text/plain": [
       "Text(value='0.1', description='bin size', placeholder='size for log10(D) histogram', style=DescriptionStyle(de…"
      ]
     },
     "metadata": {},
     "output_type": "display_data"
    }
   ],
   "source": [
    "display(widget_load_hdf5.bin_size_box)"
   ]
  },
  {
   "cell_type": "code",
   "execution_count": 11,
   "metadata": {
    "hideCode": false,
    "hidePrompt": false
   },
   "outputs": [
    {
     "data": {
      "application/vnd.jupyter.widget-view+json": {
       "model_id": "1f5f19acfc59420fab68ce850c07cde0",
       "version_major": 2,
       "version_minor": 0
      },
      "text/plain": [
       "Button(description='plot', style=ButtonStyle(), tooltip='plot diffusion coefficients')"
      ]
     },
     "metadata": {},
     "output_type": "display_data"
    }
   ],
   "source": [
    "def plot_diffusions(event):\n",
    "    widget_load_hdf5.create_clear_output()\n",
    "    display(widget_load_hdf5.plot_diffusions_button)\n",
    "    track_stats.run_diffusion_histogram(widget_load_hdf5.bin_size_box.value)\n",
    "display(widget_load_hdf5.plot_diffusions_button)\n",
    "widget_load_hdf5.plot_diffusions_button.on_click(plot_diffusions)"
   ]
  },
  {
   "cell_type": "markdown",
   "metadata": {
    "hideCode": false,
    "hidePrompt": false
   },
   "source": [
    "## Save Analysis"
   ]
  },
  {
   "cell_type": "markdown",
   "metadata": {
    "hideCode": false,
    "hidePrompt": false
   },
   "source": [
    "Choose a directory, folder name and a file name for the statistics h5 file. If you want to save the filtered dataset, check the box! The filtered dataset will be saved in the same folder as the statistics h5 file."
   ]
  },
  {
   "cell_type": "code",
   "execution_count": 12,
   "metadata": {
    "hideCode": false,
    "hidePrompt": false
   },
   "outputs": [
    {
     "data": {
      "application/vnd.jupyter.widget-view+json": {
       "model_id": "5ca3cc4315984f209df13703c09915ff",
       "version_major": 2,
       "version_minor": 0
      },
      "text/plain": [
       "Button(description='browse', style=ButtonStyle(), tooltip='browse for directory')"
      ]
     },
     "metadata": {},
     "output_type": "display_data"
    },
    {
     "data": {
      "application/vnd.jupyter.widget-view+json": {
       "model_id": "b73685caf4524858b7e611fa066cac3b",
       "version_major": 2,
       "version_minor": 0
      },
      "text/plain": [
       "Text(value='', description='directory', placeholder='directory for filtered data', style=DescriptionStyle(desc…"
      ]
     },
     "metadata": {},
     "output_type": "display_data"
    },
    {
     "data": {
      "application/vnd.jupyter.widget-view+json": {
       "model_id": "418932f0191d478b8e6f683522aa052d",
       "version_major": 2,
       "version_minor": 0
      },
      "text/plain": [
       "Text(value='190619_filtered', description='folder name', placeholder='name of folder', style=DescriptionStyle(…"
      ]
     },
     "metadata": {},
     "output_type": "display_data"
    },
    {
     "data": {
      "application/vnd.jupyter.widget-view+json": {
       "model_id": "5ca1c8229c1a4098892c7353800e169e",
       "version_major": 2,
       "version_minor": 0
      },
      "text/plain": [
       "Text(value='statistics', description='file name', placeholder='name for statistics .h5 file', style=Descriptio…"
      ]
     },
     "metadata": {},
     "output_type": "display_data"
    },
    {
     "data": {
      "application/vnd.jupyter.widget-view+json": {
       "model_id": "94b21d987e234674981279993cacb5c3",
       "version_major": 2,
       "version_minor": 0
      },
      "text/plain": [
       "Checkbox(value=True, description='Save filtered dataset')"
      ]
     },
     "metadata": {},
     "output_type": "display_data"
    },
    {
     "data": {
      "application/vnd.jupyter.widget-view+json": {
       "model_id": "82257e29bc4c44bbb67cac61680566d1",
       "version_major": 2,
       "version_minor": 0
      },
      "text/plain": [
       "Checkbox(value=True, description='Save filtered .trc files')"
      ]
     },
     "metadata": {},
     "output_type": "display_data"
    }
   ],
   "source": [
    "display(widget_load_hdf5.save_dir_button, widget_load_hdf5.save_dir_box, widget_load_hdf5.save_folder_name_box, widget_load_hdf5.save_name_box, widget_load_hdf5.filtered_dataset_checkbox, widget_load_hdf5.hmm_trc_checkbox)\n",
    "widget_load_hdf5.save_dir_button.on_click(widget_load_hdf5.save_open_dir)\n",
    "widget_load_hdf5.save_dir_box.observe(widget_load_hdf5.change_save_dir_box)"
   ]
  },
  {
   "cell_type": "code",
   "execution_count": 13,
   "metadata": {
    "hideCode": false,
    "hidePrompt": false
   },
   "outputs": [
    {
     "data": {
      "application/vnd.jupyter.widget-view+json": {
       "model_id": "9da37aee7df74048b367fbdf42555852",
       "version_major": 2,
       "version_minor": 0
      },
      "text/plain": [
       "Button(description='save', style=ButtonStyle(), tooltip='save statistics')"
      ]
     },
     "metadata": {},
     "output_type": "display_data"
    }
   ],
   "source": [
    "def save(event):\n",
    "    widget_load_hdf5.create_clear_output()\n",
    "    display(widget_load_hdf5.save_button)\n",
    "    h5_stats = saveStatistics.SaveStatistics()\n",
    "    if os.path.exists(widget_load_hdf5.save_dir_box.value + \"\\\\\" + widget_load_hdf5.save_folder_name_box.value):\n",
    "        print(\"Directory already exsists. Please choose an other directory or folder name.\")\n",
    "    else:\n",
    "        os.makedirs(widget_load_hdf5.save_dir_box.value + \"\\\\\" + widget_load_hdf5.save_folder_name_box.value)\n",
    "        if widget_load_hdf5.save_dir_box.value:\n",
    "            init_save_track_stats(h5_stats, track_stats, widget_load_hdf5.save_dir_box.value, widget_load_hdf5.save_folder_name_box.value, widget_load_hdf5.save_name_box.value)\n",
    "            if widget_load_hdf5.filtered_dataset_checkbox.value:\n",
    "                track_stats.filter_cell_trc()\n",
    "                print(\"The filtered dataset will be saved.\")\n",
    "                for cell_index in tqdm(range(len(track_stats.cells))):\n",
    "                    if track_stats.cell_trajectories_filtered[cell_index]:\n",
    "                        init_save_filtered_analysis(cover_slip, cell_index, track_stats, widget_load_hdf5.save_dir_box.value, widget_load_hdf5.save_folder_name_box.value)\n",
    "            if widget_load_hdf5.hmm_trc_checkbox.value:\n",
    "                print(\"The trc files of the filtered dataset will be saved.\")\n",
    "                track_stats.filter_cell_trc()\n",
    "                for cell_index in tqdm(range(len(track_stats.cells))):\n",
    "                    if track_stats.cell_trajectories_filtered[cell_index]:\n",
    "                        init_save_filtered_trc(track_stats, widget_load_hdf5.save_dir_box.value, widget_load_hdf5.save_folder_name_box.value)\n",
    "        else:\n",
    "            print(\"Please choose a directory\")\n",
    "display(widget_load_hdf5.save_button) \n",
    "widget_load_hdf5.save_button.on_click(save)"
   ]
  }
 ],
 "metadata": {
  "hide_code_all_hidden": false,
  "kernelspec": {
   "display_name": "Python 3",
   "language": "python",
   "name": "python3"
  },
  "language_info": {
   "codemirror_mode": {
    "name": "ipython",
    "version": 3
   },
   "file_extension": ".py",
   "mimetype": "text/x-python",
   "name": "python",
   "nbconvert_exporter": "python",
   "pygments_lexer": "ipython3",
   "version": "3.7.3"
  }
 },
 "nbformat": 4,
 "nbformat_minor": 2
}
