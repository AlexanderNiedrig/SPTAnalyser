{
 "cells": [
  {
   "cell_type": "markdown",
   "metadata": {
    "hideCode": true,
    "hidePrompt": true
   },
   "source": [
    "# Analysis & *.h5 saving of cells and backgrounds\n",
    "### Johanna Rahm, Sebastian Malkusch\n",
    "#### Research group Heilemann\n",
    "#### Institute for Physical and Theoretical Chemistry, Goethe University Frankfurt a.M.\n",
    "This notebook as to be reloaded before analysing a new group of data!"
   ]
  },
  {
   "cell_type": "markdown",
   "metadata": {
    "hideCode": true,
    "hidePrompt": true
   },
   "source": [
    "## Load *.trc files"
   ]
  },
  {
   "cell_type": "markdown",
   "metadata": {
    "hideCode": true,
    "hidePrompt": true
   },
   "source": [
    "Choose/insert a directory for the cell files to be searched in (e.g. F:\\Marburg\\single_colour_tracking\\resting). All *.trc  files in the directory will be loaded for the analysis. It is possible to ignore files, by choosing mask words. If a file name containes any mask word, it will not be loaded. Comma separate multiple mask words (e.g. hmm, background, cell02)."
   ]
  },
  {
   "cell_type": "code",
   "execution_count": 1,
   "metadata": {
    "hideCode": true,
    "hidePrompt": true
   },
   "outputs": [
    {
     "data": {
      "application/vnd.jupyter.widget-view+json": {
       "model_id": "3b03e3ab2e6248fb8365f80f0ff29956",
       "version_major": 2,
       "version_minor": 0
      },
      "text/plain": [
       "RadioButtons(options=('ThunderSTORM', 'rapidSTORM', 'PALMTracer'), value='ThunderSTORM')"
      ]
     },
     "metadata": {},
     "output_type": "display_data"
    },
    {
     "data": {
      "application/vnd.jupyter.widget-view+json": {
       "model_id": "de92133ed3ff43d79538e428d6f3c8ca",
       "version_major": 2,
       "version_minor": 0
      },
      "text/plain": [
       "Text(value='directory to be searched in', description='directory', placeholder='Type something', style=Descrip…"
      ]
     },
     "metadata": {},
     "output_type": "display_data"
    },
    {
     "data": {
      "application/vnd.jupyter.widget-view+json": {
       "model_id": "1a13e36a93c14dd2acfd9f93d5783a60",
       "version_major": 2,
       "version_minor": 0
      },
      "text/plain": [
       "Button(description='browse', style=ButtonStyle(), tooltip='browse for directory')"
      ]
     },
     "metadata": {},
     "output_type": "display_data"
    }
   ],
   "source": [
    "from pySPT.widgets.widgetNotebooks import init_save_track_analysis\n",
    "from pySPT.widgets import hdf5\n",
    "from pySPT.widgets import widgetTrackAnalysis\n",
    "from pySPT.widgets import widgetColumnSort\n",
    "from pySPT.widgets import widgetDirectoryStructure\n",
    "from pySPT.analysis import coverSlip\n",
    "from pySPT.analysis import trackAnalysis\n",
    "from pySPT.analysis import trcFormat\n",
    "from tqdm import tqdm_notebook as tqdm\n",
    "import warnings\n",
    "widget_track_analysis = widgetTrackAnalysis.WidgetTrackAnalysis()\n",
    "track_analysis = trackAnalysis.TrackAnalysis()\n",
    "cover_slip = coverSlip.CoverSlip()\n",
    "display(widget_track_analysis.software_button, widget_track_analysis.dir_box, widget_track_analysis.dir_button)\n",
    "widget_track_analysis.dir_button.on_click(widget_track_analysis.open_dir)\n",
    "widget_track_analysis.dir_box.observe(widget_track_analysis.change_dir_box)"
   ]
  },
  {
   "cell_type": "markdown",
   "metadata": {
    "hideCode": true,
    "hidePrompt": true
   },
   "source": [
    "Choose/insert the complete directory for the roi.log file which contains the cell sizes (e.g. F:\\Marburg\\single_colour_tracking\\resting\\roi.log). If no cell size was determined, the camera chip size will be set as the size."
   ]
  },
  {
   "cell_type": "code",
   "execution_count": 2,
   "metadata": {
    "hideCode": true,
    "hidePrompt": true
   },
   "outputs": [
    {
     "data": {
      "application/vnd.jupyter.widget-view+json": {
       "model_id": "aa90274c5f1b4f68b098b44adbca0bdf",
       "version_major": 2,
       "version_minor": 0
      },
      "text/plain": [
       "Text(value='path of roi', description='roi', placeholder='Type something', style=DescriptionStyle(description_…"
      ]
     },
     "metadata": {},
     "output_type": "display_data"
    },
    {
     "data": {
      "application/vnd.jupyter.widget-view+json": {
       "model_id": "1e7448528e2349d8b2be6dfe5901d60c",
       "version_major": 2,
       "version_minor": 0
      },
      "text/plain": [
       "Button(description='browse', style=ButtonStyle(), tooltip='browse for roi')"
      ]
     },
     "metadata": {},
     "output_type": "display_data"
    }
   ],
   "source": [
    "display(widget_track_analysis.roi_box, widget_track_analysis.roi_button)\n",
    "widget_track_analysis.roi_button.on_click(widget_track_analysis.open_roi)\n",
    "widget_track_analysis.roi_box.observe(widget_track_analysis.change_roi_box)"
   ]
  },
  {
   "cell_type": "markdown",
   "metadata": {
    "hideCode": true,
    "hidePrompt": true
   },
   "source": [
    "## Camera details"
   ]
  },
  {
   "cell_type": "markdown",
   "metadata": {
    "hideCode": true,
    "hidePrompt": true
   },
   "source": [
    "Based on the pixel size, the localization will be transfered from pixel to micrometer.\n",
    "Based on the amount of pixel, the camera area will be calculated (e.g. 256 * 256=65536 pixel). Camera integration time is needed for MSD calculations."
   ]
  },
  {
   "cell_type": "code",
   "execution_count": 3,
   "metadata": {
    "hideCode": true,
    "hidePrompt": true
   },
   "outputs": [
    {
     "data": {
      "application/vnd.jupyter.widget-view+json": {
       "model_id": "12f8f95255c74c19b4dcd148e65273fd",
       "version_major": 2,
       "version_minor": 0
      },
      "text/plain": [
       "Text(value='158', description='Pixel size [nm]', placeholder='Type something', style=DescriptionStyle(descript…"
      ]
     },
     "metadata": {},
     "output_type": "display_data"
    },
    {
     "data": {
      "application/vnd.jupyter.widget-view+json": {
       "model_id": "8dde62158c264e938f8075e338a537a2",
       "version_major": 2,
       "version_minor": 0
      },
      "text/plain": [
       "Text(value='65536', description='Amount of pixel on the camera', placeholder='Type something', style=Descripti…"
      ]
     },
     "metadata": {},
     "output_type": "display_data"
    },
    {
     "data": {
      "application/vnd.jupyter.widget-view+json": {
       "model_id": "72cba98cdb874afb928b06aad8d93065",
       "version_major": 2,
       "version_minor": 0
      },
      "text/plain": [
       "Text(value='0.02', description='Camera integration time [s]', placeholder='Type something', style=DescriptionS…"
      ]
     },
     "metadata": {},
     "output_type": "display_data"
    }
   ],
   "source": [
    "display(widget_track_analysis.camera_pixel_size_box, widget_track_analysis.camera_pixel_amount_box, widget_track_analysis.camera_integration_time_box)"
   ]
  },
  {
   "cell_type": "markdown",
   "metadata": {
    "hideCode": true,
    "hidePrompt": true
   },
   "source": [
    "## Parameters for Diffusion Type Analysis"
   ]
  },
  {
   "cell_type": "markdown",
   "metadata": {
    "hideCode": true,
    "hidePrompt": true
   },
   "source": [
    "The degree of freedom of the diffusion coefficient D are inserted in the calculation of D (1D = 2, 2D = 4, 3D = 6 dof). The minimal detectable diffusion coefficient is the threshold for the immobile type analysis.\n",
    "Based on the formular min_track_length * camera_integration_time = n -> tau_threshold = 0.3*n, the tau threshold for diffusion type determination free & confined is set."
   ]
  },
  {
   "cell_type": "code",
   "execution_count": 4,
   "metadata": {
    "hideCode": true,
    "hidePrompt": true
   },
   "outputs": [
    {
     "data": {
      "application/vnd.jupyter.widget-view+json": {
       "model_id": "8195cdf482774dc389f4478b51c624ce",
       "version_major": 2,
       "version_minor": 0
      },
      "text/plain": [
       "Text(value='4', description='Number of points fitted for D', placeholder='Type something', style=DescriptionSt…"
      ]
     },
     "metadata": {},
     "output_type": "display_data"
    },
    {
     "data": {
      "application/vnd.jupyter.widget-view+json": {
       "model_id": "6fe4d7ac6993406a94b4aab236df578b",
       "version_major": 2,
       "version_minor": 0
      },
      "text/plain": [
       "Text(value='4', description='degree of freedom of D', placeholder='Type something', style=DescriptionStyle(des…"
      ]
     },
     "metadata": {},
     "output_type": "display_data"
    },
    {
     "data": {
      "application/vnd.jupyter.widget-view+json": {
       "model_id": "629fb53da89e493091afe538cbb48b8b",
       "version_major": 2,
       "version_minor": 0
      },
      "text/plain": [
       "Text(value='0.0065', description='Minimal detectable D  [μm²/s]', placeholder='Type something', style=Descript…"
      ]
     },
     "metadata": {},
     "output_type": "display_data"
    },
    {
     "data": {
      "application/vnd.jupyter.widget-view+json": {
       "model_id": "85edc0e2bcfc4798906f69ad063c3f67",
       "version_major": 2,
       "version_minor": 0
      },
      "text/plain": [
       "Text(value='20', description='Min track length', placeholder='Type something', style=DescriptionStyle(descript…"
      ]
     },
     "metadata": {},
     "output_type": "display_data"
    }
   ],
   "source": [
    "display(widget_track_analysis.points_D_fit_box, widget_track_analysis.dof_box, widget_track_analysis.D_min_box, widget_track_analysis.min_track_length_box)"
   ]
  },
  {
   "cell_type": "markdown",
   "metadata": {
    "hideCode": true,
    "hidePrompt": true
   },
   "source": [
    "The diffusion type analysis can be based on the track id or seg id of the trc file. A track can contain multiple segmentations with different diffusion models that will be averaged. Therefore running the analysis on a segment level is recommended. For PALMTracer .trc files no seg id is available and the track id has to be chosen."
   ]
  },
  {
   "cell_type": "code",
   "execution_count": 5,
   "metadata": {
    "hideCode": true,
    "hidePrompt": true
   },
   "outputs": [
    {
     "data": {
      "application/vnd.jupyter.widget-view+json": {
       "model_id": "7f26eef31ad5447c9133df5e6909aabf",
       "version_major": 2,
       "version_minor": 0
      },
      "text/plain": [
       "RadioButtons(options=('seg id', 'track id'), value='seg id')"
      ]
     },
     "metadata": {},
     "output_type": "display_data"
    }
   ],
   "source": [
    "display(widget_track_analysis.trajectory_id_button)"
   ]
  },
  {
   "cell_type": "markdown",
   "metadata": {
    "hideCode": true,
    "hidePrompt": true
   },
   "source": [
    "## Parameters for Hidden Markov Modeling"
   ]
  },
  {
   "cell_type": "markdown",
   "metadata": {
    "hideCode": true,
    "hidePrompt": true
   },
   "source": [
    "Check the box to enable hidden markov modeling. A .trc file for the ermine cluster will be saved in the pySPT/hmm folder. The hidden markov modeling is applied to the track id to observe state transformations. Choose a min track length to investigate the system (at least 2)."
   ]
  },
  {
   "cell_type": "code",
   "execution_count": 6,
   "metadata": {
    "hideCode": true,
    "hidePrompt": true
   },
   "outputs": [
    {
     "data": {
      "application/vnd.jupyter.widget-view+json": {
       "model_id": "145575c214c04cc3a723a63d9988933b",
       "version_major": 2,
       "version_minor": 0
      },
      "text/plain": [
       "Checkbox(value=True, description='Save .trc file')"
      ]
     },
     "metadata": {},
     "output_type": "display_data"
    },
    {
     "data": {
      "application/vnd.jupyter.widget-view+json": {
       "model_id": "5574491b4bf84456a43aa8ba54c01cba",
       "version_major": 2,
       "version_minor": 0
      },
      "text/plain": [
       "Checkbox(value=True, description='Save .microscope file')"
      ]
     },
     "metadata": {},
     "output_type": "display_data"
    },
    {
     "data": {
      "application/vnd.jupyter.widget-view+json": {
       "model_id": "df7bf2aa8a08420bbc00ee656a663f6b",
       "version_major": 2,
       "version_minor": 0
      },
      "text/plain": [
       "Text(value='2', description='Min track length', placeholder='Type something', style=DescriptionStyle(descripti…"
      ]
     },
     "metadata": {},
     "output_type": "display_data"
    }
   ],
   "source": [
    "display(widget_track_analysis.hmm_check_box, widget_track_analysis.microscope_check_box, widget_track_analysis.min_track_length_hmm_box)"
   ]
  },
  {
   "cell_type": "markdown",
   "metadata": {
    "hideCode": true,
    "hidePrompt": true
   },
   "source": [
    "## Run Analysis"
   ]
  },
  {
   "cell_type": "code",
   "execution_count": 7,
   "metadata": {
    "hideCode": true,
    "hidePrompt": true
   },
   "outputs": [
    {
     "data": {
      "application/vnd.jupyter.widget-view+json": {
       "model_id": "f06aaaee3b464be3b94a95e79a5f863a",
       "version_major": 2,
       "version_minor": 0
      },
      "text/plain": [
       "HBox(children=(IntProgress(value=0, max=20), HTML(value='')))"
      ]
     },
     "metadata": {},
     "output_type": "display_data"
    },
    {
     "name": "stdout",
     "output_type": "stream",
     "text": [
      "trc [2.0, 4.0, 6.0, 12.0, 15.0, 18.0, 21.0, 23.0, 24.0, 25.0, 26.0, 27.0, 35.0, 44.0, 65.0, 73.0, 98.0, 99.0, 101.0, 114.0, 135.0, 146.0, 150.0, 156.0, 168.0, 219.0, 231.0, 236.0, 237.0, 238.0, 244.0, 245.0, 265.0, 273.0, 274.0, 301.0, 311.0, 365.0, 366.0, 381.0, 428.0, 433.0, 435.0, 447.0, 465.0, 521.0, 530.0, 533.0, 549.0, 559.0, 583.0, 584.0, 599.0, 620.0, 710.0, 766.0, 779.0, 901.0, 915.0, 936.0, 976.0, 1002.0, 1003.0, 1042.0, 1047.0, 1063.0, 1064.0, 1069.0, 1081.0, 1082.0, 1150.0, 1175.0, 1185.0, 1192.0, 1198.0, 1204.0, 1217.0, 1297.0, 1299.0, 1330.0, 1380.0, 1401.0, 1404.0, 1435.0, 1517.0, 1541.0, 1542.0, 1591.0, 1613.0, 1660.0, 1673.0, 1696.0, 1697.0, 1707.0, 1750.0, 1807.0, 1872.0, 1915.0, 1957.0, 2010.0, 2033.0, 2075.0, 2096.0, 2099.0, 2101.0, 2120.0, 2135.0, 2187.0, 2206.0, 2238.0, 2278.0, 2280.0, 2295.0, 2309.0, 2310.0, 2311.0, 2312.0, 2324.0, 2325.0, 2330.0, 2331.0, 2447.0, 2451.0, 2498.0, 2512.0, 2513.0, 2541.0, 2545.0, 2546.0, 2558.0, 2582.0, 2585.0, 2634.0, 2635.0, 2668.0, 2710.0, 2847.0, 2848.0, 2860.0, 2861.0, 2899.0, 2931.0, 2940.0, 3009.0, 3044.0, 3045.0, 3046.0, 3047.0, 3070.0, 3098.0, 3099.0, 3128.0, 3129.0, 3206.0, 3238.0, 3329.0, 3381.0, 3398.0, 3424.0, 3444.0, 3454.0, 3524.0, 3594.0, 3607.0, 3608.0, 3633.0, 3661.0, 3697.0, 3698.0, 3705.0, 3708.0, 3721.0, 3722.0, 3880.0, 3884.0, 3888.0, 3977.0, 4080.0, 4087.0, 4146.0, 4226.0, 4247.0, 4325.0, 4364.0, 4370.0, 4397.0, 4424.0, 4470.0, 4471.0, 4492.0, 4513.0, 4539.0, 4583.0, 4590.0, 4616.0, 4636.0, 4643.0, 4690.0, 4723.0, 4727.0, 4896.0, 4897.0, 4901.0]\n"
     ]
    },
    {
     "data": {
      "application/vnd.jupyter.widget-view+json": {
       "model_id": "9f20d1bf5cd04f0cba0fc9256e71b4f5",
       "version_major": 2,
       "version_minor": 0
      },
      "text/plain": [
       "HBox(children=(IntProgress(value=0, max=203), HTML(value='')))"
      ]
     },
     "metadata": {},
     "output_type": "display_data"
    },
    {
     "name": "stdout",
     "output_type": "stream",
     "text": [
      "tr id [2.0, 4.0, 6.0, 12.0, 15.0, 18.0, 21.0, 23.0, 24.0, 25.0, 26.0, 27.0, 35.0, 44.0, 65.0, 73.0, 98.0, 99.0, 101.0, 114.0, 135.0, 146.0, 150.0, 156.0, 168.0, 219.0, 231.0, 236.0, 237.0, 238.0, 244.0, 245.0, 265.0, 273.0, 274.0, 301.0, 311.0, 365.0, 366.0, 381.0, 428.0, 433.0, 435.0, 447.0, 465.0, 521.0, 530.0, 533.0, 549.0, 559.0, 583.0, 584.0, 599.0, 620.0, 710.0, 766.0, 779.0, 901.0, 915.0, 936.0, 976.0, 1002.0, 1003.0, 1042.0, 1047.0, 1063.0, 1064.0, 1069.0, 1081.0, 1082.0, 1150.0, 1175.0, 1185.0, 1192.0, 1198.0, 1204.0, 1217.0, 1297.0, 1299.0, 1330.0, 1380.0, 1401.0, 1404.0, 1435.0, 1517.0, 1541.0, 1542.0, 1591.0, 1613.0, 1660.0, 1673.0, 1696.0, 1697.0, 1707.0, 1750.0, 1807.0, 1872.0, 1915.0, 1957.0, 2010.0, 2033.0, 2075.0, 2096.0, 2099.0, 2101.0, 2120.0, 2135.0, 2187.0, 2206.0, 2238.0, 2278.0, 2280.0, 2295.0, 2309.0, 2310.0, 2311.0, 2312.0, 2324.0, 2325.0, 2330.0, 2331.0, 2447.0, 2451.0, 2498.0, 2512.0, 2513.0, 2541.0, 2545.0, 2546.0, 2558.0, 2582.0, 2585.0, 2634.0, 2635.0, 2668.0, 2710.0, 2847.0, 2848.0, 2860.0, 2861.0, 2899.0, 2931.0, 2940.0, 3009.0, 3044.0, 3045.0, 3046.0, 3047.0, 3070.0, 3098.0, 3099.0, 3128.0, 3129.0, 3206.0, 3238.0, 3329.0, 3381.0, 3398.0, 3424.0, 3444.0, 3454.0, 3524.0, 3594.0, 3607.0, 3608.0, 3633.0, 3661.0, 3697.0, 3698.0, 3705.0, 3708.0, 3721.0, 3722.0, 3880.0, 3884.0, 3888.0, 3977.0, 4080.0, 4087.0, 4146.0, 4226.0, 4247.0, 4325.0, 4364.0, 4370.0, 4397.0, 4424.0, 4470.0, 4471.0, 4492.0, 4513.0, 4539.0, 4583.0, 4590.0, 4616.0, 4636.0, 4643.0, 4690.0, 4723.0, 4727.0, 4896.0, 4897.0, 4901.0]\n",
      "trc [2.0, 3.0, 4.0, 6.0, 7.0, 8.0, 9.0, 10.0, 11.0, 12.0, 13.0, 14.0, 15.0, 16.0, 17.0, 18.0, 19.0, 20.0, 22.0, 23.0, 24.0, 27.0, 29.0, 30.0, 31.0, 36.0, 37.0, 39.0, 43.0, 82.0, 83.0, 84.0, 85.0, 122.0, 136.0, 143.0, 188.0, 231.0, 240.0, 260.0, 261.0, 266.0, 267.0, 295.0, 388.0, 427.0, 441.0, 442.0, 458.0, 469.0, 474.0, 516.0, 523.0, 532.0, 533.0, 540.0, 557.0, 562.0, 563.0, 564.0, 565.0, 566.0, 579.0, 640.0, 650.0, 651.0, 652.0, 653.0, 654.0, 655.0, 656.0, 684.0, 704.0, 746.0, 747.0, 748.0, 768.0, 791.0, 847.0, 913.0, 919.0, 930.0, 995.0, 999.0, 1002.0, 1026.0, 1034.0, 1035.0, 1036.0, 1037.0, 1045.0, 1049.0, 1091.0, 1092.0, 1123.0, 1182.0, 1207.0, 1212.0, 1252.0, 1274.0, 1337.0, 1424.0, 1436.0, 1447.0, 1450.0, 1530.0, 1611.0, 1632.0, 1638.0, 1671.0, 1737.0, 1738.0, 1739.0, 1757.0, 1778.0, 1862.0, 1865.0, 1886.0, 1900.0, 1913.0, 1914.0, 1996.0, 2012.0, 2039.0, 2048.0, 2055.0, 2056.0, 2057.0, 2058.0, 2059.0, 2145.0, 2148.0, 2189.0, 2190.0, 2203.0, 2218.0, 2219.0, 2220.0, 2231.0, 2261.0, 2337.0, 2350.0, 2367.0, 2412.0, 2443.0, 2456.0, 2457.0, 2468.0, 2496.0, 2517.0, 2635.0, 2647.0, 2675.0, 2731.0, 2734.0, 2746.0, 2756.0, 2764.0, 2775.0, 2835.0, 2836.0, 2865.0, 2904.0, 2915.0, 2918.0, 2962.0, 2964.0, 3000.0, 3062.0, 3102.0, 3136.0, 3142.0, 3172.0, 3249.0, 3302.0, 3322.0, 3325.0, 3476.0, 3508.0, 3590.0, 3651.0, 3725.0, 3734.0, 3799.0, 3857.0, 3858.0, 3871.0, 3875.0, 3966.0, 3985.0, 4025.0, 4042.0, 4062.0, 4081.0, 4115.0, 4163.0, 4227.0, 4391.0]\n"
     ]
    },
    {
     "data": {
      "application/vnd.jupyter.widget-view+json": {
       "model_id": "18afcefff5b945389543b60c91fa0b39",
       "version_major": 2,
       "version_minor": 0
      },
      "text/plain": [
       "HBox(children=(IntProgress(value=0, max=198), HTML(value='')))"
      ]
     },
     "metadata": {},
     "output_type": "display_data"
    },
    {
     "name": "stdout",
     "output_type": "stream",
     "text": [
      "tr id [2.0, 3.0, 4.0, 6.0, 7.0, 8.0, 9.0, 10.0, 11.0, 12.0, 13.0, 14.0, 15.0, 16.0, 17.0, 18.0, 19.0, 20.0, 22.0, 23.0, 24.0, 27.0, 29.0, 30.0, 31.0, 36.0, 37.0, 39.0, 43.0, 82.0, 83.0, 84.0, 85.0, 122.0, 136.0, 143.0, 188.0, 231.0, 240.0, 260.0, 261.0, 266.0, 267.0, 295.0, 388.0, 427.0, 441.0, 442.0, 458.0, 469.0, 474.0, 516.0, 523.0, 532.0, 533.0, 540.0, 557.0, 562.0, 563.0, 564.0, 565.0, 566.0, 579.0, 640.0, 650.0, 651.0, 652.0, 653.0, 654.0, 655.0, 656.0, 684.0, 704.0, 746.0, 747.0, 748.0, 768.0, 791.0, 847.0, 913.0, 919.0, 930.0, 995.0, 999.0, 1002.0, 1026.0, 1034.0, 1035.0, 1036.0, 1037.0, 1045.0, 1049.0, 1091.0, 1092.0, 1123.0, 1182.0, 1207.0, 1212.0, 1252.0, 1274.0, 1337.0, 1424.0, 1436.0, 1447.0, 1450.0, 1530.0, 1611.0, 1632.0, 1638.0, 1671.0, 1737.0, 1738.0, 1739.0, 1757.0, 1778.0, 1862.0, 1865.0, 1886.0, 1900.0, 1913.0, 1914.0, 1996.0, 2012.0, 2039.0, 2048.0, 2055.0, 2056.0, 2057.0, 2058.0, 2059.0, 2145.0, 2148.0, 2189.0, 2190.0, 2203.0, 2218.0, 2219.0, 2220.0, 2231.0, 2261.0, 2337.0, 2350.0, 2367.0, 2412.0, 2443.0, 2456.0, 2457.0, 2468.0, 2496.0, 2517.0, 2635.0, 2647.0, 2675.0, 2731.0, 2734.0, 2746.0, 2756.0, 2764.0, 2775.0, 2835.0, 2836.0, 2865.0, 2904.0, 2915.0, 2918.0, 2962.0, 2964.0, 3000.0, 3062.0, 3102.0, 3136.0, 3142.0, 3172.0, 3249.0, 3302.0, 3322.0, 3325.0, 3476.0, 3508.0, 3590.0, 3651.0, 3725.0, 3734.0, 3799.0, 3857.0, 3858.0, 3871.0, 3875.0, 3966.0, 3985.0, 4025.0, 4042.0, 4062.0, 4081.0, 4115.0, 4163.0, 4227.0, 4391.0]\n",
      "trc [1.0, 2.0, 7.0, 10.0, 13.0, 14.0, 16.0, 19.0, 20.0, 22.0, 23.0, 24.0, 26.0, 28.0, 30.0, 31.0, 32.0, 33.0, 35.0, 36.0, 51.0, 56.0, 68.0, 134.0, 146.0, 162.0, 189.0, 249.0, 268.0, 275.0, 276.0, 292.0, 322.0, 323.0, 337.0, 338.0, 357.0, 385.0, 439.0, 518.0, 524.0, 526.0, 535.0, 536.0, 544.0, 559.0, 561.0, 600.0, 683.0, 684.0, 722.0, 760.0, 764.0, 867.0, 871.0, 919.0, 924.0, 940.0, 999.0, 1000.0, 1031.0, 1037.0, 1057.0, 1078.0, 1084.0, 1114.0, 1233.0, 1247.0, 1251.0, 1252.0, 1432.0, 1451.0, 1456.0, 1466.0, 1472.0, 1491.0, 1493.0, 1552.0, 1611.0, 1652.0, 1662.0, 1716.0, 1771.0, 1787.0, 1797.0, 1826.0, 1921.0, 2011.0, 2071.0, 2156.0, 2159.0, 2172.0, 2184.0, 2256.0, 2327.0, 2330.0, 2416.0, 2417.0, 2525.0, 2591.0, 2602.0, 2639.0, 2690.0, 2714.0, 2730.0, 2785.0, 2811.0, 2876.0, 2922.0, 2941.0, 2973.0, 2992.0, 3023.0, 3029.0, 3030.0, 3067.0, 3068.0, 3070.0, 3114.0, 3120.0, 3156.0, 3205.0, 3259.0, 3372.0, 3387.0, 3397.0, 3427.0, 3469.0, 3501.0, 3622.0, 3658.0, 3695.0, 3762.0, 3775.0, 3785.0, 3811.0, 3849.0, 3962.0, 3975.0, 3976.0, 3977.0, 4001.0, 4007.0, 4192.0, 4208.0, 4215.0, 4242.0, 4255.0, 4282.0, 4289.0, 4381.0, 4495.0, 4613.0, 4620.0, 4621.0, 4622.0, 4702.0, 4710.0, 4735.0, 4763.0, 4817.0, 4843.0, 4936.0, 5011.0, 5048.0, 5064.0, 5070.0, 5169.0, 5173.0, 5237.0, 5310.0, 5331.0, 5332.0, 5333.0, 5363.0, 5364.0, 5416.0, 5530.0, 5583.0, 5631.0, 5652.0, 5674.0, 5687.0, 5748.0, 5839.0, 5852.0, 5884.0, 5909.0, 5936.0, 5960.0, 6242.0]\n"
     ]
    },
    {
     "data": {
      "application/vnd.jupyter.widget-view+json": {
       "model_id": "ee424b6a96974177a3f5594f5fac9f83",
       "version_major": 2,
       "version_minor": 0
      },
      "text/plain": [
       "HBox(children=(IntProgress(value=0, max=191), HTML(value='')))"
      ]
     },
     "metadata": {},
     "output_type": "display_data"
    },
    {
     "name": "stdout",
     "output_type": "stream",
     "text": [
      "tr id [1.0, 2.0, 7.0, 10.0, 13.0, 14.0, 16.0, 19.0, 20.0, 22.0, 23.0, 24.0, 26.0, 28.0, 30.0, 31.0, 32.0, 33.0, 35.0, 36.0, 51.0, 56.0, 68.0, 134.0, 146.0, 162.0, 189.0, 249.0, 268.0, 275.0, 276.0, 292.0, 322.0, 323.0, 337.0, 338.0, 357.0, 385.0, 439.0, 518.0, 524.0, 526.0, 535.0, 536.0, 544.0, 559.0, 561.0, 600.0, 683.0, 684.0, 722.0, 760.0, 764.0, 867.0, 871.0, 919.0, 924.0, 940.0, 999.0, 1000.0, 1031.0, 1037.0, 1057.0, 1078.0, 1084.0, 1114.0, 1233.0, 1247.0, 1251.0, 1252.0, 1432.0, 1451.0, 1456.0, 1466.0, 1472.0, 1491.0, 1493.0, 1552.0, 1611.0, 1652.0, 1662.0, 1716.0, 1771.0, 1787.0, 1797.0, 1826.0, 1921.0, 2011.0, 2071.0, 2156.0, 2159.0, 2172.0, 2184.0, 2256.0, 2327.0, 2330.0, 2416.0, 2417.0, 2525.0, 2591.0, 2602.0, 2639.0, 2690.0, 2714.0, 2730.0, 2785.0, 2811.0, 2876.0, 2922.0, 2941.0, 2973.0, 2992.0, 3023.0, 3029.0, 3030.0, 3067.0, 3068.0, 3070.0, 3114.0, 3120.0, 3156.0, 3205.0, 3259.0, 3372.0, 3387.0, 3397.0, 3427.0, 3469.0, 3501.0, 3622.0, 3658.0, 3695.0, 3762.0, 3775.0, 3785.0, 3811.0, 3849.0, 3962.0, 3975.0, 3976.0, 3977.0, 4001.0, 4007.0, 4192.0, 4208.0, 4215.0, 4242.0, 4255.0, 4282.0, 4289.0, 4381.0, 4495.0, 4613.0, 4620.0, 4621.0, 4622.0, 4702.0, 4710.0, 4735.0, 4763.0, 4817.0, 4843.0, 4936.0, 5011.0, 5048.0, 5064.0, 5070.0, 5169.0, 5173.0, 5237.0, 5310.0, 5331.0, 5332.0, 5333.0, 5363.0, 5364.0, 5416.0, 5530.0, 5583.0, 5631.0, 5652.0, 5674.0, 5687.0, 5748.0, 5839.0, 5852.0, 5884.0, 5909.0, 5936.0, 5960.0, 6242.0]\n"
     ]
    }
   ],
   "source": [
    "widget_dir_structure = widgetDirectoryStructure.WidgetDirStructure()#??\n",
    "\n",
    "warnings.filterwarnings('ignore')\n",
    "display(widget_track_analysis.run_button)\n",
    "def run_analysis(event):\n",
    "    widget_track_analysis.create_clear_output()\n",
    "    widget_track_analysis.searchSubFolders(widget_track_analysis.dir_name)\n",
    "    if widget_track_analysis.got_dir:\n",
    "        cover_slip.software, cover_slip.min_track_length_type, cover_slip.min_track_length_hmm, cover_slip.dt, cover_slip.pixel_size, cover_slip.pixel_amount, cover_slip.dof, cover_slip.D_min, cover_slip.roi_file, cover_slip.cell_files, cover_slip.points_fit_D, cover_slip.seg_id = widget_track_analysis.software_button.value, widget_track_analysis.min_track_length_box.value, widget_track_analysis.min_track_length_hmm_box.value, widget_track_analysis.camera_integration_time_box.value, widget_track_analysis.camera_pixel_size_box.value, widget_track_analysis.camera_pixel_amount_box.value, widget_track_analysis.dof_box.value, widget_track_analysis.D_min_box.value, widget_track_analysis.roi_name, widget_track_analysis.file_names, widget_track_analysis.points_D_fit_box.value, widget_track_analysis.trajectory_id_button.value      \n",
    "        for cell_idx in range(len(cover_slip.cell_files)):\n",
    "            if widget_track_analysis.software_button.value != \"PALMTracer\":\n",
    "                if widget_track_analysis.software_button.value == \"ThunderSTORM\":\n",
    "                    widget_column_sort = widgetColumnSort.WidgetColumnSort(cover_slip.cell_files[cell_idx], widget_track_analysis.software_button.value, ['\"track.id\"' , '\"x [nm]\"', '\"y [nm]\"', '\"frame\"', '\"intensity [photon]\"', '\"seg.id\"'])\n",
    "                elif widget_track_analysis.software_button.value == \"rapidSTORM\":\n",
    "                    widget_column_sort = widgetColumnSort.WidgetColumnSort(cover_slip.cell_files[cell_idx], widget_track_analysis.software_button.value, ['\"track.id\"', '\"Position-0-0\"', '\"Position-1-0\"', '\"Amplitude-0-0\"', '\"ImageNumber-0-0\"', '\"seg.id\"'])\n",
    "                widget_column_sort.check_header()\n",
    "                if widget_column_sort.correct_header:\n",
    "                    widget_column_sort.run_column_sort()\n",
    "                    cover_slip.column_orders.append(widget_column_sort.column_order)\n",
    "        cover_slip.create_cells()  \n",
    "        track_analysis.cell_sizes = [cell.size for cell in cover_slip.cells]\n",
    "        track_analysis.cell_trajectories = cover_slip.cell_trajectories\n",
    "        track_analysis.run_statistics_no_filter()\n",
    "    else:\n",
    "        widget_track_analysis.warning_trc_file()\n",
    "    widget_track_analysis.cells = cover_slip.cells\n",
    "widget_track_analysis.run_button.on_click(run_analysis)"
   ]
  },
  {
   "cell_type": "markdown",
   "metadata": {
    "hideCode": true,
    "hidePrompt": true
   },
   "source": [
    "## Plot diffusion histogram"
   ]
  },
  {
   "cell_type": "markdown",
   "metadata": {
    "hideCode": true,
    "hidePrompt": true
   },
   "source": [
    "Plot the normalized frequency in % against the diffusion coefficients (semi log scale). Diffusion coefficients <= 0 are neglected, because the logarithm is not defined in this interval."
   ]
  },
  {
   "cell_type": "code",
   "execution_count": 8,
   "metadata": {
    "hideCode": true,
    "hidePrompt": true
   },
   "outputs": [
    {
     "data": {
      "application/vnd.jupyter.widget-view+json": {
       "model_id": "dc96b2ca803d45f986bb5c4dac560b6d",
       "version_major": 2,
       "version_minor": 0
      },
      "text/plain": [
       "Text(value='0.1', description='bin size', placeholder='size for log10(D) histogram', style=DescriptionStyle(de…"
      ]
     },
     "metadata": {},
     "output_type": "display_data"
    }
   ],
   "source": [
    "display(widget_track_analysis.bin_size_box)"
   ]
  },
  {
   "cell_type": "code",
   "execution_count": 9,
   "metadata": {
    "hideCode": true,
    "hidePrompt": true
   },
   "outputs": [
    {
     "data": {
      "application/vnd.jupyter.widget-view+json": {
       "model_id": "47969bef604a430dae729555e1156a2f",
       "version_major": 2,
       "version_minor": 0
      },
      "text/plain": [
       "Button(description='plot', style=ButtonStyle(), tooltip='plot diffusion histogram')"
      ]
     },
     "metadata": {},
     "output_type": "display_data"
    }
   ],
   "source": [
    "def plot_diffusions(event):\n",
    "    widget_track_analysis.create_clear_output()\n",
    "    display(widget_track_analysis.plot_diff_button)\n",
    "    track_analysis.run_plot_diffusion_histogram(widget_track_analysis.bin_size_box.value)\n",
    "display(widget_track_analysis.plot_diff_button)\n",
    "widget_track_analysis.plot_diff_button.on_click(plot_diffusions)"
   ]
  },
  {
   "cell_type": "markdown",
   "metadata": {
    "hideCode": true,
    "hidePrompt": true
   },
   "source": [
    "## Choose trajectory to plot"
   ]
  },
  {
   "cell_type": "markdown",
   "metadata": {
    "hideCode": true,
    "hidePrompt": true
   },
   "source": [
    "Choose a cell. If one wants to plot multiple times, choose a new cell and/or trajectory reload the plotting cell by clicking in the cell and pressing strg+enter."
   ]
  },
  {
   "cell_type": "code",
   "execution_count": 10,
   "metadata": {
    "hideCode": true,
    "hidePrompt": true
   },
   "outputs": [
    {
     "data": {
      "application/vnd.jupyter.widget-view+json": {
       "model_id": "bd98dd6379ff40748f76d256261173b8",
       "version_major": 2,
       "version_minor": 0
      },
      "text/plain": [
       "Dropdown(description='Number:', options=(), value=None)"
      ]
     },
     "metadata": {},
     "output_type": "display_data"
    }
   ],
   "source": [
    "def dropdown(event):\n",
    "    widget_track_analysis.cell_options = widget_track_analysis.get_cell_names(cover_slip.cells)\n",
    "widget_track_analysis.run_button.on_click(dropdown)\n",
    "display(widget_track_analysis.drop_down_cells)"
   ]
  },
  {
   "cell_type": "markdown",
   "metadata": {
    "hideCode": true,
    "hidePrompt": true
   },
   "source": [
    "Choose a trajectory."
   ]
  },
  {
   "cell_type": "code",
   "execution_count": 11,
   "metadata": {
    "hideCode": true,
    "hidePrompt": true
   },
   "outputs": [
    {
     "data": {
      "application/vnd.jupyter.widget-view+json": {
       "model_id": "c6583aae3bae414d9f74859df4eaacb9",
       "version_major": 2,
       "version_minor": 0
      },
      "text/plain": [
       "Dropdown(description='Number:', options=(), value=None)"
      ]
     },
     "metadata": {},
     "output_type": "display_data"
    }
   ],
   "source": [
    "def dropdown(event):      \n",
    "    for cell in cover_slip.cells:\n",
    "        if cell.name == widget_track_analysis.drop_down_cells.value:\n",
    "            target_cell = cover_slip.cells.index(cell)\n",
    "            trajectory_indexes = [i+1 for i, _ in enumerate(cover_slip.cell_trajectories[target_cell])]\n",
    "            widget_track_analysis.trajectory_options = trajectory_indexes\n",
    "            widget_track_analysis.drop_down_trajectories.options = widget_track_analysis.trajectory_options\n",
    "widget_track_analysis.drop_down_cells.observe(dropdown)\n",
    "display(widget_track_analysis.drop_down_trajectories)"
   ]
  },
  {
   "cell_type": "code",
   "execution_count": 12,
   "metadata": {
    "hideCode": true,
    "hidePrompt": true
   },
   "outputs": [
    {
     "data": {
      "application/vnd.jupyter.widget-view+json": {
       "model_id": "c71da48ca3294228a03277c26a4765ee",
       "version_major": 2,
       "version_minor": 0
      },
      "text/plain": [
       "Button(description='plot', style=ButtonStyle(), tooltip='plot chosen trajectory')"
      ]
     },
     "metadata": {},
     "output_type": "display_data"
    }
   ],
   "source": [
    "def plot_particle(event):\n",
    "    widget_track_analysis.create_clear_output()\n",
    "    display(widget_track_analysis.plot_button)\n",
    "    cover_slip.plot_trajectory(widget_track_analysis.drop_down_cells.value, widget_track_analysis.drop_down_trajectories.value)\n",
    "display(widget_track_analysis.plot_button)\n",
    "widget_track_analysis.plot_button.on_click(plot_particle)"
   ]
  },
  {
   "cell_type": "markdown",
   "metadata": {
    "hideCode": true,
    "hidePrompt": true
   },
   "source": [
    "## Save"
   ]
  },
  {
   "cell_type": "markdown",
   "metadata": {
    "hideCode": true,
    "hidePrompt": true
   },
   "source": [
    "For each cell a .h5 file will be created, containing all information of the trajectories (unfiltered)."
   ]
  },
  {
   "cell_type": "code",
   "execution_count": 13,
   "metadata": {
    "hideCode": true,
    "hidePrompt": true
   },
   "outputs": [
    {
     "data": {
      "application/vnd.jupyter.widget-view+json": {
       "model_id": "bf423007867a470495ebf7b24a5b9748",
       "version_major": 2,
       "version_minor": 0
      },
      "text/plain": [
       "Button(description='save', style=ButtonStyle(), tooltip='save entire analysis')"
      ]
     },
     "metadata": {},
     "output_type": "display_data"
    }
   ],
   "source": [
    "def save_analysis(event):    \n",
    "    for cell_index in tqdm(range(0, len(cover_slip.cells))):\n",
    "        init_save_track_analysis(cover_slip, cell_index, track_analysis, widget_track_analysis)\n",
    "display(widget_track_analysis.save_button)\n",
    "widget_track_analysis.save_button.on_click(save_analysis)"
   ]
  }
 ],
 "metadata": {
  "hide_code_all_hidden": true,
  "kernelspec": {
   "display_name": "Python 3",
   "language": "python",
   "name": "python3"
  },
  "language_info": {
   "codemirror_mode": {
    "name": "ipython",
    "version": 3
   },
   "file_extension": ".py",
   "mimetype": "text/x-python",
   "name": "python",
   "nbconvert_exporter": "python",
   "pygments_lexer": "ipython3",
   "version": "3.7.3"
  }
 },
 "nbformat": 4,
 "nbformat_minor": 2
}
