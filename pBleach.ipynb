{
 "cells": [
  {
   "cell_type": "markdown",
   "metadata": {
    "hideCode": true,
    "hidePrompt": true
   },
   "source": [
    "# Determination of p_bleach\n",
    "### Johanna Rahm, Sebastian Malkusch\n",
    "#### Research group Heilemann\n",
    "#### Institute for Physical and Theoretical Chemistry, Goethe University Frankfurt a.M.\n",
    "Bleaching probability per particle and frame. The higher p_bleach, the more reluctant swift makes connections. <br/>\n",
    "swift --out_values: mjd_n"
   ]
  },
  {
   "cell_type": "markdown",
   "metadata": {
    "hideCode": true,
    "hidePrompt": true
   },
   "source": [
    "## Choose a localization software"
   ]
  },
  {
   "cell_type": "code",
   "execution_count": 1,
   "metadata": {
    "hideCode": true,
    "hidePrompt": true
   },
   "outputs": [
    {
     "data": {
      "application/vnd.jupyter.widget-view+json": {
       "model_id": "c2f4f2c6b3464d428bf2ff583f0ebfb7",
       "version_major": 2,
       "version_minor": 0
      },
      "text/plain": [
       "RadioButtons(options=('ThunderSTORM', 'rapidSTORM'), value='ThunderSTORM')"
      ]
     },
     "metadata": {},
     "output_type": "display_data"
    }
   ],
   "source": [
    "from pySPT.widgets import widgetDirectoryStructure\n",
    "from pySPT.widgets import widgetColumnSort\n",
    "from pySPT.widgets import widgetPBleach\n",
    "from pySPT.preAnalysis import pBleach\n",
    "widget_p_bleach = widgetPBleach.WidgetPBleach()\n",
    "display(widget_p_bleach.software_button)"
   ]
  },
  {
   "cell_type": "markdown",
   "metadata": {
    "hideCode": true,
    "hidePrompt": true
   },
   "source": [
    "## Load file"
   ]
  },
  {
   "cell_type": "markdown",
   "metadata": {
    "hideCode": true,
    "hidePrompt": true
   },
   "source": [
    "thunderSTORM: Insert the full file path of the tracked seg file with .csv ending or browse for it. Example path: F:\\resting\\160404_CS5\\cell05.tracked.csv) <br/>\n",
    "rapidSTORM: Insert the full file path of the tracked seg file with .txt ending or browse for it. (Example path: F:\\resting\\160404_CS5\\cell05.tracked.txt)"
   ]
  },
  {
   "cell_type": "code",
   "execution_count": 2,
   "metadata": {
    "hideCode": true,
    "hidePrompt": true
   },
   "outputs": [
    {
     "data": {
      "application/vnd.jupyter.widget-view+json": {
       "model_id": "df36795f786d4a749478b411e4edec75",
       "version_major": 2,
       "version_minor": 0
      },
      "text/plain": [
       "Text(value='', description='Complete path', placeholder='Insert path', style=DescriptionStyle(description_widt…"
      ]
     },
     "metadata": {},
     "output_type": "display_data"
    },
    {
     "data": {
      "application/vnd.jupyter.widget-view+json": {
       "model_id": "d5428aab78c846e280b2ee7b8bacaecf",
       "version_major": 2,
       "version_minor": 0
      },
      "text/plain": [
       "Button(description='browse', style=ButtonStyle(), tooltip='browse for file')"
      ]
     },
     "metadata": {},
     "output_type": "display_data"
    }
   ],
   "source": [
    "p_bleach = pBleach.PBleach()\n",
    "widget_dir_structure = widgetDirectoryStructure.WidgetDirStructure()\n",
    "display(widget_p_bleach.file_text_box, widget_p_bleach.file_button)\n",
    "widget_p_bleach.file_button.on_click(widget_p_bleach.open_file)\n",
    "widget_p_bleach.file_text_box.observe(widget_p_bleach.change_file_box)"
   ]
  },
  {
   "cell_type": "markdown",
   "metadata": {
    "hideCode": true,
    "hidePrompt": true
   },
   "source": [
    "## Run Analysis"
   ]
  },
  {
   "cell_type": "markdown",
   "metadata": {
    "hideCode": true,
    "hidePrompt": true
   },
   "source": [
    "Insert an inital k value for the exponential fit (a·exp(-k·t)) and the camera integration time."
   ]
  },
  {
   "cell_type": "code",
   "execution_count": 3,
   "metadata": {
    "hideCode": true,
    "hidePrompt": true
   },
   "outputs": [
    {
     "data": {
      "application/vnd.jupyter.widget-view+json": {
       "model_id": "b4a9e72c603d42169e05dd144d3ff5d1",
       "version_major": 2,
       "version_minor": 0
      },
      "text/plain": [
       "Text(value='0.5', description='Initial k [s⁻¹]', placeholder='Type something', style=DescriptionStyle(descript…"
      ]
     },
     "metadata": {},
     "output_type": "display_data"
    },
    {
     "data": {
      "application/vnd.jupyter.widget-view+json": {
       "model_id": "cb8af75d1cbe4154aa7da0489a3c6a03",
       "version_major": 2,
       "version_minor": 0
      },
      "text/plain": [
       "Text(value='0.02', description='Camera integration time [s]', placeholder='insert path', style=DescriptionStyl…"
      ]
     },
     "metadata": {},
     "output_type": "display_data"
    },
    {
     "data": {
      "application/vnd.jupyter.widget-view+json": {
       "model_id": "beaf8e3980784ba89010819602510748",
       "version_major": 2,
       "version_minor": 0
      },
      "text/plain": [
       "Text(value='0', description='Number of points', placeholder='Type something', style=DescriptionStyle(descripti…"
      ]
     },
     "metadata": {},
     "output_type": "display_data"
    }
   ],
   "source": [
    "widget_dir_structure.name_handling(widget_p_bleach.file_name)\n",
    "widget_dir_structure.create_raw_base_name()\n",
    "display(widget_p_bleach.init_k, widget_p_bleach.integration_time, widget_p_bleach.ignore_points)"
   ]
  },
  {
   "cell_type": "markdown",
   "metadata": {
    "hideCode": true,
    "hidePrompt": true
   },
   "source": [
    "The exponential fit will yield k and its variance kv, p_bleach is calculated via a cumulative distribution function (f(dt, k)) in the range from 0 to 1 frame."
   ]
  },
  {
   "cell_type": "code",
   "execution_count": 4,
   "metadata": {
    "hideCode": true,
    "hidePrompt": true,
    "scrolled": false
   },
   "outputs": [
    {
     "data": {
      "application/vnd.jupyter.widget-view+json": {
       "model_id": "652646a4a7c44de0bfb5e35aca7cce39",
       "version_major": 2,
       "version_minor": 0
      },
      "text/plain": [
       "Button(description='run', style=ButtonStyle(), tooltip='run the analysis')"
      ]
     },
     "metadata": {},
     "output_type": "display_data"
    },
    {
     "name": "stdout",
     "output_type": "stream",
     "text": [
      "Results: p_bleach = 0.008, k = 4.1174e-01 s⁻¹, kv = 1.7815e-05 s⁻²\n"
     ]
    },
    {
     "data": {
      "image/png": "[encoded data removed]",
      "text/plain": [
       "<Figure size 432x288 with 2 Axes>"
      ]
     },
     "metadata": {
      "needs_background": "light"
     },
     "output_type": "display_data"
    }
   ],
   "source": [
    "display(widget_p_bleach.run_button)\n",
    "def run_analysis(event):\n",
    "    widget_p_bleach.create_clear_output()\n",
    "    display(widget_p_bleach.run_button)\n",
    "    if widget_p_bleach.got_file_name:\n",
    "        widget_column_sort = widgetColumnSort.WidgetColumnSort(widget_p_bleach.file_text_box.value, widget_p_bleach.software_button.value, ['\"seg.id\"', '\"seg.mjd_n\"'])\n",
    "        widget_column_sort.check_header()\n",
    "        if widget_column_sort.correct_header:\n",
    "            widget_column_sort.run_column_sort()\n",
    "            p_bleach.ignore_points = int(widget_p_bleach.ignore_points.value)\n",
    "            p_bleach.file_name = widget_p_bleach.file_text_box.value\n",
    "            p_bleach.software = widget_p_bleach.software_button.value\n",
    "            p_bleach.column_order = widget_column_sort.column_order\n",
    "            p_bleach.dt = float(widget_p_bleach.integration_time.value) \n",
    "            p_bleach.init_k = float(widget_p_bleach.init_k.value)\n",
    "            p_bleach.file_name = widget_p_bleach.file_text_box.value\n",
    "            p_bleach.run_p_bleach()\n",
    "        else:\n",
    "            widget_p_bleach.warning_wrong_file()\n",
    "    else:\n",
    "        widget_p_bleach.warning_wrong_file_path()\n",
    "widget_p_bleach.run_button.on_click(run_analysis)"
   ]
  },
  {
   "cell_type": "markdown",
   "metadata": {
    "hideCode": true,
    "hidePrompt": true
   },
   "source": [
    "## Save results"
   ]
  },
  {
   "cell_type": "markdown",
   "metadata": {
    "hideCode": true,
    "hidePrompt": true
   },
   "source": [
    "The results and the histogram will be saved in .txt files with columns: amout of frames, duration of a trajectory [s], fraction, exponential fit, residues."
   ]
  },
  {
   "cell_type": "code",
   "execution_count": 5,
   "metadata": {
    "hideCode": true,
    "hidePrompt": true
   },
   "outputs": [
    {
     "data": {
      "application/vnd.jupyter.widget-view+json": {
       "model_id": "dfa932ec491e4720a85a9c249fcf96f6",
       "version_major": 2,
       "version_minor": 0
      },
      "text/plain": [
       "Checkbox(value=True, description='Save plot')"
      ]
     },
     "metadata": {},
     "output_type": "display_data"
    },
    {
     "data": {
      "application/vnd.jupyter.widget-view+json": {
       "model_id": "361ba4ae002f40b8bb03d807ab483cc4",
       "version_major": 2,
       "version_minor": 0
      },
      "text/plain": [
       "Button(description='save', style=ButtonStyle(), tooltip='save the results')"
      ]
     },
     "metadata": {},
     "output_type": "display_data"
    },
    {
     "name": "stdout",
     "output_type": "stream",
     "text": [
      "Results are saved.\n"
     ]
    }
   ],
   "source": [
    "display(widget_p_bleach.save_plot_checkbox, widget_p_bleach.save_button)\n",
    "def save_analysis(event):\n",
    "    widget_p_bleach.create_clear_output()\n",
    "    display(widget_p_bleach.save_plot_checkbox, widget_p_bleach.save_button)\n",
    "    widget_dir_structure.name_handling(widget_p_bleach.file_text_box.value)\n",
    "    widget_dir_structure.create_raw_base_name()\n",
    "    widget_dir_structure.sub_folder = \"\\\\preAnalysis\"\n",
    "    widget_dir_structure.create_folder()\n",
    "    p_bleach.save_fit_results(widget_dir_structure.sub_folder_dir, widget_dir_structure.raw_base_name)\n",
    "    p_bleach.save_mjd_n_frequencies(widget_dir_structure.sub_folder_dir, widget_dir_structure.raw_base_name)\n",
    "    if widget_p_bleach.save_plot_checkbox.value:\n",
    "        p_bleach.save_plot(widget_dir_structure.sub_folder_dir, widget_dir_structure.raw_base_name)\n",
    "widget_p_bleach.save_button.on_click(save_analysis)"
   ]
  }
 ],
 "metadata": {
  "hide_code_all_hidden": true,
  "kernelspec": {
   "display_name": "Python 3",
   "language": "python",
   "name": "python3"
  },
  "language_info": {
   "codemirror_mode": {
    "name": "ipython",
    "version": 3
   },
   "file_extension": ".py",
   "mimetype": "text/x-python",
   "name": "python",
   "nbconvert_exporter": "python",
   "pygments_lexer": "ipython3",
   "version": "3.7.3"
  }
 },
 "nbformat": 4,
 "nbformat_minor": 2
}
