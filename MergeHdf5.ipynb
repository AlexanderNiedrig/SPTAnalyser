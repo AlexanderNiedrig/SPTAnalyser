{
 "cells": [
  {
   "cell_type": "markdown",
   "metadata": {
    "hideCode": false,
    "hidePrompt": false
   },
   "source": [
    "# Merge Hdf5 files\n",
    "### Johanna Rahm, Sebastian Malkusch\n",
    "#### Research group Heilemann\n",
    "#### Institute for Physical and Theoretical Chemistry, Goethe University Frankfurt a.M.\n",
    "The HMM analysis is based on a trc file, for which a matching hdf5 file exists. The hdf5 file can be merged with the resulting archive file of the HMM analysis."
   ]
  },
  {
   "cell_type": "markdown",
   "metadata": {
    "hideCode": false,
    "hidePrompt": false
   },
   "source": [
    "## Load hdf5 paths"
   ]
  },
  {
   "cell_type": "code",
   "execution_count": 1,
   "metadata": {
    "hideCode": false,
    "hidePrompt": false
   },
   "outputs": [
    {
     "data": {
      "application/vnd.jupyter.widget-view+json": {
       "model_id": "e31bd92b67be42898789ca515c403ede",
       "version_major": 2,
       "version_minor": 0
      },
      "text/plain": [
       "Text(value='', description='Insert path', placeholder='Type something', style=DescriptionStyle(description_wid…"
      ]
     },
     "metadata": {},
     "output_type": "display_data"
    },
    {
     "data": {
      "application/vnd.jupyter.widget-view+json": {
       "model_id": "dff2a86c5d6b4216b4f5b9533882def6",
       "version_major": 2,
       "version_minor": 0
      },
      "text/plain": [
       "Button(description='browse', style=ButtonStyle(), tooltip='browse for file')"
      ]
     },
     "metadata": {},
     "output_type": "display_data"
    }
   ],
   "source": [
    "from pySPT.widgets.widgetNotebooks import init_merge_hdf5_path_handler\n",
    "from pySPT.widgets import widgetMergeHdf5\n",
    "from pySPT.analysis import mergeHdf5\n",
    "import warnings\n",
    "widget_merge_hdf5 = widgetMergeHdf5.WidgetMergeHdf5()\n",
    "display(widget_merge_hdf5.load_hdf5_box, widget_merge_hdf5.load_hdf5_button)\n",
    "widget_merge_hdf5.load_hdf5_button.on_click(widget_merge_hdf5.open_hdf5_file)\n",
    "widget_merge_hdf5.load_hdf5_box.observe(widget_merge_hdf5.change_hdf5_box)"
   ]
  },
  {
   "cell_type": "markdown",
   "metadata": {
    "hideCode": false,
    "hidePrompt": false
   },
   "source": [
    "## Load archive paths"
   ]
  },
  {
   "cell_type": "code",
   "execution_count": 2,
   "metadata": {
    "hideCode": false,
    "hidePrompt": false
   },
   "outputs": [
    {
     "data": {
      "application/vnd.jupyter.widget-view+json": {
       "model_id": "8a04b9e732854de6b8f475c2e24fd104",
       "version_major": 2,
       "version_minor": 0
      },
      "text/plain": [
       "Text(value='', description='Insert path', placeholder='Type something', style=DescriptionStyle(description_wid…"
      ]
     },
     "metadata": {},
     "output_type": "display_data"
    },
    {
     "data": {
      "application/vnd.jupyter.widget-view+json": {
       "model_id": "66e01af023004871a20bb31db9517ec7",
       "version_major": 2,
       "version_minor": 0
      },
      "text/plain": [
       "Button(description='browse', style=ButtonStyle(), tooltip='browse for file')"
      ]
     },
     "metadata": {},
     "output_type": "display_data"
    }
   ],
   "source": [
    "display(widget_merge_hdf5.load_archive_box, widget_merge_hdf5.load_archive_button)\n",
    "widget_merge_hdf5.load_archive_button.on_click(widget_merge_hdf5.open_archive_file)\n",
    "widget_merge_hdf5.load_archive_box.observe(widget_merge_hdf5.change_archive_box)"
   ]
  },
  {
   "cell_type": "markdown",
   "metadata": {
    "hideCode": false,
    "hidePrompt": false
   },
   "source": [
    "## Load save paths"
   ]
  },
  {
   "cell_type": "code",
   "execution_count": 3,
   "metadata": {
    "hideCode": false,
    "hidePrompt": false
   },
   "outputs": [
    {
     "data": {
      "application/vnd.jupyter.widget-view+json": {
       "model_id": "cc0ad2f179a44c238377c3f2e54ea195",
       "version_major": 2,
       "version_minor": 0
      },
      "text/plain": [
       "Text(value='', description='Insert path', placeholder='Type something', style=DescriptionStyle(description_wid…"
      ]
     },
     "metadata": {},
     "output_type": "display_data"
    },
    {
     "data": {
      "application/vnd.jupyter.widget-view+json": {
       "model_id": "6c5d81b7678245399180d6594b284905",
       "version_major": 2,
       "version_minor": 0
      },
      "text/plain": [
       "Button(description='browse', style=ButtonStyle(), tooltip='browse for file')"
      ]
     },
     "metadata": {},
     "output_type": "display_data"
    }
   ],
   "source": [
    "display(widget_merge_hdf5.save_path_box, widget_merge_hdf5.save_path_button)\n",
    "widget_merge_hdf5.save_path_button.on_click(widget_merge_hdf5.open_save_paths)\n",
    "widget_merge_hdf5.save_path_box.observe(widget_merge_hdf5.change_save_box)"
   ]
  },
  {
   "cell_type": "markdown",
   "metadata": {
    "hideCode": false,
    "hidePrompt": false
   },
   "source": [
    "## Merge & save the merged files"
   ]
  },
  {
   "cell_type": "code",
   "execution_count": 4,
   "metadata": {
    "hideCode": false,
    "hidePrompt": false
   },
   "outputs": [
    {
     "data": {
      "application/vnd.jupyter.widget-view+json": {
       "model_id": "2d6cd4507f2e442fad47b7d5bedc0e73",
       "version_major": 2,
       "version_minor": 0
      },
      "text/plain": [
       "Button(description='merge & save', style=ButtonStyle(), tooltip='merge & save files')"
      ]
     },
     "metadata": {},
     "output_type": "display_data"
    }
   ],
   "source": [
    "warnings.filterwarnings('ignore')\n",
    "display(widget_merge_hdf5.merge_button)\n",
    "def run_merge(event):\n",
    "    widget_merge_hdf5.create_clear_output()\n",
    "    display(widget_merge_hdf5.merge_button)\n",
    "    init_merge_hdf5_path_handler(widget_merge_hdf5.load_hdf5_box.value, widget_merge_hdf5.load_archive_box.value, widget_merge_hdf5.save_path_box.value)\n",
    "widget_merge_hdf5.merge_button.on_click(run_merge)"
   ]
  }
 ],
 "metadata": {
  "hide_code_all_hidden": false,
  "kernelspec": {
   "display_name": "Python 3",
   "language": "python",
   "name": "python3"
  },
  "language_info": {
   "codemirror_mode": {
    "name": "ipython",
    "version": 3
   },
   "file_extension": ".py",
   "mimetype": "text/x-python",
   "name": "python",
   "nbconvert_exporter": "python",
   "pygments_lexer": "ipython3",
   "version": "3.7.3"
  }
 },
 "nbformat": 4,
 "nbformat_minor": 2
}
