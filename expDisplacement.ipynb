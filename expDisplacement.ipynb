{
 "cells": [
  {
   "cell_type": "markdown",
   "metadata": {
    "hideCode": true,
    "hidePrompt": true
   },
   "source": [
    "# Determination of the expected displacement [nm]\n",
    "### Johanna Rahm, Sebastian Malkusch\n",
    "#### Research group Heilemann\n",
    "#### Institute for Physical and Theoretical Chemistry, Goethe University Frankfurt a.M.\n",
    "The expected displacement of a particle per frame in x/y [nm] is estimated by the average. This values affects how swift connects localizations, as it can be sensible to prefer longer connections over shorter ones if the expected displacement is large. <br/> \n",
    "swift --out_values: mjd, mjd_n"
   ]
  },
  {
   "cell_type": "markdown",
   "metadata": {
    "hideCode": true,
    "hidePrompt": true
   },
   "source": [
    "## Choose a localization software"
   ]
  },
  {
   "cell_type": "code",
   "execution_count": 1,
   "metadata": {
    "hideCode": true,
    "hidePrompt": true
   },
   "outputs": [
    {
     "data": {
      "application/vnd.jupyter.widget-view+json": {
       "model_id": "4a511b294a034ca890b0f64ceabc9900",
       "version_major": 2,
       "version_minor": 0
      },
      "text/plain": [
       "RadioButtons(options=('ThunderSTORM', 'rapidSTORM'), value='ThunderSTORM')"
      ]
     },
     "metadata": {},
     "output_type": "display_data"
    }
   ],
   "source": [
    "from pySPT.widgets import widgetExpDisp\n",
    "from pySPT.widgets import widgetDirectoryStructure\n",
    "from pySPT.widgets import widgetColumnSort\n",
    "from pySPT.preAnalysis import expDisplacement\n",
    "widget_exp_disp = widgetExpDisp.WidgetExpDisp()\n",
    "display(widget_exp_disp.software_button)"
   ]
  },
  {
   "cell_type": "markdown",
   "metadata": {
    "hideCode": true,
    "hidePrompt": true
   },
   "source": [
    "## Load file\n",
    "thunderSTORM: Insert the full file path of the tracked seg file with .csv ending or browse for it. (Example path: F:\\resting\\160404_CS5\\cell05.tracked.csv) <br/>\n",
    "rapidSTORM: Insert the full file path of the tracked seg file with .txt ending or browse for it. (Example path: F:\\resting\\160404_CS5\\cell05.tracked.txt)"
   ]
  },
  {
   "cell_type": "code",
   "execution_count": 2,
   "metadata": {
    "hideCode": true,
    "hidePrompt": true
   },
   "outputs": [
    {
     "data": {
      "application/vnd.jupyter.widget-view+json": {
       "model_id": "9ce26c0f54bf4458a530c1f148436fc5",
       "version_major": 2,
       "version_minor": 0
      },
      "text/plain": [
       "Text(value='', description='Complete path', placeholder='insert path', style=DescriptionStyle(description_widt…"
      ]
     },
     "metadata": {},
     "output_type": "display_data"
    },
    {
     "data": {
      "application/vnd.jupyter.widget-view+json": {
       "model_id": "f89d21e96e1e4a569536518b70567dc0",
       "version_major": 2,
       "version_minor": 0
      },
      "text/plain": [
       "Button(description='browse', style=ButtonStyle(), tooltip='browse for file')"
      ]
     },
     "metadata": {},
     "output_type": "display_data"
    }
   ],
   "source": [
    "exp_displacement = expDisplacement.ExpDisplacement()\n",
    "widget_dir_structure = widgetDirectoryStructure.WidgetDirStructure()\n",
    "display(widget_exp_disp.file_text_box, widget_exp_disp.file_button)\n",
    "widget_exp_disp.file_button.on_click(widget_exp_disp.open_file)\n",
    "widget_exp_disp.file_text_box.observe(widget_exp_disp.change_file_box)"
   ]
  },
  {
   "cell_type": "markdown",
   "metadata": {
    "hideCode": true,
    "hidePrompt": true
   },
   "source": [
    "## Run analysis"
   ]
  },
  {
   "cell_type": "code",
   "execution_count": 3,
   "metadata": {
    "hideCode": true,
    "hidePrompt": true,
    "scrolled": true
   },
   "outputs": [
    {
     "data": {
      "application/vnd.jupyter.widget-view+json": {
       "model_id": "74abd35ad6b649bea0f8bde4013d88c3",
       "version_major": 2,
       "version_minor": 0
      },
      "text/plain": [
       "Button(description='run', style=ButtonStyle(), tooltip='run the analysis')"
      ]
     },
     "metadata": {},
     "output_type": "display_data"
    }
   ],
   "source": [
    "display(widget_exp_disp.run_button)\n",
    "def run_analysis(event):\n",
    "    widget_exp_disp.create_clear_output()\n",
    "    display(widget_exp_disp.run_button)\n",
    "    if widget_exp_disp.is_file(widget_exp_disp.file_text_box.value):\n",
    "        widget_column_sort = widgetColumnSort.WidgetColumnSort(widget_exp_disp.file_text_box.value, widget_exp_disp.software_button.value, ['\"seg.id\"', '\"seg.mjd\"', '\"seg.mjd_n\"'])\n",
    "        widget_column_sort.check_header()\n",
    "        if widget_column_sort.correct_header:\n",
    "            widget_column_sort.run_column_sort()\n",
    "            exp_displacement.file_name = widget_exp_disp.file_text_box.value\n",
    "            exp_displacement.software = widget_exp_disp.software_button.value\n",
    "            exp_displacement.column_order = widget_column_sort.column_order\n",
    "            exp_displacement.run_exp_displacement()\n",
    "        else:\n",
    "            widget_exp_disp.warning_wrong_file()\n",
    "    else:\n",
    "        widget_exp_disp.warning_wrong_file_path()\n",
    "widget_exp_disp.run_button.on_click(run_analysis)"
   ]
  },
  {
   "cell_type": "markdown",
   "metadata": {
    "hideCode": true,
    "hidePrompt": true
   },
   "source": [
    "## Save analysis\n",
    "The results will be saved in a .txt file with the expected displacement & columns: mjd [nm], fraction."
   ]
  },
  {
   "cell_type": "code",
   "execution_count": 4,
   "metadata": {
    "hideCode": true,
    "hidePrompt": true
   },
   "outputs": [
    {
     "data": {
      "application/vnd.jupyter.widget-view+json": {
       "model_id": "f3ea689e914c49338e1249bfac09c746",
       "version_major": 2,
       "version_minor": 0
      },
      "text/plain": [
       "Button(description='save', style=ButtonStyle(), tooltip='save the results')"
      ]
     },
     "metadata": {},
     "output_type": "display_data"
    }
   ],
   "source": [
    "display(widget_exp_disp.save_button)\n",
    "def save_analysis(event):\n",
    "    widget_exp_disp.create_clear_output()\n",
    "    display(widget_exp_disp.save_button)\n",
    "    widget_dir_structure.name_handling(widget_exp_disp.file_text_box.value)\n",
    "    widget_dir_structure.create_raw_base_name()\n",
    "    widget_dir_structure.sub_folder = \"\\\\preAnalysis\"\n",
    "    widget_dir_structure.create_folder()\n",
    "    exp_displacement.save_exp_displacement(widget_dir_structure.sub_folder_dir, widget_dir_structure.raw_base_name)\n",
    "widget_exp_disp.save_button.on_click(save_analysis)"
   ]
  }
 ],
 "metadata": {
  "hide_code_all_hidden": true,
  "kernelspec": {
   "display_name": "Python 3",
   "language": "python",
   "name": "python3"
  },
  "language_info": {
   "codemirror_mode": {
    "name": "ipython",
    "version": 3
   },
   "file_extension": ".py",
   "mimetype": "text/x-python",
   "name": "python",
   "nbconvert_exporter": "python",
   "pygments_lexer": "ipython3",
   "version": "3.7.3"
  }
 },
 "nbformat": 4,
 "nbformat_minor": 2
}
