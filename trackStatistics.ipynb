{
 "cells": [
  {
   "cell_type": "markdown",
   "metadata": {},
   "source": [
    "## Load *.trc files"
   ]
  },
  {
   "cell_type": "markdown",
   "metadata": {},
   "source": [
    "Choose/insert a directory for the cell files to be searched in (e.g. F:\\Marburg\\single_colour_tracking\\resting). All *.trc files in the directory will be loaded for the analysis."
   ]
  },
  {
   "cell_type": "code",
   "execution_count": 1,
   "metadata": {},
   "outputs": [
    {
     "data": {
      "application/vnd.jupyter.widget-view+json": {
       "model_id": "7150f34eb0334a4bb381281d071d5089",
       "version_major": 2,
       "version_minor": 0
      },
      "text/plain": [
       "Text(value='directory to be searched in', description='directory', placeholder='Type something', style=Descrip…"
      ]
     },
     "metadata": {},
     "output_type": "display_data"
    },
    {
     "data": {
      "application/vnd.jupyter.widget-view+json": {
       "model_id": "d6878b535321425a881d3be1452e3b55",
       "version_major": 2,
       "version_minor": 0
      },
      "text/plain": [
       "Button(description='browse', style=ButtonStyle(), tooltip='browse for directory')"
      ]
     },
     "metadata": {},
     "output_type": "display_data"
    }
   ],
   "source": [
    "from pySPT.widgets import widgetLoadHdf5\n",
    "from pySPT.widgets import loadHdf5\n",
    "from pySPT.analysis import cell\n",
    "from pySPT.analysis import trajectory\n",
    "from pySPT.analysis import coverSlip\n",
    "from pySPT.analysis import trajectoryStatistics\n",
    "widget_load_hdf5 = widgetLoadHdf5.WidgetLoadHdf5()\n",
    "load_hdf5 = loadHdf5.LoadHdf5()\n",
    "cover_slip = coverSlip.CoverSlip()\n",
    "display(widget_load_hdf5.dir_box, widget_load_hdf5.dir_button)\n",
    "widget_load_hdf5.dir_button.on_click(widget_load_hdf5.open_dir)\n",
    "widget_load_hdf5.dir_box.observe(widget_load_hdf5.change_dir_box)"
   ]
  },
  {
   "cell_type": "code",
   "execution_count": 2,
   "metadata": {},
   "outputs": [
    {
     "data": {
      "application/vnd.jupyter.widget-view+json": {
       "model_id": "b3bb923f805a475bbc287fca13a0b105",
       "version_major": 2,
       "version_minor": 0
      },
      "text/plain": [
       "Button(description='initialize', style=ButtonStyle(), tooltip='initialize objects')"
      ]
     },
     "metadata": {},
     "output_type": "display_data"
    },
    {
     "name": "stdout",
     "output_type": "stream",
     "text": [
      "Initialization took 1.1582894325256348 s\n"
     ]
    }
   ],
   "source": [
    "import time\n",
    "def initialize(event):\n",
    "    start = time.time()\n",
    "    widget_load_hdf5.search_sub_folders(widget_load_hdf5.dir_name)\n",
    "    load_hdf5.file_names = widget_load_hdf5.file_names\n",
    "    load_hdf5.run_load_hdf5()\n",
    "    for cell_index in range(0, load_hdf5.cell_numbers):\n",
    "        one_cell = cell.Cell()\n",
    "        one_cell.trc_file = load_hdf5.trc_files[cell_index]\n",
    "        one_cell.pixel_size = load_hdf5.pixel_sizes[cell_index]\n",
    "        one_cell.pixel_amount = load_hdf5.pixel_amounts[cell_index]\n",
    "        one_cell.size = load_hdf5.sizes[cell_index]\n",
    "        one_cell.name = load_hdf5.names[cell_index]\n",
    "        for trajectory_index in range(0, load_hdf5.trajectory_numbers[cell_index]):\n",
    "            one_trajectory = trajectory.Trajectory(load_hdf5.locs[cell_index][trajectory_index])\n",
    "            one_trajectory.trajectory_number = trajectory_index+1\n",
    "            one_trajectory.MSDs = load_hdf5.cells_trajectories_MSDs[cell_index][trajectory_index]\n",
    "            one_trajectory.times = load_hdf5.cells_trajectories_times[cell_index][trajectory_index]\n",
    "            one_trajectory.MSD_fit = load_hdf5.cells_trajectories_MSD_fit[cell_index][trajectory_index]\n",
    "            one_trajectory.MSD_D = load_hdf5.cells_trajectories_MSD_D[cell_index][trajectory_index]\n",
    "            one_trajectory.dt = load_hdf5.dts[cell_index]\n",
    "            one_trajectory.dof = load_hdf5.dofs[cell_index]\n",
    "            one_trajectory.D_min = load_hdf5.D_mins[cell_index]\n",
    "            one_trajectory.length_trajectory = load_hdf5.cells_lengths_trajectories[cell_index][trajectory_index][0]\n",
    "            one_trajectory.length_MSD = load_hdf5.cells_lengths_MSDs[cell_index][trajectory_index][0]\n",
    "            one_trajectory.D = load_hdf5.cells_trajectories_D[cell_index][trajectory_index][0]\n",
    "            one_trajectory.dD = load_hdf5.cells_trajectories_dD[cell_index][trajectory_index][0]\n",
    "            one_trajectory.chi_D = load_hdf5.cells_trajectories_chi2_D[cell_index][trajectory_index][0]\n",
    "            one_trajectory.chi_MSD_fit = load_hdf5.cells_trajectories_chi2_rossier[cell_index][trajectory_index][0]\n",
    "            one_trajectory.MSD_0 = load_hdf5.cells_trajectories_MSD0[cell_index][trajectory_index][0]\n",
    "            one_trajectory.fit_area = load_hdf5.fit_areas[cell_index]\n",
    "            one_trajectory.tau = load_hdf5.cells_trajectories_tau[cell_index][trajectory_index][0]\n",
    "            one_trajectory.dtau = load_hdf5.cells_trajectories_dtau[cell_index][trajectory_index][0]\n",
    "            one_trajectory.D_conf = load_hdf5.cells_trajectories_Dconf[cell_index][trajectory_index][0]\n",
    "            one_trajectory.r = load_hdf5.cells_trajectories_r[cell_index][trajectory_index][0]\n",
    "            one_trajectory.dr = load_hdf5.cells_trajectories_dr[cell_index][trajectory_index][0]\n",
    "            one_trajectory.tau_threshold = load_hdf5.tau_thresholds[cell_index]\n",
    "            one_trajectory.immobility = bool(load_hdf5.cells_trajectories_type[cell_index][trajectory_index][0])\n",
    "            one_trajectory.confined = bool(load_hdf5.cells_trajectories_type[cell_index][trajectory_index][1])\n",
    "            one_trajectory.analyse_successful = bool(load_hdf5.cells_trajectories_analyse_successful[cell_index][trajectory_index][0])\n",
    "            one_cell.analysed_trajectories.append(one_trajectory)\n",
    "        cover_slip.cells.append(one_cell)\n",
    "        cover_slip.cell_trajectories.append(one_cell.analysed_trajectories)\n",
    "        cover_slip.cell_files = load_hdf5.file_names\n",
    "    print(\"Initialization took {} s\".format(time.time()-start))\n",
    "#         print(cover_slip.cell_trajectories[0][0].analyse_successful)\n",
    "#         print(cover_slip.cell_trajectories[0][0].immobility)\n",
    "#         print(cover_slip.cell_trajectories[0][0].confined)\n",
    "#         print(type(cover_slip.cell_trajectories[0][0].analyse_successful))\n",
    "#     print(cover_slip.cell_trajectories[0][0].dt)\n",
    "#     print(type(cover_slip.cell_trajectories[1][0].dt))\n",
    "#     print(cover_slip.cell_trajectories[0][0].MSDs)\n",
    "#     print(cover_slip.cell_trajectories[1][0].MSDs)\n",
    "#     print(cover_slip.cells[0].size)\n",
    "#     print(cover_slip.cells[1].size)\n",
    "display(widget_load_hdf5.init_button)\n",
    "widget_load_hdf5.init_button.on_click(initialize)"
   ]
  },
  {
   "cell_type": "markdown",
   "metadata": {},
   "source": [
    "## Filter for parameters"
   ]
  },
  {
   "cell_type": "markdown",
   "metadata": {},
   "source": [
    "Floating point numbers have to be separated with a dot (e.g. 2.123). If no filter parameters or invalid parameters are given, the min and max values will be set automatically. All boxes that are checked will be included in the filtered data. If one wants to filter multiple times, the JNB has to be restarted."
   ]
  },
  {
   "cell_type": "code",
   "execution_count": 3,
   "metadata": {},
   "outputs": [
    {
     "name": "stdout",
     "output_type": "stream",
     "text": [
      "max trajectory length: 517\n",
      "min trajectory length: 8\n",
      "max diffusion coefficient: 2.4615554891102156 [μm²/s]\n",
      "min diffusion coefficient: 1e-05 [μm²/s]\n",
      "17.3 % are immobile\n",
      "34.6 % are confined\n",
      "48.1 % are free\n"
     ]
    }
   ],
   "source": [
    "track_stats = trajectoryStatistics.TrajectoryStatistics()\n",
    "def filter(event):\n",
    "    widget_load_hdf5.create_clear_output()\n",
    "    track_stats.cell_trajectories = cover_slip.cell_trajectories\n",
    "    track_stats.run_statistics(widget_load_hdf5.min_length_box.value, widget_load_hdf5.max_length_box.value, widget_load_hdf5.min_D_box.value, widget_load_hdf5.max_D_box.value, widget_load_hdf5.immob_type_check_box.value,  widget_load_hdf5.confined_type_check_box.value, widget_load_hdf5.free_type_check_box.value, widget_load_hdf5.analyse_successful_check_box.value, widget_load_hdf5.analyse_not_successful_check_box.value)\n",
    "display(widget_load_hdf5.min_length_box, widget_load_hdf5.max_length_box, widget_load_hdf5.min_D_box, widget_load_hdf5.max_D_box, widget_load_hdf5.immob_type_check_box, widget_load_hdf5.confined_type_check_box, widget_load_hdf5.free_type_check_box, widget_load_hdf5.analyse_successful_check_box, widget_load_hdf5.analyse_not_successful_check_box, widget_load_hdf5.filter_button)\n",
    "widget_load_hdf5.filter_button.on_click(filter)"
   ]
  },
  {
   "cell_type": "code",
   "execution_count": 4,
   "metadata": {},
   "outputs": [],
   "source": [
    "## Plot diffusion histogram"
   ]
  },
  {
   "cell_type": "code",
   "execution_count": 5,
   "metadata": {},
   "outputs": [],
   "source": [
    "# trajectory_stats.cell_trajectories = cover_slip.cell_trajectories\n",
    "# trajectory_stats.get_index()\n",
    "# trajectory_stats.create_init_filter_lst()"
   ]
  },
  {
   "cell_type": "markdown",
   "metadata": {},
   "source": [
    "## Choose trajectory to plot"
   ]
  },
  {
   "cell_type": "markdown",
   "metadata": {},
   "source": [
    "Choose a cell. If one wants to plot multiple times, choose a new cell and/or trajectory reload the plotting cell by clicking in the cell and pressing strg+enter."
   ]
  },
  {
   "cell_type": "code",
   "execution_count": 6,
   "metadata": {},
   "outputs": [
    {
     "data": {
      "application/vnd.jupyter.widget-view+json": {
       "model_id": "496318625ad34a0cb2ec12a9efbe6d89",
       "version_major": 2,
       "version_minor": 0
      },
      "text/plain": [
       "Dropdown(description='Number:', options=(), value=None)"
      ]
     },
     "metadata": {},
     "output_type": "display_data"
    }
   ],
   "source": [
    "def dropdown(event):\n",
    "    widget_load_hdf5.cell_options = widget_load_hdf5.get_cell_names(cover_slip.cells)\n",
    "widget_load_hdf5.filter_button.on_click(dropdown)\n",
    "display(widget_load_hdf5.drop_down_cells)"
   ]
  },
  {
   "cell_type": "markdown",
   "metadata": {},
   "source": [
    "Choose a trajectory."
   ]
  },
  {
   "cell_type": "code",
   "execution_count": 7,
   "metadata": {},
   "outputs": [
    {
     "data": {
      "application/vnd.jupyter.widget-view+json": {
       "model_id": "bbc5883da57a4ded8ed79b5207b005c4",
       "version_major": 2,
       "version_minor": 0
      },
      "text/plain": [
       "Dropdown(description='Number:', options=(), value=None)"
      ]
     },
     "metadata": {},
     "output_type": "display_data"
    }
   ],
   "source": [
    "def dropdown(event):      \n",
    "    for cell in cover_slip.cells:\n",
    "        if cell.name == widget_load_hdf5.drop_down_cells.value:\n",
    "            target_cell = cover_slip.cells.index(cell)\n",
    "            widget_load_hdf5.trajectory_options = track_stats.cell_trajectories_filtered_index[target_cell]\n",
    "            widget_load_hdf5.drop_down_trajectories.options = widget_load_hdf5.trajectory_options\n",
    "widget_load_hdf5.drop_down_cells.observe(dropdown)\n",
    "display(widget_load_hdf5.drop_down_trajectories)"
   ]
  },
  {
   "cell_type": "code",
   "execution_count": 8,
   "metadata": {},
   "outputs": [
    {
     "data": {
      "application/vnd.jupyter.widget-view+json": {
       "model_id": "1549aa7e5ad347fc8699a15a1433cc76",
       "version_major": 2,
       "version_minor": 0
      },
      "text/plain": [
       "Button(description='plot', style=ButtonStyle(), tooltip='plot chosen trajectory')"
      ]
     },
     "metadata": {},
     "output_type": "display_data"
    }
   ],
   "source": [
    "def plot_particle(event):\n",
    "    widget_load_hdf5.create_clear_output()\n",
    "    cover_slip.plot_trajectory(widget_load_hdf5.drop_down_cells.value, widget_load_hdf5.drop_down_trajectories.value)\n",
    "display(widget_load_hdf5.plot_button)\n",
    "widget_load_hdf5.plot_button.on_click(plot_particle)"
   ]
  }
 ],
 "metadata": {
  "kernelspec": {
   "display_name": "Python 3",
   "language": "python",
   "name": "python3"
  },
  "language_info": {
   "codemirror_mode": {
    "name": "ipython",
    "version": 3
   },
   "file_extension": ".py",
   "mimetype": "text/x-python",
   "name": "python",
   "nbconvert_exporter": "python",
   "pygments_lexer": "ipython3",
   "version": "3.7.1"
  }
 },
 "nbformat": 4,
 "nbformat_minor": 2
}
