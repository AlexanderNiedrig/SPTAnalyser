{
 "cells": [
  {
   "cell_type": "markdown",
   "metadata": {
    "hideCode": true,
    "hidePrompt": true
   },
   "source": [
    "# Determination of the precision [nm]\n",
    "### Johanna Rahm, Sebastian Malkusch\n",
    "#### Research group Heilemann\n",
    "#### Institute for Physical and Theoretical Chemistry, Goethe University Frankfurt a.M.\n",
    "\n",
    "In thunderSTORM the localization uncertainty is calculared by Thompson et al. Biophys. J. 2002 and Quan et al. J. Biomed. Opt. 2010 formula.<br/>\n",
    "rapidSTORM calculates the localization uncertainty based on Thompson et al. Biophys. J. 2002. The mean value is build for the x/y-plane respectively."
   ]
  },
  {
   "cell_type": "markdown",
   "metadata": {
    "hideCode": true,
    "hidePrompt": true
   },
   "source": [
    "## Choose a localization software"
   ]
  },
  {
   "cell_type": "code",
   "execution_count": 1,
   "metadata": {
    "hideCode": true,
    "hidePrompt": true,
    "scrolled": true
   },
   "outputs": [
    {
     "data": {
      "application/vnd.jupyter.widget-view+json": {
       "model_id": "86e5c30817ae44c48b68e71226ad1670",
       "version_major": 2,
       "version_minor": 0
      },
      "text/plain": [
       "RadioButtons(options=('ThunderSTORM', 'rapidSTORM'), value='ThunderSTORM')"
      ]
     },
     "metadata": {},
     "output_type": "display_data"
    }
   ],
   "source": [
    "from pySPT.widgets import widgetDirectoryStructure\n",
    "from pySPT.widgets import widgetColumnSort\n",
    "from pySPT.widgets import widgetPrecision\n",
    "from pySPT.preAnalysis import precision\n",
    "widget_precision = widgetPrecision.WidgetPrecision()\n",
    "widget_dir_structure = widgetDirectoryStructure.WidgetDirStructure()\n",
    "precision = precision.Precision()\n",
    "display(widget_precision.software_button)"
   ]
  },
  {
   "cell_type": "markdown",
   "metadata": {
    "hideCode": true,
    "hidePrompt": true
   },
   "source": [
    "## HMM microscope file\n",
    "For the HMM-analysis, a microscope.txt file with the camera pixel size [nm], integration time [s] and localization uncertainty [nm] is needed. If you want to save this file with a static localization error, check the \"save microscope for HMM analysis\" box below. "
   ]
  },
  {
   "cell_type": "code",
   "execution_count": 2,
   "metadata": {
    "hideCode": true,
    "hidePrompt": true
   },
   "outputs": [
    {
     "data": {
      "application/vnd.jupyter.widget-view+json": {
       "model_id": "c07f5533e0f44b6b919ec28f7ede7dbd",
       "version_major": 2,
       "version_minor": 0
      },
      "text/plain": [
       "Text(value='158', description='Pixel size [nm]', placeholder='Type something', style=DescriptionStyle(descript…"
      ]
     },
     "metadata": {},
     "output_type": "display_data"
    },
    {
     "data": {
      "application/vnd.jupyter.widget-view+json": {
       "model_id": "28d1f663e24e4d2fa0885979ee60102b",
       "version_major": 2,
       "version_minor": 0
      },
      "text/plain": [
       "Text(value='0.02', description='Camera integration time [s]', placeholder='Type something', style=DescriptionS…"
      ]
     },
     "metadata": {},
     "output_type": "display_data"
    }
   ],
   "source": [
    "display(widget_precision.camera_pixel_size_box, widget_precision.camera_integration_time_box)"
   ]
  },
  {
   "cell_type": "markdown",
   "metadata": {
    "hideCode": true,
    "hidePrompt": true
   },
   "source": [
    "## Precision per folder"
   ]
  },
  {
   "cell_type": "markdown",
   "metadata": {
    "hideCode": true,
    "hidePrompt": true
   },
   "source": [
    "This saves a list of localization uncertainties per folder and should be used to write the swift batch script with individual precision values."
   ]
  },
  {
   "cell_type": "markdown",
   "metadata": {
    "hideCode": true,
    "hidePrompt": true
   },
   "source": [
    "### Define directory\n",
    "The precision is calculated for all *.csv files in the directory."
   ]
  },
  {
   "cell_type": "code",
   "execution_count": 3,
   "metadata": {
    "hideCode": true,
    "hidePrompt": true,
    "scrolled": true
   },
   "outputs": [
    {
     "data": {
      "application/vnd.jupyter.widget-view+json": {
       "model_id": "00a658ec2d1a43e8865810af908998fc",
       "version_major": 2,
       "version_minor": 0
      },
      "text/plain": [
       "Text(value='', description='Directory', placeholder='directory to be searched in', style=DescriptionStyle(desc…"
      ]
     },
     "metadata": {},
     "output_type": "display_data"
    },
    {
     "data": {
      "application/vnd.jupyter.widget-view+json": {
       "model_id": "426f2284cd784a898b5fd3cd137095b7",
       "version_major": 2,
       "version_minor": 0
      },
      "text/plain": [
       "Button(description='browse', style=ButtonStyle(), tooltip='browse for directory')"
      ]
     },
     "metadata": {},
     "output_type": "display_data"
    }
   ],
   "source": [
    "display(widget_precision.dir_box, widget_precision.dir_button)\n",
    "widget_precision.dir_button.on_click(widget_precision.open_dir)\n",
    "widget_precision.dir_box.observe(widget_precision.change_dir_box)"
   ]
  },
  {
   "cell_type": "markdown",
   "metadata": {
    "hideCode": true,
    "hidePrompt": true
   },
   "source": [
    "### Run"
   ]
  },
  {
   "cell_type": "code",
   "execution_count": 4,
   "metadata": {
    "hideCode": true,
    "hidePrompt": true,
    "scrolled": false
   },
   "outputs": [
    {
     "data": {
      "application/vnd.jupyter.widget-view+json": {
       "model_id": "3aad5cba8e6647a79e47e7a7be8a2087",
       "version_major": 2,
       "version_minor": 0
      },
      "text/plain": [
       "Button(description='run', style=ButtonStyle(), tooltip='run the analysis')"
      ]
     },
     "metadata": {},
     "output_type": "display_data"
    }
   ],
   "source": [
    "display(widget_precision.run_button_folder)\n",
    "def run_analysis(event):\n",
    "    files, file_names = precision.get_loc_files(widget_precision.dir_box.value)\n",
    "    precision.get_precisions(files, file_names)\n",
    "    precision.plot_box()\n",
    "widget_precision.run_button_folder.on_click(run_analysis)"
   ]
  },
  {
   "cell_type": "markdown",
   "metadata": {
    "hideCode": true,
    "hidePrompt": true
   },
   "source": [
    "### Save\n",
    "Define a directory and folder name to save the results. Choose if you want to save the plot and the microscopy file containing the static error for hmm analysis (preAnalysis->microscope.txt)."
   ]
  },
  {
   "cell_type": "code",
   "execution_count": 5,
   "metadata": {
    "hideCode": true,
    "hidePrompt": true
   },
   "outputs": [
    {
     "data": {
      "application/vnd.jupyter.widget-view+json": {
       "model_id": "6a5d462724f54f5b8236eeb945c53b07",
       "version_major": 2,
       "version_minor": 0
      },
      "text/plain": [
       "Text(value='precision', description='Foldername', placeholder='name of folder', style=DescriptionStyle(descrip…"
      ]
     },
     "metadata": {},
     "output_type": "display_data"
    },
    {
     "data": {
      "application/vnd.jupyter.widget-view+json": {
       "model_id": "d1876725f6e24afbb8c5d1ef458a8ec8",
       "version_major": 2,
       "version_minor": 0
      },
      "text/plain": [
       "Text(value='', description='Directory', placeholder='Directory to save', style=DescriptionStyle(description_wi…"
      ]
     },
     "metadata": {},
     "output_type": "display_data"
    },
    {
     "data": {
      "application/vnd.jupyter.widget-view+json": {
       "model_id": "f34e78473869491fa25ec92ead5a20a0",
       "version_major": 2,
       "version_minor": 0
      },
      "text/plain": [
       "Button(description='browse', style=ButtonStyle(), tooltip='browse for directory')"
      ]
     },
     "metadata": {},
     "output_type": "display_data"
    }
   ],
   "source": [
    "display(widget_precision.box_foldername, widget_precision.dir_box_save, widget_precision.dir_button_save)\n",
    "widget_precision.dir_button_save.on_click(widget_precision.open_dir_save)\n",
    "widget_precision.dir_box_save.observe(widget_precision.change_dir_box_save)"
   ]
  },
  {
   "cell_type": "code",
   "execution_count": 6,
   "metadata": {
    "hideCode": true,
    "hidePrompt": true,
    "scrolled": true
   },
   "outputs": [
    {
     "data": {
      "application/vnd.jupyter.widget-view+json": {
       "model_id": "538d6165f03242e08570f23f1f12a12f",
       "version_major": 2,
       "version_minor": 0
      },
      "text/plain": [
       "Checkbox(value=True, description='Save plot')"
      ]
     },
     "metadata": {},
     "output_type": "display_data"
    },
    {
     "data": {
      "application/vnd.jupyter.widget-view+json": {
       "model_id": "4bb6830fc5b54be1a1b591c16fd6c639",
       "version_major": 2,
       "version_minor": 0
      },
      "text/plain": [
       "Checkbox(value=True, description='Save microscope file for HMM analysis?')"
      ]
     },
     "metadata": {},
     "output_type": "display_data"
    },
    {
     "data": {
      "application/vnd.jupyter.widget-view+json": {
       "model_id": "61a973b396b1458e823dbce2b3690a26",
       "version_major": 2,
       "version_minor": 0
      },
      "text/plain": [
       "Button(description='save', style=ButtonStyle(), tooltip='save the results')"
      ]
     },
     "metadata": {},
     "output_type": "display_data"
    }
   ],
   "source": [
    "display(widget_precision.save_fig_checkbox, widget_precision.check_microscope_folder, widget_precision.save_button_folder)\n",
    "def save_analysis(event):\n",
    "    widget_precision.create_clear_output()\n",
    "    display(widget_precision.save_fig_checkbox, widget_precision.check_microscope_folder, widget_precision.save_button_folder)\n",
    "    precision.save_precision_list(widget_precision.dir_box_save.value + \"\\\\\" + widget_precision.box_foldername.value, precision.mean_values, widget_precision.save_fig_checkbox.value)\n",
    "    if widget_precision.check_microscope_folder.value:\n",
    "        precision.save_microscope(widget_precision.dir_box.value, widget_precision.camera_pixel_size_box.value, widget_precision.camera_integration_time_box.value)\n",
    "widget_precision.save_button_folder.on_click(save_analysis)"
   ]
  },
  {
   "cell_type": "markdown",
   "metadata": {
    "hideCode": true,
    "hidePrompt": true
   },
   "source": [
    "## Precision per file"
   ]
  },
  {
   "cell_type": "markdown",
   "metadata": {
    "hideCode": true,
    "hidePrompt": true
   },
   "source": [
    "The execution per file is recommended if a visualization of the localization uncertainty distribution should be created or if hidden markov modeling is using the static error to correct the diffusion coefficients."
   ]
  },
  {
   "cell_type": "markdown",
   "metadata": {
    "hideCode": true,
    "hidePrompt": true
   },
   "source": [
    "### Load file"
   ]
  },
  {
   "cell_type": "markdown",
   "metadata": {
    "hideCode": true,
    "hidePrompt": true
   },
   "source": [
    "thunderSTORM: Insert the full file path of the thunderSTORM exported results table with .csv ending or browse for it. Make sure that the uncertainty is represented in nm. (Example path: F:\\data_folder\\cell01.csv) <br/>\n",
    "rapidSTORM: Insert the full file path of the rapidSTORM localization file with .txt ending or browse for it. (Example path: F:\\data_folder\\cell01.txt) "
   ]
  },
  {
   "cell_type": "code",
   "execution_count": 7,
   "metadata": {
    "hideCode": true,
    "hidePrompt": true
   },
   "outputs": [
    {
     "data": {
      "application/vnd.jupyter.widget-view+json": {
       "model_id": "778cb3d7a1ea4e9e99b80ccd449bbbb9",
       "version_major": 2,
       "version_minor": 0
      },
      "text/plain": [
       "Text(value='', description='Complete path', placeholder='insert path', style=DescriptionStyle(description_widt…"
      ]
     },
     "metadata": {},
     "output_type": "display_data"
    },
    {
     "data": {
      "application/vnd.jupyter.widget-view+json": {
       "model_id": "acf4fc12ff1546f98cb589e7cbc52020",
       "version_major": 2,
       "version_minor": 0
      },
      "text/plain": [
       "Button(description='browse', style=ButtonStyle(), tooltip='browse for file')"
      ]
     },
     "metadata": {},
     "output_type": "display_data"
    }
   ],
   "source": [
    "#widget_dir_structure = widgetDirectoryStructure.WidgetDirStructure()\n",
    "#precision = precision.Precision()\n",
    "display(widget_precision.file_text_box, widget_precision.file_button)\n",
    "widget_precision.file_button.on_click(widget_precision.open_file)\n",
    "widget_precision.file_text_box.observe(widget_precision.change_file_box)"
   ]
  },
  {
   "cell_type": "markdown",
   "metadata": {
    "hideCode": true,
    "hidePrompt": true
   },
   "source": [
    "### Run analysis"
   ]
  },
  {
   "cell_type": "markdown",
   "metadata": {
    "hideCode": true,
    "hidePrompt": true
   },
   "source": [
    "The uncertainties are ln-transformed and fitted with a Gauss-fit (to visually check for a normal distribution). The retransformed mean value of the ln(uncertainties) represents the mean position uncertainty in the x/y-plane."
   ]
  },
  {
   "cell_type": "code",
   "execution_count": 8,
   "metadata": {
    "hideCode": true,
    "hidePrompt": true,
    "scrolled": false
   },
   "outputs": [
    {
     "data": {
      "application/vnd.jupyter.widget-view+json": {
       "model_id": "b04005d67cb84fec97d25c30fd741f97",
       "version_major": 2,
       "version_minor": 0
      },
      "text/plain": [
       "Button(description='run', style=ButtonStyle(), tooltip='run the analysis')"
      ]
     },
     "metadata": {},
     "output_type": "display_data"
    }
   ],
   "source": [
    "display(widget_precision.run_button)\n",
    "def run_analysis(event):\n",
    "    widget_precision.create_clear_output()\n",
    "    display(widget_precision.run_button)\n",
    "    if widget_precision.got_file_name:\n",
    "        if widget_precision.software_button.value == \"ThunderSTORM\":\n",
    "            widget_column_sort = widgetColumnSort.WidgetColumnSort(widget_precision.file_text_box.value, \"ThunderSTORM\", [('\"uncertainty_xy [nm]\"', '\"uncertainty [nm]\"')])\n",
    "            precision.software = widget_precision.software_button.value\n",
    "        elif widget_precision.software_button.value == \"rapidSTORM\":\n",
    "            widget_column_sort = widgetColumnSort.WidgetColumnSort(widget_precision.file_text_box.value, \"rapidSTORM\", [('\"Position-0-0-uncertainty\"',), ('\"Position-1-0-uncertainty\"',)])\n",
    "            precision.software = widget_precision.software_button.value\n",
    "        widget_column_sort.check_header()\n",
    "        if widget_column_sort.correct_header:\n",
    "            widget_column_sort.run_column_sort()\n",
    "            precision.file_name = widget_precision.file_text_box.value\n",
    "            precision.column_order = widget_column_sort.column_order\n",
    "            precision.run_precision()\n",
    "        else:\n",
    "            widget_precision.warning_wrong_file()\n",
    "    else:\n",
    "        widget_precision.warning_wrong_file_path()\n",
    "widget_precision.run_button.on_click(run_analysis)"
   ]
  },
  {
   "cell_type": "markdown",
   "metadata": {
    "hideCode": true,
    "hidePrompt": true
   },
   "source": [
    "### Save"
   ]
  },
  {
   "cell_type": "markdown",
   "metadata": {
    "hideCode": true,
    "hidePrompt": true
   },
   "source": [
    "The results will be saved in .txt files (one for each histogram and one for the localization precision). <br/>"
   ]
  },
  {
   "cell_type": "code",
   "execution_count": 9,
   "metadata": {
    "hideCode": true,
    "hidePrompt": true
   },
   "outputs": [
    {
     "data": {
      "application/vnd.jupyter.widget-view+json": {
       "model_id": "f0d80c539aa7488e9db4f2563705d864",
       "version_major": 2,
       "version_minor": 0
      },
      "text/plain": [
       "Checkbox(value=True, description='Save plots')"
      ]
     },
     "metadata": {},
     "output_type": "display_data"
    },
    {
     "data": {
      "application/vnd.jupyter.widget-view+json": {
       "model_id": "d9f2b5c4f876461fbb9fae1d5b870edb",
       "version_major": 2,
       "version_minor": 0
      },
      "text/plain": [
       "Checkbox(value=True, description='Save microscope file for HMM analysis?')"
      ]
     },
     "metadata": {},
     "output_type": "display_data"
    },
    {
     "data": {
      "application/vnd.jupyter.widget-view+json": {
       "model_id": "55db7683a1314ae4838e164156e97763",
       "version_major": 2,
       "version_minor": 0
      },
      "text/plain": [
       "Button(description='save', style=ButtonStyle(), tooltip='save the results')"
      ]
     },
     "metadata": {},
     "output_type": "display_data"
    }
   ],
   "source": [
    "display(widget_precision.save_figures_checkbox, widget_precision.check_microscope, widget_precision.save_button)\n",
    "def save_analysis(event):\n",
    "    widget_precision.create_clear_output()\n",
    "    display(widget_precision.save_figures_checkbox, widget_precision.check_microscope, widget_precision.save_button)\n",
    "    widget_dir_structure.name_handling(widget_precision.file_text_box.value)\n",
    "    widget_dir_structure.create_raw_base_name()\n",
    "    widget_dir_structure.sub_folder = \"\\\\preAnalysis\"\n",
    "    widget_dir_structure.create_folder()\n",
    "    precision.save_precision(widget_dir_structure.sub_folder_dir, widget_dir_structure.raw_base_name)\n",
    "    if widget_precision.save_figures_checkbox.value:\n",
    "        precision.run_save_plots(widget_dir_structure.sub_folder_dir, widget_dir_structure.raw_base_name)\n",
    "    if widget_precision.check_microscope.value:\n",
    "        precision.save_hmm_microscope(widget_dir_structure.sub_folder_dir, widget_precision.camera_pixel_size_box.value, widget_precision.camera_integration_time_box.value)\n",
    "widget_precision.save_button.on_click(save_analysis)"
   ]
  }
 ],
 "metadata": {
  "hide_code_all_hidden": true,
  "hide_input": true,
  "kernelspec": {
   "display_name": "Python 3",
   "language": "python",
   "name": "python3"
  },
  "language_info": {
   "codemirror_mode": {
    "name": "ipython",
    "version": 3
   },
   "file_extension": ".py",
   "mimetype": "text/x-python",
   "name": "python",
   "nbconvert_exporter": "python",
   "pygments_lexer": "ipython3",
   "version": "3.7.6"
  }
 },
 "nbformat": 4,
 "nbformat_minor": 2
}
