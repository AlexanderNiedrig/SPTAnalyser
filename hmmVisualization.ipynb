{
 "cells": [
  {
   "cell_type": "markdown",
   "metadata": {
    "hideCode": false,
    "hidePrompt": false
   },
   "source": [
    "# Visualize Hmm Results\n",
    "### Johanna Rahm, Sebastian Malkusch\n",
    "#### Research group Heilemann\n",
    "#### Institute for Physical and Theoretical Chemistry, Goethe University Frankfurt a.M.\n",
    "Get a visualized overview of the hidden markov modeling results. <br>\n",
    "This notebook has to be reloaded before analysing a new group of data!"
   ]
  },
  {
   "cell_type": "markdown",
   "metadata": {
    "hideCode": false,
    "hidePrompt": false
   },
   "source": [
    "## Load merged .h5 files"
   ]
  },
  {
   "cell_type": "markdown",
   "metadata": {
    "hideCode": false,
    "hidePrompt": false
   },
   "source": [
    "A merged .h5 file is the result of the MergeHdf5 Jupyter Notebook. It comprises the hmm results as well as the type analysis results. All .5 files of the chosen directory will be loaded. A graphviz installation is needed https://www.graphviz.org/download/. The path to the bin folder of the graphviz installation has to be copied to the graphviz bin path box (example: C:/Program Files (x86)/Graphviz2.38/bin) & the temporary folder path in SPTAnalyser (example: C:/path_to_SPTAnalyser/tmp) has to be copied to the graphviz tmp path box to allow state transition diagram plotting."
   ]
  },
  {
   "cell_type": "code",
   "execution_count": 1,
   "metadata": {
    "hideCode": false,
    "hidePrompt": false
   },
   "outputs": [
    {
     "data": {
      "application/vnd.jupyter.widget-view+json": {
       "model_id": "2b3d20ca91434b6183a0ce5a3d6ec7a3",
       "version_major": 2,
       "version_minor": 0
      },
      "text/plain": [
       "Text(value='C:\\\\Program Files (x86)\\\\Graphviz2.38\\\\bin', description='Graphviz bin path', placeholder='Type so…"
      ]
     },
     "metadata": {},
     "output_type": "display_data"
    },
    {
     "data": {
      "application/vnd.jupyter.widget-view+json": {
       "model_id": "db1c5b63f2e04d1e81ac2e924ab6da3e",
       "version_major": 2,
       "version_minor": 0
      },
      "text/plain": [
       "Text(value='D:\\\\Documents\\\\Chemie_phd\\\\SPTAnalyser\\\\SPTAnalyser\\\\tmp', description='Graphviz tmp path', placeh…"
      ]
     },
     "metadata": {},
     "output_type": "display_data"
    },
    {
     "data": {
      "application/vnd.jupyter.widget-view+json": {
       "model_id": "fb247bc6e7fd48f59112886e27e57ed5",
       "version_major": 2,
       "version_minor": 0
      },
      "text/plain": [
       "Text(value='', description='Directory', placeholder='directory to be searched in', style=DescriptionStyle(desc…"
      ]
     },
     "metadata": {},
     "output_type": "display_data"
    },
    {
     "data": {
      "application/vnd.jupyter.widget-view+json": {
       "model_id": "e1dd267d3a2940ad8cc9ecc41d103d77",
       "version_major": 2,
       "version_minor": 0
      },
      "text/plain": [
       "Button(description='browse', style=ButtonStyle(), tooltip='browse for directory')"
      ]
     },
     "metadata": {},
     "output_type": "display_data"
    }
   ],
   "source": [
    "from pySPT.widgets.widgetNotebooks import load_merged_h5\n",
    "from pySPT.widgets.widgetNotebooks import init_save_hmm_vis_stats\n",
    "from pySPT.widgets import widgetHmmVis\n",
    "from pySPT.hmm import hmmVisualization\n",
    "import warnings\n",
    "import time\n",
    "warnings.filterwarnings('ignore')\n",
    "widget_hmm_vis = widgetHmmVis.WidgetHmmVis(bin_path=r\"C:\\Program Files (x86)\\Graphviz2.38\\bin\", tmp_path=r\"D:\\Documents\\Chemie_phd\\SPTAnalyser\\SPTAnalyser\\tmp\")\n",
    "hmm_vis = hmmVisualization.HmmVisualization()\n",
    "display(widget_hmm_vis.add_graphviz_bin_box, widget_hmm_vis.add_graphviz_tmp_box, widget_hmm_vis.load_dir_box, widget_hmm_vis.load_dir_button)\n",
    "widget_hmm_vis.load_dir_button.on_click(widget_hmm_vis.open_dir)\n",
    "widget_hmm_vis.load_dir_box.observe(widget_hmm_vis.change_load_dir_box)"
   ]
  },
  {
   "cell_type": "markdown",
   "metadata": {
    "hideCode": false,
    "hidePrompt": false
   },
   "source": [
    "## Plot results"
   ]
  },
  {
   "cell_type": "markdown",
   "metadata": {
    "hideCode": false,
    "hidePrompt": false
   },
   "source": [
    "Choose if the state population is based on the physical model, the equilibrium matrix or the occurence of states."
   ]
  },
  {
   "cell_type": "code",
   "execution_count": 2,
   "metadata": {
    "hideCode": false,
    "hidePrompt": false
   },
   "outputs": [
    {
     "data": {
      "application/vnd.jupyter.widget-view+json": {
       "model_id": "c4f1805063d3477e88db4a66864963a2",
       "version_major": 2,
       "version_minor": 0
      },
      "text/plain": [
       "RadioButtons(options=('physical model', 'equilibrium matrix', 'state occurence'), value='physical model')"
      ]
     },
     "metadata": {},
     "output_type": "display_data"
    }
   ],
   "source": [
    "display(widget_hmm_vis.state_radiobutton)"
   ]
  },
  {
   "cell_type": "code",
   "execution_count": 3,
   "metadata": {
    "hideCode": false,
    "hidePrompt": false
   },
   "outputs": [
    {
     "data": {
      "application/vnd.jupyter.widget-view+json": {
       "model_id": "e5295aff195741a2a107cfc58b65cdfe",
       "version_major": 2,
       "version_minor": 0
      },
      "text/plain": [
       "Button(description='plot', style=ButtonStyle(), tooltip='click to plot')"
      ]
     },
     "metadata": {},
     "output_type": "display_data"
    }
   ],
   "source": [
    "def event(blub):\n",
    "    hmm_vis.state = widget_hmm_vis.state_radiobutton.value\n",
    "    widget_hmm_vis.search_sub_folders(widget_hmm_vis.load_dir_box.value)\n",
    "    hmm_vis.bin_path = widget_hmm_vis.add_graphviz_bin_box.value\n",
    "    hmm_vis.tmp_path = widget_hmm_vis.add_graphviz_tmp_box.value\n",
    "    hmm_vis.cells = load_merged_h5(widget_hmm_vis.file_names)\n",
    "    hmm_vis.run()\n",
    "display(widget_hmm_vis.plot_button)\n",
    "widget_hmm_vis.plot_button.on_click(event)"
   ]
  },
  {
   "cell_type": "markdown",
   "metadata": {
    "hideCode": false,
    "hidePrompt": false
   },
   "source": [
    "## Plot trajectories"
   ]
  },
  {
   "cell_type": "code",
   "execution_count": 4,
   "metadata": {
    "hideCode": false,
    "hidePrompt": false
   },
   "outputs": [
    {
     "data": {
      "application/vnd.jupyter.widget-view+json": {
       "model_id": "365327518e6e40af8801aca0380ef043",
       "version_major": 2,
       "version_minor": 0
      },
      "text/plain": [
       "Dropdown(description='Number:', options=(), value=None)"
      ]
     },
     "metadata": {},
     "output_type": "display_data"
    }
   ],
   "source": [
    "def dropdown(event):\n",
    "    widget_hmm_vis.cell_options = widget_hmm_vis.get_cell_names(hmm_vis.cells)\n",
    "widget_hmm_vis.plot_button.on_click(dropdown)\n",
    "display(widget_hmm_vis.drop_down_cells)"
   ]
  },
  {
   "cell_type": "code",
   "execution_count": 5,
   "metadata": {
    "hideCode": false,
    "hidePrompt": false
   },
   "outputs": [
    {
     "data": {
      "application/vnd.jupyter.widget-view+json": {
       "model_id": "86b836f88bac43a3b304bf312e207642",
       "version_major": 2,
       "version_minor": 0
      },
      "text/plain": [
       "Dropdown(description='Number:', options=(), value=None)"
      ]
     },
     "metadata": {},
     "output_type": "display_data"
    }
   ],
   "source": [
    "def dropdown(event):      \n",
    "    for cell in hmm_vis.cells:\n",
    "        if cell.hmm_cell_name == widget_hmm_vis.drop_down_cells.value:\n",
    "            trajectory_indexes = sorted(list(set(map(lambda x: x[0], cell.trc_hmm))))\n",
    "            widget_hmm_vis.trajectory_options = trajectory_indexes\n",
    "            widget_hmm_vis.drop_down_trajectories.options = widget_hmm_vis.trajectory_options\n",
    "widget_hmm_vis.drop_down_cells.observe(dropdown)\n",
    "display(widget_hmm_vis.drop_down_trajectories)"
   ]
  },
  {
   "cell_type": "code",
   "execution_count": 6,
   "metadata": {
    "hideCode": false,
    "hidePrompt": false
   },
   "outputs": [
    {
     "data": {
      "application/vnd.jupyter.widget-view+json": {
       "model_id": "df5e03a382a34c4fbc3ac10b0570b17c",
       "version_major": 2,
       "version_minor": 0
      },
      "text/plain": [
       "Button(description='plot', style=ButtonStyle(), tooltip='plot chosen trajectory')"
      ]
     },
     "metadata": {},
     "output_type": "display_data"
    }
   ],
   "source": [
    "def plot_particle(event):\n",
    "    widget_hmm_vis.create_clear_output()\n",
    "    display(widget_hmm_vis.plot_trajectory_button)\n",
    "    hmm_vis.plot_trajectory(widget_hmm_vis.drop_down_cells.value, widget_hmm_vis.drop_down_trajectories.value)\n",
    "display(widget_hmm_vis.plot_trajectory_button)\n",
    "widget_hmm_vis.plot_trajectory_button.on_click(plot_particle)"
   ]
  },
  {
   "cell_type": "markdown",
   "metadata": {
    "hideCode": false,
    "hidePrompt": false
   },
   "source": [
    "## Save results"
   ]
  },
  {
   "cell_type": "markdown",
   "metadata": {
    "hideCode": false,
    "hidePrompt": false
   },
   "source": [
    "Choose a directory and a folder name. A .h5 file with the statistics and the informations of all plots will be saved. If the \"save plots\" box is checked, all plots will be saved as .pdf."
   ]
  },
  {
   "cell_type": "code",
   "execution_count": 7,
   "metadata": {
    "hideCode": false,
    "hidePrompt": false
   },
   "outputs": [
    {
     "data": {
      "application/vnd.jupyter.widget-view+json": {
       "model_id": "b114cb047ff04a2492005ec78a65ee86",
       "version_major": 2,
       "version_minor": 0
      },
      "text/plain": [
       "Text(value='', description='Insert directory', placeholder='Directory to save', style=DescriptionStyle(descrip…"
      ]
     },
     "metadata": {},
     "output_type": "display_data"
    },
    {
     "data": {
      "application/vnd.jupyter.widget-view+json": {
       "model_id": "4fb5390ce1114e3aa50612ff22698dda",
       "version_major": 2,
       "version_minor": 0
      },
      "text/plain": [
       "Button(description='browse', style=ButtonStyle(), tooltip='browse for directory')"
      ]
     },
     "metadata": {},
     "output_type": "display_data"
    },
    {
     "data": {
      "application/vnd.jupyter.widget-view+json": {
       "model_id": "756f5d22b34c46c4a50d4feb88d7c5e9",
       "version_major": 2,
       "version_minor": 0
      },
      "text/plain": [
       "Text(value='201026_hmm_results', description='Folder name', placeholder='name of folder', style=DescriptionSty…"
      ]
     },
     "metadata": {},
     "output_type": "display_data"
    },
    {
     "data": {
      "application/vnd.jupyter.widget-view+json": {
       "model_id": "a0db69b3e3014f888ffb0f7bdbf9ff34",
       "version_major": 2,
       "version_minor": 0
      },
      "text/plain": [
       "Checkbox(value=True, description='Save plots')"
      ]
     },
     "metadata": {},
     "output_type": "display_data"
    },
    {
     "data": {
      "application/vnd.jupyter.widget-view+json": {
       "model_id": "6ddae29e22e84a6a833d9e232ce2a589",
       "version_major": 2,
       "version_minor": 0
      },
      "text/plain": [
       "Button(description='save', style=ButtonStyle(), tooltip='click to save')"
      ]
     },
     "metadata": {},
     "output_type": "display_data"
    }
   ],
   "source": [
    "def saving(event):\n",
    "    if not widget_hmm_vis.save_dir_name:\n",
    "        print(\"Please insert a directory\")\n",
    "    else:\n",
    "        widget_hmm_vis.create_clear_output()\n",
    "        hmm_vis.save_dir, hmm_vis.save_folder_name, hmm_vis.save_plots = widget_hmm_vis.save_dir_name, widget_hmm_vis.save_folder_name_box.value, widget_hmm_vis.save_plots_checkbox.value\n",
    "        if hmm_vis.save_plots:\n",
    "            hmm_vis.run_save_plots()\n",
    "        init_save_hmm_vis_stats(hmm_vis, hmm_vis.save_dir, hmm_vis.save_folder_name)\n",
    "display(widget_hmm_vis.save_dir_box, widget_hmm_vis.save_dir_button, widget_hmm_vis.save_folder_name_box, widget_hmm_vis.save_plots_checkbox, widget_hmm_vis.save_button)\n",
    "widget_hmm_vis.save_dir_button.on_click(widget_hmm_vis.save_open_dir)\n",
    "widget_hmm_vis.save_button.on_click(saving)"
   ]
  }
 ],
 "metadata": {
  "hide_code_all_hidden": false,
  "kernelspec": {
   "display_name": "Python 3",
   "language": "python",
   "name": "python3"
  },
  "language_info": {
   "codemirror_mode": {
    "name": "ipython",
    "version": 3
   },
   "file_extension": ".py",
   "mimetype": "text/x-python",
   "name": "python",
   "nbconvert_exporter": "python",
   "pygments_lexer": "ipython3",
   "version": "3.7.6"
  }
 },
 "nbformat": 4,
 "nbformat_minor": 2
}
