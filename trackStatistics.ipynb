{
 "cells": [
  {
   "cell_type": "markdown",
   "metadata": {
    "hideCode": true,
    "hidePrompt": true
   },
   "source": [
    "# Filter *.h5 files & background correction\n",
    "### Johanna Rahm, Sebastian Malkusch\n",
    "#### Research group Heilemann\n",
    "#### Institute for Physical and Theoretical Chemistry, Goethe University Frankfurt a.M.\n",
    "This notebook as to be reloaded before analysing a new group of data!"
   ]
  },
  {
   "cell_type": "markdown",
   "metadata": {
    "hideCode": true,
    "hidePrompt": true
   },
   "source": [
    "## Load cell.h5 files"
   ]
  },
  {
   "cell_type": "markdown",
   "metadata": {
    "hideCode": true,
    "hidePrompt": true
   },
   "source": [
    "Choose/insert a directory for the cell files to be searched in (e.g. F:\\CS2\\cells). All *.h5 files in the directory will be loaded for the analysis."
   ]
  },
  {
   "cell_type": "code",
   "execution_count": 1,
   "metadata": {
    "hideCode": true,
    "hidePrompt": true
   },
   "outputs": [
    {
     "data": {
      "application/vnd.jupyter.widget-view+json": {
       "model_id": "b3559eb65ef14422a20e4f1f9f4e3ebb",
       "version_major": 2,
       "version_minor": 0
      },
      "text/plain": [
       "Text(value='directory to be searched in', description='directory', placeholder='Type something', style=Descrip…"
      ]
     },
     "metadata": {},
     "output_type": "display_data"
    },
    {
     "data": {
      "application/vnd.jupyter.widget-view+json": {
       "model_id": "912f5ee68a6a4dbaaeb501503e6705d3",
       "version_major": 2,
       "version_minor": 0
      },
      "text/plain": [
       "Button(description='browse', style=ButtonStyle(), tooltip='browse for directory')"
      ]
     },
     "metadata": {},
     "output_type": "display_data"
    }
   ],
   "source": [
    "from pySPT.widgets.widgetNotebooks import init_filter_notebook\n",
    "from pySPT.widgets.widgetNotebooks import init_track_stats_widget_arrangement\n",
    "from pySPT.widgets.widgetNotebooks import init_save_track_stats\n",
    "from pySPT.widgets.widgetNotebooks import init_save_filtered_analysis\n",
    "from pySPT.widgets.widgetNotebooks import init_save_filtered_trc\n",
    "from pySPT.widgets import widgetLoadHdf5\n",
    "from pySPT.widgets import loadHdf5\n",
    "from pySPT.widgets import saveStatistics\n",
    "from pySPT.widgets import saveFiltered\n",
    "from pySPT.Analysis import cell\n",
    "from pySPT.Analysis import trajectory\n",
    "from pySPT.Analysis import coverSlip\n",
    "from pySPT.Analysis import trajectoryStatistics\n",
    "from tqdm import tqdm_notebook as tqdm\n",
    "import os\n",
    "import warnings\n",
    "warnings.filterwarnings('ignore')\n",
    "widget_load_hdf5 = widgetLoadHdf5.WidgetLoadHdf5()\n",
    "load_hdf5 = loadHdf5.LoadHdf5()\n",
    "cover_slip = coverSlip.CoverSlip()\n",
    "track_stats = trajectoryStatistics.TrajectoryStatistics()\n",
    "display(widget_load_hdf5.dir_box, widget_load_hdf5.dir_button)\n",
    "widget_load_hdf5.dir_button.on_click(widget_load_hdf5.open_dir)\n",
    "widget_load_hdf5.dir_box.observe(widget_load_hdf5.change_dir_box)"
   ]
  },
  {
   "cell_type": "code",
   "execution_count": 2,
   "metadata": {
    "hideCode": true,
    "hidePrompt": true
   },
   "outputs": [
    {
     "data": {
      "application/vnd.jupyter.widget-view+json": {
       "model_id": "216d18b9050a45c78fb551e574e3eaf8",
       "version_major": 2,
       "version_minor": 0
      },
      "text/plain": [
       "Button(description='initialize', style=ButtonStyle(), tooltip='initialize objects')"
      ]
     },
     "metadata": {},
     "output_type": "display_data"
    }
   ],
   "source": [
    "def initialize(event):\n",
    "    init_filter_notebook(cover_slip, widget_load_hdf5, load_hdf5, is_cell=True)\n",
    "    track_stats.cells = cover_slip.cells\n",
    "    track_stats.cell_trajectories = cover_slip.cell_trajectories\n",
    "    track_stats.cell_sizes = [cell.size for cell in cover_slip.cells]\n",
    "    track_stats.create_filtered_framework()\n",
    "display(widget_load_hdf5.init_cells_button)\n",
    "widget_load_hdf5.init_cells_button.on_click(initialize)"
   ]
  },
  {
   "cell_type": "markdown",
   "metadata": {
    "hideCode": true,
    "hidePrompt": true
   },
   "source": [
    "## Load background.h5 files"
   ]
  },
  {
   "cell_type": "markdown",
   "metadata": {
    "hideCode": true,
    "hidePrompt": true
   },
   "source": [
    "Choose/insert a directory for the background files to be searched in (e.g. F:\\CS2\\background). All *.h5 files in the directory will be loaded for the analysis. Background correction is recommended but optional."
   ]
  },
  {
   "cell_type": "code",
   "execution_count": 3,
   "metadata": {
    "hideCode": true,
    "hidePrompt": true
   },
   "outputs": [
    {
     "data": {
      "application/vnd.jupyter.widget-view+json": {
       "model_id": "6f8d2bdc60384bdf8ff548b67a607022",
       "version_major": 2,
       "version_minor": 0
      },
      "text/plain": [
       "Text(value='directory to be searched in', description='directory', placeholder='Type something', style=Descrip…"
      ]
     },
     "metadata": {},
     "output_type": "display_data"
    },
    {
     "data": {
      "application/vnd.jupyter.widget-view+json": {
       "model_id": "dc9d8807af3e4485a70bc01bc7c0181a",
       "version_major": 2,
       "version_minor": 0
      },
      "text/plain": [
       "Button(description='browse', style=ButtonStyle(), tooltip='browse for directory')"
      ]
     },
     "metadata": {},
     "output_type": "display_data"
    }
   ],
   "source": [
    "display(widget_load_hdf5.dir_box_bg, widget_load_hdf5.dir_button_bg)\n",
    "widget_load_hdf5.dir_box_bg.observe(widget_load_hdf5.change_dir_box_bg)\n",
    "widget_load_hdf5.dir_button_bg.on_click(widget_load_hdf5.open_dir_bg)"
   ]
  },
  {
   "cell_type": "code",
   "execution_count": 4,
   "metadata": {
    "hideCode": true,
    "hidePrompt": true
   },
   "outputs": [
    {
     "data": {
      "application/vnd.jupyter.widget-view+json": {
       "model_id": "e7fd3bda104d4982861820eeb0defe72",
       "version_major": 2,
       "version_minor": 0
      },
      "text/plain": [
       "Button(description='initialize', style=ButtonStyle(), tooltip='initialize objects')"
      ]
     },
     "metadata": {},
     "output_type": "display_data"
    }
   ],
   "source": [
    "def initialize(event):\n",
    "    init_filter_notebook(cover_slip, widget_load_hdf5, load_hdf5, is_cell=False)\n",
    "    track_stats.backgrounds = cover_slip.backgrounds\n",
    "    track_stats.background_trajectories = cover_slip.background_trajectories\n",
    "    track_stats.bg_sizes = [background.size for background in cover_slip.backgrounds]\n",
    "display(widget_load_hdf5.init_background_button)\n",
    "widget_load_hdf5.init_background_button.on_click(initialize)"
   ]
  },
  {
   "cell_type": "markdown",
   "metadata": {
    "hideCode": true,
    "hidePrompt": true
   },
   "source": [
    "## Filter for parameters"
   ]
  },
  {
   "cell_type": "markdown",
   "metadata": {
    "hideCode": true,
    "hidePrompt": true
   },
   "source": [
    "Floating point numbers have to be separated with a dot (e.g. 2.123). If no filter parameters or invalid parameters are given, the min and max values will be set automatically. All boxes that are checked will be included in the filtered data. Filtering multiple times is possible without restarting the notebook."
   ]
  },
  {
   "cell_type": "code",
   "execution_count": 5,
   "metadata": {
    "hideCode": true,
    "hidePrompt": true,
    "scrolled": false
   },
   "outputs": [
    {
     "data": {
      "application/vnd.jupyter.widget-view+json": {
       "model_id": "bfda307d11704cd6bea7c51e962e45b4",
       "version_major": 2,
       "version_minor": 0
      },
      "text/plain": [
       "Text(value='', description='Trajectory', placeholder='min length', style=DescriptionStyle(description_width='i…"
      ]
     },
     "metadata": {},
     "output_type": "display_data"
    },
    {
     "data": {
      "application/vnd.jupyter.widget-view+json": {
       "model_id": "189e598fdff04ea5ac0c0fedbe8345ea",
       "version_major": 2,
       "version_minor": 0
      },
      "text/plain": [
       "Text(value='', description='Trajectory', placeholder='max length', style=DescriptionStyle(description_width='i…"
      ]
     },
     "metadata": {},
     "output_type": "display_data"
    },
    {
     "data": {
      "application/vnd.jupyter.widget-view+json": {
       "model_id": "17e6c9bb85264118977e2133e41b8f74",
       "version_major": 2,
       "version_minor": 0
      },
      "text/plain": [
       "Text(value='', description='Diffusion coefficient', placeholder='min value', style=DescriptionStyle(descriptio…"
      ]
     },
     "metadata": {},
     "output_type": "display_data"
    },
    {
     "data": {
      "application/vnd.jupyter.widget-view+json": {
       "model_id": "dc86f53ece154d25891c884bf070322f",
       "version_major": 2,
       "version_minor": 0
      },
      "text/plain": [
       "Text(value='', description='Diffusion coefficient', placeholder='max value', style=DescriptionStyle(descriptio…"
      ]
     },
     "metadata": {},
     "output_type": "display_data"
    },
    {
     "data": {
      "application/vnd.jupyter.widget-view+json": {
       "model_id": "428859bf1494483eb3e7b84f49d51dda",
       "version_major": 2,
       "version_minor": 0
      },
      "text/plain": [
       "Checkbox(value=True, description='Immobile')"
      ]
     },
     "metadata": {},
     "output_type": "display_data"
    },
    {
     "data": {
      "application/vnd.jupyter.widget-view+json": {
       "model_id": "8f077151931f4c278ce1fda7dfbadefd",
       "version_major": 2,
       "version_minor": 0
      },
      "text/plain": [
       "Checkbox(value=True, description='Confined')"
      ]
     },
     "metadata": {},
     "output_type": "display_data"
    },
    {
     "data": {
      "application/vnd.jupyter.widget-view+json": {
       "model_id": "ce5c742283a9402587555e6b9cc9b558",
       "version_major": 2,
       "version_minor": 0
      },
      "text/plain": [
       "Checkbox(value=True, description='Free')"
      ]
     },
     "metadata": {},
     "output_type": "display_data"
    },
    {
     "data": {
      "application/vnd.jupyter.widget-view+json": {
       "model_id": "6795cafe81fb41488138497b32f9ae0e",
       "version_major": 2,
       "version_minor": 0
      },
      "text/plain": [
       "Checkbox(value=True, description='Type determination not successful')"
      ]
     },
     "metadata": {},
     "output_type": "display_data"
    },
    {
     "data": {
      "application/vnd.jupyter.widget-view+json": {
       "model_id": "ac5e92025dff49028c31315c2631c17a",
       "version_major": 2,
       "version_minor": 0
      },
      "text/plain": [
       "Button(description='apply filter', style=ButtonStyle(), tooltip='apply filter')"
      ]
     },
     "metadata": {},
     "output_type": "display_data"
    }
   ],
   "source": [
    "def filter(event):\n",
    "    widget_load_hdf5.create_clear_output()\n",
    "    display(widget_load_hdf5.min_length_box, widget_load_hdf5.max_length_box, widget_load_hdf5.min_D_box, widget_load_hdf5.max_D_box, widget_load_hdf5.immob_type_check_box, widget_load_hdf5.confined_type_check_box, widget_load_hdf5.free_type_check_box, widget_load_hdf5.analyse_not_successful_check_box, widget_load_hdf5.filter_button)\n",
    "    #init_track_stats_widget_arrangement(widget_load_hdf5.min_length_box, widget_load_hdf5.max_length_box, widget_load_hdf5.min_D_box, widget_load_hdf5.max_D_box, widget_load_hdf5.filter_button, widget_load_hdf5.immob_type_check_box, widget_load_hdf5.confined_type_check_box, widget_load_hdf5.free_type_check_box, widget_load_hdf5.analyse_not_successful_check_box)\n",
    "    #init_track_stats_widget_arrangement(widget_load_hdf5.min_length_box, widget_load_hdf5.max_length_box, widget_load_hdf5.min_D_box, widget_load_hdf5.max_D_box, widget_load_hdf5.filter_button, widget_load_hdf5.immob_type_check_box, widget_load_hdf5.confined_type_check_box, widget_load_hdf5.free_type_check_box, widget_load_hdf5.analyse_not_successful_check_box)\n",
    "    track_stats.run_statistics(widget_load_hdf5.min_length_box.value, widget_load_hdf5.max_length_box.value, widget_load_hdf5.min_D_box.value, widget_load_hdf5.max_D_box.value, widget_load_hdf5.immob_type_check_box.value,  widget_load_hdf5.confined_type_check_box.value, widget_load_hdf5.free_type_check_box.value, widget_load_hdf5.analyse_not_successful_check_box.value)\n",
    "    track_stats.run_diffusion_histogram(widget_load_hdf5.bin_size_box.value, plot=False)\n",
    "display(widget_load_hdf5.min_length_box, widget_load_hdf5.max_length_box, widget_load_hdf5.min_D_box, widget_load_hdf5.max_D_box, widget_load_hdf5.immob_type_check_box, widget_load_hdf5.confined_type_check_box, widget_load_hdf5.free_type_check_box, widget_load_hdf5.analyse_not_successful_check_box, widget_load_hdf5.filter_button)\n",
    "#widget_load_hdf5.min_length_box.observe(widget_load_hdf5.init_cells_button)\n",
    "widget_load_hdf5.filter_button.on_click(filter)\n",
    "#init_track_stats_widget_arrangement(widget_load_hdf5.min_length_box, widget_load_hdf5.max_length_box, widget_load_hdf5.min_D_box, widget_load_hdf5.max_D_box, widget_load_hdf5.filter_button, widget_load_hdf5.immob_type_check_box, widget_load_hdf5.confined_type_check_box, widget_load_hdf5.free_type_check_box, widget_load_hdf5.analyse_not_successful_check_box)"
   ]
  },
  {
   "cell_type": "markdown",
   "metadata": {
    "hideCode": true,
    "hidePrompt": true
   },
   "source": [
    "## Calculate dynamic localization error "
   ]
  },
  {
   "cell_type": "markdown",
   "metadata": {
    "hideCode": true,
    "hidePrompt": true
   },
   "source": [
    "For each cell, a dynamic localization error based on the filtered trajectories is calculated (formula: X. Michalet, Phys. Rev. 2010, 82, 041914)."
   ]
  },
  {
   "cell_type": "code",
   "execution_count": 6,
   "metadata": {
    "hideCode": true,
    "hidePrompt": true
   },
   "outputs": [
    {
     "data": {
      "application/vnd.jupyter.widget-view+json": {
       "model_id": "862d35d7afcb4d2f8646fa17518c6588",
       "version_major": 2,
       "version_minor": 0
      },
      "text/plain": [
       "Button(description='calc', style=ButtonStyle(), tooltip='dynamic localization error')"
      ]
     },
     "metadata": {},
     "output_type": "display_data"
    }
   ],
   "source": [
    "def calc(event):\n",
    "    widget_load_hdf5.create_clear_output()\n",
    "    display(widget_load_hdf5.calc_sigma_dyn_button)\n",
    "    for cell_idx in range(len(track_stats.cell_trajectories_filtered)):\n",
    "        print(\"{}: {} \\u03BCm\".format(track_stats.cells[cell_idx].name, track_stats.sigma_dyns[cell_idx]))\n",
    "display(widget_load_hdf5.calc_sigma_dyn_button)\n",
    "widget_load_hdf5.calc_sigma_dyn_button.on_click(calc)"
   ]
  },
  {
   "cell_type": "markdown",
   "metadata": {
    "hideCode": true,
    "hidePrompt": true
   },
   "source": [
    "## Choose trajectory to plot"
   ]
  },
  {
   "cell_type": "markdown",
   "metadata": {
    "hideCode": true,
    "hidePrompt": true
   },
   "source": [
    "Choose a cell. If one wants to plot multiple times, choose a new cell and/or trajectory reload the plotting cell by clicking in the cell and pressing strg+enter."
   ]
  },
  {
   "cell_type": "code",
   "execution_count": 7,
   "metadata": {
    "hideCode": true,
    "hidePrompt": true
   },
   "outputs": [
    {
     "data": {
      "application/vnd.jupyter.widget-view+json": {
       "model_id": "75719ce6d4ba493e8910fffac96cc6c8",
       "version_major": 2,
       "version_minor": 0
      },
      "text/plain": [
       "Dropdown(description='Number:', options=(), value=None)"
      ]
     },
     "metadata": {},
     "output_type": "display_data"
    }
   ],
   "source": [
    "def dropdown(event):\n",
    "    widget_load_hdf5.cell_options = widget_load_hdf5.get_cell_names(cover_slip.cells, track_stats.cell_trajectories_filtered)\n",
    "widget_load_hdf5.filter_button.on_click(dropdown)\n",
    "display(widget_load_hdf5.drop_down_cells)"
   ]
  },
  {
   "cell_type": "markdown",
   "metadata": {
    "hideCode": true,
    "hidePrompt": true
   },
   "source": [
    "Choose a trajectory."
   ]
  },
  {
   "cell_type": "code",
   "execution_count": 8,
   "metadata": {
    "hideCode": true,
    "hidePrompt": true
   },
   "outputs": [
    {
     "data": {
      "application/vnd.jupyter.widget-view+json": {
       "model_id": "6b7498d690194764b8bdc9b873d4340a",
       "version_major": 2,
       "version_minor": 0
      },
      "text/plain": [
       "Dropdown(description='Number:', options=(), value=None)"
      ]
     },
     "metadata": {},
     "output_type": "display_data"
    }
   ],
   "source": [
    "def dropdown(event):      \n",
    "    for cell in cover_slip.cells:\n",
    "        if cell.name == widget_load_hdf5.drop_down_cells.value:\n",
    "            target_cell = cover_slip.cells.index(cell)\n",
    "            widget_load_hdf5.trajectory_options = track_stats.cell_trajectories_filtered_index[target_cell]\n",
    "            widget_load_hdf5.drop_down_trajectories.options = widget_load_hdf5.trajectory_options\n",
    "widget_load_hdf5.drop_down_cells.observe(dropdown)\n",
    "widget_load_hdf5.filter_button.on_click(dropdown)\n",
    "display(widget_load_hdf5.drop_down_trajectories)"
   ]
  },
  {
   "cell_type": "code",
   "execution_count": 9,
   "metadata": {
    "hideCode": true,
    "hidePrompt": true
   },
   "outputs": [
    {
     "data": {
      "application/vnd.jupyter.widget-view+json": {
       "model_id": "58b363a001c24653be9f9e13b9f262b3",
       "version_major": 2,
       "version_minor": 0
      },
      "text/plain": [
       "Button(description='plot', style=ButtonStyle(), tooltip='plot chosen trajectory')"
      ]
     },
     "metadata": {},
     "output_type": "display_data"
    }
   ],
   "source": [
    "def plot_trajectory(event):\n",
    "    widget_load_hdf5.create_clear_output()\n",
    "    display(widget_load_hdf5.plot_button)\n",
    "    cover_slip.plot_trajectory(widget_load_hdf5.drop_down_cells.value, widget_load_hdf5.drop_down_trajectories.value)\n",
    "display(widget_load_hdf5.plot_button)\n",
    "widget_load_hdf5.plot_button.on_click(plot_trajectory)"
   ]
  },
  {
   "cell_type": "markdown",
   "metadata": {
    "hideCode": true,
    "hidePrompt": true
   },
   "source": [
    "## Plot global diffusion histogram and MSD-plot"
   ]
  },
  {
   "cell_type": "markdown",
   "metadata": {
    "hideCode": true,
    "hidePrompt": true
   },
   "source": [
    "Plot the normalized frequency in % against the diffusion coefficients (log bins). Diffusion coefficients <= 0 are neglected, because the logarithm is not defined in this interval. Choose a bin size. For the MSD plot, choose a x range (the integer will be multiplied with the camera integration time) and a y range for the plot to display. None displays the entire value range."
   ]
  },
  {
   "cell_type": "code",
   "execution_count": 10,
   "metadata": {
    "hideCode": true,
    "hidePrompt": true
   },
   "outputs": [
    {
     "data": {
      "application/vnd.jupyter.widget-view+json": {
       "model_id": "928dfe073ad84d5382692c688edd808c",
       "version_major": 2,
       "version_minor": 0
      },
      "text/plain": [
       "Text(value='0.1', description='bin size', placeholder='size for log10(D) histogram', style=DescriptionStyle(de…"
      ]
     },
     "metadata": {},
     "output_type": "display_data"
    },
    {
     "data": {
      "application/vnd.jupyter.widget-view+json": {
       "model_id": "1b494777cd9847ddaf4464e2367f90a1",
       "version_major": 2,
       "version_minor": 0
      },
      "text/plain": [
       "Text(value='None', description='x range', placeholder='number of MSD values shown', style=DescriptionStyle(des…"
      ]
     },
     "metadata": {},
     "output_type": "display_data"
    },
    {
     "data": {
      "application/vnd.jupyter.widget-view+json": {
       "model_id": "ade0daa6d975447595b0d2bd754b5895",
       "version_major": 2,
       "version_minor": 0
      },
      "text/plain": [
       "Text(value='None', description='y range', placeholder='y limit of MSD plot', style=DescriptionStyle(descriptio…"
      ]
     },
     "metadata": {},
     "output_type": "display_data"
    }
   ],
   "source": [
    "display(widget_load_hdf5.bin_size_box)\n",
    "display(widget_load_hdf5.MSD_delta_t_n)\n",
    "display(widget_load_hdf5.MSD_y_lim)"
   ]
  },
  {
   "cell_type": "code",
   "execution_count": 11,
   "metadata": {
    "hideCode": true,
    "hidePrompt": true,
    "scrolled": false
   },
   "outputs": [
    {
     "data": {
      "application/vnd.jupyter.widget-view+json": {
       "model_id": "9b34d20e3c1448a29cdf8242ccdda02d",
       "version_major": 2,
       "version_minor": 0
      },
      "text/plain": [
       "Button(description='plot', style=ButtonStyle(), tooltip='plot diffusion coefficients')"
      ]
     },
     "metadata": {},
     "output_type": "display_data"
    }
   ],
   "source": [
    "def plot_diffusions(event):\n",
    "    widget_load_hdf5.create_clear_output()\n",
    "    display(widget_load_hdf5.plot_diffusions_button)\n",
    "    track_stats.run_diffusion_histogram(widget_load_hdf5.bin_size_box.value, widget_load_hdf5.MSD_delta_t_n.value, widget_load_hdf5.MSD_y_lim.value)\n",
    "display(widget_load_hdf5.plot_diffusions_button)\n",
    "widget_load_hdf5.plot_diffusions_button.on_click(plot_diffusions)"
   ]
  },
  {
   "cell_type": "markdown",
   "metadata": {
    "hideCode": true,
    "hidePrompt": true
   },
   "source": [
    "## Save Analysis"
   ]
  },
  {
   "cell_type": "markdown",
   "metadata": {
    "hideCode": true,
    "hidePrompt": true
   },
   "source": [
    "Choose a directory, folder name and a file name for the statistics h5 file. If you want to save the filtered dataset, check the box! The filtered dataset will be saved in the same folder as the statistics h5 file."
   ]
  },
  {
   "cell_type": "code",
   "execution_count": 12,
   "metadata": {
    "hideCode": true,
    "hidePrompt": true
   },
   "outputs": [
    {
     "data": {
      "application/vnd.jupyter.widget-view+json": {
       "model_id": "7eedb13b65cc4dcd8650aa49f8df482b",
       "version_major": 2,
       "version_minor": 0
      },
      "text/plain": [
       "Button(description='browse', style=ButtonStyle(), tooltip='browse for directory')"
      ]
     },
     "metadata": {},
     "output_type": "display_data"
    },
    {
     "data": {
      "application/vnd.jupyter.widget-view+json": {
       "model_id": "150251faef0a4fca99802ac5eea2f021",
       "version_major": 2,
       "version_minor": 0
      },
      "text/plain": [
       "Text(value='', description='directory', placeholder='directory for filtered data', style=DescriptionStyle(desc…"
      ]
     },
     "metadata": {},
     "output_type": "display_data"
    },
    {
     "data": {
      "application/vnd.jupyter.widget-view+json": {
       "model_id": "d7339503c96b40249b88a5868a05519a",
       "version_major": 2,
       "version_minor": 0
      },
      "text/plain": [
       "Text(value='200707_filtered', description='folder name', placeholder='name of folder', style=DescriptionStyle(…"
      ]
     },
     "metadata": {},
     "output_type": "display_data"
    },
    {
     "data": {
      "application/vnd.jupyter.widget-view+json": {
       "model_id": "70a6f63c6d514b4bb37f3a88ccb394e8",
       "version_major": 2,
       "version_minor": 0
      },
      "text/plain": [
       "Text(value='statistics', description='file name', placeholder='name for statistics .h5 file', style=Descriptio…"
      ]
     },
     "metadata": {},
     "output_type": "display_data"
    },
    {
     "data": {
      "application/vnd.jupyter.widget-view+json": {
       "model_id": "a770fea987ae4794a7ca6a7aad1b502f",
       "version_major": 2,
       "version_minor": 0
      },
      "text/plain": [
       "Checkbox(value=True, description='Save filtered dataset')"
      ]
     },
     "metadata": {},
     "output_type": "display_data"
    },
    {
     "data": {
      "application/vnd.jupyter.widget-view+json": {
       "model_id": "1fc5e9c489404a42822eb9dc4e9b03f1",
       "version_major": 2,
       "version_minor": 0
      },
      "text/plain": [
       "Checkbox(value=True, description='Save global plots')"
      ]
     },
     "metadata": {},
     "output_type": "display_data"
    }
   ],
   "source": [
    "display(widget_load_hdf5.save_dir_button, widget_load_hdf5.save_dir_box, widget_load_hdf5.save_folder_name_box, widget_load_hdf5.save_name_box, widget_load_hdf5.filtered_dataset_checkbox, widget_load_hdf5.Dplot_checkbox)\n",
    "widget_load_hdf5.save_dir_button.on_click(widget_load_hdf5.save_open_dir)\n",
    "widget_load_hdf5.save_dir_box.observe(widget_load_hdf5.change_save_dir_box)"
   ]
  },
  {
   "cell_type": "code",
   "execution_count": 13,
   "metadata": {
    "hideCode": true,
    "hidePrompt": true
   },
   "outputs": [
    {
     "data": {
      "application/vnd.jupyter.widget-view+json": {
       "model_id": "413f651c1d50401888288d866c8de9fc",
       "version_major": 2,
       "version_minor": 0
      },
      "text/plain": [
       "Button(description='save', style=ButtonStyle(), tooltip='save statistics')"
      ]
     },
     "metadata": {},
     "output_type": "display_data"
    }
   ],
   "source": [
    "def save(event):\n",
    "    widget_load_hdf5.create_clear_output()\n",
    "    display(widget_load_hdf5.save_button)\n",
    "    h5_stats = saveStatistics.SaveStatistics()\n",
    "    if os.path.exists(widget_load_hdf5.save_dir_box.value + \"\\\\\" + widget_load_hdf5.save_folder_name_box.value):\n",
    "        print(\"Directory already exsists. Please choose an other directory or folder name.\")\n",
    "    else:\n",
    "        os.makedirs(widget_load_hdf5.save_dir_box.value + \"\\\\\" + widget_load_hdf5.save_folder_name_box.value)\n",
    "        if widget_load_hdf5.save_dir_box.value:\n",
    "            init_save_track_stats(h5_stats, track_stats, widget_load_hdf5.save_dir_box.value, widget_load_hdf5.save_folder_name_box.value, widget_load_hdf5.save_name_box.value)\n",
    "            if widget_load_hdf5.filtered_dataset_checkbox.value:\n",
    "                track_stats.filter_cell_trc()\n",
    "                for cell_index in tqdm(range(len(track_stats.cells))):\n",
    "                    if track_stats.cell_trajectories_filtered[cell_index]:\n",
    "                        init_save_filtered_analysis(cover_slip, cell_index, track_stats, widget_load_hdf5.save_dir_box.value, widget_load_hdf5.save_folder_name_box.value)\n",
    "                print(\"The filtered dataset is saved.\")\n",
    "            if widget_load_hdf5.hmm_trc_checkbox.value:\n",
    "                print(\"The trc files of the filtered dataset will be saved.\")\n",
    "                track_stats.filter_cell_trc()\n",
    "                for cell_index in tqdm(range(len(track_stats.cells))):\n",
    "                    if track_stats.cell_trajectories_filtered[cell_index]:\n",
    "                        init_save_filtered_trc(track_stats, widget_load_hdf5.save_dir_box.value, widget_load_hdf5.save_folder_name_box.value)\n",
    "            if widget_load_hdf5.Dplot_checkbox.value and track_stats.diff_fig:\n",
    "                track_stats.save_diff_fig(widget_load_hdf5.save_dir_box.value, widget_load_hdf5.save_folder_name_box.value)\n",
    "        else:\n",
    "            print(\"Please choose a directory\")\n",
    "display(widget_load_hdf5.save_button) \n",
    "widget_load_hdf5.save_button.on_click(save)"
   ]
  }
 ],
 "metadata": {
  "hide_code_all_hidden": true,
  "hide_input": false,
  "kernelspec": {
   "display_name": "Python 3",
   "language": "python",
   "name": "python3"
  },
  "language_info": {
   "codemirror_mode": {
    "name": "ipython",
    "version": 3
   },
   "file_extension": ".py",
   "mimetype": "text/x-python",
   "name": "python",
   "nbconvert_exporter": "python",
   "pygments_lexer": "ipython3",
   "version": "3.7.6"
  }
 },
 "nbformat": 4,
 "nbformat_minor": 2
}
