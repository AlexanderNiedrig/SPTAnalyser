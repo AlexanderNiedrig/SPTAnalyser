{
 "cells": [
  {
   "cell_type": "markdown",
   "metadata": {},
   "source": [
    "# Filter *.h5 files & background correction\n",
    "### Johanna Rahm, Sebastian Malkusch\n",
    "#### Research group Heilemann\n",
    "#### Institute for Physical and Theoretical Chemistry, Goethe University Frankfurt a.M."
   ]
  },
  {
   "cell_type": "markdown",
   "metadata": {},
   "source": [
    "## Load cell.h5 files"
   ]
  },
  {
   "cell_type": "markdown",
   "metadata": {},
   "source": [
    "Choose/insert a directory for the cell files to be searched in (e.g. F:\\Marburg\\single_colour_tracking\\resting). All *.h5 files in the directory will be loaded for the analysis."
   ]
  },
  {
   "cell_type": "code",
   "execution_count": 1,
   "metadata": {},
   "outputs": [
    {
     "data": {
      "application/vnd.jupyter.widget-view+json": {
       "model_id": "1a756349ad284d80ae133d60d4c9aeff",
       "version_major": 2,
       "version_minor": 0
      },
      "text/plain": [
       "Text(value='directory to be searched in', description='directory', placeholder='Type something', style=Descrip…"
      ]
     },
     "metadata": {},
     "output_type": "display_data"
    },
    {
     "data": {
      "application/vnd.jupyter.widget-view+json": {
       "model_id": "b63804245e09405fb7b2d7d1d2b9795b",
       "version_major": 2,
       "version_minor": 0
      },
      "text/plain": [
       "Button(description='browse', style=ButtonStyle(), tooltip='browse for directory')"
      ]
     },
     "metadata": {},
     "output_type": "display_data"
    }
   ],
   "source": [
    "from pySPT.widgets.widgetNotebooks import init_filter_notebook\n",
    "from pySPT.widgets import widgetLoadHdf5\n",
    "from pySPT.widgets import loadHdf5\n",
    "from pySPT.analysis import cell\n",
    "from pySPT.analysis import trajectory\n",
    "from pySPT.analysis import coverSlip\n",
    "from pySPT.analysis import trajectoryStatistics\n",
    "widget_load_hdf5 = widgetLoadHdf5.WidgetLoadHdf5()\n",
    "load_hdf5 = loadHdf5.LoadHdf5()\n",
    "cover_slip = coverSlip.CoverSlip()\n",
    "track_stats = trajectoryStatistics.TrajectoryStatistics()\n",
    "display(widget_load_hdf5.dir_box, widget_load_hdf5.dir_button)\n",
    "widget_load_hdf5.dir_button.on_click(widget_load_hdf5.open_dir)\n",
    "widget_load_hdf5.dir_box.observe(widget_load_hdf5.change_dir_box)"
   ]
  },
  {
   "cell_type": "code",
   "execution_count": 2,
   "metadata": {},
   "outputs": [
    {
     "data": {
      "application/vnd.jupyter.widget-view+json": {
       "model_id": "6063211607c64629a5ab9381c1b6a0da",
       "version_major": 2,
       "version_minor": 0
      },
      "text/plain": [
       "Button(description='initialize', style=ButtonStyle(), tooltip='initialize objects')"
      ]
     },
     "metadata": {},
     "output_type": "display_data"
    },
    {
     "name": "stdout",
     "output_type": "stream",
     "text": [
      "Initialization took 2.594221591949463 s\n",
      "BG: [] []\n",
      "cells: [<pySPT.analysis.cell.Cell object at 0x000001F5F6277048>, <pySPT.analysis.cell.Cell object at 0x000001F5FA0C29E8>] ['C:/Users/pcoffice37/Documents/testing_file_search/more cells/cell01_02\\\\cell1\\\\cell_1_MMStack_Pos0.ome_MIA.h5', 'C:/Users/pcoffice37/Documents/testing_file_search/more cells/cell01_02\\\\cell2\\\\cell_2_MMStack_Pos0.ome_MIA.h5']\n"
     ]
    }
   ],
   "source": [
    "def initialize(event):\n",
    "    init_filter_notebook(cover_slip, widget_load_hdf5, load_hdf5, is_cell=True)\n",
    "display(widget_load_hdf5.init_cells_button)\n",
    "widget_load_hdf5.init_cells_button.on_click(initialize)"
   ]
  },
  {
   "cell_type": "markdown",
   "metadata": {},
   "source": [
    "## Load background.h5 files"
   ]
  },
  {
   "cell_type": "markdown",
   "metadata": {},
   "source": [
    "Choose/insert a directory for the background files to be searched in (e.g. F:\\Marburg\\single_colour_tracking\\resting). All *.h5 files in the directory will be loaded for the analysis. Background correction is recommended but optional."
   ]
  },
  {
   "cell_type": "code",
   "execution_count": 3,
   "metadata": {},
   "outputs": [
    {
     "data": {
      "application/vnd.jupyter.widget-view+json": {
       "model_id": "42e83a3225fb484383dee5138bc49f09",
       "version_major": 2,
       "version_minor": 0
      },
      "text/plain": [
       "Text(value='directory to be searched in', description='directory', placeholder='Type something', style=Descrip…"
      ]
     },
     "metadata": {},
     "output_type": "display_data"
    },
    {
     "data": {
      "application/vnd.jupyter.widget-view+json": {
       "model_id": "e42f78a18b344f3f8c8a5a4c0706ba2f",
       "version_major": 2,
       "version_minor": 0
      },
      "text/plain": [
       "Button(description='browse', style=ButtonStyle(), tooltip='browse for directory')"
      ]
     },
     "metadata": {},
     "output_type": "display_data"
    }
   ],
   "source": [
    "display(widget_load_hdf5.dir_box_bg, widget_load_hdf5.dir_button_bg)\n",
    "widget_load_hdf5.dir_box_bg.observe(widget_load_hdf5.change_dir_box_bg)\n",
    "widget_load_hdf5.dir_button_bg.on_click(widget_load_hdf5.open_dir_bg)"
   ]
  },
  {
   "cell_type": "code",
   "execution_count": 4,
   "metadata": {},
   "outputs": [
    {
     "data": {
      "application/vnd.jupyter.widget-view+json": {
       "model_id": "f45f4d7bd0fa47739b6dd49338ef7eb0",
       "version_major": 2,
       "version_minor": 0
      },
      "text/plain": [
       "Button(description='initialize', style=ButtonStyle(), tooltip='initialize objects')"
      ]
     },
     "metadata": {},
     "output_type": "display_data"
    },
    {
     "name": "stdout",
     "output_type": "stream",
     "text": [
      "Initialization took 0.8800883293151855 s\n",
      "BG: [<pySPT.analysis.cell.Cell object at 0x000001F5F29EA080>, <pySPT.analysis.cell.Cell object at 0x000001F5FA242240>] ['C:/Users/pcoffice37/Documents/testing_file_search/backgrounds\\\\background_2_MMStack_Pos0.ome_MIA.h5', 'C:/Users/pcoffice37/Documents/testing_file_search/backgrounds\\\\bg01\\\\background_1_MMStack_Pos0.ome_MIA.h5']\n",
      "cells: [<pySPT.analysis.cell.Cell object at 0x000001F5F6277048>, <pySPT.analysis.cell.Cell object at 0x000001F5FA0C29E8>] ['C:/Users/pcoffice37/Documents/testing_file_search/more cells/cell01_02\\\\cell1\\\\cell_1_MMStack_Pos0.ome_MIA.h5', 'C:/Users/pcoffice37/Documents/testing_file_search/more cells/cell01_02\\\\cell2\\\\cell_2_MMStack_Pos0.ome_MIA.h5']\n"
     ]
    }
   ],
   "source": [
    "def initialize(event):\n",
    "    init_filter_notebook(cover_slip, widget_load_hdf5, load_hdf5, is_cell=False)\n",
    "display(widget_load_hdf5.init_background_button)\n",
    "widget_load_hdf5.init_background_button.on_click(initialize)"
   ]
  },
  {
   "cell_type": "markdown",
   "metadata": {},
   "source": [
    "## Filter for parameters"
   ]
  },
  {
   "cell_type": "markdown",
   "metadata": {},
   "source": [
    "Floating point numbers have to be separated with a dot (e.g. 2.123). If no filter parameters or invalid parameters are given, the min and max values will be set automatically. All boxes that are checked will be included in the filtered data. If one wants to filter multiple times, the JNB has to be restarted."
   ]
  },
  {
   "cell_type": "code",
   "execution_count": 16,
   "metadata": {},
   "outputs": [
    {
     "name": "stdout",
     "output_type": "stream",
     "text": [
      "max trajectory length: 538\n",
      "min trajectory length: 538\n",
      "max diffusion coefficient: 2.4615554891102156 [μm²/s]\n",
      "min diffusion coefficient: 1e-05 [μm²/s]\n",
      "0.0 % are immobile\n",
      "0.0 % are confined\n",
      "100.0 % are free\n",
      "Total trajectories: 1\n"
     ]
    }
   ],
   "source": [
    "def filter(event):\n",
    "    widget_load_hdf5.create_clear_output()\n",
    "    track_stats.cell_trajectories = cover_slip.cell_trajectories\n",
    "    track_stats.background_trajectories = cover_slip.background_trajectories\n",
    "    track_stats.run_statistics(widget_load_hdf5.min_length_box.value, widget_load_hdf5.max_length_box.value, widget_load_hdf5.min_D_box.value, widget_load_hdf5.max_D_box.value, widget_load_hdf5.immob_type_check_box.value,  widget_load_hdf5.confined_type_check_box.value, widget_load_hdf5.free_type_check_box.value, widget_load_hdf5.analyse_successful_check_box.value, widget_load_hdf5.analyse_not_successful_check_box.value)\n",
    "display(widget_load_hdf5.min_length_box, widget_load_hdf5.max_length_box, widget_load_hdf5.min_D_box, widget_load_hdf5.max_D_box, widget_load_hdf5.immob_type_check_box, widget_load_hdf5.confined_type_check_box, widget_load_hdf5.free_type_check_box, widget_load_hdf5.analyse_successful_check_box, widget_load_hdf5.analyse_not_successful_check_box, widget_load_hdf5.filter_button)\n",
    "widget_load_hdf5.filter_button.on_click(filter)"
   ]
  },
  {
   "cell_type": "markdown",
   "metadata": {},
   "source": [
    "## Choose trajectory to plot"
   ]
  },
  {
   "cell_type": "markdown",
   "metadata": {},
   "source": [
    "Choose a cell. If one wants to plot multiple times, choose a new cell and/or trajectory reload the plotting cell by clicking in the cell and pressing strg+enter."
   ]
  },
  {
   "cell_type": "code",
   "execution_count": 6,
   "metadata": {},
   "outputs": [
    {
     "data": {
      "application/vnd.jupyter.widget-view+json": {
       "model_id": "59a1fdd23e394ee8b1040c1a452231c9",
       "version_major": 2,
       "version_minor": 0
      },
      "text/plain": [
       "Dropdown(description='Number:', options=(), value=None)"
      ]
     },
     "metadata": {},
     "output_type": "display_data"
    }
   ],
   "source": [
    "def dropdown(event):\n",
    "    widget_load_hdf5.cell_options = widget_load_hdf5.get_cell_names(cover_slip.cells, track_stats.cell_trajectories_filtered)\n",
    "widget_load_hdf5.filter_button.on_click(dropdown)\n",
    "display(widget_load_hdf5.drop_down_cells)"
   ]
  },
  {
   "cell_type": "markdown",
   "metadata": {},
   "source": [
    "Choose a trajectory."
   ]
  },
  {
   "cell_type": "code",
   "execution_count": 7,
   "metadata": {},
   "outputs": [
    {
     "data": {
      "application/vnd.jupyter.widget-view+json": {
       "model_id": "bcf2d7b752214c49ad79c0c314a7dcb0",
       "version_major": 2,
       "version_minor": 0
      },
      "text/plain": [
       "Dropdown(description='Number:', options=(), value=None)"
      ]
     },
     "metadata": {},
     "output_type": "display_data"
    }
   ],
   "source": [
    "def dropdown(event):      \n",
    "    for cell in cover_slip.cells:\n",
    "        if cell.name == widget_load_hdf5.drop_down_cells.value:\n",
    "            target_cell = cover_slip.cells.index(cell)\n",
    "            widget_load_hdf5.trajectory_options = track_stats.cell_trajectories_filtered_index[target_cell]\n",
    "            widget_load_hdf5.drop_down_trajectories.options = widget_load_hdf5.trajectory_options\n",
    "widget_load_hdf5.drop_down_cells.observe(dropdown)\n",
    "widget_load_hdf5.filter_button.on_click(dropdown)\n",
    "display(widget_load_hdf5.drop_down_trajectories)"
   ]
  },
  {
   "cell_type": "code",
   "execution_count": 8,
   "metadata": {},
   "outputs": [
    {
     "data": {
      "application/vnd.jupyter.widget-view+json": {
       "model_id": "dfc5422343c44012b353012ccaaf6bac",
       "version_major": 2,
       "version_minor": 0
      },
      "text/plain": [
       "Button(description='plot', style=ButtonStyle(), tooltip='plot chosen trajectory')"
      ]
     },
     "metadata": {},
     "output_type": "display_data"
    }
   ],
   "source": [
    "def plot_trajectory(event):\n",
    "    widget_load_hdf5.create_clear_output()\n",
    "    cover_slip.plot_trajectory(widget_load_hdf5.drop_down_cells.value, widget_load_hdf5.drop_down_trajectories.value)\n",
    "display(widget_load_hdf5.plot_button)\n",
    "widget_load_hdf5.plot_button.on_click(plot_trajectory)"
   ]
  },
  {
   "cell_type": "markdown",
   "metadata": {},
   "source": [
    "## Plot diffusion histogram"
   ]
  },
  {
   "cell_type": "code",
   "execution_count": 9,
   "metadata": {},
   "outputs": [
    {
     "data": {
      "application/vnd.jupyter.widget-view+json": {
       "model_id": "c02611c845f64bce8b3aae8f8601b0aa",
       "version_major": 2,
       "version_minor": 0
      },
      "text/plain": [
       "Text(value='0.1', description='bin size', placeholder='size for log10(D) histogram', style=DescriptionStyle(de…"
      ]
     },
     "metadata": {},
     "output_type": "display_data"
    }
   ],
   "source": [
    "display(widget_load_hdf5.bin_size_box)"
   ]
  },
  {
   "cell_type": "code",
   "execution_count": 10,
   "metadata": {},
   "outputs": [
    {
     "data": {
      "application/vnd.jupyter.widget-view+json": {
       "model_id": "91eb9f1b2272448981f7fbbda981e839",
       "version_major": 2,
       "version_minor": 0
      },
      "text/plain": [
       "Button(description='plot', style=ButtonStyle(), tooltip='plot diffusion coefficients')"
      ]
     },
     "metadata": {},
     "output_type": "display_data"
    }
   ],
   "source": [
    "def plot_diffusions(event):\n",
    "    widget_load_hdf5.create_clear_output()\n",
    "    track_stats.cell_sizes = [cell.size for cell in cover_slip.cells]\n",
    "    track_stats.bg_sizes = [background.size for background in cover_slip.backgrounds]\n",
    "    track_stats.run_plot_diffusion_histogram(widget_load_hdf5.bin_size_box.value)\n",
    "display(widget_load_hdf5.plot_diffusions_button)\n",
    "widget_load_hdf5.plot_diffusions_button.on_click(plot_diffusions)"
   ]
  }
 ],
 "metadata": {
  "kernelspec": {
   "display_name": "Python 3",
   "language": "python",
   "name": "python3"
  },
  "language_info": {
   "codemirror_mode": {
    "name": "ipython",
    "version": 3
   },
   "file_extension": ".py",
   "mimetype": "text/x-python",
   "name": "python",
   "nbconvert_exporter": "python",
   "pygments_lexer": "ipython3",
   "version": "3.7.1"
  }
 },
 "nbformat": 4,
 "nbformat_minor": 2
}
