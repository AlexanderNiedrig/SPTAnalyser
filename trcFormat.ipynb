{
 "cells": [
  {
   "cell_type": "markdown",
   "metadata": {
    "hideCode": false,
    "hidePrompt": false
   },
   "source": [
    "# trcFormat Converter\n",
    "### Johanna Rahm, Sebastian Malkusch\n",
    "#### Research group Heilemann\n",
    "#### Institute for Physical and Theoretical Chemistry, Goethe University Frankfurt a.M.\n",
    "Convert thunderSTORM .csv results table or rapidSTORM localization .txt file to .trc file (seg_id, image_number, x-position [pixel], placeholder, y-position [pixel], intensity). <br/>\n",
    "The thunderSTORM x/y-positions have to be in nm, intensity in ADU. <br/>\n",
    "The .trc file is needed for the trackAnalysis JNB and Hidden Markov Modeling. "
   ]
  },
  {
   "cell_type": "markdown",
   "metadata": {
    "hideCode": false,
    "hidePrompt": false
   },
   "source": [
    "## Choose a localization software"
   ]
  },
  {
   "cell_type": "code",
   "execution_count": 1,
   "metadata": {
    "hideCode": false,
    "hidePrompt": false
   },
   "outputs": [
    {
     "data": {
      "application/vnd.jupyter.widget-view+json": {
       "model_id": "332bc62ceea34d0e9d892625bac13b21",
       "version_major": 2,
       "version_minor": 0
      },
      "text/plain": [
       "RadioButtons(options=('thunderSTORM', 'rapidSTORM'), value='thunderSTORM')"
      ]
     },
     "metadata": {},
     "output_type": "display_data"
    }
   ],
   "source": [
    "from pySPT.widgets import widgetDirectoryStructure\n",
    "from pySPT.widgets import widgetTrcFormat\n",
    "from pySPT.analysis import trcFormat\n",
    "from pySPT.widgets import widgetColumnSort\n",
    "widget_trc_format = widgetTrcFormat.WidgetTrcFormat()\n",
    "display(widget_trc_format.software_button)"
   ]
  },
  {
   "cell_type": "markdown",
   "metadata": {
    "hideCode": false,
    "hidePrompt": false
   },
   "source": [
    "## Load file"
   ]
  },
  {
   "cell_type": "markdown",
   "metadata": {
    "hideCode": false,
    "hidePrompt": false
   },
   "source": [
    "thunderSTORM: Insert the full file path of the tracked thunderSTORM .csv file or browse for it (Example path: F:\\resting\\160404_CS5\\cell05.tracked.csv) <br/>\n",
    "rapidSTORM: Insert the full file path of the tracked rapidSTORM .txt file or browse for it. (Example path: Example path: F:\\resting\\160404_CS5\\cell05.tracked.txt)"
   ]
  },
  {
   "cell_type": "code",
   "execution_count": 2,
   "metadata": {
    "hideCode": false,
    "hidePrompt": false
   },
   "outputs": [
    {
     "data": {
      "application/vnd.jupyter.widget-view+json": {
       "model_id": "177b2b7034cb4501ab48d4fb23f66c1a",
       "version_major": 2,
       "version_minor": 0
      },
      "text/plain": [
       "Text(value='path', description='Complete path', placeholder='Type something', style=DescriptionStyle(descripti…"
      ]
     },
     "metadata": {},
     "output_type": "display_data"
    },
    {
     "data": {
      "application/vnd.jupyter.widget-view+json": {
       "model_id": "e1891f0b618b4e6da7b4a60dc7e00c95",
       "version_major": 2,
       "version_minor": 0
      },
      "text/plain": [
       "Button(description='browse', style=ButtonStyle(), tooltip='browse for file')"
      ]
     },
     "metadata": {},
     "output_type": "display_data"
    }
   ],
   "source": [
    "widget_dir_structure = widgetDirectoryStructure.WidgetDirStructure()\n",
    "trc_format = trcFormat.TrcFormat()\n",
    "display(widget_trc_format.file_text_box, widget_trc_format.file_button)\n",
    "widget_trc_format.file_button.on_click(widget_trc_format.open_file)\n",
    "widget_trc_format.file_text_box.observe(widget_trc_format.change_file_box)"
   ]
  },
  {
   "cell_type": "markdown",
   "metadata": {
    "hideCode": false,
    "hidePrompt": false
   },
   "source": [
    "## Run analysis"
   ]
  },
  {
   "cell_type": "markdown",
   "metadata": {
    "hideCode": false,
    "hidePrompt": false
   },
   "source": [
    "Two new files will be created: (1) track id , frame, x, y, placeholder, intensity, seg id; for the diffusion type analysis (2) track id, frame, x, y, placeholder, intensity; for the hmm analysis. <br/>\n"
   ]
  },
  {
   "cell_type": "code",
   "execution_count": 3,
   "metadata": {
    "hideCode": false,
    "hidePrompt": false
   },
   "outputs": [
    {
     "data": {
      "application/vnd.jupyter.widget-view+json": {
       "model_id": "1ee093f954e04f63859c87c5072a35cb",
       "version_major": 2,
       "version_minor": 0
      },
      "text/plain": [
       "Text(value='158', description='pixel size in nm', placeholder='Type something', style=DescriptionStyle(descrip…"
      ]
     },
     "metadata": {},
     "output_type": "display_data"
    }
   ],
   "source": [
    "display(widget_trc_format.pixel_size_box)"
   ]
  },
  {
   "cell_type": "markdown",
   "metadata": {
    "hideCode": false,
    "hidePrompt": false
   },
   "source": [
    "The min trajectory length for the diffusion type analysis can be applied to the track or the seg id. If applied to the track id, segments with length < min trajectory length can exist. If the further diffusion type analysis is based on segments, applying the filter on seg id is recommended."
   ]
  },
  {
   "cell_type": "code",
   "execution_count": 4,
   "metadata": {
    "hideCode": false,
    "hidePrompt": false
   },
   "outputs": [
    {
     "data": {
      "application/vnd.jupyter.widget-view+json": {
       "model_id": "d2faa4ca3a1546a6a2129eb005200aeb",
       "version_major": 2,
       "version_minor": 0
      },
      "text/plain": [
       "RadioButtons(options=('seg id', 'track id'), value='seg id')"
      ]
     },
     "metadata": {},
     "output_type": "display_data"
    },
    {
     "data": {
      "application/vnd.jupyter.widget-view+json": {
       "model_id": "80d9bd786a7c43a69d7e692a0122b947",
       "version_major": 2,
       "version_minor": 0
      },
      "text/plain": [
       "Text(value='3', description='Min length D type', placeholder='Type something', style=DescriptionStyle(descript…"
      ]
     },
     "metadata": {},
     "output_type": "display_data"
    }
   ],
   "source": [
    "display(widget_trc_format.trajectory_id_button, widget_trc_format.min_track_length_type_box)"
   ]
  },
  {
   "cell_type": "markdown",
   "metadata": {
    "hideCode": false,
    "hidePrompt": false
   },
   "source": [
    "The hidden markov modeling is applied to the track id, because state transformations want to be observed. The recommended min track length is 2, to enable the investigation of the entire system."
   ]
  },
  {
   "cell_type": "code",
   "execution_count": 5,
   "metadata": {
    "hideCode": false,
    "hidePrompt": false
   },
   "outputs": [
    {
     "data": {
      "application/vnd.jupyter.widget-view+json": {
       "model_id": "3b6ed876234b44f8ab5ebe245a219a76",
       "version_major": 2,
       "version_minor": 0
      },
      "text/plain": [
       "Text(value='2', description='Min length hmm', placeholder='Type something', style=DescriptionStyle(description…"
      ]
     },
     "metadata": {},
     "output_type": "display_data"
    }
   ],
   "source": [
    "display(widget_trc_format.min_track_length_hmm_box)"
   ]
  },
  {
   "cell_type": "code",
   "execution_count": 6,
   "metadata": {
    "hideCode": false,
    "hidePrompt": false,
    "scrolled": true
   },
   "outputs": [
    {
     "data": {
      "application/vnd.jupyter.widget-view+json": {
       "model_id": "dbb1384ab6bb42b0aefb7f74bb2b2b61",
       "version_major": 2,
       "version_minor": 0
      },
      "text/plain": [
       "Button(description='run', style=ButtonStyle(), tooltip='run the analysis')"
      ]
     },
     "metadata": {},
     "output_type": "display_data"
    }
   ],
   "source": [
    "display(widget_trc_format.run_button)\n",
    "def run_analysis(event):\n",
    "    widget_trc_format.create_clear_output()\n",
    "    display(widget_trc_format.run_button)\n",
    "    if widget_trc_format.got_file_name:\n",
    "        if widget_trc_format.software_button.value == \"thunderSTORM\":\n",
    "            widget_column_sort = widgetColumnSort.WidgetColumnSort(widget_trc_format.file_text_box.value, widget_trc_format.software_button.value, ['\"track.id\"' , '\"x [nm]\"', '\"y [nm]\"', '\"frame\"', '\"intensity [photon]\"', '\"seg.id\"'])\n",
    "        elif widget_trc_format.software_button.value == \"rapidSTORM\":\n",
    "            widget_column_sort = widgetColumnSort.WidgetColumnSort(widget_trc_format.file_text_box.value, widget_trc_format.software_button.value, ['\"track.id\"', '\"Position-0-0\"', '\"Position-1-0\"', '\"Amplitude-0-0\"', '\"ImageNumber-0-0\"', '\"seg.id\"'])\n",
    "        widget_column_sort.check_header()\n",
    "        if widget_column_sort.correct_header:\n",
    "            widget_column_sort.run_column_sort()\n",
    "            trc_format.trajectory_id = widget_trc_format.trajectory_id_button.value\n",
    "            trc_format.software = widget_trc_format.software_button.value\n",
    "            trc_format.column_order = widget_column_sort.column_order\n",
    "            trc_format.pixel_size = widget_trc_format.pixel_size_box.value\n",
    "            trc_format.min_track_length_type = widget_trc_format.min_track_length_type_box.value\n",
    "            trc_format.min_track_length_hmm = widget_trc_format.min_track_length_hmm_box.value\n",
    "            trc_format.file_name = widget_trc_format.file_text_box.value\n",
    "            trc_format.load_localization_file()\n",
    "        else:\n",
    "            widget_trc_format.warning_wrong_file()\n",
    "    else:\n",
    "        widget_trc_format.warning_wrong_file_path()\n",
    "widget_trc_format.run_button.on_click(run_analysis)"
   ]
  },
  {
   "cell_type": "markdown",
   "metadata": {
    "hideCode": false,
    "hidePrompt": false
   },
   "source": [
    "## Save analysis"
   ]
  },
  {
   "cell_type": "markdown",
   "metadata": {
    "hideCode": false,
    "hidePrompt": false
   },
   "source": [
    "The .trc file will be saved in the pySPT/analysis folder."
   ]
  },
  {
   "cell_type": "code",
   "execution_count": 7,
   "metadata": {
    "hideCode": false,
    "hidePrompt": false
   },
   "outputs": [
    {
     "data": {
      "application/vnd.jupyter.widget-view+json": {
       "model_id": "f69ebbd191614ebaa8fefe6a466a4478",
       "version_major": 2,
       "version_minor": 0
      },
      "text/plain": [
       "Button(description='save', style=ButtonStyle(), tooltip='save the results')"
      ]
     },
     "metadata": {},
     "output_type": "display_data"
    }
   ],
   "source": [
    "display(widget_trc_format.save_button)\n",
    "def save_analysis(event):\n",
    "    widget_trc_format.create_clear_output()\n",
    "    display(widget_trc_format.save_button)\n",
    "    #widget_dir_structure.name_handling(widget_trc_format.file_name)\n",
    "    widget_dir_structure.name_handling(widget_trc_format.file_text_box.value)\n",
    "    widget_dir_structure.create_raw_base_name()\n",
    "    widget_dir_structure.sub_folder = \"\\\\analysis\"\n",
    "    widget_dir_structure.create_folder()\n",
    "    trc_format.save_trc_file_analysis(widget_dir_structure.sub_folder_dir, widget_dir_structure.raw_base_name)\n",
    "    widget_dir_structure.sub_folder = \"\\\\hmm\"\n",
    "    widget_dir_structure.create_folder()\n",
    "    trc_format.save_trc_file_hmm(widget_dir_structure.sub_folder_dir, widget_dir_structure.raw_base_name)\n",
    "widget_trc_format.save_button.on_click(save_analysis)"
   ]
  }
 ],
 "metadata": {
  "hide_code_all_hidden": false,
  "kernelspec": {
   "display_name": "Python 3",
   "language": "python",
   "name": "python3"
  },
  "language_info": {
   "codemirror_mode": {
    "name": "ipython",
    "version": 3
   },
   "file_extension": ".py",
   "mimetype": "text/x-python",
   "name": "python",
   "nbconvert_exporter": "python",
   "pygments_lexer": "ipython3",
   "version": "3.7.3"
  }
 },
 "nbformat": 4,
 "nbformat_minor": 2
}
