{
 "cells": [
  {
   "cell_type": "markdown",
   "metadata": {
    "hideCode": true,
    "hidePrompt": true
   },
   "source": [
    "# Merge Hdf5 files\n",
    "### Johanna Rahm, Sebastian Malkusch\n",
    "#### Research group Heilemann\n",
    "#### Institute for Physical and Theoretical Chemistry, Goethe University Frankfurt a.M.\n",
    "The HMM analysis is based on a trc file, for which a matching hdf5 file exists. The hdf5 file can be merged with the resulting archive file of the HMM analysis."
   ]
  },
  {
   "cell_type": "markdown",
   "metadata": {
    "hideCode": true,
    "hidePrompt": true
   },
   "source": [
    "## Load hdf5 paths"
   ]
  },
  {
   "cell_type": "code",
   "execution_count": 1,
   "metadata": {
    "hideCode": true,
    "hidePrompt": true
   },
   "outputs": [
    {
     "data": {
      "application/vnd.jupyter.widget-view+json": {
       "model_id": "fffce98aa8ed4788927337495a8a7974",
       "version_major": 2,
       "version_minor": 0
      },
      "text/plain": [
       "Text(value='', description='Insert path', placeholder='Type something', style=DescriptionStyle(description_wid…"
      ]
     },
     "metadata": {},
     "output_type": "display_data"
    },
    {
     "data": {
      "application/vnd.jupyter.widget-view+json": {
       "model_id": "ff5da3c6321c425eb6a6bd47acb63398",
       "version_major": 2,
       "version_minor": 0
      },
      "text/plain": [
       "Button(description='browse', style=ButtonStyle(), tooltip='browse for file')"
      ]
     },
     "metadata": {},
     "output_type": "display_data"
    }
   ],
   "source": [
    "from pySPT.widgets.widgetNotebooks import init_merge_hdf5_path_handler\n",
    "from pySPT.widgets import widgetMergeHdf5\n",
    "from pySPT.hmm import mergeHdf5\n",
    "import warnings\n",
    "widget_merge_hdf5 = widgetMergeHdf5.WidgetMergeHdf5()\n",
    "display(widget_merge_hdf5.load_hdf5_box, widget_merge_hdf5.load_hdf5_button)\n",
    "widget_merge_hdf5.load_hdf5_button.on_click(widget_merge_hdf5.open_hdf5_file)\n",
    "widget_merge_hdf5.load_hdf5_box.observe(widget_merge_hdf5.change_hdf5_box)"
   ]
  },
  {
   "cell_type": "markdown",
   "metadata": {
    "hideCode": true,
    "hidePrompt": true
   },
   "source": [
    "## Load archive paths"
   ]
  },
  {
   "cell_type": "code",
   "execution_count": 2,
   "metadata": {
    "hideCode": true,
    "hidePrompt": true
   },
   "outputs": [
    {
     "data": {
      "application/vnd.jupyter.widget-view+json": {
       "model_id": "31e6e184cbb3431382ac573757dc04aa",
       "version_major": 2,
       "version_minor": 0
      },
      "text/plain": [
       "Text(value='', description='Insert path', placeholder='Type something', style=DescriptionStyle(description_wid…"
      ]
     },
     "metadata": {},
     "output_type": "display_data"
    },
    {
     "data": {
      "application/vnd.jupyter.widget-view+json": {
       "model_id": "7b999957eab14d789c5a94f0f4845221",
       "version_major": 2,
       "version_minor": 0
      },
      "text/plain": [
       "Button(description='browse', style=ButtonStyle(), tooltip='browse for file')"
      ]
     },
     "metadata": {},
     "output_type": "display_data"
    }
   ],
   "source": [
    "display(widget_merge_hdf5.load_archive_box, widget_merge_hdf5.load_archive_button)\n",
    "widget_merge_hdf5.load_archive_button.on_click(widget_merge_hdf5.open_archive_file)\n",
    "widget_merge_hdf5.load_archive_box.observe(widget_merge_hdf5.change_archive_box)"
   ]
  },
  {
   "cell_type": "markdown",
   "metadata": {
    "hideCode": true,
    "hidePrompt": true
   },
   "source": [
    "## Load save paths"
   ]
  },
  {
   "cell_type": "code",
   "execution_count": 3,
   "metadata": {
    "hideCode": true,
    "hidePrompt": true
   },
   "outputs": [
    {
     "data": {
      "application/vnd.jupyter.widget-view+json": {
       "model_id": "c5934d633cf546d3b46b3cafb8c11c89",
       "version_major": 2,
       "version_minor": 0
      },
      "text/plain": [
       "Text(value='', description='Insert path', placeholder='Type something', style=DescriptionStyle(description_wid…"
      ]
     },
     "metadata": {},
     "output_type": "display_data"
    },
    {
     "data": {
      "application/vnd.jupyter.widget-view+json": {
       "model_id": "5c1725264da54d0ba0967ab733711e85",
       "version_major": 2,
       "version_minor": 0
      },
      "text/plain": [
       "Button(description='browse', style=ButtonStyle(), tooltip='browse for file')"
      ]
     },
     "metadata": {},
     "output_type": "display_data"
    }
   ],
   "source": [
    "display(widget_merge_hdf5.save_path_box, widget_merge_hdf5.save_path_button)\n",
    "widget_merge_hdf5.save_path_button.on_click(widget_merge_hdf5.open_save_paths)\n",
    "widget_merge_hdf5.save_path_box.observe(widget_merge_hdf5.change_save_box)"
   ]
  },
  {
   "cell_type": "markdown",
   "metadata": {
    "hideCode": true,
    "hidePrompt": true
   },
   "source": [
    "## Merge & save the merged files"
   ]
  },
  {
   "cell_type": "code",
   "execution_count": 4,
   "metadata": {
    "hideCode": true,
    "hidePrompt": true
   },
   "outputs": [
    {
     "data": {
      "application/vnd.jupyter.widget-view+json": {
       "model_id": "af96383f044a4d379b515b84e24b70b1",
       "version_major": 2,
       "version_minor": 0
      },
      "text/plain": [
       "Button(description='merge & save', style=ButtonStyle(), tooltip='merge & save files')"
      ]
     },
     "metadata": {},
     "output_type": "display_data"
    }
   ],
   "source": [
    "warnings.filterwarnings('ignore')\n",
    "display(widget_merge_hdf5.merge_button)\n",
    "def run_merge(event):\n",
    "    widget_merge_hdf5.create_clear_output()\n",
    "    display(widget_merge_hdf5.merge_button)\n",
    "    init_merge_hdf5_path_handler(widget_merge_hdf5.load_hdf5_box.value, widget_merge_hdf5.load_archive_box.value, widget_merge_hdf5.save_path_box.value)\n",
    "widget_merge_hdf5.merge_button.on_click(run_merge)"
   ]
  }
 ],
 "metadata": {
  "hide_code_all_hidden": true,
  "kernelspec": {
   "display_name": "Python 3",
   "language": "python",
   "name": "python3"
  },
  "language_info": {
   "codemirror_mode": {
    "name": "ipython",
    "version": 3
   },
   "file_extension": ".py",
   "mimetype": "text/x-python",
   "name": "python",
   "nbconvert_exporter": "python",
   "pygments_lexer": "ipython3",
   "version": "3.7.3"
  }
 },
 "nbformat": 4,
 "nbformat_minor": 2
}
