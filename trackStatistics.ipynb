{
 "cells": [
  {
   "cell_type": "markdown",
   "metadata": {},
   "source": [
    "## Load *.trc files"
   ]
  },
  {
   "cell_type": "markdown",
   "metadata": {},
   "source": [
    "Choose/insert a directory for the cell files to be searched in (e.g. F:\\Marburg\\single_colour_tracking\\resting). All *.trc files in the directory will be loaded for the analysis."
   ]
  },
  {
   "cell_type": "code",
   "execution_count": 1,
   "metadata": {},
   "outputs": [
    {
     "data": {
      "application/vnd.jupyter.widget-view+json": {
       "model_id": "a29758865ce74fbf96d6fe7e0fea744b",
       "version_major": 2,
       "version_minor": 0
      },
      "text/plain": [
       "Text(value='directory to be searched in', description='directory', placeholder='Type something', style=Descrip…"
      ]
     },
     "metadata": {},
     "output_type": "display_data"
    },
    {
     "data": {
      "application/vnd.jupyter.widget-view+json": {
       "model_id": "565db29c5a774e1781ffbc749fcdfc37",
       "version_major": 2,
       "version_minor": 0
      },
      "text/plain": [
       "Button(description='browse', style=ButtonStyle(), tooltip='browse for directory')"
      ]
     },
     "metadata": {},
     "output_type": "display_data"
    }
   ],
   "source": [
    "from pySPT.widgets import widgetLoadHdf5\n",
    "from pySPT.widgets import loadHdf5\n",
    "from pySPT.analysis import cell\n",
    "from pySPT.analysis import trajectory\n",
    "from pySPT.analysis import coverSlip\n",
    "from pySPT.analysis import trajectoryStatistics\n",
    "widget_load_hdf5 = widgetLoadHdf5.WidgetLoadHdf5()\n",
    "load_hdf5 = loadHdf5.LoadHdf5()\n",
    "cover_slip = coverSlip.CoverSlip()\n",
    "display(widget_load_hdf5.dir_box, widget_load_hdf5.dir_button)\n",
    "widget_load_hdf5.dir_button.on_click(widget_load_hdf5.open_dir)\n",
    "widget_load_hdf5.dir_box.observe(widget_load_hdf5.change_dir_box)"
   ]
  },
  {
   "cell_type": "code",
   "execution_count": 2,
   "metadata": {},
   "outputs": [
    {
     "data": {
      "application/vnd.jupyter.widget-view+json": {
       "model_id": "5dce57b0ea02484e9070ea1984fee79d",
       "version_major": 2,
       "version_minor": 0
      },
      "text/plain": [
       "Button(description='initialize', style=ButtonStyle(), tooltip='initialize objects')"
      ]
     },
     "metadata": {},
     "output_type": "display_data"
    }
   ],
   "source": [
    "from pySPT.widgets.widgetNotebooks import init_filter_notebook\n",
    "def initialize(event):\n",
    "    init_filter_notebook(cover_slip, widget_load_hdf5, load_hdf5)\n",
    "display(widget_load_hdf5.init_button)\n",
    "widget_load_hdf5.init_button.on_click(initialize)"
   ]
  },
  {
   "cell_type": "markdown",
   "metadata": {},
   "source": [
    "## Filter for parameters"
   ]
  },
  {
   "cell_type": "markdown",
   "metadata": {},
   "source": [
    "Floating point numbers have to be separated with a dot (e.g. 2.123). If no filter parameters or invalid parameters are given, the min and max values will be set automatically. All boxes that are checked will be included in the filtered data. If one wants to filter multiple times, the JNB has to be restarted."
   ]
  },
  {
   "cell_type": "code",
   "execution_count": 3,
   "metadata": {},
   "outputs": [
    {
     "data": {
      "application/vnd.jupyter.widget-view+json": {
       "model_id": "790c19c4fcee4932882f1b3f8edbd8ef",
       "version_major": 2,
       "version_minor": 0
      },
      "text/plain": [
       "Text(value='min length', description='Trajectory', placeholder='Type something', style=DescriptionStyle(descri…"
      ]
     },
     "metadata": {},
     "output_type": "display_data"
    },
    {
     "data": {
      "application/vnd.jupyter.widget-view+json": {
       "model_id": "163b3ded31f84eb793b1b6619259bc49",
       "version_major": 2,
       "version_minor": 0
      },
      "text/plain": [
       "Text(value='max length', description='Trajectory', placeholder='Type something', style=DescriptionStyle(descri…"
      ]
     },
     "metadata": {},
     "output_type": "display_data"
    },
    {
     "data": {
      "application/vnd.jupyter.widget-view+json": {
       "model_id": "de1c4a1c9e354f5b94818d661da7c143",
       "version_major": 2,
       "version_minor": 0
      },
      "text/plain": [
       "Text(value='min value', description='Diffusion coefficient', placeholder='Type something', style=DescriptionSt…"
      ]
     },
     "metadata": {},
     "output_type": "display_data"
    },
    {
     "data": {
      "application/vnd.jupyter.widget-view+json": {
       "model_id": "aa02bc91799642408fdbd24b6026bfe5",
       "version_major": 2,
       "version_minor": 0
      },
      "text/plain": [
       "Text(value='max value', description='Diffusion coefficient', placeholder='Type something', style=DescriptionSt…"
      ]
     },
     "metadata": {},
     "output_type": "display_data"
    },
    {
     "data": {
      "application/vnd.jupyter.widget-view+json": {
       "model_id": "e84df99550124a0baa4496d45045aeea",
       "version_major": 2,
       "version_minor": 0
      },
      "text/plain": [
       "Checkbox(value=True, description='Immobile')"
      ]
     },
     "metadata": {},
     "output_type": "display_data"
    },
    {
     "data": {
      "application/vnd.jupyter.widget-view+json": {
       "model_id": "1de0c60f749a4415b5e0b879c13a3ecd",
       "version_major": 2,
       "version_minor": 0
      },
      "text/plain": [
       "Checkbox(value=True, description='Confined')"
      ]
     },
     "metadata": {},
     "output_type": "display_data"
    },
    {
     "data": {
      "application/vnd.jupyter.widget-view+json": {
       "model_id": "e6d6e3440a7e47b9a51a663585dfa99d",
       "version_major": 2,
       "version_minor": 0
      },
      "text/plain": [
       "Checkbox(value=True, description='Free')"
      ]
     },
     "metadata": {},
     "output_type": "display_data"
    },
    {
     "data": {
      "application/vnd.jupyter.widget-view+json": {
       "model_id": "f99b231bea6d4fca955e958f749cec75",
       "version_major": 2,
       "version_minor": 0
      },
      "text/plain": [
       "Checkbox(value=True, description='Analyse successful')"
      ]
     },
     "metadata": {},
     "output_type": "display_data"
    },
    {
     "data": {
      "application/vnd.jupyter.widget-view+json": {
       "model_id": "90e0b26f1ea04722b53efe1cc725070e",
       "version_major": 2,
       "version_minor": 0
      },
      "text/plain": [
       "Checkbox(value=True, description='Analyse not successful')"
      ]
     },
     "metadata": {},
     "output_type": "display_data"
    },
    {
     "data": {
      "application/vnd.jupyter.widget-view+json": {
       "model_id": "db6f994445d644daac5051f680065d07",
       "version_major": 2,
       "version_minor": 0
      },
      "text/plain": [
       "Button(description='apply filter', style=ButtonStyle(), tooltip='apply filter')"
      ]
     },
     "metadata": {},
     "output_type": "display_data"
    }
   ],
   "source": [
    "track_stats = trajectoryStatistics.TrajectoryStatistics()\n",
    "def filter(event):\n",
    "    widget_load_hdf5.create_clear_output()\n",
    "    track_stats.cell_trajectories = cover_slip.cell_trajectories\n",
    "    track_stats.run_statistics(widget_load_hdf5.min_length_box.value, widget_load_hdf5.max_length_box.value, widget_load_hdf5.min_D_box.value, widget_load_hdf5.max_D_box.value, widget_load_hdf5.immob_type_check_box.value,  widget_load_hdf5.confined_type_check_box.value, widget_load_hdf5.free_type_check_box.value, widget_load_hdf5.analyse_successful_check_box.value, widget_load_hdf5.analyse_not_successful_check_box.value)\n",
    "display(widget_load_hdf5.min_length_box, widget_load_hdf5.max_length_box, widget_load_hdf5.min_D_box, widget_load_hdf5.max_D_box, widget_load_hdf5.immob_type_check_box, widget_load_hdf5.confined_type_check_box, widget_load_hdf5.free_type_check_box, widget_load_hdf5.analyse_successful_check_box, widget_load_hdf5.analyse_not_successful_check_box, widget_load_hdf5.filter_button)\n",
    "widget_load_hdf5.filter_button.on_click(filter)"
   ]
  },
  {
   "cell_type": "code",
   "execution_count": 4,
   "metadata": {},
   "outputs": [],
   "source": [
    "# trajectory_stats.cell_trajectories = cover_slip.cell_trajectories\n",
    "# trajectory_stats.get_index()\n",
    "# trajectory_stats.create_init_filter_lst()"
   ]
  },
  {
   "cell_type": "markdown",
   "metadata": {},
   "source": [
    "## Choose trajectory to plot"
   ]
  },
  {
   "cell_type": "markdown",
   "metadata": {},
   "source": [
    "Choose a cell. If one wants to plot multiple times, choose a new cell and/or trajectory reload the plotting cell by clicking in the cell and pressing strg+enter."
   ]
  },
  {
   "cell_type": "code",
   "execution_count": 5,
   "metadata": {},
   "outputs": [
    {
     "data": {
      "application/vnd.jupyter.widget-view+json": {
       "model_id": "63f3d5d3ee404741998f1e030b4a9675",
       "version_major": 2,
       "version_minor": 0
      },
      "text/plain": [
       "Dropdown(description='Number:', options=(), value=None)"
      ]
     },
     "metadata": {},
     "output_type": "display_data"
    }
   ],
   "source": [
    "def dropdown(event):\n",
    "    widget_load_hdf5.cell_options = widget_load_hdf5.get_cell_names(cover_slip.cells)\n",
    "widget_load_hdf5.filter_button.on_click(dropdown)\n",
    "display(widget_load_hdf5.drop_down_cells)"
   ]
  },
  {
   "cell_type": "markdown",
   "metadata": {},
   "source": [
    "Choose a trajectory."
   ]
  },
  {
   "cell_type": "code",
   "execution_count": 6,
   "metadata": {},
   "outputs": [
    {
     "data": {
      "application/vnd.jupyter.widget-view+json": {
       "model_id": "ef6c259be82049f4b8873e62fb9c268e",
       "version_major": 2,
       "version_minor": 0
      },
      "text/plain": [
       "Dropdown(description='Number:', options=(), value=None)"
      ]
     },
     "metadata": {},
     "output_type": "display_data"
    }
   ],
   "source": [
    "def dropdown(event):      \n",
    "    for cell in cover_slip.cells:\n",
    "        if cell.name == widget_load_hdf5.drop_down_cells.value:\n",
    "            target_cell = cover_slip.cells.index(cell)\n",
    "            widget_load_hdf5.trajectory_options = track_stats.cell_trajectories_filtered_index[target_cell]\n",
    "            widget_load_hdf5.drop_down_trajectories.options = widget_load_hdf5.trajectory_options\n",
    "widget_load_hdf5.drop_down_cells.observe(dropdown)\n",
    "widget_load_hdf5.filter_button.on_click(dropdown)\n",
    "display(widget_load_hdf5.drop_down_trajectories)"
   ]
  },
  {
   "cell_type": "code",
   "execution_count": 7,
   "metadata": {},
   "outputs": [
    {
     "data": {
      "application/vnd.jupyter.widget-view+json": {
       "model_id": "8ebfe500df7c45a88bfa164d7e2cd38d",
       "version_major": 2,
       "version_minor": 0
      },
      "text/plain": [
       "Button(description='plot', style=ButtonStyle(), tooltip='plot chosen trajectory')"
      ]
     },
     "metadata": {},
     "output_type": "display_data"
    }
   ],
   "source": [
    "def plot_trajectory(event):\n",
    "    widget_load_hdf5.create_clear_output()\n",
    "    cover_slip.plot_trajectory(widget_load_hdf5.drop_down_cells.value, widget_load_hdf5.drop_down_trajectories.value)\n",
    "display(widget_load_hdf5.plot_button)\n",
    "widget_load_hdf5.plot_button.on_click(plot_trajectory)"
   ]
  },
  {
   "cell_type": "markdown",
   "metadata": {},
   "source": [
    "## Plot diffusion histogram"
   ]
  },
  {
   "cell_type": "code",
   "execution_count": 8,
   "metadata": {},
   "outputs": [
    {
     "data": {
      "application/vnd.jupyter.widget-view+json": {
       "model_id": "abd68dec019c43c0ab8356795b0316e8",
       "version_major": 2,
       "version_minor": 0
      },
      "text/plain": [
       "Text(value='0.1', description='bin size', placeholder='size for log10(D) histogram', style=DescriptionStyle(de…"
      ]
     },
     "metadata": {},
     "output_type": "display_data"
    }
   ],
   "source": [
    "display(widget_load_hdf5.bin_size_box)"
   ]
  },
  {
   "cell_type": "code",
   "execution_count": 9,
   "metadata": {},
   "outputs": [
    {
     "data": {
      "application/vnd.jupyter.widget-view+json": {
       "model_id": "4a5da9be8a78409484f63af6480ece04",
       "version_major": 2,
       "version_minor": 0
      },
      "text/plain": [
       "Button(description='plot', style=ButtonStyle(), tooltip='plot diffusion coefficients')"
      ]
     },
     "metadata": {},
     "output_type": "display_data"
    }
   ],
   "source": [
    "def plot_diffusions(event):\n",
    "    widget_load_hdf5.create_clear_output()\n",
    "    track_stats.cell_sizes = [cell.size for cell in cover_slip.cells]\n",
    "    track_stats.run_plot_diffusion_histogram(widget_load_hdf5.bin_size_box.value)\n",
    "display(widget_load_hdf5.plot_diffusions_button)\n",
    "widget_load_hdf5.plot_diffusions_button.on_click(plot_diffusions)"
   ]
  }
 ],
 "metadata": {
  "kernelspec": {
   "display_name": "Python 3",
   "language": "python",
   "name": "python3"
  },
  "language_info": {
   "codemirror_mode": {
    "name": "ipython",
    "version": 3
   },
   "file_extension": ".py",
   "mimetype": "text/x-python",
   "name": "python",
   "nbconvert_exporter": "python",
   "pygments_lexer": "ipython3",
   "version": "3.7.1"
  }
 },
 "nbformat": 4,
 "nbformat_minor": 2
}
